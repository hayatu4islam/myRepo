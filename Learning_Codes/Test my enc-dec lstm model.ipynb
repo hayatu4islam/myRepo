{
 "cells": [
  {
   "cell_type": "code",
   "execution_count": 1,
   "id": "ac7f6c50",
   "metadata": {},
   "outputs": [
    {
     "name": "stdout",
     "output_type": "stream",
     "text": [
      "Stationarity metrics for each series\n",
      "ADF Statistic: -1011573335.1382487\n",
      "p-value: 0.0\n",
      "Critical Values: \n",
      "    1%, -3.4362125920049498\n",
      "Critical Values: \n",
      "    5%, -2.8641286575615426\n",
      "Critical Values: \n",
      "    10%, -2.5681482759591785\n",
      "Conclusion\n",
      "Series is stationary\n",
      "\n",
      "\n",
      "\n",
      "Stationarity metrics for each series\n",
      "ADF Statistic: -1011166234.5397538\n",
      "p-value: 0.0\n",
      "Critical Values: \n",
      "    1%, -3.4362125920049498\n",
      "Critical Values: \n",
      "    5%, -2.8641286575615426\n",
      "Critical Values: \n",
      "    10%, -2.5681482759591785\n",
      "Conclusion\n",
      "Series is stationary\n",
      "\n",
      "\n",
      "\n",
      "Stationarity metrics for each series\n",
      "ADF Statistic: -4839487399.352907\n",
      "p-value: 0.0\n",
      "Critical Values: \n",
      "    1%, -3.4362125920049498\n",
      "Critical Values: \n",
      "    5%, -2.8641286575615426\n",
      "Critical Values: \n",
      "    10%, -2.5681482759591785\n",
      "Conclusion\n",
      "Series is stationary\n",
      "\n",
      "\n",
      "\n",
      "Stationarity metrics for each series\n",
      "ADF Statistic: -1822503589.1901038\n",
      "p-value: 0.0\n",
      "Critical Values: \n",
      "    1%, -3.4362125920049498\n",
      "Critical Values: \n",
      "    5%, -2.8641286575615426\n",
      "Critical Values: \n",
      "    10%, -2.5681482759591785\n",
      "Conclusion\n",
      "Series is stationary\n",
      "\n",
      "\n",
      "\n"
     ]
    }
   ],
   "source": [
    "import pandas as pd\n",
    "import matplotlib.pyplot as plt\n",
    "from statsmodels.tsa.stattools import adfuller\n",
    "# ADF Test - null hypothesis - non-stationary - if p-value < 5% reject null hypothesis\n",
    "# adfuller_result = adfuller(series, autolag=\"AIC\")\n",
    "# tankData = pd.read_csv(\"waterTankNew.csv\", header=0, index_col=0)\n",
    "tankData = pd.read_csv(\"trig.csv\", header=0, index_col=0)\n",
    "attr = [\"sine\", \"cosine\", \"sin(2t)\", \"2sin(t+1)-3cos(t-1)\"]\n",
    "# adfuller_result = adfuller(tankData[\"wt3_valve\"].values, autolag=\"AIC\")\n",
    "\n",
    "for feature in attr:\n",
    "    \n",
    "    adfuller_result = adfuller(tankData[feature].values, autolag=\"AIC\")\n",
    "    print(\"Stationarity metrics for each series\")\n",
    "    print(f'ADF Statistic: {adfuller_result[0]}')\n",
    "    print(f'p-value: {adfuller_result[1]}')\n",
    "\n",
    "    for key, value in adfuller_result[4].items():\n",
    "        print('Critical Values: ')\n",
    "        print(f'    {key}, {value}')\n",
    "\n",
    "    print(\"Conclusion\")\n",
    "    if adfuller_result[1] > 0.05:\n",
    "        print(\"Series is not stationary\")\n",
    "    else:\n",
    "        print(\"Series is stationary\")\n",
    "    print(\"\\n\\n\")"
   ]
  },
  {
   "cell_type": "code",
   "execution_count": null,
   "id": "00e4bf72",
   "metadata": {},
   "outputs": [],
   "source": [
    "Vi"
   ]
  }
 ],
 "metadata": {
  "kernelspec": {
   "display_name": "Python 3 (ipykernel)",
   "language": "python",
   "name": "python3"
  },
  "language_info": {
   "codemirror_mode": {
    "name": "ipython",
    "version": 3
   },
   "file_extension": ".py",
   "mimetype": "text/x-python",
   "name": "python",
   "nbconvert_exporter": "python",
   "pygments_lexer": "ipython3",
   "version": "3.10.2"
  }
 },
 "nbformat": 4,
 "nbformat_minor": 5
}
