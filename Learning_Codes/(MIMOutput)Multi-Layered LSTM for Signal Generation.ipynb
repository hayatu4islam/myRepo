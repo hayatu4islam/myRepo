{
 "cells": [
  {
   "cell_type": "markdown",
   "id": "f0c2450b",
   "metadata": {},
   "source": [
    "## Multivariate LSTM Forecast model for multiple outputs"
   ]
  },
  {
   "cell_type": "code",
   "execution_count": 5,
   "id": "b6d77d7c",
   "metadata": {},
   "outputs": [
    {
     "name": "stdout",
     "output_type": "stream",
     "text": [
      "Epoch 1/50\n",
      "24/24 - 16s - loss: 0.2226 - val_loss: 0.2228 - 16s/epoch - 673ms/step\n",
      "Epoch 2/50\n",
      "24/24 - 1s - loss: 0.1912 - val_loss: 0.1926 - 701ms/epoch - 29ms/step\n",
      "Epoch 3/50\n",
      "24/24 - 1s - loss: 0.1296 - val_loss: 0.1625 - 704ms/epoch - 29ms/step\n",
      "Epoch 4/50\n",
      "24/24 - 1s - loss: 0.0965 - val_loss: 0.1577 - 685ms/epoch - 29ms/step\n",
      "Epoch 5/50\n",
      "24/24 - 1s - loss: 0.0825 - val_loss: 0.1499 - 681ms/epoch - 28ms/step\n",
      "Epoch 6/50\n",
      "24/24 - 1s - loss: 0.0734 - val_loss: 0.1449 - 677ms/epoch - 28ms/step\n",
      "Epoch 7/50\n",
      "24/24 - 1s - loss: 0.0701 - val_loss: 0.1409 - 670ms/epoch - 28ms/step\n",
      "Epoch 8/50\n",
      "24/24 - 1s - loss: 0.0663 - val_loss: 0.1381 - 679ms/epoch - 28ms/step\n",
      "Epoch 9/50\n",
      "24/24 - 1s - loss: 0.0646 - val_loss: 0.1339 - 676ms/epoch - 28ms/step\n",
      "Epoch 10/50\n",
      "24/24 - 1s - loss: 0.0617 - val_loss: 0.1275 - 674ms/epoch - 28ms/step\n",
      "Epoch 11/50\n",
      "24/24 - 1s - loss: 0.0570 - val_loss: 0.1190 - 697ms/epoch - 29ms/step\n",
      "Epoch 12/50\n",
      "24/24 - 1s - loss: 0.0492 - val_loss: 0.1075 - 679ms/epoch - 28ms/step\n",
      "Epoch 13/50\n",
      "24/24 - 1s - loss: 0.0418 - val_loss: 0.0998 - 674ms/epoch - 28ms/step\n",
      "Epoch 14/50\n",
      "24/24 - 1s - loss: 0.0402 - val_loss: 0.0950 - 659ms/epoch - 27ms/step\n",
      "Epoch 15/50\n",
      "24/24 - 1s - loss: 0.0373 - val_loss: 0.0888 - 684ms/epoch - 28ms/step\n",
      "Epoch 16/50\n",
      "24/24 - 1s - loss: 0.0364 - val_loss: 0.0798 - 686ms/epoch - 29ms/step\n",
      "Epoch 17/50\n",
      "24/24 - 1s - loss: 0.0339 - val_loss: 0.0726 - 669ms/epoch - 28ms/step\n",
      "Epoch 18/50\n",
      "24/24 - 1s - loss: 0.0335 - val_loss: 0.0678 - 699ms/epoch - 29ms/step\n",
      "Epoch 19/50\n",
      "24/24 - 1s - loss: 0.0291 - val_loss: 0.0632 - 673ms/epoch - 28ms/step\n",
      "Epoch 20/50\n",
      "24/24 - 1s - loss: 0.0283 - val_loss: 0.0572 - 681ms/epoch - 28ms/step\n",
      "Epoch 21/50\n",
      "24/24 - 1s - loss: 0.0271 - val_loss: 0.0525 - 668ms/epoch - 28ms/step\n",
      "Epoch 22/50\n",
      "24/24 - 1s - loss: 0.0255 - val_loss: 0.0479 - 697ms/epoch - 29ms/step\n",
      "Epoch 23/50\n",
      "24/24 - 1s - loss: 0.0237 - val_loss: 0.0448 - 679ms/epoch - 28ms/step\n",
      "Epoch 24/50\n",
      "24/24 - 1s - loss: 0.0232 - val_loss: 0.0407 - 678ms/epoch - 28ms/step\n",
      "Epoch 25/50\n",
      "24/24 - 1s - loss: 0.0235 - val_loss: 0.0382 - 690ms/epoch - 29ms/step\n",
      "Epoch 26/50\n",
      "24/24 - 1s - loss: 0.0221 - val_loss: 0.0347 - 684ms/epoch - 29ms/step\n",
      "Epoch 27/50\n",
      "24/24 - 1s - loss: 0.0203 - val_loss: 0.0289 - 676ms/epoch - 28ms/step\n",
      "Epoch 28/50\n",
      "24/24 - 1s - loss: 0.0198 - val_loss: 0.0301 - 684ms/epoch - 28ms/step\n",
      "Epoch 29/50\n",
      "24/24 - 1s - loss: 0.0192 - val_loss: 0.0283 - 673ms/epoch - 28ms/step\n",
      "Epoch 30/50\n",
      "24/24 - 1s - loss: 0.0184 - val_loss: 0.0262 - 691ms/epoch - 29ms/step\n",
      "Epoch 31/50\n",
      "24/24 - 1s - loss: 0.0180 - val_loss: 0.0238 - 680ms/epoch - 28ms/step\n",
      "Epoch 32/50\n",
      "24/24 - 1s - loss: 0.0167 - val_loss: 0.0210 - 678ms/epoch - 28ms/step\n",
      "Epoch 33/50\n",
      "24/24 - 1s - loss: 0.0170 - val_loss: 0.0192 - 682ms/epoch - 28ms/step\n",
      "Epoch 34/50\n",
      "24/24 - 1s - loss: 0.0152 - val_loss: 0.0176 - 677ms/epoch - 28ms/step\n",
      "Epoch 35/50\n",
      "24/24 - 1s - loss: 0.0166 - val_loss: 0.0181 - 673ms/epoch - 28ms/step\n",
      "Epoch 36/50\n",
      "24/24 - 1s - loss: 0.0154 - val_loss: 0.0179 - 689ms/epoch - 29ms/step\n",
      "Epoch 37/50\n",
      "24/24 - 1s - loss: 0.0161 - val_loss: 0.0167 - 681ms/epoch - 28ms/step\n",
      "Epoch 38/50\n",
      "24/24 - 1s - loss: 0.0164 - val_loss: 0.0157 - 714ms/epoch - 30ms/step\n",
      "Epoch 39/50\n",
      "24/24 - 1s - loss: 0.0155 - val_loss: 0.0142 - 677ms/epoch - 28ms/step\n",
      "Epoch 40/50\n",
      "24/24 - 1s - loss: 0.0158 - val_loss: 0.0137 - 692ms/epoch - 29ms/step\n",
      "Epoch 41/50\n",
      "24/24 - 1s - loss: 0.0152 - val_loss: 0.0137 - 707ms/epoch - 29ms/step\n",
      "Epoch 42/50\n",
      "24/24 - 1s - loss: 0.0158 - val_loss: 0.0124 - 675ms/epoch - 28ms/step\n",
      "Epoch 43/50\n",
      "24/24 - 1s - loss: 0.0146 - val_loss: 0.0127 - 678ms/epoch - 28ms/step\n",
      "Epoch 44/50\n",
      "24/24 - 1s - loss: 0.0148 - val_loss: 0.0135 - 683ms/epoch - 28ms/step\n",
      "Epoch 45/50\n",
      "24/24 - 1s - loss: 0.0144 - val_loss: 0.0123 - 678ms/epoch - 28ms/step\n",
      "Epoch 46/50\n",
      "24/24 - 1s - loss: 0.0139 - val_loss: 0.0124 - 729ms/epoch - 30ms/step\n",
      "Epoch 47/50\n",
      "24/24 - 1s - loss: 0.0151 - val_loss: 0.0154 - 702ms/epoch - 29ms/step\n",
      "Epoch 48/50\n",
      "24/24 - 1s - loss: 0.0144 - val_loss: 0.0127 - 681ms/epoch - 28ms/step\n",
      "Epoch 49/50\n",
      "24/24 - 1s - loss: 0.0136 - val_loss: 0.0122 - 748ms/epoch - 31ms/step\n",
      "Epoch 50/50\n",
      "24/24 - 1s - loss: 0.0135 - val_loss: 0.0119 - 682ms/epoch - 28ms/step\n"
     ]
    },
    {
     "data": {
      "image/png": "[encoded data removed]",
      "text/plain": [
       "<Figure size 432x288 with 1 Axes>"
      ]
     },
     "metadata": {
      "needs_background": "light"
     },
     "output_type": "display_data"
    },
    {
     "name": "stdout",
     "output_type": "stream",
     "text": [
      "Normalized Test RMSE:  0.10539687321255412 0.11948370003338132 0.1116491591179518 0.09781494597646002\n",
      "Test RMSE:  208.6858059979164 233.23219720377372 382.6216718247935 0.09781494597646002\n",
      "Test R-squared:  0.8891816504901304 0.8731091090029435 0.9197012449650829 0.9299482396231884\n",
      "Model: \"sequential_4\"\n",
      "_________________________________________________________________\n",
      " Layer (type)                Output Shape              Param #   \n",
      "=================================================================\n",
      " lstm_12 (LSTM)              (None, 3, 50)             11400     \n",
      "                                                                 \n",
      " dropout_12 (Dropout)        (None, 3, 50)             0         \n",
      "                                                                 \n",
      " lstm_13 (LSTM)              (None, 3, 20)             5680      \n",
      "                                                                 \n",
      " dropout_13 (Dropout)        (None, 3, 20)             0         \n",
      "                                                                 \n",
      " lstm_14 (LSTM)              (None, 20)                3280      \n",
      "                                                                 \n",
      " dropout_14 (Dropout)        (None, 20)                0         \n",
      "                                                                 \n",
      " dense_4 (Dense)             (None, 4)                 84        \n",
      "                                                                 \n",
      "=================================================================\n",
      "Total params: 20,444\n",
      "Trainable params: 20,444\n",
      "Non-trainable params: 0\n",
      "_________________________________________________________________\n",
      "Model is saved  to disk\n"
     ]
    }
   ],
   "source": [
    "#from numpy import array\n",
    "\n",
    "from math import sqrt\n",
    "from numpy import concatenate\n",
    "from matplotlib import pyplot\n",
    "from pandas import read_csv\n",
    "from pandas import DataFrame\n",
    "from pandas import concat\n",
    "from sklearn.preprocessing import MinMaxScaler\n",
    "from sklearn.preprocessing import LabelEncoder\n",
    "from sklearn.metrics import mean_squared_error\n",
    "from sklearn.metrics import mean_absolute_error, r2_score\n",
    "from keras.models import Sequential\n",
    "from keras.layers import Dense\n",
    "from keras.layers.core import Dropout\n",
    "from keras.layers import LSTM\n",
    "\n",
    "# convert series to supervised learning\n",
    "def series_to_supervised(data, n_in=1, n_out=1, dropnan=True):\n",
    "\tn_vars = 1 if type(data) is list else data.shape[1]\n",
    "\tdf = DataFrame(data)\n",
    "\tcols, names = list(), list()\n",
    "\t# input sequence (t-n, ... t-1)\n",
    "\tfor i in range(n_in, 0, -1):\n",
    "\t\tcols.append(df.shift(i))\n",
    "\t\tnames += [('var%d(t-%d)' % (j+1, i)) for j in range(n_vars)]\n",
    "\t# forecast sequence (t, t+1, ... t+n)\n",
    "\tfor i in range(0, n_out):\n",
    "\t\tcols.append(df.shift(-i))\n",
    "\t\tif i == 0:\n",
    "\t\t\tnames += [('var%d(t)' % (j+1)) for j in range(n_vars)]\n",
    "\t\telse:\n",
    "\t\t\tnames += [('var%d(t+%d)' % (j+1, i)) for j in range(n_vars)]\n",
    "\t# put it all together\n",
    "\tagg = concat(cols, axis=1)\n",
    "\tagg.columns = names\n",
    "\t# drop rows with NaN values\n",
    "\tif dropnan:\n",
    "\t\tagg.dropna(inplace=True)\n",
    "\treturn agg\n",
    "\n",
    "#load dataset\n",
    "dataset = read_csv('phy_cps.csv', header=0, index_col=0)\n",
    "values = dataset.values\n",
    " \n",
    "#integer encode wind direction, as it's the only categorical variable.\n",
    "#encoder = LabelEncoder()\n",
    "#values[:,4] = encoder.fit_transform(values[:,4])\n",
    " \n",
    "#ensure all data are float32 values\n",
    "values = values.astype('float32')\n",
    " \n",
    "#normalize input features\n",
    "scaler = MinMaxScaler(feature_range=(0, 1))\n",
    "scaled = scaler.fit_transform(values)\n",
    " \n",
    "#frame as supervised learning\n",
    "n_hours = 3 \n",
    "n_features = 6 \n",
    "reframed = series_to_supervised(scaled, n_hours, 1)\n",
    "values = reframed.values\n",
    "# n_train_hours = 1936\n",
    "n_train_hours = 1694\n",
    "n_test = 484\n",
    "train = values[:n_train_hours, :]\n",
    "test = values[n_train_hours:n_train_hours+n_test, :]\n",
    "out_test = values[n_train_hours+n_test:, :]\n",
    " \n",
    "#\n",
    "#split into input and outputs\n",
    "n_obs = n_hours * n_features\n",
    "train_X = train[:, :n_obs]\n",
    "train_y = train[:, -n_features:(-n_features+4)] #+2 because of indexing madness.\n",
    "test_X = test[:, :n_obs]\n",
    "test_y = test[:, -n_features:(-n_features+4)]\n",
    " \n",
    "train_X = train_X.reshape((train_X.shape[0], n_hours, n_features))\n",
    "test_X = test_X.reshape((test_X.shape[0], n_hours, n_features))\n",
    " \n",
    "\n",
    "#Need to output four values, not one.\n",
    "#design network\n",
    "model = Sequential()\n",
    "model.add(LSTM(50, activation='relu',return_sequences=True, input_shape=(train_X.shape[1], train_X.shape[2])))\n",
    "model.add(Dropout(0.1))\n",
    "model.add(LSTM(20, activation='relu', return_sequences=True))\n",
    "model.add(Dropout(0.1))\n",
    "model.add(LSTM(20, activation='relu'))\n",
    "model.add(Dropout(0.1))\n",
    "model.add(Dense(4))\n",
    "\n",
    "model.compile(loss='mse', optimizer='adam')\n",
    " \n",
    "#fit network\n",
    "# history = model.fit(train_X, train_y, epochs=200, batch_size=72, validation_data=(test_X, test_y), verbose=2, shuffle=False)\n",
    "# history = model.fit(train_X, train_y, epochs=500, batch_size=72, validation_data=(test_X, test_y), verbose=2, shuffle=False)\n",
    "history = model.fit(train_X, train_y, epochs=50, batch_size=72, validation_data=(test_X, test_y), verbose=2, shuffle=False)\n",
    "\n",
    "\n",
    "# Plot history\n",
    "pyplot.xlabel('Epochs')\n",
    "pyplot.ylabel('Loss')\n",
    "pyplot.title('Model Train vs Testing Loss')\n",
    "pyplot.plot(history.history['loss'], label='train')\n",
    "pyplot.plot(history.history['val_loss'], label='test')\n",
    "pyplot.legend()\n",
    "pyplot.show()\n",
    " \n",
    "\n",
    "#make a prediction\n",
    "y_hat = model.predict(test_X)\n",
    " \n",
    "#calculate RMSE - CHANGED to output RMSE for each variable.\n",
    "norm_rmse_1 = sqrt(mean_squared_error(y_hat[:,0], test_y[:,0])) #RMSE for the first variable (Tank_1)\n",
    "norm_rmse_2 = sqrt(mean_squared_error(y_hat[:,1], test_y[:,1])) #RMSE for the second variable (Tank_2)\n",
    "norm_rmse_3 = sqrt(mean_squared_error(y_hat[:,2], test_y[:,2])) #RMSE for the third variable (Tank_3)\n",
    "norm_rmse_4 = sqrt(mean_squared_error(y_hat[:,3], test_y[:,3])) #RMSE for the fourth variable (Pump_1)\n",
    "print('Normalized Test RMSE: ', norm_rmse_1, norm_rmse_2, norm_rmse_3, norm_rmse_4)\n",
    "    \n",
    "test_X = test_X.reshape((test_X.shape[0], n_hours*n_features))\n",
    "inv_yhat = concatenate((y_hat, test_X[:,-2:]), axis=1) #changed 7 to 6\n",
    "inv_yhat = scaler.inverse_transform(inv_yhat)\n",
    "inv_yhat = inv_yhat[:,0:4] #changed from 0 to 0:2. Should be first 2 columns that contain the predictions\n",
    " \n",
    "\n",
    "#invert scaling for actual\n",
    "test_y = test_y.reshape((len(test_y),4)) #changed 1 to 2\n",
    "inv_y = concatenate((test_y, test_X[:,-2:]), axis=1) #changed 7 to 6\n",
    "inv_y = scaler.inverse_transform(inv_y)\n",
    "inv_y = inv_y[:,0:4] #changed from 0 to 0:2. Should be first 2 columns that contain the predictions.\n",
    " \n",
    "\n",
    "#    \n",
    "#calculate RMSE - CHANGED to output RMSE for each variable.\n",
    "rmse_1 = sqrt(mean_squared_error(inv_y[:,0], inv_yhat[:,0])) #RMSE for the first variable (Tank_1)\n",
    "rmse_2 = sqrt(mean_squared_error(inv_y[:,1], inv_yhat[:,1])) #RMSE for the second variable (Tank_2)\n",
    "rmse_3 = sqrt(mean_squared_error(inv_y[:,2], inv_yhat[:,2])) #RMSE for the third variable (Tank_3)\n",
    "rmse_4 = sqrt(mean_squared_error(inv_y[:,3], inv_yhat[:,3])) #RMSE for the fourth variable (Pump_1)\n",
    "\n",
    "r_sq1 = r2_score(inv_y[:,0], inv_yhat[:,0])\n",
    "r_sq2 = r2_score(inv_y[:,1], inv_yhat[:,1])\n",
    "r_sq3 = r2_score(inv_y[:,2], inv_yhat[:,2])\n",
    "r_sq4 = r2_score(inv_y[:,3], inv_yhat[:,3])\n",
    "\n",
    "print('Test RMSE: ', rmse_1, rmse_2, rmse_3, rmse_4)\n",
    "\n",
    "print(\"Test R-squared: \", r_sq1, r_sq2, r_sq3, r_sq4)\n",
    "model.summary()\n",
    "\n",
    "# import xlsxwriter\n",
    "\n",
    "# # Create file (workbook) and worksheet\n",
    "# outWorkbook = xlsxwriter.Workbook(\"out.xlsx\")\n",
    "# outSheet = outWorkbook.add_worksheet()\n",
    "\n",
    "# # Declare data\n",
    "# values = [[rmse_1,norm_rmse_1,r_sq1],\n",
    "#           [rmse_2,norm_rmse_2,r_sq2],\n",
    "#           [rmse_3,norm_rmse_3,r_sq3],\n",
    "#           [rmse_4,norm_rmse_4,r_sq4]]\n",
    "\n",
    "# # Write headers\n",
    "# outSheet.write(\"C1\", \"Tank_1\")\n",
    "# outSheet.write(\"D1\", \"Tank_2\")\n",
    "# outSheet.write(\"E1\", \"Tank_3\")\n",
    "# outSheet.write(\"F1\", \"Pump_1\")\n",
    "\n",
    "# # Write data to file\n",
    "# outSheet.write(\"C2\",values[0][0])\n",
    "# outSheet.write(\"C3\",values[0][1])\n",
    "# outSheet.write(\"C4\",values[0][2])\n",
    "\n",
    "# outSheet.write(\"D2\",values[1][0])\n",
    "# outSheet.write(\"D3\",values[1][1])\n",
    "# outSheet.write(\"D4\",values[1][2])\n",
    "\n",
    "# outSheet.write(\"E2\",values[2][0])\n",
    "# outSheet.write(\"E3\",values[2][1])\n",
    "# outSheet.write(\"E4\",values[2][2])\n",
    "\n",
    "# outSheet.write(\"F2\",values[3][0])\n",
    "# outSheet.write(\"F3\",values[3][1])\n",
    "# outSheet.write(\"F4\",values[3][2])\n",
    "\n",
    "# outWorkbook.close()\n",
    "\n",
    "# Save the model to disk\n",
    "model.save('multi_lstm_model.h5')\n",
    "print('Model is saved  to disk')"
   ]
  },
  {
   "cell_type": "code",
   "execution_count": 19,
   "id": "f4dd03d3",
   "metadata": {},
   "outputs": [
    {
     "data": {
      "text/plain": [
       "(484, 4)"
      ]
     },
     "execution_count": 19,
     "metadata": {},
     "output_type": "execute_result"
    }
   ],
   "source": [
    "y_hat.shape"
   ]
  },
  {
   "cell_type": "code",
   "execution_count": 20,
   "id": "ca54ad7d",
   "metadata": {},
   "outputs": [
    {
     "data": {
      "text/plain": [
       "(484, 18)"
      ]
     },
     "execution_count": 20,
     "metadata": {},
     "output_type": "execute_result"
    }
   ],
   "source": [
    "test_X.shape"
   ]
  },
  {
   "cell_type": "markdown",
   "id": "75c82f9d",
   "metadata": {},
   "source": [
    "### Distribution of the variables"
   ]
  },
  {
   "cell_type": "code",
   "execution_count": 4,
   "id": "dbc6ff15",
   "metadata": {},
   "outputs": [
    {
     "name": "stdout",
     "output_type": "stream",
     "text": [
      "            Tank_1       Tank_2       Tank_3       Pump_1       Pump_2  \\\n",
      "count  2420.000000  2420.000000  2420.000000  2420.000000  2420.000000   \n",
      "mean    686.320661   714.946281   922.677686     0.300000     0.243802   \n",
      "std     654.955181   656.051613   942.572849     0.458352     0.429463   \n",
      "min       0.000000     0.000000     0.000000     0.000000     0.000000   \n",
      "25%       2.000000     5.000000    73.250000     0.000000     0.000000   \n",
      "50%     598.000000   639.500000   747.500000     0.000000     0.000000   \n",
      "75%    1244.000000  1293.250000  1226.250000     1.000000     0.000000   \n",
      "max    1980.000000  1952.000000  3427.000000     1.000000     1.000000   \n",
      "\n",
      "       Flow_sensor_4  \n",
      "count    2420.000000  \n",
      "mean     1283.821488  \n",
      "std      1738.336519  \n",
      "min         0.000000  \n",
      "25%         0.000000  \n",
      "50%         0.000000  \n",
      "75%      2769.000000  \n",
      "max      4789.000000  \n"
     ]
    },
    {
     "data": {
      "image/png": "[encoded data removed]",
      "text/plain": [
       "<Figure size 432x288 with 1 Axes>"
      ]
     },
     "metadata": {
      "needs_background": "light"
     },
     "output_type": "display_data"
    },
    {
     "data": {
      "image/png": "[encoded data removed]",
      "text/plain": [
       "<Figure size 432x288 with 6 Axes>"
      ]
     },
     "metadata": {
      "needs_background": "light"
     },
     "output_type": "display_data"
    }
   ],
   "source": [
    "# load results file\n",
    "results = read_csv('phy_cps.csv', header=0)\n",
    "# descriptive stats\n",
    "print(results.describe())\n",
    "# box and whisker plot\n",
    "results.boxplot(whiskerprops = dict(linestyle='-', linewidth=2))\n",
    "pyplot.show()\n",
    "# histogram\n",
    "results.hist()\n",
    "pyplot.show()"
   ]
  },
  {
   "cell_type": "markdown",
   "id": "4323cd35",
   "metadata": {},
   "source": [
    "### Box plot for rmse"
   ]
  },
  {
   "cell_type": "code",
   "execution_count": 1,
   "id": "12e974fc",
   "metadata": {},
   "outputs": [
    {
     "name": "stdout",
     "output_type": "stream",
     "text": [
      "           Tank_1      Tank_2      Tank_3     Pump_1\n",
      "count   33.000000   33.000000   33.000000  33.000000\n",
      "mean   144.161401  109.906095  134.719121   0.117114\n",
      "std     29.680144   35.276328   34.676943   0.009327\n",
      "min     88.629391   59.307521   74.722553   0.100214\n",
      "25%    128.229447   79.751047  110.285824   0.109556\n",
      "50%    142.568261  110.000502  126.947889   0.117160\n",
      "75%    152.599295  128.335886  152.758458   0.124281\n",
      "max    210.698327  197.403725  201.181122   0.132437\n"
     ]
    },
    {
     "data": {
      "image/png": "[encoded data removed]",
      "text/plain": [
       "<Figure size 432x288 with 1 Axes>"
      ]
     },
     "metadata": {
      "needs_background": "light"
     },
     "output_type": "display_data"
    },
    {
     "data": {
      "image/png": "[encoded data removed]",
      "text/plain": [
       "<Figure size 432x288 with 4 Axes>"
      ]
     },
     "metadata": {
      "needs_background": "light"
     },
     "output_type": "display_data"
    }
   ],
   "source": [
    "from pandas import DataFrame\n",
    "from pandas import read_csv\n",
    "from numpy import mean\n",
    "from numpy import std\n",
    "from matplotlib import pyplot\n",
    "# load results file\n",
    "results = read_csv('rmse_multiple_results.csv', header=0)\n",
    "# descriptive stats\n",
    "print(results.describe())\n",
    "# box and whisker plot\n",
    "results.boxplot(whiskerprops = dict(linestyle='-', linewidth=2))\n",
    "pyplot.show()\n",
    "# histogram\n",
    "results.hist()\n",
    "pyplot.show()"
   ]
  },
  {
   "cell_type": "markdown",
   "id": "4f6dccdf",
   "metadata": {},
   "source": [
    "### Box plot for normalised rmse"
   ]
  },
  {
   "cell_type": "code",
   "execution_count": 2,
   "id": "b20d7721",
   "metadata": {},
   "outputs": [
    {
     "name": "stdout",
     "output_type": "stream",
     "text": [
      "          Tank_1     Tank_2     Tank_3     Pump_1\n",
      "count  33.000000  33.000000  33.000000  33.000000\n",
      "mean    0.072809   0.056304   0.039311   0.117114\n",
      "std     0.014990   0.018072   0.010119   0.009327\n",
      "min     0.044762   0.030383   0.021804   0.100214\n",
      "25%     0.064762   0.040856   0.032181   0.109556\n",
      "50%     0.072004   0.056353   0.037043   0.117160\n",
      "75%     0.077070   0.065746   0.044575   0.124281\n",
      "max     0.106413   0.101129   0.058705   0.132437\n"
     ]
    },
    {
     "data": {
      "image/png": "[encoded data removed]",
      "text/plain": [
       "<Figure size 432x288 with 1 Axes>"
      ]
     },
     "metadata": {
      "needs_background": "light"
     },
     "output_type": "display_data"
    },
    {
     "data": {
      "image/png": "[encoded data removed]",
      "text/plain": [
       "<Figure size 432x288 with 4 Axes>"
      ]
     },
     "metadata": {
      "needs_background": "light"
     },
     "output_type": "display_data"
    }
   ],
   "source": [
    "from pandas import DataFrame\n",
    "from pandas import read_csv\n",
    "from numpy import mean\n",
    "from numpy import std\n",
    "from matplotlib import pyplot\n",
    "# load results file\n",
    "results = read_csv('norm_rmse_multiple_results.csv', header=0)\n",
    "# descriptive stats\n",
    "print(results.describe())\n",
    "# box and whisker plot\n",
    "results.boxplot(whiskerprops = dict(linestyle='-', linewidth=2))\n",
    "pyplot.show()\n",
    "# histogram\n",
    "results.hist()\n",
    "pyplot.show()"
   ]
  },
  {
   "cell_type": "markdown",
   "id": "977fe663",
   "metadata": {},
   "source": [
    "### Box Plot for COefficient of Determination (R-Squared )"
   ]
  },
  {
   "cell_type": "code",
   "execution_count": 3,
   "id": "96c56901",
   "metadata": {},
   "outputs": [
    {
     "name": "stdout",
     "output_type": "stream",
     "text": [
      "          Tank_1     Tank_2     Tank_3     Pump_1\n",
      "count  33.000000  33.000000  33.000000  33.000000\n",
      "mean    0.942453   0.970305   0.910426   0.937769\n",
      "std     0.023750   0.019602   0.044893   0.009843\n",
      "min     0.881927   0.912903   0.812304   0.920907\n",
      "25%     0.938065   0.963188   0.891784   0.930348\n",
      "50%     0.945940   0.972955   0.925264   0.938101\n",
      "75%     0.956268   0.985784   0.943595   0.945875\n",
      "max     0.979108   0.992138   0.974107   0.954713\n"
     ]
    },
    {
     "data": {
      "image/png": "[encoded data removed]",
      "text/plain": [
       "<Figure size 432x288 with 1 Axes>"
      ]
     },
     "metadata": {
      "needs_background": "light"
     },
     "output_type": "display_data"
    },
    {
     "data": {
      "image/png": "[encoded data removed]",
      "text/plain": [
       "<Figure size 432x288 with 4 Axes>"
      ]
     },
     "metadata": {
      "needs_background": "light"
     },
     "output_type": "display_data"
    }
   ],
   "source": [
    "from pandas import DataFrame\n",
    "from pandas import read_csv\n",
    "from numpy import mean\n",
    "from numpy import std\n",
    "from matplotlib import pyplot\n",
    "# load results file\n",
    "results = read_csv('r_sq_multiple_results.csv', header=0)\n",
    "# descriptive stats\n",
    "print(results.describe())\n",
    "# box and whisker plot\n",
    "results.boxplot(whiskerprops = dict(linestyle='-', linewidth=2))\n",
    "pyplot.show()\n",
    "# histogram\n",
    "results.hist()\n",
    "pyplot.show()"
   ]
  },
  {
   "cell_type": "code",
   "execution_count": null,
   "id": "650092af",
   "metadata": {},
   "outputs": [],
   "source": []
  },
  {
   "cell_type": "code",
   "execution_count": 31,
   "id": "1646823e",
   "metadata": {},
   "outputs": [
    {
     "name": "stdout",
     "output_type": "stream",
     "text": [
      "1.6583123951777\n",
      "50.0\n"
     ]
    }
   ],
   "source": [
    "import math\n",
    "def rms(x,y):\n",
    "    total = 0\n",
    "    for i in range(len(x)):\n",
    "        total += ((x[i]-y[i])**2)\n",
    "    return math.sqrt(total/len(x))\n",
    "\n",
    "\n",
    "p = [10,20,30,40]\n",
    "q = [11,17,29,40]\n",
    "print(rms(p,q))\n",
    "val = [x for x in range(1000,10000,100)]\n",
    "val2 = [k + 50 for k in val]\n",
    "# del val2[3]\n",
    "print(rms(val,val2))"
   ]
  },
  {
   "cell_type": "markdown",
   "id": "bb216a19",
   "metadata": {},
   "source": [
    "### Training, Vaidating and Testing"
   ]
  },
  {
   "cell_type": "code",
   "execution_count": 12,
   "id": "bb7a9ac8",
   "metadata": {},
   "outputs": [
    {
     "name": "stdout",
     "output_type": "stream",
     "text": [
      "Epoch 1/200\n",
      "27/27 - 5s - loss: 0.2288 - val_loss: 0.1765 - 5s/epoch - 191ms/step\n",
      "Epoch 2/200\n",
      "27/27 - 0s - loss: 0.1964 - val_loss: 0.1443 - 269ms/epoch - 10ms/step\n",
      "Epoch 3/200\n",
      "27/27 - 0s - loss: 0.1349 - val_loss: 0.1077 - 266ms/epoch - 10ms/step\n",
      "Epoch 4/200\n",
      "27/27 - 0s - loss: 0.1063 - val_loss: 0.0970 - 263ms/epoch - 10ms/step\n",
      "Epoch 5/200\n",
      "27/27 - 0s - loss: 0.0925 - val_loss: 0.0850 - 266ms/epoch - 10ms/step\n",
      "Epoch 6/200\n",
      "27/27 - 0s - loss: 0.0763 - val_loss: 0.0756 - 263ms/epoch - 10ms/step\n",
      "Epoch 7/200\n",
      "27/27 - 0s - loss: 0.0636 - val_loss: 0.0636 - 263ms/epoch - 10ms/step\n",
      "Epoch 8/200\n",
      "27/27 - 0s - loss: 0.0560 - val_loss: 0.0494 - 263ms/epoch - 10ms/step\n",
      "Epoch 9/200\n",
      "27/27 - 0s - loss: 0.0470 - val_loss: 0.0421 - 265ms/epoch - 10ms/step\n",
      "Epoch 10/200\n",
      "27/27 - 0s - loss: 0.0455 - val_loss: 0.0431 - 273ms/epoch - 10ms/step\n",
      "Epoch 11/200\n",
      "27/27 - 0s - loss: 0.0395 - val_loss: 0.0445 - 265ms/epoch - 10ms/step\n",
      "Epoch 12/200\n",
      "27/27 - 0s - loss: 0.0357 - val_loss: 0.0426 - 270ms/epoch - 10ms/step\n",
      "Epoch 13/200\n",
      "27/27 - 0s - loss: 0.0343 - val_loss: 0.0418 - 274ms/epoch - 10ms/step\n",
      "Epoch 14/200\n",
      "27/27 - 0s - loss: 0.0342 - val_loss: 0.0397 - 266ms/epoch - 10ms/step\n",
      "Epoch 15/200\n",
      "27/27 - 0s - loss: 0.0317 - val_loss: 0.0355 - 267ms/epoch - 10ms/step\n",
      "Epoch 16/200\n",
      "27/27 - 0s - loss: 0.0300 - val_loss: 0.0336 - 270ms/epoch - 10ms/step\n",
      "Epoch 17/200\n",
      "27/27 - 0s - loss: 0.0287 - val_loss: 0.0336 - 266ms/epoch - 10ms/step\n",
      "Epoch 18/200\n",
      "27/27 - 0s - loss: 0.0273 - val_loss: 0.0314 - 267ms/epoch - 10ms/step\n",
      "Epoch 19/200\n",
      "27/27 - 0s - loss: 0.0258 - val_loss: 0.0305 - 267ms/epoch - 10ms/step\n",
      "Epoch 20/200\n",
      "27/27 - 0s - loss: 0.0245 - val_loss: 0.0282 - 274ms/epoch - 10ms/step\n",
      "Epoch 21/200\n",
      "27/27 - 0s - loss: 0.0242 - val_loss: 0.0283 - 266ms/epoch - 10ms/step\n",
      "Epoch 22/200\n",
      "27/27 - 0s - loss: 0.0235 - val_loss: 0.0244 - 268ms/epoch - 10ms/step\n",
      "Epoch 23/200\n",
      "27/27 - 0s - loss: 0.0207 - val_loss: 0.0207 - 268ms/epoch - 10ms/step\n",
      "Epoch 24/200\n",
      "27/27 - 0s - loss: 0.0210 - val_loss: 0.0190 - 269ms/epoch - 10ms/step\n",
      "Epoch 25/200\n",
      "27/27 - 0s - loss: 0.0208 - val_loss: 0.0203 - 266ms/epoch - 10ms/step\n",
      "Epoch 26/200\n",
      "27/27 - 0s - loss: 0.0203 - val_loss: 0.0188 - 265ms/epoch - 10ms/step\n",
      "Epoch 27/200\n",
      "27/27 - 0s - loss: 0.0196 - val_loss: 0.0164 - 266ms/epoch - 10ms/step\n",
      "Epoch 28/200\n",
      "27/27 - 0s - loss: 0.0194 - val_loss: 0.0158 - 266ms/epoch - 10ms/step\n",
      "Epoch 29/200\n",
      "27/27 - 0s - loss: 0.0192 - val_loss: 0.0158 - 271ms/epoch - 10ms/step\n",
      "Epoch 30/200\n",
      "27/27 - 0s - loss: 0.0174 - val_loss: 0.0166 - 263ms/epoch - 10ms/step\n",
      "Epoch 31/200\n",
      "27/27 - 0s - loss: 0.0181 - val_loss: 0.0170 - 269ms/epoch - 10ms/step\n",
      "Epoch 32/200\n",
      "27/27 - 0s - loss: 0.0176 - val_loss: 0.0161 - 266ms/epoch - 10ms/step\n",
      "Epoch 33/200\n",
      "27/27 - 0s - loss: 0.0168 - val_loss: 0.0129 - 264ms/epoch - 10ms/step\n",
      "Epoch 34/200\n",
      "27/27 - 0s - loss: 0.0180 - val_loss: 0.0126 - 265ms/epoch - 10ms/step\n",
      "Epoch 35/200\n",
      "27/27 - 0s - loss: 0.0168 - val_loss: 0.0125 - 270ms/epoch - 10ms/step\n",
      "Epoch 36/200\n",
      "27/27 - 0s - loss: 0.0167 - val_loss: 0.0118 - 266ms/epoch - 10ms/step\n",
      "Epoch 37/200\n",
      "27/27 - 0s - loss: 0.0172 - val_loss: 0.0113 - 268ms/epoch - 10ms/step\n",
      "Epoch 38/200\n",
      "27/27 - 0s - loss: 0.0163 - val_loss: 0.0119 - 274ms/epoch - 10ms/step\n",
      "Epoch 39/200\n",
      "27/27 - 0s - loss: 0.0166 - val_loss: 0.0122 - 264ms/epoch - 10ms/step\n",
      "Epoch 40/200\n",
      "27/27 - 0s - loss: 0.0158 - val_loss: 0.0117 - 265ms/epoch - 10ms/step\n",
      "Epoch 41/200\n",
      "27/27 - 0s - loss: 0.0144 - val_loss: 0.0111 - 268ms/epoch - 10ms/step\n",
      "Epoch 42/200\n",
      "27/27 - 0s - loss: 0.0144 - val_loss: 0.0104 - 269ms/epoch - 10ms/step\n",
      "Epoch 43/200\n",
      "27/27 - 0s - loss: 0.0142 - val_loss: 0.0099 - 269ms/epoch - 10ms/step\n",
      "Epoch 44/200\n",
      "27/27 - 0s - loss: 0.0150 - val_loss: 0.0097 - 268ms/epoch - 10ms/step\n",
      "Epoch 45/200\n",
      "27/27 - 0s - loss: 0.0149 - val_loss: 0.0095 - 268ms/epoch - 10ms/step\n",
      "Epoch 46/200\n",
      "27/27 - 0s - loss: 0.0139 - val_loss: 0.0098 - 271ms/epoch - 10ms/step\n",
      "Epoch 47/200\n",
      "27/27 - 0s - loss: 0.0138 - val_loss: 0.0102 - 278ms/epoch - 10ms/step\n",
      "Epoch 48/200\n",
      "27/27 - 0s - loss: 0.0136 - val_loss: 0.0110 - 267ms/epoch - 10ms/step\n",
      "Epoch 49/200\n",
      "27/27 - 0s - loss: 0.0134 - val_loss: 0.0089 - 267ms/epoch - 10ms/step\n",
      "Epoch 50/200\n",
      "27/27 - 0s - loss: 0.0130 - val_loss: 0.0094 - 267ms/epoch - 10ms/step\n",
      "Epoch 51/200\n",
      "27/27 - 0s - loss: 0.0138 - val_loss: 0.0083 - 269ms/epoch - 10ms/step\n",
      "Epoch 52/200\n",
      "27/27 - 0s - loss: 0.0132 - val_loss: 0.0087 - 273ms/epoch - 10ms/step\n",
      "Epoch 53/200\n",
      "27/27 - 0s - loss: 0.0137 - val_loss: 0.0083 - 307ms/epoch - 11ms/step\n",
      "Epoch 54/200\n",
      "27/27 - 0s - loss: 0.0142 - val_loss: 0.0088 - 271ms/epoch - 10ms/step\n",
      "Epoch 55/200\n",
      "27/27 - 0s - loss: 0.0131 - val_loss: 0.0084 - 262ms/epoch - 10ms/step\n",
      "Epoch 56/200\n",
      "27/27 - 0s - loss: 0.0126 - val_loss: 0.0091 - 260ms/epoch - 10ms/step\n",
      "Epoch 57/200\n",
      "27/27 - 0s - loss: 0.0126 - val_loss: 0.0080 - 263ms/epoch - 10ms/step\n",
      "Epoch 58/200\n",
      "27/27 - 0s - loss: 0.0124 - val_loss: 0.0083 - 261ms/epoch - 10ms/step\n",
      "Epoch 59/200\n",
      "27/27 - 0s - loss: 0.0130 - val_loss: 0.0078 - 261ms/epoch - 10ms/step\n",
      "Epoch 60/200\n",
      "27/27 - 0s - loss: 0.0130 - val_loss: 0.0084 - 265ms/epoch - 10ms/step\n",
      "Epoch 61/200\n",
      "27/27 - 0s - loss: 0.0125 - val_loss: 0.0080 - 266ms/epoch - 10ms/step\n",
      "Epoch 62/200\n",
      "27/27 - 0s - loss: 0.0121 - val_loss: 0.0081 - 268ms/epoch - 10ms/step\n",
      "Epoch 63/200\n",
      "27/27 - 0s - loss: 0.0126 - val_loss: 0.0078 - 261ms/epoch - 10ms/step\n",
      "Epoch 64/200\n",
      "27/27 - 0s - loss: 0.0126 - val_loss: 0.0086 - 263ms/epoch - 10ms/step\n",
      "Epoch 65/200\n",
      "27/27 - 0s - loss: 0.0121 - val_loss: 0.0078 - 271ms/epoch - 10ms/step\n",
      "Epoch 66/200\n",
      "27/27 - 0s - loss: 0.0119 - val_loss: 0.0081 - 263ms/epoch - 10ms/step\n",
      "Epoch 67/200\n",
      "27/27 - 0s - loss: 0.0123 - val_loss: 0.0077 - 268ms/epoch - 10ms/step\n",
      "Epoch 68/200\n",
      "27/27 - 0s - loss: 0.0117 - val_loss: 0.0083 - 264ms/epoch - 10ms/step\n",
      "Epoch 69/200\n",
      "27/27 - 0s - loss: 0.0123 - val_loss: 0.0076 - 264ms/epoch - 10ms/step\n",
      "Epoch 70/200\n",
      "27/27 - 0s - loss: 0.0118 - val_loss: 0.0076 - 263ms/epoch - 10ms/step\n",
      "Epoch 71/200\n",
      "27/27 - 0s - loss: 0.0121 - val_loss: 0.0074 - 262ms/epoch - 10ms/step\n",
      "Epoch 72/200\n",
      "27/27 - 0s - loss: 0.0120 - val_loss: 0.0082 - 265ms/epoch - 10ms/step\n",
      "Epoch 73/200\n",
      "27/27 - 0s - loss: 0.0122 - val_loss: 0.0079 - 264ms/epoch - 10ms/step\n",
      "Epoch 74/200\n",
      "27/27 - 0s - loss: 0.0121 - val_loss: 0.0084 - 263ms/epoch - 10ms/step\n",
      "Epoch 75/200\n",
      "27/27 - 0s - loss: 0.0120 - val_loss: 0.0073 - 270ms/epoch - 10ms/step\n",
      "Epoch 76/200\n",
      "27/27 - 0s - loss: 0.0115 - val_loss: 0.0080 - 262ms/epoch - 10ms/step\n",
      "Epoch 77/200\n",
      "27/27 - 0s - loss: 0.0119 - val_loss: 0.0076 - 262ms/epoch - 10ms/step\n",
      "Epoch 78/200\n",
      "27/27 - 0s - loss: 0.0110 - val_loss: 0.0074 - 262ms/epoch - 10ms/step\n",
      "Epoch 79/200\n",
      "27/27 - 0s - loss: 0.0113 - val_loss: 0.0068 - 272ms/epoch - 10ms/step\n",
      "Epoch 80/200\n",
      "27/27 - 0s - loss: 0.0116 - val_loss: 0.0074 - 263ms/epoch - 10ms/step\n",
      "Epoch 81/200\n",
      "27/27 - 0s - loss: 0.0112 - val_loss: 0.0083 - 261ms/epoch - 10ms/step\n",
      "Epoch 82/200\n",
      "27/27 - 0s - loss: 0.0115 - val_loss: 0.0069 - 260ms/epoch - 10ms/step\n",
      "Epoch 83/200\n",
      "27/27 - 0s - loss: 0.0111 - val_loss: 0.0071 - 262ms/epoch - 10ms/step\n",
      "Epoch 84/200\n",
      "27/27 - 0s - loss: 0.0112 - val_loss: 0.0071 - 264ms/epoch - 10ms/step\n",
      "Epoch 85/200\n",
      "27/27 - 0s - loss: 0.0110 - val_loss: 0.0078 - 263ms/epoch - 10ms/step\n",
      "Epoch 86/200\n",
      "27/27 - 0s - loss: 0.0110 - val_loss: 0.0074 - 264ms/epoch - 10ms/step\n",
      "Epoch 87/200\n",
      "27/27 - 0s - loss: 0.0103 - val_loss: 0.0070 - 266ms/epoch - 10ms/step\n",
      "Epoch 88/200\n",
      "27/27 - 0s - loss: 0.0109 - val_loss: 0.0067 - 265ms/epoch - 10ms/step\n",
      "Epoch 89/200\n",
      "27/27 - 0s - loss: 0.0106 - val_loss: 0.0070 - 263ms/epoch - 10ms/step\n",
      "Epoch 90/200\n",
      "27/27 - 0s - loss: 0.0113 - val_loss: 0.0066 - 263ms/epoch - 10ms/step\n",
      "Epoch 91/200\n",
      "27/27 - 0s - loss: 0.0108 - val_loss: 0.0068 - 301ms/epoch - 11ms/step\n",
      "Epoch 92/200\n",
      "27/27 - 0s - loss: 0.0109 - val_loss: 0.0062 - 264ms/epoch - 10ms/step\n",
      "Epoch 93/200\n",
      "27/27 - 0s - loss: 0.0108 - val_loss: 0.0068 - 260ms/epoch - 10ms/step\n",
      "Epoch 94/200\n",
      "27/27 - 0s - loss: 0.0106 - val_loss: 0.0068 - 265ms/epoch - 10ms/step\n",
      "Epoch 95/200\n",
      "27/27 - 0s - loss: 0.0101 - val_loss: 0.0068 - 266ms/epoch - 10ms/step\n",
      "Epoch 96/200\n",
      "27/27 - 0s - loss: 0.0102 - val_loss: 0.0063 - 265ms/epoch - 10ms/step\n",
      "Epoch 97/200\n",
      "27/27 - 0s - loss: 0.0107 - val_loss: 0.0070 - 263ms/epoch - 10ms/step\n",
      "Epoch 98/200\n",
      "27/27 - 0s - loss: 0.0105 - val_loss: 0.0063 - 267ms/epoch - 10ms/step\n"
     ]
    },
    {
     "name": "stdout",
     "output_type": "stream",
     "text": [
      "Epoch 99/200\n",
      "27/27 - 0s - loss: 0.0105 - val_loss: 0.0065 - 260ms/epoch - 10ms/step\n",
      "Epoch 100/200\n",
      "27/27 - 0s - loss: 0.0105 - val_loss: 0.0061 - 256ms/epoch - 9ms/step\n",
      "Epoch 101/200\n",
      "27/27 - 0s - loss: 0.0099 - val_loss: 0.0067 - 255ms/epoch - 9ms/step\n",
      "Epoch 102/200\n",
      "27/27 - 0s - loss: 0.0102 - val_loss: 0.0061 - 258ms/epoch - 10ms/step\n",
      "Epoch 103/200\n",
      "27/27 - 0s - loss: 0.0097 - val_loss: 0.0059 - 257ms/epoch - 10ms/step\n",
      "Epoch 104/200\n",
      "27/27 - 0s - loss: 0.0096 - val_loss: 0.0058 - 261ms/epoch - 10ms/step\n",
      "Epoch 105/200\n",
      "27/27 - 0s - loss: 0.0101 - val_loss: 0.0067 - 256ms/epoch - 9ms/step\n",
      "Epoch 106/200\n",
      "27/27 - 0s - loss: 0.0103 - val_loss: 0.0061 - 263ms/epoch - 10ms/step\n",
      "Epoch 107/200\n",
      "27/27 - 0s - loss: 0.0098 - val_loss: 0.0059 - 260ms/epoch - 10ms/step\n",
      "Epoch 108/200\n",
      "27/27 - 0s - loss: 0.0098 - val_loss: 0.0057 - 259ms/epoch - 10ms/step\n",
      "Epoch 109/200\n",
      "27/27 - 0s - loss: 0.0096 - val_loss: 0.0063 - 267ms/epoch - 10ms/step\n",
      "Epoch 110/200\n",
      "27/27 - 0s - loss: 0.0104 - val_loss: 0.0059 - 261ms/epoch - 10ms/step\n",
      "Epoch 111/200\n",
      "27/27 - 0s - loss: 0.0102 - val_loss: 0.0061 - 259ms/epoch - 10ms/step\n",
      "Epoch 112/200\n",
      "27/27 - 0s - loss: 0.0103 - val_loss: 0.0060 - 262ms/epoch - 10ms/step\n",
      "Epoch 113/200\n",
      "27/27 - 0s - loss: 0.0101 - val_loss: 0.0060 - 261ms/epoch - 10ms/step\n",
      "Epoch 114/200\n",
      "27/27 - 0s - loss: 0.0097 - val_loss: 0.0059 - 256ms/epoch - 9ms/step\n",
      "Epoch 115/200\n",
      "27/27 - 0s - loss: 0.0097 - val_loss: 0.0059 - 259ms/epoch - 10ms/step\n",
      "Epoch 116/200\n",
      "27/27 - 0s - loss: 0.0094 - val_loss: 0.0055 - 271ms/epoch - 10ms/step\n",
      "Epoch 117/200\n",
      "27/27 - 0s - loss: 0.0093 - val_loss: 0.0059 - 284ms/epoch - 11ms/step\n",
      "Epoch 118/200\n",
      "27/27 - 0s - loss: 0.0099 - val_loss: 0.0057 - 265ms/epoch - 10ms/step\n",
      "Epoch 119/200\n",
      "27/27 - 0s - loss: 0.0092 - val_loss: 0.0056 - 270ms/epoch - 10ms/step\n",
      "Epoch 120/200\n",
      "27/27 - 0s - loss: 0.0092 - val_loss: 0.0054 - 272ms/epoch - 10ms/step\n",
      "Epoch 121/200\n",
      "27/27 - 0s - loss: 0.0094 - val_loss: 0.0055 - 278ms/epoch - 10ms/step\n",
      "Epoch 122/200\n",
      "27/27 - 0s - loss: 0.0096 - val_loss: 0.0056 - 267ms/epoch - 10ms/step\n",
      "Epoch 123/200\n",
      "27/27 - 0s - loss: 0.0092 - val_loss: 0.0055 - 269ms/epoch - 10ms/step\n",
      "Epoch 124/200\n",
      "27/27 - 0s - loss: 0.0092 - val_loss: 0.0054 - 271ms/epoch - 10ms/step\n",
      "Epoch 125/200\n",
      "27/27 - 0s - loss: 0.0099 - val_loss: 0.0053 - 271ms/epoch - 10ms/step\n",
      "Epoch 126/200\n",
      "27/27 - 0s - loss: 0.0093 - val_loss: 0.0052 - 268ms/epoch - 10ms/step\n",
      "Epoch 127/200\n",
      "27/27 - 0s - loss: 0.0096 - val_loss: 0.0056 - 265ms/epoch - 10ms/step\n",
      "Epoch 128/200\n",
      "27/27 - 0s - loss: 0.0100 - val_loss: 0.0054 - 272ms/epoch - 10ms/step\n",
      "Epoch 129/200\n",
      "27/27 - 0s - loss: 0.0092 - val_loss: 0.0053 - 273ms/epoch - 10ms/step\n",
      "Epoch 130/200\n",
      "27/27 - 0s - loss: 0.0090 - val_loss: 0.0053 - 262ms/epoch - 10ms/step\n",
      "Epoch 131/200\n",
      "27/27 - 0s - loss: 0.0092 - val_loss: 0.0050 - 263ms/epoch - 10ms/step\n",
      "Epoch 132/200\n",
      "27/27 - 0s - loss: 0.0092 - val_loss: 0.0050 - 263ms/epoch - 10ms/step\n",
      "Epoch 133/200\n",
      "27/27 - 0s - loss: 0.0092 - val_loss: 0.0050 - 261ms/epoch - 10ms/step\n",
      "Epoch 134/200\n",
      "27/27 - 0s - loss: 0.0089 - val_loss: 0.0054 - 260ms/epoch - 10ms/step\n",
      "Epoch 135/200\n",
      "27/27 - 0s - loss: 0.0095 - val_loss: 0.0061 - 263ms/epoch - 10ms/step\n",
      "Epoch 136/200\n",
      "27/27 - 0s - loss: 0.0094 - val_loss: 0.0053 - 263ms/epoch - 10ms/step\n",
      "Epoch 137/200\n",
      "27/27 - 0s - loss: 0.0093 - val_loss: 0.0052 - 264ms/epoch - 10ms/step\n",
      "Epoch 138/200\n",
      "27/27 - 0s - loss: 0.0092 - val_loss: 0.0047 - 264ms/epoch - 10ms/step\n",
      "Epoch 139/200\n",
      "27/27 - 0s - loss: 0.0089 - val_loss: 0.0049 - 266ms/epoch - 10ms/step\n",
      "Epoch 140/200\n",
      "27/27 - 0s - loss: 0.0091 - val_loss: 0.0050 - 262ms/epoch - 10ms/step\n",
      "Epoch 141/200\n",
      "27/27 - 0s - loss: 0.0087 - val_loss: 0.0052 - 258ms/epoch - 10ms/step\n",
      "Epoch 142/200\n",
      "27/27 - 0s - loss: 0.0094 - val_loss: 0.0052 - 261ms/epoch - 10ms/step\n",
      "Epoch 143/200\n",
      "27/27 - 0s - loss: 0.0088 - val_loss: 0.0050 - 265ms/epoch - 10ms/step\n",
      "Epoch 144/200\n",
      "27/27 - 0s - loss: 0.0095 - val_loss: 0.0055 - 265ms/epoch - 10ms/step\n",
      "Epoch 145/200\n",
      "27/27 - 0s - loss: 0.0096 - val_loss: 0.0057 - 266ms/epoch - 10ms/step\n",
      "Epoch 146/200\n",
      "27/27 - 0s - loss: 0.0092 - val_loss: 0.0056 - 260ms/epoch - 10ms/step\n",
      "Epoch 147/200\n",
      "27/27 - 0s - loss: 0.0089 - val_loss: 0.0045 - 266ms/epoch - 10ms/step\n",
      "Epoch 148/200\n",
      "27/27 - 0s - loss: 0.0088 - val_loss: 0.0050 - 262ms/epoch - 10ms/step\n",
      "Epoch 149/200\n",
      "27/27 - 0s - loss: 0.0086 - val_loss: 0.0047 - 265ms/epoch - 10ms/step\n",
      "Epoch 150/200\n",
      "27/27 - 0s - loss: 0.0089 - val_loss: 0.0050 - 261ms/epoch - 10ms/step\n",
      "Epoch 151/200\n",
      "27/27 - 0s - loss: 0.0087 - val_loss: 0.0043 - 264ms/epoch - 10ms/step\n",
      "Epoch 152/200\n",
      "27/27 - 0s - loss: 0.0087 - val_loss: 0.0046 - 261ms/epoch - 10ms/step\n",
      "Epoch 153/200\n",
      "27/27 - 0s - loss: 0.0085 - val_loss: 0.0046 - 262ms/epoch - 10ms/step\n",
      "Epoch 154/200\n",
      "27/27 - 0s - loss: 0.0091 - val_loss: 0.0052 - 294ms/epoch - 11ms/step\n",
      "Epoch 155/200\n",
      "27/27 - 0s - loss: 0.0083 - val_loss: 0.0054 - 277ms/epoch - 10ms/step\n",
      "Epoch 156/200\n",
      "27/27 - 0s - loss: 0.0087 - val_loss: 0.0049 - 279ms/epoch - 10ms/step\n",
      "Epoch 157/200\n",
      "27/27 - 0s - loss: 0.0084 - val_loss: 0.0049 - 268ms/epoch - 10ms/step\n",
      "Epoch 158/200\n",
      "27/27 - 0s - loss: 0.0084 - val_loss: 0.0043 - 264ms/epoch - 10ms/step\n",
      "Epoch 159/200\n",
      "27/27 - 0s - loss: 0.0084 - val_loss: 0.0043 - 280ms/epoch - 10ms/step\n",
      "Epoch 160/200\n",
      "27/27 - 0s - loss: 0.0086 - val_loss: 0.0046 - 334ms/epoch - 12ms/step\n",
      "Epoch 161/200\n",
      "27/27 - 0s - loss: 0.0088 - val_loss: 0.0043 - 305ms/epoch - 11ms/step\n",
      "Epoch 162/200\n",
      "27/27 - 0s - loss: 0.0083 - val_loss: 0.0049 - 272ms/epoch - 10ms/step\n",
      "Epoch 163/200\n",
      "27/27 - 0s - loss: 0.0083 - val_loss: 0.0044 - 305ms/epoch - 11ms/step\n",
      "Epoch 164/200\n",
      "27/27 - 0s - loss: 0.0091 - val_loss: 0.0050 - 284ms/epoch - 11ms/step\n",
      "Epoch 165/200\n",
      "27/27 - 0s - loss: 0.0090 - val_loss: 0.0044 - 282ms/epoch - 10ms/step\n",
      "Epoch 166/200\n",
      "27/27 - 0s - loss: 0.0087 - val_loss: 0.0043 - 278ms/epoch - 10ms/step\n",
      "Epoch 167/200\n",
      "27/27 - 0s - loss: 0.0081 - val_loss: 0.0042 - 318ms/epoch - 12ms/step\n",
      "Epoch 168/200\n",
      "27/27 - 0s - loss: 0.0089 - val_loss: 0.0049 - 309ms/epoch - 11ms/step\n",
      "Epoch 169/200\n",
      "27/27 - 0s - loss: 0.0088 - val_loss: 0.0042 - 322ms/epoch - 12ms/step\n",
      "Epoch 170/200\n",
      "27/27 - 0s - loss: 0.0080 - val_loss: 0.0044 - 262ms/epoch - 10ms/step\n",
      "Epoch 171/200\n",
      "27/27 - 0s - loss: 0.0081 - val_loss: 0.0040 - 262ms/epoch - 10ms/step\n",
      "Epoch 172/200\n",
      "27/27 - 0s - loss: 0.0083 - val_loss: 0.0039 - 325ms/epoch - 12ms/step\n",
      "Epoch 173/200\n",
      "27/27 - 0s - loss: 0.0085 - val_loss: 0.0043 - 280ms/epoch - 10ms/step\n",
      "Epoch 174/200\n",
      "27/27 - 0s - loss: 0.0084 - val_loss: 0.0038 - 335ms/epoch - 12ms/step\n",
      "Epoch 175/200\n",
      "27/27 - 0s - loss: 0.0080 - val_loss: 0.0040 - 280ms/epoch - 10ms/step\n",
      "Epoch 176/200\n",
      "27/27 - 0s - loss: 0.0081 - val_loss: 0.0040 - 270ms/epoch - 10ms/step\n",
      "Epoch 177/200\n",
      "27/27 - 0s - loss: 0.0079 - val_loss: 0.0044 - 279ms/epoch - 10ms/step\n",
      "Epoch 178/200\n",
      "27/27 - 0s - loss: 0.0084 - val_loss: 0.0036 - 285ms/epoch - 11ms/step\n",
      "Epoch 179/200\n",
      "27/27 - 0s - loss: 0.0080 - val_loss: 0.0039 - 304ms/epoch - 11ms/step\n",
      "Epoch 180/200\n",
      "27/27 - 0s - loss: 0.0087 - val_loss: 0.0042 - 344ms/epoch - 13ms/step\n",
      "Epoch 181/200\n",
      "27/27 - 0s - loss: 0.0091 - val_loss: 0.0042 - 276ms/epoch - 10ms/step\n",
      "Epoch 182/200\n",
      "27/27 - 0s - loss: 0.0088 - val_loss: 0.0045 - 296ms/epoch - 11ms/step\n",
      "Epoch 183/200\n",
      "27/27 - 0s - loss: 0.0086 - val_loss: 0.0046 - 302ms/epoch - 11ms/step\n",
      "Epoch 184/200\n",
      "27/27 - 0s - loss: 0.0086 - val_loss: 0.0049 - 304ms/epoch - 11ms/step\n",
      "Epoch 185/200\n",
      "27/27 - 0s - loss: 0.0084 - val_loss: 0.0038 - 288ms/epoch - 11ms/step\n",
      "Epoch 186/200\n",
      "27/27 - 0s - loss: 0.0082 - val_loss: 0.0036 - 268ms/epoch - 10ms/step\n",
      "Epoch 187/200\n",
      "27/27 - 0s - loss: 0.0081 - val_loss: 0.0042 - 278ms/epoch - 10ms/step\n",
      "Epoch 188/200\n",
      "27/27 - 0s - loss: 0.0087 - val_loss: 0.0039 - 270ms/epoch - 10ms/step\n",
      "Epoch 189/200\n",
      "27/27 - 0s - loss: 0.0090 - val_loss: 0.0041 - 296ms/epoch - 11ms/step\n",
      "Epoch 190/200\n",
      "27/27 - 0s - loss: 0.0078 - val_loss: 0.0038 - 264ms/epoch - 10ms/step\n",
      "Epoch 191/200\n",
      "27/27 - 0s - loss: 0.0081 - val_loss: 0.0038 - 265ms/epoch - 10ms/step\n",
      "Epoch 192/200\n",
      "27/27 - 0s - loss: 0.0083 - val_loss: 0.0043 - 268ms/epoch - 10ms/step\n",
      "Epoch 193/200\n",
      "27/27 - 0s - loss: 0.0087 - val_loss: 0.0039 - 265ms/epoch - 10ms/step\n",
      "Epoch 194/200\n",
      "27/27 - 0s - loss: 0.0084 - val_loss: 0.0040 - 263ms/epoch - 10ms/step\n",
      "Epoch 195/200\n",
      "27/27 - 0s - loss: 0.0078 - val_loss: 0.0034 - 263ms/epoch - 10ms/step\n"
     ]
    },
    {
     "name": "stdout",
     "output_type": "stream",
     "text": [
      "Epoch 196/200\n",
      "27/27 - 0s - loss: 0.0078 - val_loss: 0.0040 - 265ms/epoch - 10ms/step\n",
      "Epoch 197/200\n",
      "27/27 - 0s - loss: 0.0083 - val_loss: 0.0037 - 256ms/epoch - 9ms/step\n",
      "Epoch 198/200\n",
      "27/27 - 0s - loss: 0.0078 - val_loss: 0.0038 - 258ms/epoch - 10ms/step\n",
      "Epoch 199/200\n",
      "27/27 - 0s - loss: 0.0079 - val_loss: 0.0037 - 257ms/epoch - 10ms/step\n",
      "Epoch 200/200\n",
      "27/27 - 0s - loss: 0.0078 - val_loss: 0.0032 - 256ms/epoch - 9ms/step\n"
     ]
    },
    {
     "data": {
      "image/png": "[encoded data removed]",
      "text/plain": [
       "<Figure size 432x288 with 1 Axes>"
      ]
     },
     "metadata": {
      "needs_background": "light"
     },
     "output_type": "display_data"
    },
    {
     "name": "stdout",
     "output_type": "stream",
     "text": [
      "Normalized Test RMSE:  0.043474775077942424 0.028541150940250806 0.03308629420267199 0.09506633621202581\n",
      "Test RMSE:  86.08005222248067 55.7123304981155 113.38672675709225 0.09506633621202581\n",
      "Test R-squared:  0.9803567806547433 0.9930628121261265 0.9412389854615365 0.9591595395773522\n",
      "Model: \"sequential_5\"\n",
      "_________________________________________________________________\n",
      " Layer (type)                Output Shape              Param #   \n",
      "=================================================================\n",
      " lstm_15 (LSTM)              (None, 3, 50)             11400     \n",
      "                                                                 \n",
      " dropout_15 (Dropout)        (None, 3, 50)             0         \n",
      "                                                                 \n",
      " lstm_16 (LSTM)              (None, 3, 20)             5680      \n",
      "                                                                 \n",
      " dropout_16 (Dropout)        (None, 3, 20)             0         \n",
      "                                                                 \n",
      " lstm_17 (LSTM)              (None, 20)                3280      \n",
      "                                                                 \n",
      " dropout_17 (Dropout)        (None, 20)                0         \n",
      "                                                                 \n",
      " dense_5 (Dense)             (None, 4)                 84        \n",
      "                                                                 \n",
      "=================================================================\n",
      "Total params: 20,444\n",
      "Trainable params: 20,444\n",
      "Non-trainable params: 0\n",
      "_________________________________________________________________\n",
      "Model saved to disk\n"
     ]
    }
   ],
   "source": [
    "#from numpy import array\n",
    "\n",
    "from math import sqrt\n",
    "from numpy import concatenate\n",
    "from matplotlib import pyplot\n",
    "from pandas import read_csv\n",
    "from pandas import DataFrame\n",
    "from pandas import concat\n",
    "from sklearn.preprocessing import MinMaxScaler\n",
    "from sklearn.preprocessing import LabelEncoder\n",
    "from sklearn.metrics import mean_squared_error\n",
    "from sklearn.metrics import mean_absolute_error, r2_score\n",
    "from keras.models import Sequential\n",
    "from keras.layers import Dense\n",
    "from keras.layers.core import Dropout\n",
    "from keras.layers import LSTM\n",
    "\n",
    "# convert series to supervised learning\n",
    "def series_to_supervised(data, n_in=1, n_out=1, dropnan=True):\n",
    "\tn_vars = 1 if type(data) is list else data.shape[1]\n",
    "\tdf = DataFrame(data)\n",
    "\tcols, names = list(), list()\n",
    "\t# input sequence (t-n, ... t-1)\n",
    "\tfor i in range(n_in, 0, -1):\n",
    "\t\tcols.append(df.shift(i))\n",
    "\t\tnames += [('var%d(t-%d)' % (j+1, i)) for j in range(n_vars)]\n",
    "\t# forecast sequence (t, t+1, ... t+n)\n",
    "\tfor i in range(0, n_out):\n",
    "\t\tcols.append(df.shift(-i))\n",
    "\t\tif i == 0:\n",
    "\t\t\tnames += [('var%d(t)' % (j+1)) for j in range(n_vars)]\n",
    "\t\telse:\n",
    "\t\t\tnames += [('var%d(t+%d)' % (j+1, i)) for j in range(n_vars)]\n",
    "\t# put it all together\n",
    "\tagg = concat(cols, axis=1)\n",
    "\tagg.columns = names\n",
    "\t# drop rows with NaN values\n",
    "\tif dropnan:\n",
    "\t\tagg.dropna(inplace=True)\n",
    "\treturn agg\n",
    "\n",
    "#load dataset\n",
    "dataset = read_csv('phy_cps.csv', header=0, index_col=0)\n",
    "values = dataset.values\n",
    " \n",
    "#integer encode wind direction, as it's the only categorical variable.\n",
    "#encoder = LabelEncoder()\n",
    "#values[:,4] = encoder.fit_transform(values[:,4])\n",
    " \n",
    "#ensure all data are float32 values\n",
    "values = values.astype('float32')\n",
    " \n",
    "#normalize input features\n",
    "scaler = MinMaxScaler(feature_range=(0, 1))\n",
    "scaled = scaler.fit_transform(values)\n",
    " \n",
    "#frame as supervised learning\n",
    "n_hours = 3\n",
    "n_features = 6 \n",
    "reframed = series_to_supervised(scaled, n_hours, 1)\n",
    "values = reframed.values\n",
    "n_train_hours = 1936\n",
    "train = values[:n_train_hours, :]\n",
    "test = values[n_train_hours:, :]\n",
    " \n",
    "\n",
    "#split into input and outputs\n",
    "n_obs = n_hours * n_features\n",
    "train_X = train[:, :n_obs]\n",
    "train_y = train[:, -n_features:(-n_features+4)] #+2 because of indexing madness.\n",
    "test_X = test[:, :n_obs]\n",
    "test_y = test[:, -n_features:(-n_features+4)]\n",
    " \n",
    "train_X = train_X.reshape((train_X.shape[0], n_hours, n_features))\n",
    "test_X = test_X.reshape((test_X.shape[0], n_hours, n_features))\n",
    " \n",
    "\n",
    "#Need to output four values, not one.\n",
    "#design network\n",
    "model = Sequential()\n",
    "model.add(LSTM(50, activation='relu',return_sequences=True, input_shape=(train_X.shape[1], train_X.shape[2])))\n",
    "model.add(Dropout(0.1))\n",
    "model.add(LSTM(20, activation='relu', return_sequences=True))\n",
    "model.add(Dropout(0.1))\n",
    "model.add(LSTM(20, activation='relu'))\n",
    "model.add(Dropout(0.1))\n",
    "model.add(Dense(4))\n",
    "\n",
    "model.compile(loss='mse', optimizer='adam')\n",
    " \n",
    "#fit network\n",
    "history = model.fit(train_X, train_y, epochs=200, batch_size=72, validation_data=(test_X, test_y), verbose=2, shuffle=False)\n",
    "\n",
    "# Plot history\n",
    "pyplot.xlabel('Epochs')\n",
    "pyplot.ylabel('Loss')\n",
    "pyplot.title('Model Train vs Testing Loss')\n",
    "pyplot.plot(history.history['loss'], label='train')\n",
    "pyplot.plot(history.history['val_loss'], label='test')\n",
    "pyplot.legend()\n",
    "pyplot.show()\n",
    " \n",
    "\n",
    "#make a prediction\n",
    "y_hat = model.predict(test_X)\n",
    " \n",
    "#calculate RMSE - CHANGED to output RMSE for each variable.\n",
    "norm_rmse_1 = sqrt(mean_squared_error(y_hat[:,0], test_y[:,0])) #RMSE for the first variable (Tank_1)\n",
    "norm_rmse_2 = sqrt(mean_squared_error(y_hat[:,1], test_y[:,1])) #RMSE for the second variable (Tank_2)\n",
    "norm_rmse_3 = sqrt(mean_squared_error(y_hat[:,2], test_y[:,2])) #RMSE for the third variable (Tank_3)\n",
    "norm_rmse_4 = sqrt(mean_squared_error(y_hat[:,3], test_y[:,3])) #RMSE for the fourth variable (Pump_1)\n",
    "print('Normalized Test RMSE: ', norm_rmse_1, norm_rmse_2, norm_rmse_3, norm_rmse_4)\n",
    "    \n",
    "test_X = test_X.reshape((test_X.shape[0], n_hours*n_features))\n",
    "inv_yhat = concatenate((y_hat, test_X[:,-2:]), axis=1) #changed 7 to 6\n",
    "inv_yhat = scaler.inverse_transform(inv_yhat)\n",
    "inv_yhat = inv_yhat[:,0:4] #changed from 0 to 0:2. Should be first 2 columns that contain the predictions\n",
    " \n",
    "\n",
    "#invert scaling for actual\n",
    "test_y = test_y.reshape((len(test_y),4)) #changed 1 to 2\n",
    "inv_y = concatenate((test_y, test_X[:,-2:]), axis=1) #changed 7 to 6\n",
    "inv_y = scaler.inverse_transform(inv_y)\n",
    "inv_y = inv_y[:,0:4] #changed from 0 to 0:2. Should be first 2 columns that contain the predictions.\n",
    " \n",
    "\n",
    "    \n",
    "#calculate RMSE - CHANGED to output RMSE for each variable.\n",
    "rmse_1 = sqrt(mean_squared_error(inv_y[:,0], inv_yhat[:,0])) #RMSE for the first variable (Tank_1)\n",
    "rmse_2 = sqrt(mean_squared_error(inv_y[:,1], inv_yhat[:,1])) #RMSE for the second variable (Tank_2)\n",
    "rmse_3 = sqrt(mean_squared_error(inv_y[:,2], inv_yhat[:,2])) #RMSE for the third variable (Tank_3)\n",
    "rmse_4 = sqrt(mean_squared_error(inv_y[:,3], inv_yhat[:,3])) #RMSE for the fourth variable (Pump_1)\n",
    "\n",
    "r_sq1 = r2_score(inv_y[:,0], inv_yhat[:,0])\n",
    "r_sq2 = r2_score(inv_y[:,1], inv_yhat[:,1])\n",
    "r_sq3 = r2_score(inv_y[:,2], inv_yhat[:,2])\n",
    "r_sq4 = r2_score(inv_y[:,3], inv_yhat[:,3])\n",
    "\n",
    "print('Test RMSE: ', rmse_1, rmse_2, rmse_3, rmse_4)\n",
    "\n",
    "print(\"Test R-squared: \", r_sq1, r_sq2, r_sq3, r_sq4)\n",
    "model.summary()\n",
    "\n",
    "# Save the model to disk\n",
    "model.save('multi_lstm_model.h5')\n",
    "print('Model saved to disk')\n"
   ]
  },
  {
   "cell_type": "code",
   "execution_count": 13,
   "id": "6258c50c",
   "metadata": {},
   "outputs": [
    {
     "data": {
      "text/plain": [
       "(481, 4)"
      ]
     },
     "execution_count": 13,
     "metadata": {},
     "output_type": "execute_result"
    }
   ],
   "source": [
    "y_hat.shape"
   ]
  },
  {
   "cell_type": "code",
   "execution_count": 4,
   "id": "f09280d1",
   "metadata": {},
   "outputs": [
    {
     "data": {
      "image/png": "[encoded data removed]",
      "text/plain": [
       "<Figure size 432x288 with 1 Axes>"
      ]
     },
     "metadata": {
      "needs_background": "light"
     },
     "output_type": "display_data"
    }
   ],
   "source": [
    "pyplot.plot(inv_yhat[0:500,0], label='predicted')\n",
    "pyplot.plot(inv_y[0:500,0], label='actual')\n",
    "pyplot.legend()\n",
    "pyplot.show()"
   ]
  },
  {
   "cell_type": "code",
   "execution_count": null,
   "id": "95bd0570",
   "metadata": {},
   "outputs": [],
   "source": []
  },
  {
   "cell_type": "code",
   "execution_count": 5,
   "id": "7024b45c",
   "metadata": {},
   "outputs": [
    {
     "data": {
      "image/png": "[encoded data removed]",
      "text/plain": [
       "<Figure size 432x288 with 1 Axes>"
      ]
     },
     "metadata": {
      "needs_background": "light"
     },
     "output_type": "display_data"
    }
   ],
   "source": [
    "pyplot.plot(inv_yhat[0:500,1], label='predicted')\n",
    "pyplot.plot(inv_y[0:500,1], label='actual')\n",
    "pyplot.legend()\n",
    "pyplot.show()"
   ]
  },
  {
   "cell_type": "code",
   "execution_count": 6,
   "id": "1883f0ec",
   "metadata": {},
   "outputs": [
    {
     "data": {
      "image/png": "[encoded data removed]",
      "text/plain": [
       "<Figure size 432x288 with 1 Axes>"
      ]
     },
     "metadata": {
      "needs_background": "light"
     },
     "output_type": "display_data"
    }
   ],
   "source": [
    "pyplot.plot(inv_yhat[0:500,2], label='predicted')\n",
    "pyplot.plot(inv_y[0:500,2], label='actual')\n",
    "pyplot.legend()\n",
    "pyplot.show()"
   ]
  },
  {
   "cell_type": "code",
   "execution_count": 7,
   "id": "fe61ecef",
   "metadata": {},
   "outputs": [
    {
     "data": {
      "image/png": "[encoded data removed]",
      "text/plain": [
       "<Figure size 432x288 with 1 Axes>"
      ]
     },
     "metadata": {
      "needs_background": "light"
     },
     "output_type": "display_data"
    }
   ],
   "source": [
    "pyplot.plot(inv_yhat[0:500,3], label='predicted')\n",
    "pyplot.plot(inv_y[0:500,3], label='actual')\n",
    "pyplot.legend()\n",
    "pyplot.show()"
   ]
  },
  {
   "cell_type": "code",
   "execution_count": null,
   "id": "a6796597",
   "metadata": {},
   "outputs": [],
   "source": []
  },
  {
   "cell_type": "markdown",
   "id": "5f539b08",
   "metadata": {},
   "source": [
    "### Load saved model"
   ]
  },
  {
   "cell_type": "code",
   "execution_count": 8,
   "id": "58fe9999",
   "metadata": {},
   "outputs": [
    {
     "name": "stdout",
     "output_type": "stream",
     "text": [
      "Normalized Test RMSE:  0.34665625049725524 0.3342687946176971 0.14814945557267675 0.6620504077320962\n"
     ]
    }
   ],
   "source": [
    "from keras.models import load_model\n",
    "\n",
    "model = load_model('multi_lstm_model.h5')\n",
    "\n",
    "#split into input and outputs\n",
    "# n_obs = n_hours * n_features\n",
    "\n",
    "test_X = out_test[:, :n_obs]\n",
    "test_y = out_test[:, -n_features:(-n_features+4)]\n",
    "\n",
    "test_X = test_X.reshape((test_X.shape[0], n_hours, n_features))\n",
    "\n",
    "# Make a prediction\n",
    "yhat = model.predict(test_X)\n",
    "\n",
    "#calculate RMSE - CHANGED to output RMSE for each variable.\n",
    "norm_rmse_1 = sqrt(mean_squared_error(y_hat[:241,0], test_y[:,0])) #RMSE for the first variable (Tank_1)\n",
    "norm_rmse_2 = sqrt(mean_squared_error(y_hat[:241,1], test_y[:,1])) #RMSE for the second variable (Tank_2)\n",
    "norm_rmse_3 = sqrt(mean_squared_error(y_hat[:241,2], test_y[:,2])) #RMSE for the third variable (Tank_3)\n",
    "norm_rmse_4 = sqrt(mean_squared_error(y_hat[:241,3], test_y[:,3])) #RMSE for the fourth variable (Pump_1)\n",
    "print('Normalized Test RMSE: ', norm_rmse_1, norm_rmse_2, norm_rmse_3, norm_rmse_4)\n",
    "    \n",
    "# test_X = test_X.reshape((test_X.shape[0], n_hours*n_features))\n",
    "# inv_yhat = concatenate((y_hat, test_X[:,-2:]), axis=1) #changed 7 to 6\n",
    "# inv_yhat = scaler.inverse_transform(inv_yhat)\n",
    "# inv_yhat = inv_yhat[:,0:4] #changed from 0 to 0:2. Should be first 2 columns that contain the predictions\n",
    " \n",
    "\n",
    "# #invert scaling for actual\n",
    "# test_y = test_y.reshape((len(test_y),4)) #changed 1 to 2\n",
    "# inv_y = concatenate((test_y, test_X[:,-2:]), axis=1) #changed 7 to 6\n",
    "# inv_y = scaler.inverse_transform(inv_y)\n",
    "# inv_y = inv_y[:,0:4] #changed from 0 to 0:2. Should be first 2 columns that contain the predictions.\n",
    " \n",
    "\n",
    "    \n",
    "# #calculate RMSE - CHANGED to output RMSE for each variable.\n",
    "# rmse_1 = sqrt(mean_squared_error(inv_y[:,0], inv_yhat[:,0])) #RMSE for the first variable (Tank_1)\n",
    "# rmse_2 = sqrt(mean_squared_error(inv_y[:,1], inv_yhat[:,1])) #RMSE for the second variable (Tank_2)\n",
    "# rmse_3 = sqrt(mean_squared_error(inv_y[:,2], inv_yhat[:,2])) #RMSE for the third variable (Tank_3)\n",
    "# rmse_4 = sqrt(mean_squared_error(inv_y[:,3], inv_yhat[:,3])) #RMSE for the fourth variable (Pump_1)\n",
    "\n",
    "# r_sq1 = r2_score(inv_y[:,0], inv_yhat[:,0])\n",
    "# r_sq2 = r2_score(inv_y[:,1], inv_yhat[:,1])\n",
    "# r_sq3 = r2_score(inv_y[:,2], inv_yhat[:,2])\n",
    "# r_sq4 = r2_score(inv_y[:,3], inv_yhat[:,3])\n",
    "\n",
    "# print('Test RMSE: ', rmse_1, rmse_2, rmse_3, rmse_4)\n",
    "\n",
    "# print(\"Test R-squared: \", r_sq1, r_sq2, r_sq3, r_sq4)\n"
   ]
  },
  {
   "cell_type": "code",
   "execution_count": 51,
   "id": "8375f781",
   "metadata": {},
   "outputs": [
    {
     "data": {
      "image/png": "[encoded data removed]",
      "text/plain": [
       "<Figure size 432x288 with 1 Axes>"
      ]
     },
     "metadata": {
      "needs_background": "light"
     },
     "output_type": "display_data"
    }
   ],
   "source": [
    "pyplot.plot(yhat[:,])\n",
    "# pyplot.legend()\n",
    "pyplot.show()"
   ]
  },
  {
   "cell_type": "code",
   "execution_count": null,
   "id": "c34db1f6",
   "metadata": {},
   "outputs": [],
   "source": []
  },
  {
   "cell_type": "code",
   "execution_count": 54,
   "id": "263bebbc",
   "metadata": {},
   "outputs": [
    {
     "name": "stderr",
     "output_type": "stream",
     "text": [
      "C:\\Users\\hayatu4islam\\AppData\\Local\\Temp\\ipykernel_19904\\2972093989.py:24: SettingWithCopyWarning: \n",
      "A value is trying to be set on a copy of a slice from a DataFrame\n",
      "\n",
      "See the caveats in the documentation: https://pandas.pydata.org/pandas-docs/stable/user_guide/indexing.html#returning-a-view-versus-a-copy\n",
      "  results[\"Tank_1\"].iloc[i] = random.choice(fault_data)\n"
     ]
    },
    {
     "name": "stdout",
     "output_type": "stream",
     "text": [
      "File saved\n"
     ]
    }
   ],
   "source": [
    "from pandas import DataFrame\n",
    "from pandas import read_csv\n",
    "from numpy import mean\n",
    "from random import seed\n",
    "from random import randint\n",
    "from random import random\n",
    "from matplotlib import pyplot\n",
    "import numpy\n",
    "import random\n",
    "#seed(1)\n",
    "# load results file\n",
    "results = read_csv('phy_cps.csv', header=0)\n",
    "#values = results.values\n",
    "#results.drop(\"wnd_dir\", axis=1, inplace=True)\n",
    "# results[\"annot\"] = \"clean\"\n",
    "#print(results.describe())\n",
    "\n",
    "fault_data = [-30.5, -20.5, 0, 15.5, 25.5]# -40<x<28\n",
    "n = len(results)\n",
    "\n",
    "for i in range(n):\n",
    "    p = random.random()\n",
    "    if p > 0.8:\n",
    "        results[\"Tank_1\"].iloc[i] = random.choice(fault_data)\n",
    "        #results[\"annot\"].iloc[i] = \"random\"\n",
    "\n",
    "\n",
    "results.to_csv(\"faulty_phy_cps.csv\")        \n",
    "print(\"File saved\")\n"
   ]
  },
  {
   "cell_type": "code",
   "execution_count": 13,
   "id": "c796d057",
   "metadata": {},
   "outputs": [
    {
     "name": "stdout",
     "output_type": "stream",
     "text": [
      "Epoch 1/20\n",
      "27/27 - 15s - loss: 0.2033 - val_loss: 0.1409 - 15s/epoch - 550ms/step\n",
      "Epoch 2/20\n",
      "27/27 - 0s - loss: 0.1239 - val_loss: 0.1015 - 348ms/epoch - 13ms/step\n",
      "Epoch 3/20\n",
      "27/27 - 0s - loss: 0.0976 - val_loss: 0.0887 - 342ms/epoch - 13ms/step\n",
      "Epoch 4/20\n",
      "27/27 - 0s - loss: 0.0884 - val_loss: 0.0835 - 338ms/epoch - 13ms/step\n",
      "Epoch 5/20\n",
      "27/27 - 0s - loss: 0.0761 - val_loss: 0.0792 - 337ms/epoch - 12ms/step\n",
      "Epoch 6/20\n",
      "27/27 - 0s - loss: 0.0693 - val_loss: 0.0766 - 336ms/epoch - 12ms/step\n",
      "Epoch 7/20\n",
      "27/27 - 0s - loss: 0.0643 - val_loss: 0.0713 - 337ms/epoch - 12ms/step\n",
      "Epoch 8/20\n",
      "27/27 - 0s - loss: 0.0598 - val_loss: 0.0665 - 345ms/epoch - 13ms/step\n",
      "Epoch 9/20\n",
      "27/27 - 0s - loss: 0.0575 - val_loss: 0.0647 - 344ms/epoch - 13ms/step\n",
      "Epoch 10/20\n",
      "27/27 - 0s - loss: 0.0566 - val_loss: 0.0645 - 336ms/epoch - 12ms/step\n",
      "Epoch 11/20\n",
      "27/27 - 0s - loss: 0.0552 - val_loss: 0.0617 - 342ms/epoch - 13ms/step\n",
      "Epoch 12/20\n",
      "27/27 - 0s - loss: 0.0514 - val_loss: 0.0594 - 337ms/epoch - 12ms/step\n",
      "Epoch 13/20\n",
      "27/27 - 0s - loss: 0.0502 - val_loss: 0.0561 - 336ms/epoch - 12ms/step\n",
      "Epoch 14/20\n",
      "27/27 - 0s - loss: 0.0478 - val_loss: 0.0530 - 338ms/epoch - 13ms/step\n",
      "Epoch 15/20\n",
      "27/27 - 0s - loss: 0.0464 - val_loss: 0.0501 - 355ms/epoch - 13ms/step\n",
      "Epoch 16/20\n",
      "27/27 - 0s - loss: 0.0439 - val_loss: 0.0480 - 338ms/epoch - 13ms/step\n",
      "Epoch 17/20\n",
      "27/27 - 0s - loss: 0.0430 - val_loss: 0.0462 - 340ms/epoch - 13ms/step\n",
      "Epoch 18/20\n",
      "27/27 - 0s - loss: 0.0400 - val_loss: 0.0439 - 336ms/epoch - 12ms/step\n",
      "Epoch 19/20\n",
      "27/27 - 0s - loss: 0.0398 - val_loss: 0.0417 - 338ms/epoch - 13ms/step\n",
      "Epoch 20/20\n",
      "27/27 - 0s - loss: 0.0385 - val_loss: 0.0412 - 338ms/epoch - 13ms/step\n"
     ]
    },
    {
     "data": {
      "image/png": "[encoded data removed]",
      "text/plain": [
       "<Figure size 432x288 with 1 Axes>"
      ]
     },
     "metadata": {
      "needs_background": "light"
     },
     "output_type": "display_data"
    },
    {
     "name": "stdout",
     "output_type": "stream",
     "text": [
      "The size of test_X is (479, 5, 6)\n",
      "Normalized Test RMSE:  0.31413622697712895 0.17623974556378738 0.06731449340261264 0.1752601635342074\n",
      "Test RMSE:  631.5708837889853 344.0200075940351 230.68676340982375 0.1752601635342074\n",
      "Test R-squared:  -0.11152280307992135 0.7354785994007851 0.753211204535601 0.8614870544091571\n",
      "Model: \"sequential_4\"\n",
      "_________________________________________________________________\n",
      " Layer (type)                Output Shape              Param #   \n",
      "=================================================================\n",
      " lstm_12 (LSTM)              (None, 5, 50)             11400     \n",
      "                                                                 \n",
      " dropout_12 (Dropout)        (None, 5, 50)             0         \n",
      "                                                                 \n",
      " lstm_13 (LSTM)              (None, 5, 20)             5680      \n",
      "                                                                 \n",
      " dropout_13 (Dropout)        (None, 5, 20)             0         \n",
      "                                                                 \n",
      " lstm_14 (LSTM)              (None, 20)                3280      \n",
      "                                                                 \n",
      " dropout_14 (Dropout)        (None, 20)                0         \n",
      "                                                                 \n",
      " dense_4 (Dense)             (None, 4)                 84        \n",
      "                                                                 \n",
      "=================================================================\n",
      "Total params: 20,444\n",
      "Trainable params: 20,444\n",
      "Non-trainable params: 0\n",
      "_________________________________________________________________\n",
      "Model saved to disk\n"
     ]
    }
   ],
   "source": [
    "#from numpy import array\n",
    "\n",
    "from math import sqrt\n",
    "from numpy import concatenate\n",
    "from matplotlib import pyplot\n",
    "from pandas import read_csv\n",
    "from pandas import DataFrame\n",
    "from pandas import concat\n",
    "from sklearn.preprocessing import MinMaxScaler\n",
    "from sklearn.preprocessing import LabelEncoder\n",
    "from sklearn.metrics import mean_squared_error\n",
    "from sklearn.metrics import mean_absolute_error, r2_score\n",
    "from keras.models import Sequential\n",
    "from keras.layers import Dense\n",
    "from keras.layers.core import Dropout\n",
    "from keras.layers import LSTM\n",
    "\n",
    "# convert series to supervised learning\n",
    "def series_to_supervised(data, n_in=1, n_out=1, dropnan=True):\n",
    "\tn_vars = 1 if type(data) is list else data.shape[1]\n",
    "\tdf = DataFrame(data)\n",
    "\tcols, names = list(), list()\n",
    "\t# input sequence (t-n, ... t-1)\n",
    "\tfor i in range(n_in, 0, -1):\n",
    "\t\tcols.append(df.shift(i))\n",
    "\t\tnames += [('var%d(t-%d)' % (j+1, i)) for j in range(n_vars)]\n",
    "\t# forecast sequence (t, t+1, ... t+n)\n",
    "\tfor i in range(0, n_out):\n",
    "\t\tcols.append(df.shift(-i))\n",
    "\t\tif i == 0:\n",
    "\t\t\tnames += [('var%d(t)' % (j+1)) for j in range(n_vars)]\n",
    "\t\telse:\n",
    "\t\t\tnames += [('var%d(t+%d)' % (j+1, i)) for j in range(n_vars)]\n",
    "\t# put it all together\n",
    "\tagg = concat(cols, axis=1)\n",
    "\tagg.columns = names\n",
    "\t# drop rows with NaN values\n",
    "\tif dropnan:\n",
    "\t\tagg.dropna(inplace=True)\n",
    "\treturn agg\n",
    "\n",
    "#load dataset\n",
    "dataset = read_csv('faulty_phy_cps.csv', header=0, index_col=0)\n",
    "#df = df.iloc[: , 1:]\n",
    "dataset = dataset.iloc[:, 1:]\n",
    "values = dataset.values\n",
    "\n",
    "#integer encode wind direction, as it's the only categorical variable.\n",
    "#encoder = LabelEncoder()\n",
    "#values[:,4] = encoder.fit_transform(values[:,4])\n",
    " \n",
    "#ensure all data are float32 values\n",
    "values = values.astype('float32')\n",
    " \n",
    "#normalize input features\n",
    "scaler = MinMaxScaler(feature_range=(0, 1))\n",
    "scaled = scaler.fit_transform(values)\n",
    " \n",
    "#frame as supervised learning\n",
    "n_hours = 5\n",
    "n_features = 6 \n",
    "reframed = series_to_supervised(scaled, n_hours, 1)\n",
    "values = reframed.values\n",
    "n_train_hours = 1936\n",
    "train = values[:n_train_hours, :]\n",
    "test = values[n_train_hours:, :]\n",
    " \n",
    "\n",
    "#split into input and outputs\n",
    "n_obs = n_hours * n_features\n",
    "train_X = train[:, :n_obs]\n",
    "train_y = train[:, -n_features:(-n_features+4)] #+2 because of indexing madness.\n",
    "test_X = test[:, :n_obs]\n",
    "test_y = test[:, -n_features:(-n_features+4)]\n",
    " \n",
    "train_X = train_X.reshape((train_X.shape[0], n_hours, n_features))\n",
    "test_X = test_X.reshape((test_X.shape[0], n_hours, n_features))\n",
    " \n",
    "\n",
    "#Need to output four values, not one.\n",
    "#design network\n",
    "model = Sequential()\n",
    "model.add(LSTM(50, activation='relu',return_sequences=True, input_shape=(train_X.shape[1], train_X.shape[2])))\n",
    "model.add(Dropout(0.1))\n",
    "model.add(LSTM(20, activation='relu', return_sequences=True))\n",
    "model.add(Dropout(0.1))\n",
    "model.add(LSTM(20, activation='relu'))\n",
    "model.add(Dropout(0.1))\n",
    "model.add(Dense(4))\n",
    "\n",
    "model.compile(loss='mse', optimizer='adam')\n",
    " \n",
    "#fit network\n",
    "history = model.fit(train_X, train_y, epochs=20, batch_size=72, validation_data=(test_X, test_y), verbose=2, shuffle=False)\n",
    "\n",
    "# Plot history\n",
    "pyplot.xlabel('Epochs')\n",
    "pyplot.ylabel('Loss')\n",
    "pyplot.title('Model Train vs Testing Loss')\n",
    "pyplot.plot(history.history['loss'], label='train')\n",
    "pyplot.plot(history.history['val_loss'], label='test')\n",
    "pyplot.legend()\n",
    "pyplot.show()\n",
    " \n",
    "\n",
    "#make a prediction\n",
    "y_hat = model.predict(test_X)\n",
    "print(f'The size of test_X is {test_X.shape}') \n",
    "#calculate RMSE - CHANGED to output RMSE for each variable.\n",
    "norm_rmse_1 = sqrt(mean_squared_error(y_hat[:,0], test_y[:,0])) #RMSE for the first variable (Tank_1)\n",
    "norm_rmse_2 = sqrt(mean_squared_error(y_hat[:,1], test_y[:,1])) #RMSE for the second variable (Tank_2)\n",
    "norm_rmse_3 = sqrt(mean_squared_error(y_hat[:,2], test_y[:,2])) #RMSE for the third variable (Tank_3)\n",
    "norm_rmse_4 = sqrt(mean_squared_error(y_hat[:,3], test_y[:,3])) #RMSE for the fourth variable (Pump_1)\n",
    "print('Normalized Test RMSE: ', norm_rmse_1, norm_rmse_2, norm_rmse_3, norm_rmse_4)\n",
    "    \n",
    "test_X = test_X.reshape((test_X.shape[0], n_hours*n_features))\n",
    "inv_yhat = concatenate((y_hat, test_X[:,-2:]), axis=1) #changed 7 to 6\n",
    "inv_yhat = scaler.inverse_transform(inv_yhat)\n",
    "inv_yhat = inv_yhat[:,0:4] #changed from 0 to 0:2. Should be first 2 columns that contain the predictions\n",
    " \n",
    "\n",
    "#invert scaling for actual\n",
    "test_y = test_y.reshape((len(test_y),4)) #changed 1 to 2\n",
    "inv_y = concatenate((test_y, test_X[:,-2:]), axis=1) #changed 7 to 6\n",
    "inv_y = scaler.inverse_transform(inv_y)\n",
    "inv_y = inv_y[:,0:4] #changed from 0 to 0:2. Should be first 2 columns that contain the predictions.\n",
    " \n",
    "\n",
    "    \n",
    "#calculate RMSE - CHANGED to output RMSE for each variable.\n",
    "rmse_1 = sqrt(mean_squared_error(inv_y[:,0], inv_yhat[:,0])) #RMSE for the first variable (Tank_1)\n",
    "rmse_2 = sqrt(mean_squared_error(inv_y[:,1], inv_yhat[:,1])) #RMSE for the second variable (Tank_2)\n",
    "rmse_3 = sqrt(mean_squared_error(inv_y[:,2], inv_yhat[:,2])) #RMSE for the third variable (Tank_3)\n",
    "rmse_4 = sqrt(mean_squared_error(inv_y[:,3], inv_yhat[:,3])) #RMSE for the fourth variable (Pump_1)\n",
    "\n",
    "r_sq1 = r2_score(inv_y[:,0], inv_yhat[:,0])\n",
    "r_sq2 = r2_score(inv_y[:,1], inv_yhat[:,1])\n",
    "r_sq3 = r2_score(inv_y[:,2], inv_yhat[:,2])\n",
    "r_sq4 = r2_score(inv_y[:,3], inv_yhat[:,3])\n",
    "\n",
    "print('Test RMSE: ', rmse_1, rmse_2, rmse_3, rmse_4)\n",
    "\n",
    "print(\"Test R-squared: \", r_sq1, r_sq2, r_sq3, r_sq4)\n",
    "model.summary()\n",
    "\n",
    "# Save the model to disk\n",
    "model.save('multi_lstm_model.h5')\n",
    "print('Model saved to disk')\n"
   ]
  },
  {
   "cell_type": "code",
   "execution_count": 14,
   "id": "4b17549a",
   "metadata": {},
   "outputs": [
    {
     "data": {
      "text/plain": [
       "964"
      ]
     },
     "execution_count": 14,
     "metadata": {},
     "output_type": "execute_result"
    }
   ],
   "source": [
    "yhat.size"
   ]
  },
  {
   "cell_type": "code",
   "execution_count": 6,
   "id": "2f194a9f",
   "metadata": {},
   "outputs": [],
   "source": [
    "# Algorithm to generate discrete random variable\n",
    "import numpy as np\n",
    "def multinomial(probs):\n",
    "    n, u, accum = 0, np.random.uniform(0,1), probs[0]\n",
    "    while u > accum:\n",
    "        n = n + 1\n",
    "        accum = accum + probs[n]\n",
    "    return n\n"
   ]
  },
  {
   "cell_type": "code",
   "execution_count": 5,
   "id": "9a7d2fe8",
   "metadata": {},
   "outputs": [
    {
     "name": "stdout",
     "output_type": "stream",
     "text": [
      "0\n"
     ]
    }
   ],
   "source": [
    "print(multinomial([2, 93]))"
   ]
  },
  {
   "cell_type": "code",
   "execution_count": 1,
   "id": "f771c33b",
   "metadata": {},
   "outputs": [
    {
     "name": "stdout",
     "output_type": "stream",
     "text": [
      "Animation\n"
     ]
    }
   ],
   "source": [
    "print(\"Animation\")"
   ]
  },
  {
   "cell_type": "code",
   "execution_count": null,
   "id": "93ae3e28",
   "metadata": {},
   "outputs": [],
   "source": []
  }
 ],
 "metadata": {
  "kernelspec": {
   "display_name": "Python 3 (ipykernel)",
   "language": "python",
   "name": "python3"
  },
  "language_info": {
   "codemirror_mode": {
    "name": "ipython",
    "version": 3
   },
   "file_extension": ".py",
   "mimetype": "text/x-python",
   "name": "python",
   "nbconvert_exporter": "python",
   "pygments_lexer": "ipython3",
   "version": "3.10.2"
  }
 },
 "nbformat": 4,
 "nbformat_minor": 5
}
