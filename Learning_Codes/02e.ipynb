{
 "cells": [
  {
   "cell_type": "markdown",
   "metadata": {},
   "source": [
    "# Segmenting Data with k-Means Clustering"
   ]
  },
  {
   "cell_type": "markdown",
   "metadata": {},
   "source": [
    "## Learning Objectives\n",
    "The primary objective of clustering is to group items within a dataset based on similarity. **k-Means Clustering** is one of the most popular and easy to use clustering approaches. With k-Means Clustering, similarity is based on a distance metric known as euclidean distance. By the end of this tutorial, you will have learned: \n",
    "+ How to import, explore and prepare data for k-Means Clustering\n",
    "+ How to segment data using k-Means Clustering\n",
    "+ How to evaluate and visualize clusters\n",
    "+ How to choose an appropriate number of clusters\n",
    "+ How to analyze the results of k-Means Clustering"
   ]
  },
  {
   "cell_type": "markdown",
   "metadata": {},
   "source": [
    "## 1. Collect the Data\n",
    "Let's import and preview it:"
   ]
  },
  {
   "cell_type": "code",
   "execution_count": null,
   "metadata": {
    "scrolled": false
   },
   "outputs": [],
   "source": [
    "import pandas as pd\n",
    "customers = pd.read_csv(\"mallcustomers.csv\")\n",
    "customers.head()"
   ]
  },
  {
   "cell_type": "markdown",
   "metadata": {},
   "source": [
    "## 2. Explore the Data\n",
    "Next, let's get a concise summary of the structure and the values within the dataset:"
   ]
  },
  {
   "cell_type": "code",
   "execution_count": null,
   "metadata": {
    "scrolled": true
   },
   "outputs": [],
   "source": [
    "customers.info()"
   ]
  },
  {
   "cell_type": "code",
   "execution_count": null,
   "metadata": {
    "scrolled": false
   },
   "outputs": [],
   "source": [
    "customers.describe(include = 'all').round(2)"
   ]
  },
  {
   "cell_type": "markdown",
   "metadata": {},
   "source": [
    "A visual exploration of the dataset can provide us with some additional insight."
   ]
  },
  {
   "cell_type": "code",
   "execution_count": null,
   "metadata": {},
   "outputs": [],
   "source": [
    "from matplotlib import pyplot as plt\n",
    "import seaborn as sns\n",
    "sns.set_theme()"
   ]
  },
  {
   "cell_type": "code",
   "execution_count": null,
   "metadata": {},
   "outputs": [],
   "source": [
    "ax = sns.boxplot(data = customers, \n",
    "                 x = 'Gender', \n",
    "                 y = 'Income', \n",
    "                 palette = 'colorblind')"
   ]
  },
  {
   "cell_type": "code",
   "execution_count": null,
   "metadata": {},
   "outputs": [],
   "source": [
    "ax = sns.boxplot(data = customers, \n",
    "                 x = 'Gender', \n",
    "                 y = 'Age', \n",
    "                 palette = 'colorblind')"
   ]
  },
  {
   "cell_type": "code",
   "execution_count": null,
   "metadata": {
    "scrolled": true
   },
   "outputs": [],
   "source": [
    "ax = sns.boxplot(data = customers, \n",
    "                 x = 'Gender', \n",
    "                 y = 'SpendingScore', \n",
    "                 palette = 'colorblind')"
   ]
  },
  {
   "cell_type": "code",
   "execution_count": null,
   "metadata": {
    "scrolled": true
   },
   "outputs": [],
   "source": [
    "ax = sns.scatterplot(data = customers, \n",
    "                     x = 'Age', \n",
    "                     y = 'Income',\n",
    "                     s = 150)"
   ]
  },
  {
   "cell_type": "code",
   "execution_count": null,
   "metadata": {
    "scrolled": false
   },
   "outputs": [],
   "source": [
    "ax = sns.scatterplot(data = customers, \n",
    "                     x = 'Age', \n",
    "                     y = 'SpendingScore',\n",
    "                     s = 150)"
   ]
  },
  {
   "cell_type": "code",
   "execution_count": null,
   "metadata": {},
   "outputs": [],
   "source": [
    "ax = sns.scatterplot(data = customers, \n",
    "                     x = 'Income', \n",
    "                     y = 'SpendingScore',\n",
    "                     s = 150)"
   ]
  },
  {
   "cell_type": "markdown",
   "metadata": {},
   "source": [
    "## 3. Prepare the Data"
   ]
  },
  {
   "cell_type": "code",
   "execution_count": null,
   "metadata": {
    "scrolled": true
   },
   "outputs": [],
   "source": [
    "customers[['Income', 'SpendingScore']].describe().round(2)"
   ]
  },
  {
   "cell_type": "code",
   "execution_count": null,
   "metadata": {},
   "outputs": [],
   "source": [
    "from sklearn.preprocessing import StandardScaler\n",
    "scaler = StandardScaler()\n",
    "customers_scaled = scaler.fit_transform(customers[['Income', 'SpendingScore']])"
   ]
  },
  {
   "cell_type": "code",
   "execution_count": null,
   "metadata": {},
   "outputs": [],
   "source": [
    "customers_scaled = pd.DataFrame(customers_scaled, \n",
    "                                columns = ['Income', 'SpendingScore'])"
   ]
  },
  {
   "cell_type": "code",
   "execution_count": null,
   "metadata": {
    "scrolled": true
   },
   "outputs": [],
   "source": [
    "customers_scaled.describe().round(2)"
   ]
  },
  {
   "cell_type": "markdown",
   "metadata": {},
   "source": [
    "## 3. Create the Clusters"
   ]
  },
  {
   "cell_type": "code",
   "execution_count": null,
   "metadata": {},
   "outputs": [],
   "source": [
    "from sklearn.cluster import KMeans\n",
    "km = KMeans(n_clusters = 3, n_init = 25, random_state = 1234)"
   ]
  },
  {
   "cell_type": "code",
   "execution_count": null,
   "metadata": {},
   "outputs": [],
   "source": [
    "km.fit(customers_scaled)"
   ]
  },
  {
   "cell_type": "code",
   "execution_count": null,
   "metadata": {},
   "outputs": [],
   "source": [
    "km.labels_"
   ]
  },
  {
   "cell_type": "code",
   "execution_count": null,
   "metadata": {},
   "outputs": [],
   "source": [
    "km.inertia_"
   ]
  },
  {
   "cell_type": "markdown",
   "metadata": {},
   "source": [
    "## 4. Evaluate and Visualize the Clusters "
   ]
  },
  {
   "cell_type": "code",
   "execution_count": null,
   "metadata": {},
   "outputs": [],
   "source": [
    "pd.Series(km.labels_).value_counts().sort_index()"
   ]
  },
  {
   "cell_type": "code",
   "execution_count": null,
   "metadata": {},
   "outputs": [],
   "source": [
    "km.cluster_centers_"
   ]
  },
  {
   "cell_type": "code",
   "execution_count": null,
   "metadata": {
    "scrolled": true
   },
   "outputs": [],
   "source": [
    "cluster_centers = pd.DataFrame(km.cluster_centers_, \n",
    "                               columns = ['Income', 'SpendingScore'])\n",
    "cluster_centers"
   ]
  },
  {
   "cell_type": "code",
   "execution_count": null,
   "metadata": {},
   "outputs": [],
   "source": [
    "# Set the figure size\n",
    "plt.figure(figsize=(10, 8))\n",
    "\n",
    "#Plot the Clusters\n",
    "ax = sns.scatterplot(data = customers_scaled,\n",
    "                     x = 'Income',\n",
    "                     y = 'SpendingScore', \n",
    "                     hue = km.labels_, \n",
    "                     palette = 'colorblind', \n",
    "                     alpha = 0.8, \n",
    "                     s = 150,\n",
    "                     legend = False)\n",
    "\n",
    "#Plot the Centroids\n",
    "ax = sns.scatterplot(data = cluster_centers, \n",
    "                     x = 'Income',\n",
    "                     y = 'SpendingScore', \n",
    "                     hue = cluster_centers.index, \n",
    "                     palette = 'colorblind', \n",
    "                     s = 600,\n",
    "                     marker = 'D',\n",
    "                     ec = 'black', \n",
    "                     legend = False)\n",
    "\n",
    "# Add Centroid Labels\n",
    "for i in range(len(cluster_centers)):\n",
    "               plt.text(x = cluster_centers.Income[i], \n",
    "                        y = cluster_centers.SpendingScore[i],\n",
    "                        s = i, \n",
    "                        horizontalalignment='center',\n",
    "                        verticalalignment='center',\n",
    "                        size = 15,\n",
    "                        weight = 'bold',\n",
    "                        color = 'white')"
   ]
  },
  {
   "cell_type": "markdown",
   "metadata": {},
   "source": [
    "## 5. Choose the right number of Clusters"
   ]
  },
  {
   "cell_type": "markdown",
   "metadata": {},
   "source": [
    "### The Within Cluster Sum of Squares (WCSS)"
   ]
  },
  {
   "cell_type": "code",
   "execution_count": null,
   "metadata": {},
   "outputs": [],
   "source": [
    "wcss = []\n",
    "for k in range(2, 11):\n",
    "    km = KMeans(n_clusters = k, n_init = 25, random_state = 1234)\n",
    "    km.fit(customers_scaled)\n",
    "    wcss.append(km.inertia_)\n",
    "\n",
    "wcss_series = pd.Series(wcss, index = range(2, 11))\n",
    "\n",
    "plt.figure(figsize=(8, 6))\n",
    "ax = sns.lineplot(y = wcss_series, x = wcss_series.index)\n",
    "ax = sns.scatterplot(y = wcss_series, x = wcss_series.index, s = 150)\n",
    "ax = ax.set(xlabel = 'Number of Clusters (k)', \n",
    "            ylabel = 'Within Cluster Sum of Squares (WCSS)')"
   ]
  },
  {
   "cell_type": "markdown",
   "metadata": {},
   "source": [
    "### The Average Silhouette Score"
   ]
  },
  {
   "cell_type": "code",
   "execution_count": null,
   "metadata": {},
   "outputs": [],
   "source": [
    "from sklearn.metrics import silhouette_score\n",
    "\n",
    "silhouette = []\n",
    "for k in range(2, 11):\n",
    "    km = KMeans(n_clusters = k, n_init = 25, random_state = 1234)\n",
    "    km.fit(customers_scaled)\n",
    "    silhouette.append(silhouette_score(customers_scaled, km.labels_))\n",
    "\n",
    "silhouette_series = pd.Series(silhouette, index = range(2, 11))\n",
    "\n",
    "plt.figure(figsize=(8, 6))\n",
    "ax = sns.lineplot(y = silhouette_series, x = silhouette_series.index)\n",
    "ax = sns.scatterplot(y = silhouette_series, x = silhouette_series.index, s = 150)\n",
    "ax = ax.set(xlabel = 'Number of Clusters (k)', \n",
    "            ylabel = 'Average Silhouette Score')"
   ]
  },
  {
   "cell_type": "markdown",
   "metadata": {},
   "source": [
    "### The Calinski Harabasz Score"
   ]
  },
  {
   "cell_type": "code",
   "execution_count": null,
   "metadata": {},
   "outputs": [],
   "source": [
    "from sklearn.metrics import calinski_harabasz_score\n",
    "\n",
    "calinski = []\n",
    "for k in range(2, 11):\n",
    "    km = KMeans(n_clusters = k, n_init = 25, random_state = 1234)\n",
    "    km.fit(customers_scaled)\n",
    "    calinski.append(calinski_harabasz_score(customers_scaled, km.labels_))\n",
    "\n",
    "calinski_series = pd.Series(calinski, index = range(2, 11))\n",
    "\n",
    "plt.figure(figsize=(8, 6))\n",
    "ax = sns.lineplot(y = calinski_series, x = calinski_series.index)\n",
    "ax = sns.scatterplot(y = calinski_series, x = calinski_series.index, s = 150)\n",
    "ax = ax.set(xlabel = 'Number of Clusters (k)', \n",
    "            ylabel = 'Calinski Harabasz Score')"
   ]
  },
  {
   "cell_type": "markdown",
   "metadata": {},
   "source": [
    "## 6. Analyze and Interpret the Clusters"
   ]
  },
  {
   "cell_type": "code",
   "execution_count": null,
   "metadata": {},
   "outputs": [],
   "source": [
    "km = KMeans(n_clusters = 5, n_init = 25, random_state = 1234)\n",
    "km.fit(customers_scaled)"
   ]
  },
  {
   "cell_type": "code",
   "execution_count": null,
   "metadata": {
    "scrolled": true
   },
   "outputs": [],
   "source": [
    "pd.Series(km.labels_).value_counts().sort_index()"
   ]
  },
  {
   "cell_type": "code",
   "execution_count": null,
   "metadata": {},
   "outputs": [],
   "source": [
    "cluster_centers = pd.DataFrame(km.cluster_centers_, columns = ['Income', 'SpendingScore'])"
   ]
  },
  {
   "cell_type": "code",
   "execution_count": null,
   "metadata": {},
   "outputs": [],
   "source": [
    "# Set the figure size\n",
    "plt.figure(figsize=(10, 8))\n",
    "\n",
    "#Plot the Clusters\n",
    "ax = sns.scatterplot(data = customers_scaled,\n",
    "                     x = 'Income',\n",
    "                     y = 'SpendingScore', \n",
    "                     hue = km.labels_, \n",
    "                     palette = 'colorblind', \n",
    "                     alpha = 0.8, \n",
    "                     s = 150,\n",
    "                     legend = False)\n",
    "\n",
    "#Plot the Centroids\n",
    "ax = sns.scatterplot(data = cluster_centers, \n",
    "                     x = 'Income',\n",
    "                     y = 'SpendingScore', \n",
    "                     hue = cluster_centers.index, \n",
    "                     palette = 'colorblind', \n",
    "                     s = 600,\n",
    "                     marker = 'D',\n",
    "                     ec = 'black', \n",
    "                     legend = False)\n",
    "\n",
    "\n",
    "# Add Centroid Labels\n",
    "for i in range(len(cluster_centers)):\n",
    "               plt.text(x = cluster_centers.Income[i], \n",
    "                        y = cluster_centers.SpendingScore[i],\n",
    "                        s = i, \n",
    "                        horizontalalignment='center',\n",
    "                        verticalalignment='center',\n",
    "                        size = 15,\n",
    "                        weight = 'bold',\n",
    "                        color = 'white')"
   ]
  },
  {
   "cell_type": "code",
   "execution_count": null,
   "metadata": {
    "scrolled": false
   },
   "outputs": [],
   "source": [
    "customers['Cluster'] = km.labels_.tolist()\n",
    "customers.head(10)"
   ]
  },
  {
   "cell_type": "code",
   "execution_count": null,
   "metadata": {},
   "outputs": [],
   "source": [
    "customers = pd.get_dummies(customers, columns = ['Gender'])\n",
    "customers.head(10)"
   ]
  },
  {
   "cell_type": "code",
   "execution_count": null,
   "metadata": {},
   "outputs": [],
   "source": [
    "customers.agg({\n",
    "    'Gender_Female': 'mean',\n",
    "    'Gender_Male': 'mean',\n",
    "    'Age': 'median',\n",
    "    'Income': 'median',\n",
    "    'SpendingScore': 'median'}).round(2)"
   ]
  },
  {
   "cell_type": "code",
   "execution_count": null,
   "metadata": {},
   "outputs": [],
   "source": [
    "customers.groupby('Cluster').agg({\n",
    "    'Gender_Female': 'mean',\n",
    "    'Gender_Male': 'mean',\n",
    "    'Age': 'median',\n",
    "    'Income': 'median',\n",
    "    'SpendingScore': 'median'}).round(2)"
   ]
  },
  {
   "cell_type": "markdown",
   "metadata": {},
   "source": [
    "#### What actionable insights can you come up with based on the clustering results?\n",
    "\n",
    "In terms of a customer relations strategy, it would make sense to:\n",
    "1. Invest in increasing the spending of the high earning low spending customers in cluster 1.\n",
    "2. Keep the high earning, high spending customers in cluster 2 happy.\n",
    "3. Keep a watchful eye on the low earning, high spending customers in cluster 3.\n"
   ]
  }
 ],
 "metadata": {
  "kernelspec": {
   "display_name": "Python 3 (ipykernel)",
   "language": "python",
   "name": "python3"
  },
  "language_info": {
   "codemirror_mode": {
    "name": "ipython",
    "version": 3
   },
   "file_extension": ".py",
   "mimetype": "text/x-python",
   "name": "python",
   "nbconvert_exporter": "python",
   "pygments_lexer": "ipython3",
   "version": "3.9.7"
  }
 },
 "nbformat": 4,
 "nbformat_minor": 2
}
