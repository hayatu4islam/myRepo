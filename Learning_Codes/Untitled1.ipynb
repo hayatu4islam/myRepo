{
 "cells": [
  {
   "cell_type": "code",
   "execution_count": 4,
   "id": "5083acd7",
   "metadata": {},
   "outputs": [],
   "source": [
    "%store -r mean\n",
    "%store -r std"
   ]
  },
  {
   "cell_type": "code",
   "execution_count": 5,
   "id": "13139fec",
   "metadata": {},
   "outputs": [
    {
     "name": "stdout",
     "output_type": "stream",
     "text": [
      "3.5\n",
      "5.3\n"
     ]
    }
   ],
   "source": [
    "print(mean)\n",
    "print(std)"
   ]
  },
  {
   "cell_type": "code",
   "execution_count": 8,
   "id": "798aa4ea",
   "metadata": {},
   "outputs": [
    {
     "data": {
      "text/plain": [
       "[3.5, 5.3]"
      ]
     },
     "execution_count": 8,
     "metadata": {},
     "output_type": "execute_result"
    }
   ],
   "source": [
    "import csv\n",
    "file_path = 'norm_var.csv'\n",
    "saved_norm_var = []\n",
    "# Open the file in read mode\n",
    "with open(file_path, 'r') as csvfile:\n",
    "    reader = csv.reader(csvfile)\n",
    "    \n",
    "    # Read the first row from the CSV file\n",
    "    for row in reader:\n",
    "        saved_norm_var = list(map(float, row))\n",
    "        \n",
    "saved_norm_var"
   ]
  },
  {
   "cell_type": "code",
   "execution_count": 9,
   "id": "1cabe996",
   "metadata": {},
   "outputs": [],
   "source": [
    "%store -r stored_norm_var"
   ]
  },
  {
   "cell_type": "code",
   "execution_count": 12,
   "id": "5ce44a40",
   "metadata": {},
   "outputs": [
    {
     "data": {
      "text/plain": [
       "[3.5, 5.3]"
      ]
     },
     "execution_count": 12,
     "metadata": {},
     "output_type": "execute_result"
    }
   ],
   "source": [
    "stored_norm_var"
   ]
  },
  {
   "cell_type": "code",
   "execution_count": null,
   "id": "ce4d9e1d",
   "metadata": {},
   "outputs": [],
   "source": []
  },
  {
   "cell_type": "code",
   "execution_count": null,
   "id": "413e41d2",
   "metadata": {},
   "outputs": [],
   "source": []
  }
 ],
 "metadata": {
  "kernelspec": {
   "display_name": "Python 3 (ipykernel)",
   "language": "python",
   "name": "python3"
  },
  "language_info": {
   "codemirror_mode": {
    "name": "ipython",
    "version": 3
   },
   "file_extension": ".py",
   "mimetype": "text/x-python",
   "name": "python",
   "nbconvert_exporter": "python",
   "pygments_lexer": "ipython3",
   "version": "3.10.2"
  }
 },
 "nbformat": 4,
 "nbformat_minor": 5
}
