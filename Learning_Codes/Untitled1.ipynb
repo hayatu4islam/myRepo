{
 "cells": [
  {
   "cell_type": "code",
   "execution_count": 16,
   "id": "ecf9d351",
   "metadata": {},
   "outputs": [],
   "source": [
    "import pandas as pd"
   ]
  },
  {
   "cell_type": "code",
   "execution_count": 4,
   "id": "6e3771d4",
   "metadata": {},
   "outputs": [],
   "source": [
    "%store -r mean\n",
    "%store -r std"
   ]
  },
  {
   "cell_type": "code",
   "execution_count": 5,
   "id": "2078969f",
   "metadata": {},
   "outputs": [
    {
     "name": "stdout",
     "output_type": "stream",
     "text": [
      "3.5\n",
      "5.3\n"
     ]
    }
   ],
   "source": [
    "print(mean)\n",
    "print(std)"
   ]
  },
  {
   "cell_type": "code",
   "execution_count": 8,
   "id": "1fba775f",
   "metadata": {},
   "outputs": [
    {
     "data": {
      "text/plain": [
       "[3.5, 5.3]"
      ]
     },
     "execution_count": 8,
     "metadata": {},
     "output_type": "execute_result"
    }
   ],
   "source": [
    "import csv\n",
    "file_path = 'norm_var.csv'\n",
    "saved_norm_var = []\n",
    "# Open the file in read mode\n",
    "with open(file_path, 'r') as csvfile:\n",
    "    reader = csv.reader(csvfile)\n",
    "    \n",
    "    # Read the first row from the CSV file\n",
    "    for row in reader:\n",
    "        saved_norm_var = list(map(float, row))\n",
    "        \n",
    "saved_norm_var"
   ]
  },
  {
   "cell_type": "code",
   "execution_count": 9,
   "id": "75401326",
   "metadata": {},
   "outputs": [],
   "source": [
    "%store -r stored_norm_var"
   ]
  },
  {
   "cell_type": "code",
   "execution_count": 12,
   "id": "38b82dd9",
   "metadata": {},
   "outputs": [
    {
     "data": {
      "text/plain": [
       "[3.5, 5.3]"
      ]
     },
     "execution_count": 12,
     "metadata": {},
     "output_type": "execute_result"
    }
   ],
   "source": [
    "stored_norm_var"
   ]
  },
  {
   "cell_type": "code",
   "execution_count": null,
   "id": "79feeded",
   "metadata": {},
   "outputs": [],
   "source": [
    "import numpy as np\n",
    "import pandas as pd\n",
    "import pickle\n",
    "from statsmodels.tsa.api import VAR\n",
    "\n",
    "# Load the trained VAR model\n",
    "with open('var_golden_model.pkl', 'rb') as file:\n",
    "    var_model = pickle.load(file)\n",
    "\n",
    "# Retrieve the lag order\n",
    "lag_order = var_model.k_ar\n",
    "\n",
    "# Prepare new data\n",
    "attr = list(pd.read_csv('waterTank_Golden.csv').columns.values)[1:]\n",
    "new_data = pd.read_csv('waterTank_Golden.csv', index_col=0, header=0, parse_date=True)  # Replace with your new data\n",
    "new_data.index.freq = 'ms'\n",
    "new_data = new_data[['variable1', 'variable2', 'variable3']]  # Select the variables used in the original model\n",
    "new_data = new_data[-lag_order:]  # Keep only the most recent observations with enough lagged values\n",
    "\n",
    "# Initialize the VAR model\n",
    "model_input = new_data.values\n",
    "var_model.initialize_known(model_input)\n",
    "\n",
    "# Make predictions\n",
    "predictions = var_model.forecast(model_input, steps=5)  # Replace 'steps' with the desired number of future time steps to predict\n",
    "\n",
    "# Convert predictions to a DataFrame\n",
    "predictions_df = pd.DataFrame(predictions, columns=new_data.columns)\n",
    "\n",
    "# Print the predictions\n",
    "print(predictions_df)\n"
   ]
  },
  {
   "cell_type": "code",
   "execution_count": 28,
   "id": "ff18779c",
   "metadata": {},
   "outputs": [
    {
     "data": {
      "text/html": [
       "<div>\n",
       "<style scoped>\n",
       "    .dataframe tbody tr th:only-of-type {\n",
       "        vertical-align: middle;\n",
       "    }\n",
       "\n",
       "    .dataframe tbody tr th {\n",
       "        vertical-align: top;\n",
       "    }\n",
       "\n",
       "    .dataframe thead th {\n",
       "        text-align: right;\n",
       "    }\n",
       "</style>\n",
       "<table border=\"1\" class=\"dataframe\">\n",
       "  <thead>\n",
       "    <tr style=\"text-align: right;\">\n",
       "      <th></th>\n",
       "      <th>Tank1WaterLevel</th>\n",
       "      <th>Tank2WaterLevel</th>\n",
       "      <th>Tank1InFlow</th>\n",
       "      <th>Tank2OutFlow</th>\n",
       "      <th>wt3_valve</th>\n",
       "      <th>Tank3OutFlow</th>\n",
       "      <th>Tank2.level</th>\n",
       "    </tr>\n",
       "    <tr>\n",
       "      <th>time</th>\n",
       "      <th></th>\n",
       "      <th></th>\n",
       "      <th></th>\n",
       "      <th></th>\n",
       "      <th></th>\n",
       "      <th></th>\n",
       "      <th></th>\n",
       "    </tr>\n",
       "  </thead>\n",
       "  <tbody>\n",
       "    <tr>\n",
       "      <th>0.00</th>\n",
       "      <td>1.000000e-06</td>\n",
       "      <td>0.000000e+00</td>\n",
       "      <td>0</td>\n",
       "      <td>0.000000</td>\n",
       "      <td>0</td>\n",
       "      <td>0.0</td>\n",
       "      <td>0.000000</td>\n",
       "    </tr>\n",
       "    <tr>\n",
       "      <th>0.05</th>\n",
       "      <td>6.890000e-07</td>\n",
       "      <td>3.110000e-07</td>\n",
       "      <td>0</td>\n",
       "      <td>0.000000</td>\n",
       "      <td>0</td>\n",
       "      <td>0.0</td>\n",
       "      <td>0.000000</td>\n",
       "    </tr>\n",
       "    <tr>\n",
       "      <th>0.10</th>\n",
       "      <td>3.333928e-03</td>\n",
       "      <td>4.050000e-07</td>\n",
       "      <td>1</td>\n",
       "      <td>0.000000</td>\n",
       "      <td>0</td>\n",
       "      <td>0.0</td>\n",
       "      <td>0.000000</td>\n",
       "    </tr>\n",
       "    <tr>\n",
       "      <th>0.15</th>\n",
       "      <td>5.448433e-02</td>\n",
       "      <td>8.850002e-03</td>\n",
       "      <td>1</td>\n",
       "      <td>0.000000</td>\n",
       "      <td>0</td>\n",
       "      <td>0.0</td>\n",
       "      <td>0.000000</td>\n",
       "    </tr>\n",
       "    <tr>\n",
       "      <th>0.20</th>\n",
       "      <td>7.717051e-02</td>\n",
       "      <td>2.949715e-02</td>\n",
       "      <td>0</td>\n",
       "      <td>0.000000</td>\n",
       "      <td>0</td>\n",
       "      <td>0.0</td>\n",
       "      <td>0.000000</td>\n",
       "    </tr>\n",
       "    <tr>\n",
       "      <th>...</th>\n",
       "      <td>...</td>\n",
       "      <td>...</td>\n",
       "      <td>...</td>\n",
       "      <td>...</td>\n",
       "      <td>...</td>\n",
       "      <td>...</td>\n",
       "      <td>...</td>\n",
       "    </tr>\n",
       "    <tr>\n",
       "      <th>999.80</th>\n",
       "      <td>3.078778e+00</td>\n",
       "      <td>2.994546e+00</td>\n",
       "      <td>1</td>\n",
       "      <td>0.498971</td>\n",
       "      <td>0</td>\n",
       "      <td>0.0</td>\n",
       "      <td>1.391121</td>\n",
       "    </tr>\n",
       "    <tr>\n",
       "      <th>999.85</th>\n",
       "      <td>3.095068e+00</td>\n",
       "      <td>2.998294e+00</td>\n",
       "      <td>1</td>\n",
       "      <td>0.499269</td>\n",
       "      <td>0</td>\n",
       "      <td>0.0</td>\n",
       "      <td>1.411084</td>\n",
       "    </tr>\n",
       "    <tr>\n",
       "      <th>999.90</th>\n",
       "      <td>3.081061e+00</td>\n",
       "      <td>3.005633e+00</td>\n",
       "      <td>0</td>\n",
       "      <td>0.500793</td>\n",
       "      <td>0</td>\n",
       "      <td>0.0</td>\n",
       "      <td>1.441039</td>\n",
       "    </tr>\n",
       "    <tr>\n",
       "      <th>999.95</th>\n",
       "      <td>3.062618e+00</td>\n",
       "      <td>3.004038e+00</td>\n",
       "      <td>0</td>\n",
       "      <td>0.500995</td>\n",
       "      <td>0</td>\n",
       "      <td>0.0</td>\n",
       "      <td>1.461066</td>\n",
       "    </tr>\n",
       "    <tr>\n",
       "      <th>1000.00</th>\n",
       "      <td>3.057439e+00</td>\n",
       "      <td>2.995855e+00</td>\n",
       "      <td>1</td>\n",
       "      <td>0.499700</td>\n",
       "      <td>0</td>\n",
       "      <td>0.0</td>\n",
       "      <td>1.491125</td>\n",
       "    </tr>\n",
       "  </tbody>\n",
       "</table>\n",
       "<p>20001 rows × 7 columns</p>\n",
       "</div>"
      ],
      "text/plain": [
       "         Tank1WaterLevel  Tank2WaterLevel  Tank1InFlow  Tank2OutFlow  \\\n",
       "time                                                                   \n",
       "0.00        1.000000e-06     0.000000e+00            0      0.000000   \n",
       "0.05        6.890000e-07     3.110000e-07            0      0.000000   \n",
       "0.10        3.333928e-03     4.050000e-07            1      0.000000   \n",
       "0.15        5.448433e-02     8.850002e-03            1      0.000000   \n",
       "0.20        7.717051e-02     2.949715e-02            0      0.000000   \n",
       "...                  ...              ...          ...           ...   \n",
       "999.80      3.078778e+00     2.994546e+00            1      0.498971   \n",
       "999.85      3.095068e+00     2.998294e+00            1      0.499269   \n",
       "999.90      3.081061e+00     3.005633e+00            0      0.500793   \n",
       "999.95      3.062618e+00     3.004038e+00            0      0.500995   \n",
       "1000.00     3.057439e+00     2.995855e+00            1      0.499700   \n",
       "\n",
       "         wt3_valve  Tank3OutFlow  Tank2.level  \n",
       "time                                           \n",
       "0.00             0           0.0     0.000000  \n",
       "0.05             0           0.0     0.000000  \n",
       "0.10             0           0.0     0.000000  \n",
       "0.15             0           0.0     0.000000  \n",
       "0.20             0           0.0     0.000000  \n",
       "...            ...           ...          ...  \n",
       "999.80           0           0.0     1.391121  \n",
       "999.85           0           0.0     1.411084  \n",
       "999.90           0           0.0     1.441039  \n",
       "999.95           0           0.0     1.461066  \n",
       "1000.00          0           0.0     1.491125  \n",
       "\n",
       "[20001 rows x 7 columns]"
      ]
     },
     "execution_count": 28,
     "metadata": {},
     "output_type": "execute_result"
    }
   ],
   "source": [
    "mydf = pd.read_csv('waterTank_Golden.csv', index_col=0, header=0, parse_dates=True)  # Replace with your new data\n",
    "# mydf.index.freq = 'ms'\n",
    "mydf"
   ]
  },
  {
   "cell_type": "code",
   "execution_count": 34,
   "id": "b686b3c2",
   "metadata": {},
   "outputs": [
    {
     "data": {
      "text/plain": [
       "['Tank1WaterLevel', 'Tank2WaterLevel', 'Tank1InFlow']"
      ]
     },
     "execution_count": 34,
     "metadata": {},
     "output_type": "execute_result"
    }
   ],
   "source": [
    "# attr = list(pd.read_csv('waterTank_ctrl_stuckAt0_Original.csv').columns.values)[1:4]\n",
    "attr = list(pd.read_csv('waterTank_Golden.csv').columns.values)[1:4]\n",
    "attr"
   ]
  },
  {
   "cell_type": "code",
   "execution_count": 1,
   "id": "a1b19bc5",
   "metadata": {},
   "outputs": [
    {
     "name": "stdout",
     "output_type": "stream",
     "text": [
      "Esql\n"
     ]
    }
   ],
   "source": [
    "print(\"Esql\")"
   ]
  },
  {
   "cell_type": "code",
   "execution_count": null,
   "id": "5b3e3937",
   "metadata": {},
   "outputs": [],
   "source": []
  }
 ],
 "metadata": {
  "kernelspec": {
   "display_name": "Python 3 (ipykernel)",
   "language": "python",
   "name": "python3"
  },
  "language_info": {
   "codemirror_mode": {
    "name": "ipython",
    "version": 3
   },
   "file_extension": ".py",
   "mimetype": "text/x-python",
   "name": "python",
   "nbconvert_exporter": "python",
   "pygments_lexer": "ipython3",
   "version": "3.10.2"
  }
 },
 "nbformat": 4,
 "nbformat_minor": 5
}
