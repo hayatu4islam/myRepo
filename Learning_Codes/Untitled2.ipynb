{
 "cells": [
  {
   "cell_type": "code",
   "execution_count": 1,
   "id": "cf231658",
   "metadata": {},
   "outputs": [
    {
     "name": "stdout",
     "output_type": "stream",
     "text": [
      "Stored 'mean' (float)\n",
      "Stored 'std' (float)\n"
     ]
    }
   ],
   "source": [
    "mean = 3.5\n",
    "std = 5.3\n",
    "%store mean\n",
    "%store std\n"
   ]
  },
  {
   "cell_type": "code",
   "execution_count": 21,
   "id": "f17b07ba",
   "metadata": {},
   "outputs": [
    {
     "data": {
      "text/plain": [
       "[3.5, 5.3]"
      ]
     },
     "execution_count": 21,
     "metadata": {},
     "output_type": "execute_result"
    }
   ],
   "source": [
    "stored_norm_var = [mean, std]\n",
    "stored_norm_var"
   ]
  },
  {
   "cell_type": "code",
   "execution_count": 25,
   "id": "88da7098",
   "metadata": {},
   "outputs": [
    {
     "name": "stdout",
     "output_type": "stream",
     "text": [
      "Stored 'stored_norm_var' (list)\n"
     ]
    }
   ],
   "source": [
    "%store stored_norm_var"
   ]
  },
  {
   "cell_type": "code",
   "execution_count": 22,
   "id": "a4810f89",
   "metadata": {},
   "outputs": [
    {
     "name": "stdout",
     "output_type": "stream",
     "text": [
      "Normalisation variables saved successfully to norm_var.csv\n"
     ]
    }
   ],
   "source": [
    "import csv\n",
    "file_path = 'norm_var.csv'\n",
    "# Open the file in write mode\n",
    "with open(file_path, 'w', newline='') as csvfile:\n",
    "    writer = csv.writer(csvfile)\n",
    "    \n",
    "    # Write the list of variables as a single row in the CSV file\n",
    "    writer.writerow(norm_var)\n",
    "    \n",
    "print(f'Normalisation variables saved successfully to {file_path}')"
   ]
  },
  {
   "cell_type": "code",
   "execution_count": 23,
   "id": "0323a81b",
   "metadata": {},
   "outputs": [
    {
     "data": {
      "text/plain": [
       "[3.5, 5.3]"
      ]
     },
     "execution_count": 23,
     "metadata": {},
     "output_type": "execute_result"
    }
   ],
   "source": [
    "saved_norm_var = []\n",
    "# Open the file in read mode\n",
    "with open(file_path, 'r') as csvfile:\n",
    "    reader = csv.reader(csvfile)\n",
    "    \n",
    "    # Read the first row from the CSV file\n",
    "    for row in reader:\n",
    "        saved_norm_var = list(map(float, row))\n",
    "        \n",
    "saved_norm_var"
   ]
  },
  {
   "cell_type": "code",
   "execution_count": 24,
   "id": "095c91d3",
   "metadata": {},
   "outputs": [
    {
     "name": "stdout",
     "output_type": "stream",
     "text": [
      "The two results are the same\n"
     ]
    }
   ],
   "source": [
    "if stored_norm_var == saved_norm_var:\n",
    "    print(\"The two results are the same\")\n",
    "else:\n",
    "    print(\"The results are not the same\")"
   ]
  },
  {
   "cell_type": "code",
   "execution_count": 7,
   "id": "71c619d7",
   "metadata": {},
   "outputs": [
    {
     "name": "stdout",
     "output_type": "stream",
     "text": [
      "Prophet\n"
     ]
    }
   ],
   "source": [
    "print(\"Prophet\")"
   ]
  },
  {
   "cell_type": "code",
   "execution_count": null,
   "id": "0fc39717",
   "metadata": {},
   "outputs": [],
   "source": []
  }
 ],
 "metadata": {
  "kernelspec": {
   "display_name": "Python 3 (ipykernel)",
   "language": "python",
   "name": "python3"
  },
  "language_info": {
   "codemirror_mode": {
    "name": "ipython",
    "version": 3
   },
   "file_extension": ".py",
   "mimetype": "text/x-python",
   "name": "python",
   "nbconvert_exporter": "python",
   "pygments_lexer": "ipython3",
   "version": "3.10.2"
  }
 },
 "nbformat": 4,
 "nbformat_minor": 5
}
