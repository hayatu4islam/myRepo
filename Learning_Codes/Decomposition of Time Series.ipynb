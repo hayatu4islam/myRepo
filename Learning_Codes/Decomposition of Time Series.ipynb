{
 "cells": [
  {
   "cell_type": "markdown",
   "id": "ba6513ff",
   "metadata": {},
   "source": [
    "### Time Series Decomposition\n",
    "##### Decomposition is basically applied in time series analysis, it can also be used as a tool to inform forecasting models on a problem"
   ]
  },
  {
   "cell_type": "code",
   "execution_count": 10,
   "id": "e3764f2f",
   "metadata": {
    "scrolled": true
   },
   "outputs": [
    {
     "data": {
      "image/png": "[encoded data removed]",
      "text/plain": [
       "<Figure size 432x288 with 4 Axes>"
      ]
     },
     "metadata": {
      "needs_background": "light"
     },
     "output_type": "display_data"
    }
   ],
   "source": [
    "import numpy as np\n",
    "import pandas as pd\n",
    "from random import randrange\n",
    "from pandas import Series\n",
    "from matplotlib import pyplot\n",
    "from statsmodels.tsa.seasonal import seasonal_decompose\n",
    "series = [i+randrange(10) for i in range(1,100)]\n",
    "result = seasonal_decompose(series, model='multiplicative', period=1)\n",
    "result.plot()\n",
    "pyplot.show()"
   ]
  },
  {
   "cell_type": "markdown",
   "id": "24bcdfb4",
   "metadata": {},
   "source": [
    "### FOrecasting fewer outputs with Enc-Dec LSTM"
   ]
  },
  {
   "cell_type": "code",
   "execution_count": null,
   "id": "9d2ee7c8",
   "metadata": {},
   "outputs": [],
   "source": [
    "# multivariate output stacked lstm example\n",
    "import pandas as pd\n",
    "from numpy import array\n",
    "from numpy import hstack, vstack\n",
    "from keras.models import Sequential\n",
    "from keras.layers import LSTM\n",
    "from keras.layers import Dense, RepeatVector, TimeDistributed\n",
    "from keras.layers.core import Dropout\n",
    "from sklearn.preprocessing import MinMaxScaler\n",
    "from pandas import read_csv\n",
    "from pandas import DataFrame\n",
    "import matplotlib.pyplot as plt\n",
    "import numpy as np\n",
    "\n",
    "\n",
    "# split a multivariate sequence into samples\n",
    "def split_sequences(sequences, n_steps_in, n_steps_out):\n",
    "    X, y = list(), list()\n",
    "    for i in range(len(sequences)):\n",
    "        # find the end of this pattern\n",
    "        end_ix = i + n_steps_in\n",
    "        out_end_ix = end_ix + n_steps_out\n",
    "        # check if we are beyond the dataset\n",
    "        if out_end_ix > len(sequences):\n",
    "            break\n",
    "        # gather input and output parts of the pattern\n",
    "        seq_x, seq_y = sequences[i:end_ix, :], sequences[end_ix:out_end_ix, :]\n",
    "        X.append(seq_x)\n",
    "        y.append(seq_y)\n",
    "    return array(X), array(y)\n",
    "\n",
    "# define input sequence\n",
    "\n",
    "# Read the data\n",
    "data = read_csv('waterTank.csv', header=0, index_col=0)\n",
    "# data = read_csv('outputs.csv', header=0, index_col=0)\n",
    "# data = read_csv('trig.csv', header=0, index_col=0)\n",
    "\n",
    "# horizontally stack columns\n",
    "raw_data = data.values\n",
    "print(f'The shape of the raw_data before scaling is {raw_data.shape}')\n",
    "#normalize input features\n",
    "scaler = MinMaxScaler(feature_range=(0, 1))\n",
    "scaled_data = scaler.fit_transform(raw_data)\n",
    "\n",
    "n_train = 1000\n",
    "dataset = scaled_data[0:n_train,:]\n",
    "# choose a number of time steps\n",
    "n_steps_in, n_steps_out = 50, 100\n",
    "# convert into input/output\n",
    "X, y = split_sequences(dataset, n_steps_in, n_steps_out)\n",
    "# the dataset knows the number of features, e.g. 2\n",
    "n_features = X.shape[2]\n",
    "# define model\n",
    "model = Sequential()\n",
    "model.add(LSTM(50, activation='relu', input_shape=(n_steps_in, n_features)))\n",
    "model.add(RepeatVector(n_steps_out))\n",
    "model.add(LSTM(50, activation='relu', return_sequences=True))\n",
    "model.add(TimeDistributed(Dense(n_features)))\n",
    "model.compile(optimizer='adam', loss='mse')\n",
    "# fit model\n",
    "train_history = model.fit(X, y, epochs=50, verbose=2, shuffle=False)\n",
    "\n",
    "# demonstrate Direct prediction\n",
    "# x_inp = raw_data[n_train:n_train+n_steps,:]\n",
    "x_inp = scaled_data[n_train:n_train+n_steps_in,:]\n",
    "print(f'Initial shape of x_input {x_inp.shape}')\n",
    "x_input = x_inp.reshape((1, n_steps_in, n_features))\n",
    "yhat = model.predict(x_input, verbose=0)\n",
    "print(f'The shape of yhat after prediction is {yhat.shape}')\n",
    "yhat = yhat.reshape(n_steps_out, n_features)\n",
    "print(f'The new shape of yhat  is {yhat.shape}')\n",
    "inv_yhat = scaler.inverse_transform(yhat)\n",
    "print(inv_yhat)\n",
    "\n",
    "print(\"-------Learning Curve--------\")\n",
    "plt.plot(train_history.history['loss'], label='train')\n",
    "# plt.plot(train_history.history['val_loss'], label='test')\n",
    "plt.xlabel(\"Epochs\")\n",
    "plt.ylabel(\"Loss\")\n",
    "plt.legend()\n",
    "plt.show()\n",
    "\n",
    "model.summary()"
   ]
  }
 ],
 "metadata": {
  "kernelspec": {
   "display_name": "Python 3 (ipykernel)",
   "language": "python",
   "name": "python3"
  },
  "language_info": {
   "codemirror_mode": {
    "name": "ipython",
    "version": 3
   },
   "file_extension": ".py",
   "mimetype": "text/x-python",
   "name": "python",
   "nbconvert_exporter": "python",
   "pygments_lexer": "ipython3",
   "version": "3.10.2"
  }
 },
 "nbformat": 4,
 "nbformat_minor": 5
}
