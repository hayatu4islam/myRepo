{
 "cells": [
  {
   "cell_type": "markdown",
   "id": "7b6c8cdf",
   "metadata": {},
   "source": [
    "### Normalisation and rmse"
   ]
  },
  {
   "cell_type": "code",
   "execution_count": 63,
   "id": "2778e928",
   "metadata": {},
   "outputs": [],
   "source": [
    "import numpy as np\n",
    "import pandas as pd\n",
    "from statsmodels.tools.eval_measures import mse,rmse"
   ]
  },
  {
   "cell_type": "code",
   "execution_count": 69,
   "id": "c0602a08",
   "metadata": {},
   "outputs": [
    {
     "data": {
      "text/html": [
       "<div>\n",
       "<style scoped>\n",
       "    .dataframe tbody tr th:only-of-type {\n",
       "        vertical-align: middle;\n",
       "    }\n",
       "\n",
       "    .dataframe tbody tr th {\n",
       "        vertical-align: top;\n",
       "    }\n",
       "\n",
       "    .dataframe thead th {\n",
       "        text-align: right;\n",
       "    }\n",
       "</style>\n",
       "<table border=\"1\" class=\"dataframe\">\n",
       "  <thead>\n",
       "    <tr style=\"text-align: right;\">\n",
       "      <th></th>\n",
       "      <th>tens</th>\n",
       "    </tr>\n",
       "    <tr>\n",
       "      <th>x</th>\n",
       "      <th></th>\n",
       "    </tr>\n",
       "  </thead>\n",
       "  <tbody>\n",
       "    <tr>\n",
       "      <th>1</th>\n",
       "      <td>5.0</td>\n",
       "    </tr>\n",
       "    <tr>\n",
       "      <th>2</th>\n",
       "      <td>10.0</td>\n",
       "    </tr>\n",
       "    <tr>\n",
       "      <th>3</th>\n",
       "      <td>15.0</td>\n",
       "    </tr>\n",
       "    <tr>\n",
       "      <th>4</th>\n",
       "      <td>20.0</td>\n",
       "    </tr>\n",
       "    <tr>\n",
       "      <th>5</th>\n",
       "      <td>25.0</td>\n",
       "    </tr>\n",
       "    <tr>\n",
       "      <th>6</th>\n",
       "      <td>30.0</td>\n",
       "    </tr>\n",
       "    <tr>\n",
       "      <th>7</th>\n",
       "      <td>35.0</td>\n",
       "    </tr>\n",
       "    <tr>\n",
       "      <th>8</th>\n",
       "      <td>40.0</td>\n",
       "    </tr>\n",
       "    <tr>\n",
       "      <th>9</th>\n",
       "      <td>45.0</td>\n",
       "    </tr>\n",
       "    <tr>\n",
       "      <th>10</th>\n",
       "      <td>50.0</td>\n",
       "    </tr>\n",
       "  </tbody>\n",
       "</table>\n",
       "</div>"
      ],
      "text/plain": [
       "    tens\n",
       "x       \n",
       "1    5.0\n",
       "2   10.0\n",
       "3   15.0\n",
       "4   20.0\n",
       "5   25.0\n",
       "6   30.0\n",
       "7   35.0\n",
       "8   40.0\n",
       "9   45.0\n",
       "10  50.0"
      ]
     },
     "execution_count": 69,
     "metadata": {},
     "output_type": "execute_result"
    }
   ],
   "source": [
    "df = pd.read_csv(\"univariate.csv\", header=0, index_col=0)\n",
    "# df = pd.read_csv(\"waterTank_Golden.csv\", header=0, index_col=0)\n",
    "df_err = df.copy()\n",
    "df_err[:] = df_err[:]/2\n",
    "df_err"
   ]
  },
  {
   "cell_type": "code",
   "execution_count": 70,
   "id": "744c09a1",
   "metadata": {},
   "outputs": [
    {
     "data": {
      "text/html": [
       "<div>\n",
       "<style scoped>\n",
       "    .dataframe tbody tr th:only-of-type {\n",
       "        vertical-align: middle;\n",
       "    }\n",
       "\n",
       "    .dataframe tbody tr th {\n",
       "        vertical-align: top;\n",
       "    }\n",
       "\n",
       "    .dataframe thead th {\n",
       "        text-align: right;\n",
       "    }\n",
       "</style>\n",
       "<table border=\"1\" class=\"dataframe\">\n",
       "  <thead>\n",
       "    <tr style=\"text-align: right;\">\n",
       "      <th></th>\n",
       "      <th>tens</th>\n",
       "    </tr>\n",
       "    <tr>\n",
       "      <th>x</th>\n",
       "      <th></th>\n",
       "    </tr>\n",
       "  </thead>\n",
       "  <tbody>\n",
       "    <tr>\n",
       "      <th>1</th>\n",
       "      <td>10</td>\n",
       "    </tr>\n",
       "    <tr>\n",
       "      <th>2</th>\n",
       "      <td>20</td>\n",
       "    </tr>\n",
       "    <tr>\n",
       "      <th>3</th>\n",
       "      <td>30</td>\n",
       "    </tr>\n",
       "    <tr>\n",
       "      <th>4</th>\n",
       "      <td>40</td>\n",
       "    </tr>\n",
       "    <tr>\n",
       "      <th>5</th>\n",
       "      <td>50</td>\n",
       "    </tr>\n",
       "    <tr>\n",
       "      <th>6</th>\n",
       "      <td>60</td>\n",
       "    </tr>\n",
       "    <tr>\n",
       "      <th>7</th>\n",
       "      <td>70</td>\n",
       "    </tr>\n",
       "    <tr>\n",
       "      <th>8</th>\n",
       "      <td>80</td>\n",
       "    </tr>\n",
       "    <tr>\n",
       "      <th>9</th>\n",
       "      <td>90</td>\n",
       "    </tr>\n",
       "    <tr>\n",
       "      <th>10</th>\n",
       "      <td>100</td>\n",
       "    </tr>\n",
       "  </tbody>\n",
       "</table>\n",
       "</div>"
      ],
      "text/plain": [
       "    tens\n",
       "x       \n",
       "1     10\n",
       "2     20\n",
       "3     30\n",
       "4     40\n",
       "5     50\n",
       "6     60\n",
       "7     70\n",
       "8     80\n",
       "9     90\n",
       "10   100"
      ]
     },
     "execution_count": 70,
     "metadata": {},
     "output_type": "execute_result"
    }
   ],
   "source": [
    "df"
   ]
  },
  {
   "cell_type": "code",
   "execution_count": 71,
   "id": "7ba1adc1",
   "metadata": {},
   "outputs": [
    {
     "data": {
      "text/html": [
       "<div>\n",
       "<style scoped>\n",
       "    .dataframe tbody tr th:only-of-type {\n",
       "        vertical-align: middle;\n",
       "    }\n",
       "\n",
       "    .dataframe tbody tr th {\n",
       "        vertical-align: top;\n",
       "    }\n",
       "\n",
       "    .dataframe thead th {\n",
       "        text-align: right;\n",
       "    }\n",
       "</style>\n",
       "<table border=\"1\" class=\"dataframe\">\n",
       "  <thead>\n",
       "    <tr style=\"text-align: right;\">\n",
       "      <th></th>\n",
       "      <th>tens</th>\n",
       "    </tr>\n",
       "    <tr>\n",
       "      <th>x</th>\n",
       "      <th></th>\n",
       "    </tr>\n",
       "  </thead>\n",
       "  <tbody>\n",
       "    <tr>\n",
       "      <th>1</th>\n",
       "      <td>0.000000</td>\n",
       "    </tr>\n",
       "    <tr>\n",
       "      <th>2</th>\n",
       "      <td>0.111111</td>\n",
       "    </tr>\n",
       "    <tr>\n",
       "      <th>3</th>\n",
       "      <td>0.222222</td>\n",
       "    </tr>\n",
       "    <tr>\n",
       "      <th>4</th>\n",
       "      <td>0.333333</td>\n",
       "    </tr>\n",
       "    <tr>\n",
       "      <th>5</th>\n",
       "      <td>0.444444</td>\n",
       "    </tr>\n",
       "    <tr>\n",
       "      <th>6</th>\n",
       "      <td>0.555556</td>\n",
       "    </tr>\n",
       "    <tr>\n",
       "      <th>7</th>\n",
       "      <td>0.666667</td>\n",
       "    </tr>\n",
       "    <tr>\n",
       "      <th>8</th>\n",
       "      <td>0.777778</td>\n",
       "    </tr>\n",
       "    <tr>\n",
       "      <th>9</th>\n",
       "      <td>0.888889</td>\n",
       "    </tr>\n",
       "    <tr>\n",
       "      <th>10</th>\n",
       "      <td>1.000000</td>\n",
       "    </tr>\n",
       "  </tbody>\n",
       "</table>\n",
       "</div>"
      ],
      "text/plain": [
       "        tens\n",
       "x           \n",
       "1   0.000000\n",
       "2   0.111111\n",
       "3   0.222222\n",
       "4   0.333333\n",
       "5   0.444444\n",
       "6   0.555556\n",
       "7   0.666667\n",
       "8   0.777778\n",
       "9   0.888889\n",
       "10  1.000000"
      ]
     },
     "execution_count": 71,
     "metadata": {},
     "output_type": "execute_result"
    }
   ],
   "source": [
    "def normalise_range(data):\n",
    "#     mini = np.min(data)\n",
    "    mini = data.min(axis=0)\n",
    "    maxi = data.max(axis=0)\n",
    "    return (data - mini)/(maxi - mini)\n",
    "# df\n",
    "# mini = df.min(axis=0)\n",
    "normalised_range = normalise_range(df)\n",
    "normalised_range"
   ]
  },
  {
   "cell_type": "code",
   "execution_count": 72,
   "id": "7a6c21a0",
   "metadata": {
    "scrolled": true
   },
   "outputs": [
    {
     "data": {
      "text/html": [
       "<div>\n",
       "<style scoped>\n",
       "    .dataframe tbody tr th:only-of-type {\n",
       "        vertical-align: middle;\n",
       "    }\n",
       "\n",
       "    .dataframe tbody tr th {\n",
       "        vertical-align: top;\n",
       "    }\n",
       "\n",
       "    .dataframe thead th {\n",
       "        text-align: right;\n",
       "    }\n",
       "</style>\n",
       "<table border=\"1\" class=\"dataframe\">\n",
       "  <thead>\n",
       "    <tr style=\"text-align: right;\">\n",
       "      <th></th>\n",
       "      <th>tens</th>\n",
       "    </tr>\n",
       "    <tr>\n",
       "      <th>x</th>\n",
       "      <th></th>\n",
       "    </tr>\n",
       "  </thead>\n",
       "  <tbody>\n",
       "    <tr>\n",
       "      <th>1</th>\n",
       "      <td>0.000000</td>\n",
       "    </tr>\n",
       "    <tr>\n",
       "      <th>2</th>\n",
       "      <td>0.111111</td>\n",
       "    </tr>\n",
       "    <tr>\n",
       "      <th>3</th>\n",
       "      <td>0.222222</td>\n",
       "    </tr>\n",
       "    <tr>\n",
       "      <th>4</th>\n",
       "      <td>0.333333</td>\n",
       "    </tr>\n",
       "    <tr>\n",
       "      <th>5</th>\n",
       "      <td>0.444444</td>\n",
       "    </tr>\n",
       "    <tr>\n",
       "      <th>6</th>\n",
       "      <td>0.555556</td>\n",
       "    </tr>\n",
       "    <tr>\n",
       "      <th>7</th>\n",
       "      <td>0.666667</td>\n",
       "    </tr>\n",
       "    <tr>\n",
       "      <th>8</th>\n",
       "      <td>0.777778</td>\n",
       "    </tr>\n",
       "    <tr>\n",
       "      <th>9</th>\n",
       "      <td>0.888889</td>\n",
       "    </tr>\n",
       "    <tr>\n",
       "      <th>10</th>\n",
       "      <td>1.000000</td>\n",
       "    </tr>\n",
       "  </tbody>\n",
       "</table>\n",
       "</div>"
      ],
      "text/plain": [
       "        tens\n",
       "x           \n",
       "1   0.000000\n",
       "2   0.111111\n",
       "3   0.222222\n",
       "4   0.333333\n",
       "5   0.444444\n",
       "6   0.555556\n",
       "7   0.666667\n",
       "8   0.777778\n",
       "9   0.888889\n",
       "10  1.000000"
      ]
     },
     "execution_count": 72,
     "metadata": {},
     "output_type": "execute_result"
    }
   ],
   "source": [
    "normalised_range_err = normalise_range(df_err)\n",
    "normalised_range_err"
   ]
  },
  {
   "cell_type": "markdown",
   "id": "e0fd4c47",
   "metadata": {},
   "source": [
    "### RMSE on range-based"
   ]
  },
  {
   "cell_type": "code",
   "execution_count": 95,
   "id": "4f3b64eb",
   "metadata": {},
   "outputs": [
    {
     "name": "stdout",
     "output_type": "stream",
     "text": [
      "-----Before Normalisation-----\n",
      "[5.0, 7.905694150420948, 10.801234497346433, 13.693063937629153, 16.583123951777, 19.47220240924654, 22.360679774997898, 25.248762345905195, 28.136571693556885]\n",
      "\n",
      "-----After Normalisation-----\n",
      "[0.0, 0.039283710065919304, 0.07172191381865586, 0.10393492741038726, 0.13608276348795434, 0.16820279744986064, 0.20030840419244386, 0.2324055629261321, 0.2644973492052907]\n"
     ]
    }
   ],
   "source": [
    "### Before normalisation\n",
    "attr = df.columns.values.tolist()\n",
    "# df_val = df[:3]\n",
    "# df_err_val = df_err[:3]\n",
    "RMSE = []\n",
    "for i in range(1,10):\n",
    "    df_val = df[:i]\n",
    "    df_err_val = df_err[:i]\n",
    "    \n",
    "    for feat in attr:\n",
    "        RMSE.append(rmse(df_val[feat], df_err_val[feat]))\n",
    "        \n",
    "print(\"-----Before Normalisation-----\")\n",
    "print(RMSE)\n",
    "\n",
    "print(\"\")\n",
    "print(\"-----After Normalisation-----\")\n",
    "\n",
    "RMSEa = []\n",
    "normalised_range_err[:] = normalised_range_err[:]/2\n",
    "for j in range(1,10):\n",
    "    norm_df_val = normalised_range[:j]\n",
    "    norm_df_err_val = normalised_range_err[:j]\n",
    "    \n",
    "    for feat in attr:\n",
    "        RMSEa.append(rmse(norm_df_val[feat], norm_df_err_val[feat]))\n",
    "print(RMSEa)"
   ]
  },
  {
   "cell_type": "code",
   "execution_count": 96,
   "id": "91e4daff",
   "metadata": {
    "scrolled": true
   },
   "outputs": [
    {
     "data": {
      "text/html": [
       "<div>\n",
       "<style scoped>\n",
       "    .dataframe tbody tr th:only-of-type {\n",
       "        vertical-align: middle;\n",
       "    }\n",
       "\n",
       "    .dataframe tbody tr th {\n",
       "        vertical-align: top;\n",
       "    }\n",
       "\n",
       "    .dataframe thead th {\n",
       "        text-align: right;\n",
       "    }\n",
       "</style>\n",
       "<table border=\"1\" class=\"dataframe\">\n",
       "  <thead>\n",
       "    <tr style=\"text-align: right;\">\n",
       "      <th></th>\n",
       "      <th>tens</th>\n",
       "    </tr>\n",
       "    <tr>\n",
       "      <th>x</th>\n",
       "      <th></th>\n",
       "    </tr>\n",
       "  </thead>\n",
       "  <tbody>\n",
       "    <tr>\n",
       "      <th>1</th>\n",
       "      <td>0.000000</td>\n",
       "    </tr>\n",
       "    <tr>\n",
       "      <th>2</th>\n",
       "      <td>0.055556</td>\n",
       "    </tr>\n",
       "  </tbody>\n",
       "</table>\n",
       "</div>"
      ],
      "text/plain": [
       "       tens\n",
       "x          \n",
       "1  0.000000\n",
       "2  0.055556"
      ]
     },
     "execution_count": 96,
     "metadata": {},
     "output_type": "execute_result"
    }
   ],
   "source": [
    "normalised_range_err[:2]"
   ]
  },
  {
   "cell_type": "code",
   "execution_count": null,
   "id": "ecc8039c",
   "metadata": {},
   "outputs": [],
   "source": []
  },
  {
   "cell_type": "markdown",
   "id": "505d222f",
   "metadata": {},
   "source": [
    "### RMSE on std-based"
   ]
  },
  {
   "cell_type": "code",
   "execution_count": 38,
   "id": "e4c6c8c2",
   "metadata": {},
   "outputs": [
    {
     "data": {
      "text/plain": [
       "(        tens\n",
       " x           \n",
       " 1  -1.566699\n",
       " 2  -1.218544\n",
       " 3  -0.870388\n",
       " 4  -0.522233\n",
       " 5  -0.174078\n",
       " 6   0.174078\n",
       " 7   0.522233\n",
       " 8   0.870388\n",
       " 9   1.218544\n",
       " 10  1.566699,\n",
       " tens    55.0\n",
       " dtype: float64,\n",
       " tens    28.722813\n",
       " dtype: float64)"
      ]
     },
     "execution_count": 38,
     "metadata": {},
     "output_type": "execute_result"
    }
   ],
   "source": [
    "def normalise_std(data):\n",
    "    # Calculate the mean and standard deviation for each feature\n",
    "    means = np.mean(data, axis=0)\n",
    "    stds = np.std(data, axis=0)\n",
    "    \n",
    "    # Normalise each feature using standard deviation\n",
    "    normalised_data = (data - means) / stds\n",
    "    \n",
    "    return pd.DataFrame(normalised_data), means, stds\n",
    "\n",
    "# df\n",
    "# mini = df.min(axis=0)\n",
    "normalised_std = normalise_std(df)\n",
    "normalised_std"
   ]
  },
  {
   "cell_type": "code",
   "execution_count": null,
   "id": "e0f12b83",
   "metadata": {},
   "outputs": [],
   "source": [
    "def normalise_timeseries(data):\n",
    "    # Calculate the mean and standard deviation for each feature\n",
    "    means = np.mean(data, axis=0)\n",
    "    stds = np.std(data, axis=0)\n",
    "    \n",
    "    # Normalise each feature using standard deviation\n",
    "    normalised_data = (data - means) / stds\n",
    "    \n",
    "    return pd.DataFrame(normalised_data), means, stds\n",
    "\n",
    "def denormalise_timeseries(data, means, stds):\n",
    "    denormalised_data = (data * stds) + means\n",
    "    return pd.DataFrame(denormalised_data)\n",
    "\n",
    "\n",
    "time_series_data = np.array([[1,2,3],[4,5,6],[7,8,9]])\n",
    "\n",
    "# normalised_data, means, stds = normalise_timeseries(time_series_data)\n",
    "normalised_data, means, stds = normalise_timeseries(df)\n",
    "# print(\"---------------Original data---------------\")\n",
    "# print(time_series_data)\n",
    "# print(\"---------------Normalised data---------------\")\n",
    "# print(normalised_data)\n",
    "# print(\"---------------Original data---------------\")\n",
    "# print(denormalise_timese"
   ]
  },
  {
   "cell_type": "code",
   "execution_count": 46,
   "id": "62e69355",
   "metadata": {},
   "outputs": [
    {
     "data": {
      "text/plain": [
       "['tens']"
      ]
     },
     "execution_count": 46,
     "metadata": {},
     "output_type": "execute_result"
    }
   ],
   "source": [
    "# attr = list(df.columns.values)\n",
    "# attr = df.columns.values.tolist()\n",
    "# attr"
   ]
  },
  {
   "cell_type": "code",
   "execution_count": null,
   "id": "78694129",
   "metadata": {},
   "outputs": [],
   "source": []
  }
 ],
 "metadata": {
  "kernelspec": {
   "display_name": "Python 3 (ipykernel)",
   "language": "python",
   "name": "python3"
  },
  "language_info": {
   "codemirror_mode": {
    "name": "ipython",
    "version": 3
   },
   "file_extension": ".py",
   "mimetype": "text/x-python",
   "name": "python",
   "nbconvert_exporter": "python",
   "pygments_lexer": "ipython3",
   "version": "3.10.2"
  }
 },
 "nbformat": 4,
 "nbformat_minor": 5
}
