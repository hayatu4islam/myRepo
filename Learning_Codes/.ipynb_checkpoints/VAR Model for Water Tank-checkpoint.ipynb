{
 "cells": [
  {
   "cell_type": "markdown",
   "id": "c984ba00",
   "metadata": {},
   "source": [
    "### Examine the Data"
   ]
  },
  {
   "cell_type": "code",
   "execution_count": 249,
   "id": "6098fb4a",
   "metadata": {},
   "outputs": [
    {
     "data": {
      "text/html": [
       "<div>\n",
       "<style scoped>\n",
       "    .dataframe tbody tr th:only-of-type {\n",
       "        vertical-align: middle;\n",
       "    }\n",
       "\n",
       "    .dataframe tbody tr th {\n",
       "        vertical-align: top;\n",
       "    }\n",
       "\n",
       "    .dataframe thead th {\n",
       "        text-align: right;\n",
       "    }\n",
       "</style>\n",
       "<table border=\"1\" class=\"dataframe\">\n",
       "  <thead>\n",
       "    <tr style=\"text-align: right;\">\n",
       "      <th></th>\n",
       "      <th>Tank1WaterLevel</th>\n",
       "      <th>Tank2WaterLevel</th>\n",
       "      <th>Tank1InFlow</th>\n",
       "      <th>Tank2OutFlow</th>\n",
       "      <th>wt3_valve</th>\n",
       "      <th>Tank3OutFlow</th>\n",
       "      <th>Tank2.level</th>\n",
       "    </tr>\n",
       "    <tr>\n",
       "      <th>Time</th>\n",
       "      <th></th>\n",
       "      <th></th>\n",
       "      <th></th>\n",
       "      <th></th>\n",
       "      <th></th>\n",
       "      <th></th>\n",
       "      <th></th>\n",
       "    </tr>\n",
       "  </thead>\n",
       "  <tbody>\n",
       "    <tr>\n",
       "      <th>0.00</th>\n",
       "      <td>1.000000e-06</td>\n",
       "      <td>0.000000e+00</td>\n",
       "      <td>0</td>\n",
       "      <td>0.0</td>\n",
       "      <td>0</td>\n",
       "      <td>0.0</td>\n",
       "      <td>0.0</td>\n",
       "    </tr>\n",
       "    <tr>\n",
       "      <th>0.05</th>\n",
       "      <td>6.890000e-07</td>\n",
       "      <td>3.110000e-07</td>\n",
       "      <td>0</td>\n",
       "      <td>0.0</td>\n",
       "      <td>0</td>\n",
       "      <td>0.0</td>\n",
       "      <td>0.0</td>\n",
       "    </tr>\n",
       "    <tr>\n",
       "      <th>0.10</th>\n",
       "      <td>3.333928e-03</td>\n",
       "      <td>4.050000e-07</td>\n",
       "      <td>1</td>\n",
       "      <td>0.0</td>\n",
       "      <td>0</td>\n",
       "      <td>0.0</td>\n",
       "      <td>0.0</td>\n",
       "    </tr>\n",
       "    <tr>\n",
       "      <th>0.15</th>\n",
       "      <td>5.448433e-02</td>\n",
       "      <td>8.850002e-03</td>\n",
       "      <td>1</td>\n",
       "      <td>0.0</td>\n",
       "      <td>0</td>\n",
       "      <td>0.0</td>\n",
       "      <td>0.0</td>\n",
       "    </tr>\n",
       "    <tr>\n",
       "      <th>0.20</th>\n",
       "      <td>7.717051e-02</td>\n",
       "      <td>2.949715e-02</td>\n",
       "      <td>0</td>\n",
       "      <td>0.0</td>\n",
       "      <td>0</td>\n",
       "      <td>0.0</td>\n",
       "      <td>0.0</td>\n",
       "    </tr>\n",
       "  </tbody>\n",
       "</table>\n",
       "</div>"
      ],
      "text/plain": [
       "      Tank1WaterLevel  Tank2WaterLevel  Tank1InFlow  Tank2OutFlow  wt3_valve  \\\n",
       "Time                                                                           \n",
       "0.00     1.000000e-06     0.000000e+00            0           0.0          0   \n",
       "0.05     6.890000e-07     3.110000e-07            0           0.0          0   \n",
       "0.10     3.333928e-03     4.050000e-07            1           0.0          0   \n",
       "0.15     5.448433e-02     8.850002e-03            1           0.0          0   \n",
       "0.20     7.717051e-02     2.949715e-02            0           0.0          0   \n",
       "\n",
       "      Tank3OutFlow  Tank2.level  \n",
       "Time                             \n",
       "0.00           0.0          0.0  \n",
       "0.05           0.0          0.0  \n",
       "0.10           0.0          0.0  \n",
       "0.15           0.0          0.0  \n",
       "0.20           0.0          0.0  "
      ]
     },
     "execution_count": 249,
     "metadata": {},
     "output_type": "execute_result"
    }
   ],
   "source": [
    "import pandas as pd\n",
    "import numpy as np\n",
    "import matplotlib.pyplot as plt\n",
    "%matplotlib inline\n",
    "\n",
    "# define the plot size default\n",
    "from pylab import rcParams\n",
    "rcParams['figure.figsize'] = (12,5)\n",
    "\n",
    "# load specific forecasting tools\n",
    "from statsmodels.tsa.api import VAR\n",
    "from statsmodels.tsa.stattools import adfuller\n",
    "from statsmodels.tsa.seasonal import seasonal_decompose\n",
    "from statsmodels.tools.eval_measures import mse,rmse\n",
    "\n",
    "# Ignore harmless warnings\n",
    "import warnings\n",
    "warnings.filterwarnings(\"ignore\")\n",
    "\n",
    "\n",
    "# Read the dataset\n",
    "df = pd.read_csv('waterTank_Golden.csv', index_col=0, header=0, parse_dates=True)\n",
    "df.index.freq = 'MS'\n",
    "\n",
    "df.head()\n"
   ]
  },
  {
   "cell_type": "code",
   "execution_count": 250,
   "id": "9d29322f",
   "metadata": {},
   "outputs": [
    {
     "data": {
      "text/plain": [
       "Tank1WaterLevel    0\n",
       "Tank2WaterLevel    0\n",
       "Tank1InFlow        0\n",
       "Tank2OutFlow       0\n",
       "wt3_valve          0\n",
       "Tank3OutFlow       0\n",
       "Tank2.level        0\n",
       "dtype: int64"
      ]
     },
     "execution_count": 250,
     "metadata": {},
     "output_type": "execute_result"
    }
   ],
   "source": [
    "df.isna().sum()"
   ]
  },
  {
   "cell_type": "code",
   "execution_count": 251,
   "id": "71aa0ae6",
   "metadata": {},
   "outputs": [
    {
     "data": {
      "text/plain": [
       "15001"
      ]
     },
     "execution_count": 251,
     "metadata": {},
     "output_type": "execute_result"
    }
   ],
   "source": [
    "len(df)"
   ]
  },
  {
   "cell_type": "markdown",
   "id": "beefbc71",
   "metadata": {},
   "source": [
    "### Plot the source data"
   ]
  },
  {
   "cell_type": "code",
   "execution_count": 252,
   "id": "2b2f8f9c",
   "metadata": {},
   "outputs": [
    {
     "data": {
      "image/png": "[encoded data removed]",
      "text/plain": [
       "<Figure size 864x360 with 1 Axes>"
      ]
     },
     "metadata": {
      "needs_background": "light"
     },
     "output_type": "display_data"
    }
   ],
   "source": [
    "# ['Tank1WaterLevel', 'Tank2WaterLevel', 'Tank1InFlow', 'Tank2OutFlow', 'wt3_valve', 'Tank3OutFlow', 'Tank2.level']\n",
    "title = '3 Water Tank Sensor Data'\n",
    "ylabel = 'Sensor value'\n",
    "xlabel = ''\n",
    "ax = df['Tank1WaterLevel'].plot(legend=True, title=title)\n",
    "ax.autoscale(axis='x', tight=True)\n",
    "ax.set(xlabel=xlabel, ylabel=ylabel)\n",
    "df['Tank2WaterLevel'].plot(legend=True)\n",
    "df['Tank1InFlow'].plot(legend=True)\n",
    "df['Tank2OutFlow'].plot(legend=True)\n",
    "# df['wt3_valve'].plot(legend=True)\n",
    "# df['Tank3OutFlow'].plot(legend=True)\n",
    "df['Tank2.level'].plot(legend=True)\n",
    "plt.show()"
   ]
  },
  {
   "cell_type": "code",
   "execution_count": 253,
   "id": "821af4bf",
   "metadata": {},
   "outputs": [],
   "source": [
    "# Augmented Dickey-Fuller Test\n",
    "def adf_test(series, title=''):\n",
    "    '''\n",
    "    Hypothesis Test for Stationarity\n",
    "    Pass in a time series and an optional title, return an ADF report\n",
    "    '''\n",
    "    print(f'Augmented Dickey-Fuller Test: {title}')\n",
    "    result = adfuller(series.dropna(),autolag='AIC')\n",
    "    labels = ['ADF test statistics','p-value','#lags','#observations'] # use help(adfuller) to understand why these labels are chosen\n",
    "    \n",
    "    outcome = pd.Series(result[0:4],index=labels)\n",
    "    \n",
    "    for key,val in result[4].items():\n",
    "        outcome[f'critical value ({key})'] = val\n",
    "        \n",
    "    print(outcome.to_string()) # this will not print the line 'dtype:float64'\n",
    "    \n",
    "    if result[1] <= 0.05:\n",
    "        print('Strong evidence against the null hypothesis') # Ho is Data is not stationary, check help(adfuller)\n",
    "        print('Reject the null hypothesis')\n",
    "        print('Data is Stationary')\n",
    "    else:\n",
    "        print('Weak evidence against the Null hypothesis')\n",
    "        print('Fail to reject the null hypothesis')\n",
    "        print('Data has a unit root and is non stationary')"
   ]
  },
  {
   "cell_type": "code",
   "execution_count": 254,
   "id": "f0470d17",
   "metadata": {
    "scrolled": true
   },
   "outputs": [
    {
     "name": "stdout",
     "output_type": "stream",
     "text": [
      "Augmented Dickey-Fuller Test: \n",
      "ADF test statistics    -1.325979e+01\n",
      "p-value                 8.443583e-25\n",
      "#lags                   4.200000e+01\n",
      "#observations           1.495800e+04\n",
      "critical value (1%)    -3.430787e+00\n",
      "critical value (5%)    -2.861733e+00\n",
      "critical value (10%)   -2.566873e+00\n",
      "Strong evidence against the null hypothesis\n",
      "Reject the null hypothesis\n",
      "Data is Stationary\n"
     ]
    }
   ],
   "source": [
    "adf_test(df['Tank1WaterLevel'])"
   ]
  },
  {
   "cell_type": "markdown",
   "id": "aedebd8a",
   "metadata": {},
   "source": [
    "Take the first order difference of the entire dataframe and re-run the dickey fuller test"
   ]
  },
  {
   "cell_type": "code",
   "execution_count": 255,
   "id": "6805fa8f",
   "metadata": {
    "scrolled": true
   },
   "outputs": [
    {
     "data": {
      "text/html": [
       "<div>\n",
       "<style scoped>\n",
       "    .dataframe tbody tr th:only-of-type {\n",
       "        vertical-align: middle;\n",
       "    }\n",
       "\n",
       "    .dataframe tbody tr th {\n",
       "        vertical-align: top;\n",
       "    }\n",
       "\n",
       "    .dataframe thead th {\n",
       "        text-align: right;\n",
       "    }\n",
       "</style>\n",
       "<table border=\"1\" class=\"dataframe\">\n",
       "  <thead>\n",
       "    <tr style=\"text-align: right;\">\n",
       "      <th></th>\n",
       "      <th>Tank1WaterLevel</th>\n",
       "      <th>Tank2WaterLevel</th>\n",
       "      <th>Tank1InFlow</th>\n",
       "      <th>Tank2OutFlow</th>\n",
       "      <th>wt3_valve</th>\n",
       "      <th>Tank3OutFlow</th>\n",
       "      <th>Tank2.level</th>\n",
       "    </tr>\n",
       "    <tr>\n",
       "      <th>Time</th>\n",
       "      <th></th>\n",
       "      <th></th>\n",
       "      <th></th>\n",
       "      <th></th>\n",
       "      <th></th>\n",
       "      <th></th>\n",
       "      <th></th>\n",
       "    </tr>\n",
       "  </thead>\n",
       "  <tbody>\n",
       "    <tr>\n",
       "      <th>0.00</th>\n",
       "      <td>1.000000e-06</td>\n",
       "      <td>0.000000e+00</td>\n",
       "      <td>0</td>\n",
       "      <td>0.0</td>\n",
       "      <td>0</td>\n",
       "      <td>0.0</td>\n",
       "      <td>0.0</td>\n",
       "    </tr>\n",
       "    <tr>\n",
       "      <th>0.05</th>\n",
       "      <td>6.890000e-07</td>\n",
       "      <td>3.110000e-07</td>\n",
       "      <td>0</td>\n",
       "      <td>0.0</td>\n",
       "      <td>0</td>\n",
       "      <td>0.0</td>\n",
       "      <td>0.0</td>\n",
       "    </tr>\n",
       "    <tr>\n",
       "      <th>0.10</th>\n",
       "      <td>3.333928e-03</td>\n",
       "      <td>4.050000e-07</td>\n",
       "      <td>1</td>\n",
       "      <td>0.0</td>\n",
       "      <td>0</td>\n",
       "      <td>0.0</td>\n",
       "      <td>0.0</td>\n",
       "    </tr>\n",
       "    <tr>\n",
       "      <th>0.15</th>\n",
       "      <td>5.448433e-02</td>\n",
       "      <td>8.850002e-03</td>\n",
       "      <td>1</td>\n",
       "      <td>0.0</td>\n",
       "      <td>0</td>\n",
       "      <td>0.0</td>\n",
       "      <td>0.0</td>\n",
       "    </tr>\n",
       "    <tr>\n",
       "      <th>0.20</th>\n",
       "      <td>7.717051e-02</td>\n",
       "      <td>2.949715e-02</td>\n",
       "      <td>0</td>\n",
       "      <td>0.0</td>\n",
       "      <td>0</td>\n",
       "      <td>0.0</td>\n",
       "      <td>0.0</td>\n",
       "    </tr>\n",
       "  </tbody>\n",
       "</table>\n",
       "</div>"
      ],
      "text/plain": [
       "      Tank1WaterLevel  Tank2WaterLevel  Tank1InFlow  Tank2OutFlow  wt3_valve  \\\n",
       "Time                                                                           \n",
       "0.00     1.000000e-06     0.000000e+00            0           0.0          0   \n",
       "0.05     6.890000e-07     3.110000e-07            0           0.0          0   \n",
       "0.10     3.333928e-03     4.050000e-07            1           0.0          0   \n",
       "0.15     5.448433e-02     8.850002e-03            1           0.0          0   \n",
       "0.20     7.717051e-02     2.949715e-02            0           0.0          0   \n",
       "\n",
       "      Tank3OutFlow  Tank2.level  \n",
       "Time                             \n",
       "0.00           0.0          0.0  \n",
       "0.05           0.0          0.0  \n",
       "0.10           0.0          0.0  \n",
       "0.15           0.0          0.0  \n",
       "0.20           0.0          0.0  "
      ]
     },
     "execution_count": 255,
     "metadata": {},
     "output_type": "execute_result"
    }
   ],
   "source": [
    "# All the correlated features are stationary.\n",
    "df.head()"
   ]
  },
  {
   "cell_type": "markdown",
   "id": "c5e1f6a2",
   "metadata": {},
   "source": [
    "### Normalisation of the dataset"
   ]
  },
  {
   "cell_type": "code",
   "execution_count": 256,
   "id": "1c8f6d2a",
   "metadata": {},
   "outputs": [
    {
     "data": {
      "text/plain": [
       "(3, 3)"
      ]
     },
     "execution_count": 256,
     "metadata": {},
     "output_type": "execute_result"
    }
   ],
   "source": [
    "time_series_data = np.array([[1,2,3],[4,5,6],[7,8,9]])\n",
    "time_series_data.shape"
   ]
  },
  {
   "cell_type": "code",
   "execution_count": 257,
   "id": "b36fc67b",
   "metadata": {},
   "outputs": [
    {
     "name": "stdout",
     "output_type": "stream",
     "text": [
      "---------------Original data---------------\n",
      "[[1 2 3]\n",
      " [4 5 6]\n",
      " [7 8 9]]\n",
      "---------------Normalised data---------------\n",
      "[[-1.22474487 -1.22474487 -1.22474487]\n",
      " [ 0.          0.          0.        ]\n",
      " [ 1.22474487  1.22474487  1.22474487]]\n",
      "---------------Original data---------------\n",
      "[[1. 2. 3.]\n",
      " [4. 5. 6.]\n",
      " [7. 8. 9.]]\n"
     ]
    }
   ],
   "source": [
    "def normalise_timeseries(data):\n",
    "    # Calculate the mean and standard deviation for each feature\n",
    "    means = np.mean(data, axis=0)\n",
    "    stds = np.std(data, axis=0)\n",
    "    \n",
    "    # Normalise each feature using standard deviation\n",
    "    normalised_data = (data - means) / stds\n",
    "    \n",
    "    return normalised_data, means, stds\n",
    "\n",
    "def denormalise_timeseries(data, means, stds):\n",
    "    denormalised_data = (data * stds) + means\n",
    "    return denormalised_data\n",
    "\n",
    "\n",
    "time_series_data = np.array([[1,2,3],[4,5,6],[7,8,9]])\n",
    "\n",
    "normalised_data, means, stds = normalise_timeseries(time_series_data)\n",
    "print(\"---------------Original data---------------\")\n",
    "print(time_series_data)\n",
    "print(\"---------------Normalised data---------------\")\n",
    "print(normalised_data)\n",
    "print(\"---------------Original data---------------\")\n",
    "print(denormalise_timeseries(normalised_data, means, stds))"
   ]
  },
  {
   "cell_type": "code",
   "execution_count": 258,
   "id": "1516844d",
   "metadata": {},
   "outputs": [
    {
     "data": {
      "text/plain": [
       "(        Tank1WaterLevel  Tank2WaterLevel  Tank1InFlow  Tank2OutFlow  \\\n",
       " Time                                                                  \n",
       " 0.00         -11.918320       -11.820661    -1.001802    -10.143714   \n",
       " 0.05         -11.918321       -11.820660    -1.001802    -10.143714   \n",
       " 0.10         -11.905215       -11.820660     0.998202    -10.143714   \n",
       " 0.15         -11.704101       -11.785282     0.998202    -10.143714   \n",
       " 0.20         -11.614902       -11.702742    -1.001802    -10.143714   \n",
       " ...                 ...              ...          ...           ...   \n",
       " 749.80         0.241088         0.188868    -1.001802      0.181158   \n",
       " 749.85         0.157189         0.194102    -1.001802      0.196210   \n",
       " 749.90         0.065612         0.167090    -1.001802      0.180843   \n",
       " 749.95         0.148211         0.149779     0.998202      0.158603   \n",
       " 750.00         0.250945         0.165480     0.998202      0.159885   \n",
       " \n",
       "         wt3_valve  Tank3OutFlow  Tank2.level  \n",
       " Time                                          \n",
       " 0.00    -0.581122     -0.560669    -4.024580  \n",
       " 0.05    -0.581122     -0.560669    -4.024580  \n",
       " 0.10    -0.581122     -0.560669    -4.024580  \n",
       " 0.15    -0.581122     -0.560669    -4.024580  \n",
       " 0.20    -0.581122     -0.560669    -4.024580  \n",
       " ...           ...           ...          ...  \n",
       " 749.80  -0.581122     -0.560669     1.382379  \n",
       " 749.85  -0.581122     -0.560669     1.438112  \n",
       " 749.90  -0.581122     -0.560669     1.521845  \n",
       " 749.95  -0.581122     -0.560669     1.577595  \n",
       " 750.00  -0.581122     -0.560669     1.661041  \n",
       " \n",
       " [15001 rows x 7 columns],\n",
       " Tank1WaterLevel    3.031244\n",
       " Tank2WaterLevel    2.956900\n",
       " Tank1InFlow        0.500900\n",
       " Tank2OutFlow       0.491522\n",
       " wt3_valve          0.252450\n",
       " Tank3OutFlow       0.478120\n",
       " Tank2.level        1.444786\n",
       " dtype: float64,\n",
       " Tank1WaterLevel    0.254335\n",
       " Tank2WaterLevel    0.250147\n",
       " Tank1InFlow        0.499999\n",
       " Tank2OutFlow       0.048456\n",
       " wt3_valve          0.434418\n",
       " Tank3OutFlow       0.852766\n",
       " Tank2.level        0.358990\n",
       " dtype: float64)"
      ]
     },
     "execution_count": 258,
     "metadata": {},
     "output_type": "execute_result"
    }
   ],
   "source": [
    "norm_df = normalise_timeseries(df)\n",
    "df = norm_df\n",
    "df"
   ]
  },
  {
   "cell_type": "code",
   "execution_count": 264,
   "id": "cd0554ad",
   "metadata": {},
   "outputs": [],
   "source": [
    "# # Train Test Split\n",
    "# nobs = 3000\n",
    "# train = df.iloc[:-nobs]\n",
    "# test = df.iloc[-nobs:]\n",
    "# len(train), len(test)"
   ]
  },
  {
   "cell_type": "code",
   "execution_count": 260,
   "id": "6eddda56",
   "metadata": {},
   "outputs": [
    {
     "data": {
      "text/plain": [
       "(0, 3)"
      ]
     },
     "execution_count": 260,
     "metadata": {},
     "output_type": "execute_result"
    }
   ],
   "source": [
    "# Train Test Split\n",
    "nobs = 3000\n",
    "train = df[:-nobs]\n",
    "test = df[-nobs:]\n",
    "len(train), len(test)"
   ]
  },
  {
   "cell_type": "code",
   "execution_count": 263,
   "id": "b348900c",
   "metadata": {},
   "outputs": [
    {
     "data": {
      "text/plain": [
       "(0, 0)"
      ]
     },
     "execution_count": 263,
     "metadata": {},
     "output_type": "execute_result"
    }
   ],
   "source": [
    "pd.DataFrame(train).shape"
   ]
  },
  {
   "cell_type": "markdown",
   "id": "a858a018",
   "metadata": {},
   "source": [
    "### VAR Model Order Selection"
   ]
  },
  {
   "cell_type": "code",
   "execution_count": null,
   "id": "59dfcbd1",
   "metadata": {
    "scrolled": true
   },
   "outputs": [],
   "source": [
    "p = [1,2,3,4,5,6,7] # try with list of 7 p values\n",
    "p = list(range(1,20))\n",
    "aic, bic = [], []\n",
    "for i in p:\n",
    "    model = VAR(train)\n",
    "    results = model.fit(i)\n",
    "    aic.append(results.aic)\n",
    "    bic.append(results.bic)\n",
    "    print(f'VAR Order {i}')\n",
    "    print('AIC: {}'.format(results.aic))\n",
    "    print('BIC: {}'.format(results.bic))\n",
    "    print()\n",
    "\n",
    "min_aic = min(aic)\n",
    "min_aic_index = aic.index(min_aic) + 1\n",
    "min_bic = min(bic)\n",
    "min_bic_index = bic.index(min_bic) + 1\n",
    "print('Order {0} has the least AIC value. Let us select p = {0} in the modelling'.format(min_aic_index))\n"
   ]
  },
  {
   "cell_type": "code",
   "execution_count": null,
   "id": "7455a1f4",
   "metadata": {},
   "outputs": [],
   "source": [
    "# let's confirm that both the variables are included in the model\n",
    "model.endog_names"
   ]
  },
  {
   "cell_type": "markdown",
   "id": "b5bc6f40",
   "metadata": {},
   "source": [
    "### Fit the VAR {{min_aic_index}}  model"
   ]
  },
  {
   "cell_type": "code",
   "execution_count": null,
   "id": "f1d2ae88",
   "metadata": {},
   "outputs": [],
   "source": [
    "min_aic_index"
   ]
  },
  {
   "cell_type": "code",
   "execution_count": null,
   "id": "d04d19bc",
   "metadata": {},
   "outputs": [],
   "source": [
    "results = model.fit(min_aic_index)\n",
    "results.summary()"
   ]
  },
  {
   "cell_type": "markdown",
   "id": "57f065a2",
   "metadata": {},
   "source": [
    "### Predict the next 20 values"
   ]
  },
  {
   "cell_type": "code",
   "execution_count": null,
   "id": "64ff404a",
   "metadata": {},
   "outputs": [],
   "source": [
    "# For predictions, VAR model uses .forecast() instead of predictions.\n",
    "lag_order = results.k_ar\n",
    "lag_order"
   ]
  },
  {
   "cell_type": "code",
   "execution_count": null,
   "id": "d442cb5c",
   "metadata": {},
   "outputs": [],
   "source": [
    "df.head()"
   ]
  },
  {
   "cell_type": "code",
   "execution_count": null,
   "id": "d17ce649",
   "metadata": {},
   "outputs": [],
   "source": [
    "steps = 20\n",
    "# z = results.forecast(y=train.values[-lag_order:], steps = 20)\n",
    "z = results.forecast(y=train.values[-lag_order:], steps=steps)\n",
    "z"
   ]
  },
  {
   "cell_type": "code",
   "execution_count": null,
   "id": "814457df",
   "metadata": {},
   "outputs": [],
   "source": [
    "test"
   ]
  },
  {
   "cell_type": "code",
   "execution_count": null,
   "id": "115a77c4",
   "metadata": {},
   "outputs": [],
   "source": [
    "# idx = pd.date_range(start='1/1/2015', periods=12, freq='MS')\n",
    "# df_forecast = pd.DataFrame(z, index=idx, columns=['Tank1WaterLevel', 'Tank2WaterLevel', 'Tank1InFlow', 'Tank2OutFlow', 'wt3_valve', 'Tank3OutFlow', 'Tank2.level'])\n",
    "df_forecast = pd.DataFrame(z, columns=['Tank1WaterLevel', 'Tank2WaterLevel', 'Tank1InFlow', 'Tank2OutFlow', 'wt3_valve', 'Tank3OutFlow', 'Tank2.level'])\n",
    "df_forecast[:5]"
   ]
  },
  {
   "cell_type": "markdown",
   "id": "128c8a6d",
   "metadata": {},
   "source": [
    "### Plot the results"
   ]
  },
  {
   "cell_type": "code",
   "execution_count": null,
   "id": "4bd11e63",
   "metadata": {},
   "outputs": [],
   "source": [
    "attr = ['Tank1WaterLevel', 'Tank2WaterLevel', 'Tank1InFlow', 'Tank2OutFlow', 'wt3_valve', 'Tank3OutFlow', 'Tank2.level']\n",
    "for i in range(len(attr)):\n",
    "    title = \"Prediction of {}\".format(attr[i])\n",
    "    actual_index = pd.Index(list(range(lag_order)))\n",
    "    actual = train.iloc[-lag_order:,:]\n",
    "    \n",
    "    index = pd.Index(list(range(lag_order, lag_order + steps)))\n",
    "    actual = actual.set_index(actual_index)\n",
    "    pred = df_forecast.set_index(index)\n",
    "    actual_test = test.iloc[:lag_order+1,:].set_index(index)\n",
    "    # draw a vertical line at x=19\n",
    "    plt.axvline(x=lag_order, ls='--', color='red')\n",
    "#     pred = df_forecast\n",
    "    plt.title(title)\n",
    "    plt.xlabel(\"Timestep\")\n",
    "    plt.ylabel(\"Values\")\n",
    "    plt.plot(actual.iloc[:,i])\n",
    "    plt.plot(pred.iloc[:,i], label=\"forecast\")\n",
    "    plt.plot(actual_test.iloc[:,i], label=\"actual\")\n",
    "    plt.legend()\n",
    "    plt.show()"
   ]
  },
  {
   "cell_type": "markdown",
   "id": "6639790e",
   "metadata": {},
   "source": [
    "### Model Evaluation"
   ]
  },
  {
   "cell_type": "code",
   "execution_count": null,
   "id": "47978642",
   "metadata": {},
   "outputs": [],
   "source": [
    "results.plot();"
   ]
  },
  {
   "cell_type": "code",
   "execution_count": null,
   "id": "14c48e4c",
   "metadata": {
    "scrolled": true
   },
   "outputs": [],
   "source": [
    "results.plot_forecast(20);"
   ]
  },
  {
   "cell_type": "code",
   "execution_count": null,
   "id": "a5c46497",
   "metadata": {},
   "outputs": [],
   "source": [
    "len(df_forecast)"
   ]
  },
  {
   "cell_type": "code",
   "execution_count": null,
   "id": "f033b7d3",
   "metadata": {},
   "outputs": [],
   "source": [
    "len(df['Tank1WaterLevel'].iloc[:steps])"
   ]
  },
  {
   "cell_type": "markdown",
   "id": "e998b529",
   "metadata": {},
   "source": [
    "### Model Evaluation"
   ]
  },
  {
   "cell_type": "code",
   "execution_count": null,
   "id": "9345b8d4",
   "metadata": {},
   "outputs": [],
   "source": [
    "# attr = ['Tank1WaterLevel', 'Tank2WaterLevel', 'Tank1InFlow', 'Tank2OutFlow', 'wt3_valve', 'Tank3OutFlow', 'Tank2.level']\n",
    "RMSE = []\n",
    "for feat in attr:\n",
    "    RMSE.append(rmse(df[feat].iloc[:steps], df_forecast[feat]))\n",
    "\n",
    "print(RMSE)"
   ]
  },
  {
   "cell_type": "markdown",
   "id": "0e11c053",
   "metadata": {},
   "source": [
    "### Save the model"
   ]
  },
  {
   "cell_type": "code",
   "execution_count": null,
   "id": "a94962ff",
   "metadata": {},
   "outputs": [],
   "source": [
    "# Serialize andsave the model\n",
    "import pickle\n",
    "import statsmodels.api as sm\n",
    "with open('var_golden_model.pkl', 'wb') as f:\n",
    "    pickle.dump(results.params, f)\n",
    "print(\"Model saved!\")"
   ]
  },
  {
   "cell_type": "markdown",
   "id": "1fccfc25",
   "metadata": {},
   "source": [
    "### Define the faulty data"
   ]
  },
  {
   "cell_type": "code",
   "execution_count": null,
   "id": "7e151aea",
   "metadata": {},
   "outputs": [],
   "source": [
    "# faulty_data = pd.read_csv('test_fault.csv', index_col=0, header=0, parse_dates=True)\n",
    "faulty_data = pd.read_csv('test_extend.csv', index_col=0, header=0, parse_dates=True)\n",
    "faulty_data.index.freq = 'MS'\n",
    "num_obs = 3000\n",
    "\n",
    "# train_faulty = faulty_data.iloc[-num_obs:]\n",
    "# test_faulty = faulty_data.iloc[:-num_obs]\n",
    "\n",
    "train_faulty = faulty_data.iloc[:-num_obs]\n",
    "test_faulty = faulty_data.iloc[-num_obs:]\n",
    "len(train_faulty), len(test_faulty)"
   ]
  },
  {
   "cell_type": "markdown",
   "id": "44181d97",
   "metadata": {},
   "source": [
    "### Load the model and reconstruct VAR"
   ]
  },
  {
   "cell_type": "code",
   "execution_count": null,
   "id": "a50237d3",
   "metadata": {},
   "outputs": [],
   "source": [
    "with open('var_golden_model.pkl', 'rb') as f:\n",
    "    params = pickle.load(f)\n",
    "    \n",
    "golden_model = sm.tsa.VAR(train)\n",
    "golden_model.params = params\n",
    "golden_model_fit = golden_model.fit(min_aic_index)\n",
    "# golden_model_fit = golden_model.fit()\n",
    "golden_model_fit.summary()"
   ]
  },
  {
   "cell_type": "markdown",
   "id": "a24a884d",
   "metadata": {},
   "source": [
    "### Forecast using faulty data"
   ]
  },
  {
   "cell_type": "code",
   "execution_count": null,
   "id": "70dc8078",
   "metadata": {},
   "outputs": [],
   "source": [
    "# Use the loaded model to make predictions or perform other analyses\n",
    "forecast = golden_model_fit.forecast(y=train_faulty.values[-lag_order:], steps=20)\n",
    "# forecast = golden_model_fit.forecast(params, start=len(train), end=len(train)+10)\n",
    "forecast"
   ]
  },
  {
   "cell_type": "code",
   "execution_count": null,
   "id": "62bcc61f",
   "metadata": {},
   "outputs": [],
   "source": [
    "test_faulty"
   ]
  },
  {
   "cell_type": "code",
   "execution_count": null,
   "id": "407a671a",
   "metadata": {},
   "outputs": [],
   "source": [
    "fault_forecast = pd.DataFrame(forecast, columns=['Tank1WaterLevel', 'Tank2WaterLevel', 'Tank1InFlow', 'Tank2OutFlow', 'wt3_valve', 'Tank3OutFlow', 'Tank2.level'])\n",
    "\n",
    "attr = ['Tank1WaterLevel', 'Tank2WaterLevel', 'Tank1InFlow', 'Tank2OutFlow', 'wt3_valve', 'Tank3OutFlow', 'Tank2.level']\n",
    "for i in range(len(attr)):\n",
    "    title = \"Prediction of {}\".format(attr[i])\n",
    "    actual_index_f = pd.Index(list(range(lag_order)))\n",
    "    actual_f = train_faulty.iloc[-lag_order:,:]\n",
    "    \n",
    "    index_f = pd.Index(list(range(lag_order, lag_order + steps)))\n",
    "    actual_f = actual_f.set_index(actual_index_f)\n",
    "    pred_f = fault_forecast.set_index(index_f)\n",
    "    actual_test_f = test_faulty.iloc[:lag_order+1,:].set_index(index_f)\n",
    "    # draw a vertical line at x=19\n",
    "    plt.axvline(x=lag_order, ls='--', color='red')\n",
    "#     pred = df_forecast\n",
    "    plt.title(title)\n",
    "    plt.xlabel(\"Timestep\")\n",
    "    plt.ylabel(\"Values\")\n",
    "    plt.plot(actual_f.iloc[:,i])\n",
    "    plt.plot(pred_f.iloc[:,i], label=\"forecast\")\n",
    "    plt.plot(actual_test_f.iloc[:,i], label=\"actual\")\n",
    "    plt.legend()\n",
    "    plt.show()"
   ]
  },
  {
   "cell_type": "code",
   "execution_count": null,
   "id": "b4d903ee",
   "metadata": {},
   "outputs": [],
   "source": [
    "# attr = ['Tank1WaterLevel', 'Tank2WaterLevel', 'Tank1InFlow', 'Tank2OutFlow', 'wt3_valve', 'Tank3OutFlow', 'Tank2.level']\n",
    "RMSEf = []\n",
    "for feat in attr:\n",
    "    RMSEf.append(rmse(df[feat].iloc[:steps], fault_forecast[feat]))\n",
    "\n",
    "print(RMSEf)"
   ]
  },
  {
   "cell_type": "markdown",
   "id": "a8ef9bf9",
   "metadata": {},
   "source": [
    "Evaluation of the model's performance can be done using the following:\n",
    "- Accuracy\n",
    "- Precision\n",
    "- Recall\n",
    "- F1 score"
   ]
  },
  {
   "cell_type": "markdown",
   "id": "ba0277f0",
   "metadata": {},
   "source": [
    "### Increasing the duration of faults"
   ]
  },
  {
   "cell_type": "code",
   "execution_count": null,
   "id": "9fb48c24",
   "metadata": {},
   "outputs": [],
   "source": [
    "faulty_data_extend = pd.read_csv('test_extend.csv', index_col=0, header=0, parse_dates=True)\n",
    "\n",
    "faulty_data_extend.index.freq = 'MS'\n",
    "num_obs = 3000\n",
    "\n",
    "# train_faulty = faulty_data.iloc[-num_obs:]\n",
    "# test_faulty = faulty_data.iloc[:-num_obs]\n",
    "\n",
    "train_faulty_extend = faulty_data_extend.iloc[:-num_obs]\n",
    "test_faulty_extend = faulty_data_extend.iloc[-num_obs:]\n",
    "len(train_faulty_extend), len(test_faulty_extend)"
   ]
  },
  {
   "cell_type": "code",
   "execution_count": null,
   "id": "487fd29f",
   "metadata": {},
   "outputs": [],
   "source": [
    "# Use the loaded model to make predictions or perform other analyses\n",
    "forecast_extend = golden_model_fit.forecast(y=train_faulty_extend.values[-lag_order:], steps=20)"
   ]
  },
  {
   "cell_type": "code",
   "execution_count": null,
   "id": "40cd079e",
   "metadata": {},
   "outputs": [],
   "source": [
    "fault_forecast = pd.DataFrame(forecast_extend, columns=['Tank1WaterLevel', 'Tank2WaterLevel', 'Tank1InFlow', 'Tank2OutFlow', 'wt3_valve', 'Tank3OutFlow', 'Tank2.level'])\n",
    "\n",
    "attr = ['Tank1WaterLevel', 'Tank2WaterLevel', 'Tank1InFlow', 'Tank2OutFlow', 'wt3_valve', 'Tank3OutFlow', 'Tank2.level']\n",
    "for i in range(len(attr)):\n",
    "    title = \"Prediction of {}\".format(attr[i])\n",
    "    actual_index_f = pd.Index(list(range(lag_order)))\n",
    "    actual_f = train_faulty.iloc[-lag_order:,:]\n",
    "    \n",
    "    index_f = pd.Index(list(range(lag_order, lag_order + steps)))\n",
    "    actual_f = actual_f.set_index(actual_index_f)\n",
    "    pred_f = fault_forecast.set_index(index_f)\n",
    "    actual_test_f = test_faulty.iloc[:lag_order+1,:].set_index(index_f)\n",
    "    # draw a vertical line at x=19\n",
    "    plt.axvline(x=lag_order, ls='--', color='red')\n",
    "#     pred = df_forecast\n",
    "    plt.title(title)\n",
    "    plt.xlabel(\"Timestep\")\n",
    "    plt.ylabel(\"Values\")\n",
    "    plt.plot(actual_f.iloc[:,i])\n",
    "    plt.plot(pred_f.iloc[:,i], label=\"forecast\")\n",
    "    plt.plot(actual_test_f.iloc[:,i], label=\"actual\")\n",
    "    plt.legend()\n",
    "    plt.show()"
   ]
  },
  {
   "cell_type": "code",
   "execution_count": null,
   "id": "c81d90ff",
   "metadata": {},
   "outputs": [],
   "source": [
    "# attr = ['Tank1WaterLevel', 'Tank2WaterLevel', 'Tank1InFlow', 'Tank2OutFlow', 'wt3_valve', 'Tank3OutFlow', 'Tank2.level']\n",
    "RMSEf = []\n",
    "for feat in attr:\n",
    "    RMSEf.append(rmse(df[feat].iloc[:steps], fault_forecast[feat]))\n",
    "\n",
    "print(RMSEf)"
   ]
  },
  {
   "cell_type": "code",
   "execution_count": null,
   "id": "710d5b83",
   "metadata": {},
   "outputs": [],
   "source": []
  },
  {
   "cell_type": "code",
   "execution_count": null,
   "id": "d2fd5e66",
   "metadata": {},
   "outputs": [],
   "source": []
  },
  {
   "cell_type": "code",
   "execution_count": null,
   "id": "8c4aeb16",
   "metadata": {},
   "outputs": [],
   "source": []
  },
  {
   "cell_type": "markdown",
   "id": "eb5c657a",
   "metadata": {},
   "source": [
    "### Fault Detection"
   ]
  },
  {
   "cell_type": "code",
   "execution_count": null,
   "id": "eaa014fa",
   "metadata": {},
   "outputs": [],
   "source": [
    "import scipy.stats as stats\n",
    "from statsmodels.tsa.statespace.sarimax import SARIMAX\n"
   ]
  },
  {
   "cell_type": "code",
   "execution_count": null,
   "id": "d3e1723b",
   "metadata": {},
   "outputs": [],
   "source": [
    "# ndf = pd.read_csv('waterTank_Golden.csv', index_col=0, header=0, parse_dates=True)\n",
    "ndf = pd.read_csv('waterTank_ctrl_stuckAt0.csv', index_col=0)\n",
    "ndf.plot(figsize=(16,6))"
   ]
  },
  {
   "cell_type": "code",
   "execution_count": null,
   "id": "13daa024",
   "metadata": {},
   "outputs": [],
   "source": [
    "# Train best multivariate model\n",
    "var = VAR(fault_forecast)\n",
    "var_result = var.fit(min_aic_index)\n",
    "\n",
    "var_result.aic"
   ]
  },
  {
   "cell_type": "code",
   "execution_count": null,
   "id": "5be67798",
   "metadata": {},
   "outputs": [],
   "source": [
    "# Compute Train T2 metric\n",
    "residuals_mean = results.resid.values.mean(axis=0)\n",
    "residuals_std = results.resid.values.std(axis=0)\n",
    "\n",
    "residuals = (results.resid.values - residuals_mean) / residuals_std\n",
    "cov_residuals = np.linalg.inv(np.cov(residuals.T))\n",
    "\n",
    "T = np.diag((residuals).dot(cov_residuals).dot(residuals.T))\n",
    "T.shape"
   ]
  },
  {
   "cell_type": "code",
   "execution_count": null,
   "id": "8693c97a",
   "metadata": {},
   "outputs": [],
   "source": [
    "# Compute UCL\n",
    "\n",
    "m = results.nobs\n",
    "p = results.resid.shape[-1]\n",
    "alpha = 0.01\n",
    "\n",
    "# UCL = stats.f.ppf(1-alpha, dfn=p, dfd=m-p) * (p*(m+1)*(m-1)/(m*m-m*p))\n",
    "UCL = stats.f.ppf(alpha, dfn=p, dfd=m-p) * (p*(m+1)*(m-1)/(m*m-m*p))\n",
    "UCL"
   ]
  },
  {
   "cell_type": "code",
   "execution_count": null,
   "id": "aa88d1e4",
   "metadata": {},
   "outputs": [],
   "source": [
    "UCL = 500"
   ]
  },
  {
   "cell_type": "code",
   "execution_count": null,
   "id": "9ee4a44f",
   "metadata": {},
   "outputs": [],
   "source": [
    "# Plot Train T2 metric\n",
    "\n",
    "plt.figure(figsize=(16,6))\n",
    "# plt.plot(train.index[min_aic_index:], T)\n",
    "plt.plot(train.index[min_aic_index:], T)\n",
    "plt.ylabel('T-squared')\n",
    "plt.axhline(UCL, c='red', linestyle='--')"
   ]
  },
  {
   "cell_type": "code",
   "execution_count": null,
   "id": "45ca2cd7",
   "metadata": {},
   "outputs": [],
   "source": []
  },
  {
   "cell_type": "code",
   "execution_count": null,
   "id": "ec7777a3",
   "metadata": {},
   "outputs": [],
   "source": []
  },
  {
   "cell_type": "code",
   "execution_count": null,
   "id": "e50c5403",
   "metadata": {},
   "outputs": [],
   "source": [
    "0"
   ]
  }
 ],
 "metadata": {
  "kernelspec": {
   "display_name": "Python 3 (ipykernel)",
   "language": "python",
   "name": "python3"
  },
  "language_info": {
   "codemirror_mode": {
    "name": "ipython",
    "version": 3
   },
   "file_extension": ".py",
   "mimetype": "text/x-python",
   "name": "python",
   "nbconvert_exporter": "python",
   "pygments_lexer": "ipython3",
   "version": "3.10.2"
  }
 },
 "nbformat": 4,
 "nbformat_minor": 5
}
