{
 "cells": [
  {
   "cell_type": "markdown",
   "id": "2e894570",
   "metadata": {},
   "source": [
    "### Surrogate model using Gaussian Process"
   ]
  },
  {
   "cell_type": "code",
   "execution_count": 1,
   "id": "0d544c25",
   "metadata": {},
   "outputs": [
    {
     "name": "stdout",
     "output_type": "stream",
     "text": [
      "Predictions: [3.03129887 2.04910763]\n",
      "Prediction uncertainties: [0.31142621 0.71911445]\n"
     ]
    }
   ],
   "source": [
    "import numpy as np\n",
    "from sklearn.gaussian_process import GaussianProcessRegressor\n",
    "from sklearn.gaussian_process.kernels import RBF\n",
    "\n",
    "# step 1: Collect data\n",
    "X = np.array([[1,2],[3,4],[5,6]])\n",
    "y = np.array([1,2,3])\n",
    "\n",
    "# step 2: Define kernel function\n",
    "kernel = RBF(length_scale=1.0)\n",
    "\n",
    "# step 3: Train the Gaussian Process model\n",
    "model = GaussianProcessRegressor(kernel=kernel, n_restarts_optimizer=10)\n",
    "model.fit(X,y)\n",
    "\n",
    "# Step 4: Validate the model\n",
    "X_test = np.array([[7, 8], [9, 10]])\n",
    "y_pred, sigma = model.predict(X_test, return_std=True)\n",
    "\n",
    "# Step 5: Use the model for prediction\n",
    "print(\"Predictions:\", y_pred)\n",
    "print(\"Prediction uncertainties:\", sigma)"
   ]
  },
  {
   "cell_type": "code",
   "execution_count": null,
   "id": "2af981c1",
   "metadata": {},
   "outputs": [],
   "source": []
  }
 ],
 "metadata": {
  "kernelspec": {
   "display_name": "Python 3 (ipykernel)",
   "language": "python",
   "name": "python3"
  },
  "language_info": {
   "codemirror_mode": {
    "name": "ipython",
    "version": 3
   },
   "file_extension": ".py",
   "mimetype": "text/x-python",
   "name": "python",
   "nbconvert_exporter": "python",
   "pygments_lexer": "ipython3",
   "version": "3.10.2"
  }
 },
 "nbformat": 4,
 "nbformat_minor": 5
}
