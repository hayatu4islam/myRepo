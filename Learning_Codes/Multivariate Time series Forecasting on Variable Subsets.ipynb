{
 "cells": [
  {
   "cell_type": "code",
   "execution_count": null,
   "id": "15273e76",
   "metadata": {},
   "outputs": [],
   "source": []
  },
  {
   "cell_type": "code",
   "execution_count": 45,
   "id": "dddfe8ac",
   "metadata": {},
   "outputs": [
    {
     "ename": "IndexError",
     "evalue": "only integers, slices (`:`), ellipsis (`...`), numpy.newaxis (`None`) and integer or boolean arrays are valid indices",
     "output_type": "error",
     "traceback": [
      "\u001b[1;31m---------------------------------------------------------------------------\u001b[0m",
      "\u001b[1;31mIndexError\u001b[0m                                Traceback (most recent call last)",
      "Input \u001b[1;32mIn [45]\u001b[0m, in \u001b[0;36m<module>\u001b[1;34m\u001b[0m\n\u001b[0;32m     43\u001b[0m model\u001b[38;5;241m.\u001b[39mcompile(optimizer\u001b[38;5;241m=\u001b[39m\u001b[38;5;124m'\u001b[39m\u001b[38;5;124madam\u001b[39m\u001b[38;5;124m'\u001b[39m, loss\u001b[38;5;241m=\u001b[39m\u001b[38;5;124m'\u001b[39m\u001b[38;5;124mmse\u001b[39m\u001b[38;5;124m'\u001b[39m)\n\u001b[0;32m     45\u001b[0m \u001b[38;5;66;03m# define input/output sequences\u001b[39;00m\n\u001b[1;32m---> 46\u001b[0m train_X, train_y \u001b[38;5;241m=\u001b[39m \u001b[43mprepare_data\u001b[49m\u001b[43m(\u001b[49m\u001b[43mtrain_scaled\u001b[49m\u001b[43m,\u001b[49m\u001b[43m \u001b[49m\u001b[43mn_steps_in\u001b[49m\u001b[43m,\u001b[49m\u001b[43m \u001b[49m\u001b[43mn_steps_out\u001b[49m\u001b[43m,\u001b[49m\u001b[43m \u001b[49m\u001b[43mmodel_variables\u001b[49m\u001b[43m)\u001b[49m\n\u001b[0;32m     47\u001b[0m test_X, test_y \u001b[38;5;241m=\u001b[39m prepare_data(test_scaled, n_steps_in, n_steps_out, model_variables)\n\u001b[0;32m     49\u001b[0m \u001b[38;5;66;03m# fit model\u001b[39;00m\n",
      "Input \u001b[1;32mIn [45]\u001b[0m, in \u001b[0;36mprepare_data\u001b[1;34m(data, n_steps_in, n_steps_out, variables)\u001b[0m\n\u001b[0;32m      9\u001b[0m X, y \u001b[38;5;241m=\u001b[39m [], []\n\u001b[0;32m     10\u001b[0m \u001b[38;5;28;01mfor\u001b[39;00m i \u001b[38;5;129;01min\u001b[39;00m \u001b[38;5;28mrange\u001b[39m(\u001b[38;5;28mlen\u001b[39m(data)\u001b[38;5;241m-\u001b[39mn_steps_in\u001b[38;5;241m-\u001b[39mn_steps_out\u001b[38;5;241m+\u001b[39m\u001b[38;5;241m1\u001b[39m):\n\u001b[1;32m---> 11\u001b[0m     X\u001b[38;5;241m.\u001b[39mappend(\u001b[43mdata\u001b[49m\u001b[43m[\u001b[49m\u001b[43mi\u001b[49m\u001b[43m:\u001b[49m\u001b[43mi\u001b[49m\u001b[38;5;241;43m+\u001b[39;49m\u001b[43mn_steps_in\u001b[49m\u001b[43m,\u001b[49m\u001b[43m \u001b[49m\u001b[43mvariables\u001b[49m\u001b[43m]\u001b[49m)\n\u001b[0;32m     12\u001b[0m     y\u001b[38;5;241m.\u001b[39mappend(data[i\u001b[38;5;241m+\u001b[39mn_steps_in:i\u001b[38;5;241m+\u001b[39mn_steps_in\u001b[38;5;241m+\u001b[39mn_steps_out, variables])\n\u001b[0;32m     13\u001b[0m \u001b[38;5;28;01mreturn\u001b[39;00m np\u001b[38;5;241m.\u001b[39marray(X), np\u001b[38;5;241m.\u001b[39marray(y)\n",
      "\u001b[1;31mIndexError\u001b[0m: only integers, slices (`:`), ellipsis (`...`), numpy.newaxis (`None`) and integer or boolean arrays are valid indices"
     ]
    }
   ],
   "source": [
    "import pandas as pd\n",
    "import numpy as np\n",
    "from sklearn.preprocessing import MinMaxScaler\n",
    "from tensorflow.keras.models import Sequential\n",
    "from tensorflow.keras.layers import LSTM, Dense, RepeatVector, TimeDistributed\n",
    "\n",
    "# define function to prepare input/output sequences\n",
    "def prepare_data(data, n_steps_in, n_steps_out, variables):\n",
    "    X, y = [], []\n",
    "    for i in range(len(data)-n_steps_in-n_steps_out+1):\n",
    "        X.append(data[i:i+n_steps_in, variables])\n",
    "        y.append(data[i+n_steps_in:i+n_steps_in+n_steps_out, variables])\n",
    "    return np.array(X), np.array(y)\n",
    "\n",
    "# load dataset\n",
    "data = pd.read_csv('pollution3.csv', header=0, index_col=0)\n",
    "\n",
    "# define variables to forecast\n",
    "forecast_variables = ['pollution', 'temp']\n",
    "\n",
    "# select subset of variables for model input\n",
    "model_variables = list(set(data.columns) - set(forecast_variables))\n",
    "\n",
    "# split into train and test sets\n",
    "train_size = int(len(data) * 0.8)\n",
    "train, test = data[0:train_size], data[train_size:len(data)]\n",
    "\n",
    "# scale data\n",
    "scaler = MinMaxScaler()\n",
    "train_scaled = scaler.fit_transform(train)\n",
    "test_scaled = scaler.transform(test)\n",
    "\n",
    "# define model\n",
    "n_steps_in, n_steps_out = 7, 3\n",
    "n_features = len(model_variables)\n",
    "model = Sequential()\n",
    "model.add(LSTM(100, activation='relu', input_shape=(n_steps_in, n_features)))\n",
    "model.add(RepeatVector(n_steps_out))\n",
    "model.add(LSTM(100, activation='relu', return_sequences=True))\n",
    "model.add(TimeDistributed(Dense(len(forecast_variables))))\n",
    "\n",
    "# compile model\n",
    "model.compile(optimizer='adam', loss='mse')\n",
    "\n",
    "# define input/output sequences\n",
    "train_X, train_y = prepare_data(train_scaled, n_steps_in, n_steps_out, model_variables)\n",
    "test_X, test_y = prepare_data(test_scaled, n_steps_in, n_steps_out, model_variables)\n",
    "\n",
    "# fit model\n",
    "history = model.fit(train_X, train_y, epochs=30, batch_size=32, validation_data=(test_X, test_y), verbose=2, shuffle=False)\n",
    "\n",
    "# make forecast\n",
    "forecast_X = test_X[:, :, [data.columns.get_loc(variable) for variable in forecast_variables]]\n",
    "forecast_X_scaled = scaler.transform(forecast_X.reshape(-1, len(forecast_variables)))\n",
    "forecast_X_scaled = forecast_X_scaled.reshape(-1, n_steps_in, len(forecast_variables))\n",
    "forecast = model.predict(forecast_X_scaled)\n",
    "\n",
    "# rescale forecasted data\n",
    "forecast = scaler.inverse_transform(forecast.reshape(-1, len(forecast_variables)))\n",
    "forecast = forecast.reshape(-1, n_steps_out, len(forecast_variables))\n",
    "\n",
    "# evaluate forecast\n",
    "mse = np.mean((test_y - forecast)**2)\n",
    "print('MSE: %.3f' % mse)\n"
   ]
  },
  {
   "cell_type": "code",
   "execution_count": 43,
   "id": "817f3b3d",
   "metadata": {},
   "outputs": [
    {
     "ename": "IndexError",
     "evalue": "only integers, slices (`:`), ellipsis (`...`), numpy.newaxis (`None`) and integer or boolean arrays are valid indices",
     "output_type": "error",
     "traceback": [
      "\u001b[1;31m---------------------------------------------------------------------------\u001b[0m",
      "\u001b[1;31mIndexError\u001b[0m                                Traceback (most recent call last)",
      "Input \u001b[1;32mIn [43]\u001b[0m, in \u001b[0;36m<module>\u001b[1;34m\u001b[0m\n\u001b[0;32m     22\u001b[0m test_scaled \u001b[38;5;241m=\u001b[39m scaler\u001b[38;5;241m.\u001b[39mtransform(test)\n\u001b[0;32m     25\u001b[0m \u001b[38;5;66;03m# define input/output sequences\u001b[39;00m\n\u001b[1;32m---> 26\u001b[0m train_X, train_y \u001b[38;5;241m=\u001b[39m \u001b[43mprepare_data\u001b[49m\u001b[43m(\u001b[49m\u001b[43mtrain_scaled\u001b[49m\u001b[43m,\u001b[49m\u001b[43m \u001b[49m\u001b[43mn_steps_in\u001b[49m\u001b[43m,\u001b[49m\u001b[43m \u001b[49m\u001b[43mn_steps_out\u001b[49m\u001b[43m,\u001b[49m\u001b[43m \u001b[49m\u001b[43mmodel_variables\u001b[49m\u001b[43m)\u001b[49m\n\u001b[0;32m     27\u001b[0m test_X, test_y \u001b[38;5;241m=\u001b[39m prepare_data(test_scaled, n_steps_in, n_steps_out, model_variables)\n",
      "Input \u001b[1;32mIn [43]\u001b[0m, in \u001b[0;36mprepare_data\u001b[1;34m(data, n_steps_in, n_steps_out, variables)\u001b[0m\n\u001b[0;32m      2\u001b[0m X, y \u001b[38;5;241m=\u001b[39m [], []\n\u001b[0;32m      3\u001b[0m \u001b[38;5;28;01mfor\u001b[39;00m i \u001b[38;5;129;01min\u001b[39;00m \u001b[38;5;28mrange\u001b[39m(\u001b[38;5;28mlen\u001b[39m(data)\u001b[38;5;241m-\u001b[39mn_steps_in\u001b[38;5;241m-\u001b[39mn_steps_out\u001b[38;5;241m+\u001b[39m\u001b[38;5;241m1\u001b[39m):\n\u001b[1;32m----> 4\u001b[0m     X\u001b[38;5;241m.\u001b[39mappend(\u001b[43mdata\u001b[49m\u001b[43m[\u001b[49m\u001b[43mi\u001b[49m\u001b[43m:\u001b[49m\u001b[43mi\u001b[49m\u001b[38;5;241;43m+\u001b[39;49m\u001b[43mn_steps_in\u001b[49m\u001b[43m,\u001b[49m\u001b[43m \u001b[49m\u001b[43mvariables\u001b[49m\u001b[43m]\u001b[49m)\n\u001b[0;32m      5\u001b[0m     y\u001b[38;5;241m.\u001b[39mappend(data[i\u001b[38;5;241m+\u001b[39mn_steps_in:i\u001b[38;5;241m+\u001b[39mn_steps_in\u001b[38;5;241m+\u001b[39mn_steps_out, variables])\n\u001b[0;32m      6\u001b[0m \u001b[38;5;28;01mreturn\u001b[39;00m np\u001b[38;5;241m.\u001b[39marray(X), np\u001b[38;5;241m.\u001b[39marray(y)\n",
      "\u001b[1;31mIndexError\u001b[0m: only integers, slices (`:`), ellipsis (`...`), numpy.newaxis (`None`) and integer or boolean arrays are valid indices"
     ]
    }
   ],
   "source": [
    "def prepare_data(data, n_steps_in, n_steps_out, variables):\n",
    "    X, y = [], []\n",
    "    for i in range(len(data)-n_steps_in-n_steps_out+1):\n",
    "        X.append(data[i:i+n_steps_in, variables])\n",
    "        y.append(data[i+n_steps_in:i+n_steps_in+n_steps_out, variables])\n",
    "    return np.array(X), np.array(y)\n",
    "data = pd.read_csv('trig.csv', header=0)\n",
    "\n",
    "# define variables to forecast\n",
    "forecast_variables = ['sine', 'cosine']\n",
    "\n",
    "# select subset of variables for model input\n",
    "model_variables = list(set(data.columns) - set(forecast_variables))\n",
    "\n",
    "# split into train and test sets\n",
    "train_size = int(len(data) * 0.8)\n",
    "train, test = data[0:train_size], data[train_size:len(data)]\n",
    "\n",
    "# scale data\n",
    "scaler = MinMaxScaler()\n",
    "train_scaled = scaler.fit_transform(train)\n",
    "test_scaled = scaler.transform(test)\n",
    "\n",
    "\n",
    "# define input/output sequences\n",
    "train_X, train_y = prepare_data(train_scaled, n_steps_in, n_steps_out, model_variables)\n",
    "test_X, test_y = prepare_data(test_scaled, n_steps_in, n_steps_out, model_variables)\n",
    "\n"
   ]
  },
  {
   "cell_type": "code",
   "execution_count": null,
   "id": "d945b45c",
   "metadata": {},
   "outputs": [],
   "source": []
  }
 ],
 "metadata": {
  "kernelspec": {
   "display_name": "Python 3 (ipykernel)",
   "language": "python",
   "name": "python3"
  },
  "language_info": {
   "codemirror_mode": {
    "name": "ipython",
    "version": 3
   },
   "file_extension": ".py",
   "mimetype": "text/x-python",
   "name": "python",
   "nbconvert_exporter": "python",
   "pygments_lexer": "ipython3",
   "version": "3.10.2"
  }
 },
 "nbformat": 4,
 "nbformat_minor": 5
}
