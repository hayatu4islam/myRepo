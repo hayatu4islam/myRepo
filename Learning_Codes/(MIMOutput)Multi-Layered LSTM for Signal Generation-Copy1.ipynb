{
 "cells": [
  {
   "cell_type": "markdown",
   "id": "f0c2450b",
   "metadata": {},
   "source": [
    "## Multivariate LSTM Forecast model for multiple outputs"
   ]
  },
  {
   "cell_type": "markdown",
   "id": "f32bfe16",
   "metadata": {},
   "source": [
    "### Distribution of the variables"
   ]
  },
  {
   "cell_type": "code",
   "execution_count": 10,
   "id": "3c629b28",
   "metadata": {},
   "outputs": [
    {
     "name": "stdout",
     "output_type": "stream",
     "text": [
      "            Tank_1       Tank_2       Tank_3       Pump_1       Pump_2  \\\n",
      "count  2420.000000  2420.000000  2420.000000  2420.000000  2420.000000   \n",
      "mean    686.320661   714.946281   922.677686     0.300000     0.243802   \n",
      "std     654.955181   656.051613   942.572849     0.458352     0.429463   \n",
      "min       0.000000     0.000000     0.000000     0.000000     0.000000   \n",
      "25%       2.000000     5.000000    73.250000     0.000000     0.000000   \n",
      "50%     598.000000   639.500000   747.500000     0.000000     0.000000   \n",
      "75%    1244.000000  1293.250000  1226.250000     1.000000     0.000000   \n",
      "max    1980.000000  1952.000000  3427.000000     1.000000     1.000000   \n",
      "\n",
      "       Flow_sensor_4  \n",
      "count    2420.000000  \n",
      "mean     1283.821488  \n",
      "std      1738.336519  \n",
      "min         0.000000  \n",
      "25%         0.000000  \n",
      "50%         0.000000  \n",
      "75%      2769.000000  \n",
      "max      4789.000000  \n"
     ]
    },
    {
     "data": {
      "image/png": "[encoded data removed]",
      "text/plain": [
       "<Figure size 432x288 with 1 Axes>"
      ]
     },
     "metadata": {
      "needs_background": "light"
     },
     "output_type": "display_data"
    },
    {
     "data": {
      "image/png": "[encoded data removed]",
      "text/plain": [
       "<Figure size 432x288 with 6 Axes>"
      ]
     },
     "metadata": {
      "needs_background": "light"
     },
     "output_type": "display_data"
    }
   ],
   "source": [
    "from matplotlib import pyplot\n",
    "from pandas import read_csv\n",
    "# load results file\n",
    "results = read_csv('phy_cps.csv', header=0)\n",
    "# descriptive stats\n",
    "print(results.describe())\n",
    "# box and whisker plot\n",
    "results.boxplot(whiskerprops = dict(linestyle='-', linewidth=2))\n",
    "pyplot.show()\n",
    "# histogram\n",
    "results.hist()\n",
    "pyplot.show()"
   ]
  },
  {
   "cell_type": "code",
   "execution_count": 26,
   "id": "b6d77d7c",
   "metadata": {},
   "outputs": [
    {
     "name": "stdout",
     "output_type": "stream",
     "text": [
      "Epoch 1/200\n",
      "24/24 - 5s - loss: 0.2248 - val_loss: 0.2288 - 5s/epoch - 188ms/step\n",
      "Epoch 2/200\n",
      "24/24 - 0s - loss: 0.2090 - val_loss: 0.2123 - 150ms/epoch - 6ms/step\n",
      "Epoch 3/200\n",
      "24/24 - 0s - loss: 0.1906 - val_loss: 0.1929 - 150ms/epoch - 6ms/step\n",
      "Epoch 4/200\n",
      "24/24 - 0s - loss: 0.1616 - val_loss: 0.1652 - 136ms/epoch - 6ms/step\n",
      "Epoch 5/200\n",
      "24/24 - 0s - loss: 0.1168 - val_loss: 0.1406 - 132ms/epoch - 6ms/step\n",
      "Epoch 6/200\n",
      "24/24 - 0s - loss: 0.0990 - val_loss: 0.1427 - 134ms/epoch - 6ms/step\n",
      "Epoch 7/200\n",
      "24/24 - 0s - loss: 0.0857 - val_loss: 0.1437 - 155ms/epoch - 6ms/step\n",
      "Epoch 8/200\n",
      "24/24 - 0s - loss: 0.0813 - val_loss: 0.1439 - 146ms/epoch - 6ms/step\n",
      "Epoch 9/200\n",
      "24/24 - 0s - loss: 0.0768 - val_loss: 0.1422 - 149ms/epoch - 6ms/step\n",
      "Epoch 10/200\n",
      "24/24 - 0s - loss: 0.0733 - val_loss: 0.1378 - 151ms/epoch - 6ms/step\n",
      "Epoch 11/200\n",
      "24/24 - 0s - loss: 0.0671 - val_loss: 0.1313 - 150ms/epoch - 6ms/step\n",
      "Epoch 12/200\n",
      "24/24 - 0s - loss: 0.0650 - val_loss: 0.1252 - 149ms/epoch - 6ms/step\n",
      "Epoch 13/200\n",
      "24/24 - 0s - loss: 0.0603 - val_loss: 0.1199 - 150ms/epoch - 6ms/step\n",
      "Epoch 14/200\n",
      "24/24 - 0s - loss: 0.0576 - val_loss: 0.1129 - 150ms/epoch - 6ms/step\n",
      "Epoch 15/200\n",
      "24/24 - 0s - loss: 0.0542 - val_loss: 0.1057 - 150ms/epoch - 6ms/step\n",
      "Epoch 16/200\n",
      "24/24 - 0s - loss: 0.0506 - val_loss: 0.0998 - 148ms/epoch - 6ms/step\n",
      "Epoch 17/200\n",
      "24/24 - 0s - loss: 0.0487 - val_loss: 0.0963 - 150ms/epoch - 6ms/step\n",
      "Epoch 18/200\n",
      "24/24 - 0s - loss: 0.0468 - val_loss: 0.0948 - 134ms/epoch - 6ms/step\n",
      "Epoch 19/200\n",
      "24/24 - 0s - loss: 0.0445 - val_loss: 0.0925 - 135ms/epoch - 6ms/step\n",
      "Epoch 20/200\n",
      "24/24 - 0s - loss: 0.0442 - val_loss: 0.0937 - 150ms/epoch - 6ms/step\n",
      "Epoch 21/200\n",
      "24/24 - 0s - loss: 0.0432 - val_loss: 0.0940 - 150ms/epoch - 6ms/step\n",
      "Epoch 22/200\n",
      "24/24 - 0s - loss: 0.0413 - val_loss: 0.0932 - 149ms/epoch - 6ms/step\n",
      "Epoch 23/200\n",
      "24/24 - 0s - loss: 0.0396 - val_loss: 0.0926 - 150ms/epoch - 6ms/step\n",
      "Epoch 24/200\n",
      "24/24 - 0s - loss: 0.0389 - val_loss: 0.0917 - 150ms/epoch - 6ms/step\n",
      "Epoch 25/200\n",
      "24/24 - 0s - loss: 0.0381 - val_loss: 0.0917 - 150ms/epoch - 6ms/step\n",
      "Epoch 26/200\n",
      "24/24 - 0s - loss: 0.0364 - val_loss: 0.0908 - 150ms/epoch - 6ms/step\n",
      "Epoch 27/200\n",
      "24/24 - 0s - loss: 0.0356 - val_loss: 0.0880 - 150ms/epoch - 6ms/step\n",
      "Epoch 28/200\n",
      "24/24 - 0s - loss: 0.0360 - val_loss: 0.0862 - 148ms/epoch - 6ms/step\n",
      "Epoch 29/200\n",
      "24/24 - 0s - loss: 0.0348 - val_loss: 0.0842 - 152ms/epoch - 6ms/step\n",
      "Epoch 30/200\n",
      "24/24 - 0s - loss: 0.0336 - val_loss: 0.0825 - 148ms/epoch - 6ms/step\n",
      "Epoch 31/200\n",
      "24/24 - 0s - loss: 0.0327 - val_loss: 0.0802 - 197ms/epoch - 8ms/step\n",
      "Epoch 32/200\n",
      "24/24 - 0s - loss: 0.0327 - val_loss: 0.0779 - 153ms/epoch - 6ms/step\n",
      "Epoch 33/200\n",
      "24/24 - 0s - loss: 0.0317 - val_loss: 0.0755 - 150ms/epoch - 6ms/step\n",
      "Epoch 34/200\n",
      "24/24 - 0s - loss: 0.0312 - val_loss: 0.0737 - 150ms/epoch - 6ms/step\n",
      "Epoch 35/200\n",
      "24/24 - 0s - loss: 0.0302 - val_loss: 0.0722 - 150ms/epoch - 6ms/step\n",
      "Epoch 36/200\n",
      "24/24 - 0s - loss: 0.0297 - val_loss: 0.0696 - 134ms/epoch - 6ms/step\n",
      "Epoch 37/200\n",
      "24/24 - 0s - loss: 0.0298 - val_loss: 0.0681 - 150ms/epoch - 6ms/step\n",
      "Epoch 38/200\n",
      "24/24 - 0s - loss: 0.0304 - val_loss: 0.0661 - 136ms/epoch - 6ms/step\n",
      "Epoch 39/200\n",
      "24/24 - 0s - loss: 0.0293 - val_loss: 0.0646 - 134ms/epoch - 6ms/step\n",
      "Epoch 40/200\n",
      "24/24 - 0s - loss: 0.0282 - val_loss: 0.0631 - 150ms/epoch - 6ms/step\n",
      "Epoch 41/200\n",
      "24/24 - 0s - loss: 0.0275 - val_loss: 0.0623 - 164ms/epoch - 7ms/step\n",
      "Epoch 42/200\n",
      "24/24 - 0s - loss: 0.0260 - val_loss: 0.0601 - 150ms/epoch - 6ms/step\n",
      "Epoch 43/200\n",
      "24/24 - 0s - loss: 0.0259 - val_loss: 0.0600 - 150ms/epoch - 6ms/step\n",
      "Epoch 44/200\n",
      "24/24 - 0s - loss: 0.0256 - val_loss: 0.0575 - 152ms/epoch - 6ms/step\n",
      "Epoch 45/200\n",
      "24/24 - 0s - loss: 0.0253 - val_loss: 0.0572 - 151ms/epoch - 6ms/step\n",
      "Epoch 46/200\n",
      "24/24 - 0s - loss: 0.0256 - val_loss: 0.0548 - 150ms/epoch - 6ms/step\n",
      "Epoch 47/200\n",
      "24/24 - 0s - loss: 0.0249 - val_loss: 0.0535 - 149ms/epoch - 6ms/step\n",
      "Epoch 48/200\n",
      "24/24 - 0s - loss: 0.0251 - val_loss: 0.0517 - 136ms/epoch - 6ms/step\n",
      "Epoch 49/200\n",
      "24/24 - 0s - loss: 0.0242 - val_loss: 0.0519 - 134ms/epoch - 6ms/step\n",
      "Epoch 50/200\n",
      "24/24 - 0s - loss: 0.0237 - val_loss: 0.0494 - 134ms/epoch - 6ms/step\n",
      "Epoch 51/200\n",
      "24/24 - 0s - loss: 0.0238 - val_loss: 0.0494 - 164ms/epoch - 7ms/step\n",
      "Epoch 52/200\n",
      "24/24 - 0s - loss: 0.0240 - val_loss: 0.0485 - 136ms/epoch - 6ms/step\n",
      "Epoch 53/200\n",
      "24/24 - 0s - loss: 0.0231 - val_loss: 0.0471 - 134ms/epoch - 6ms/step\n",
      "Epoch 54/200\n",
      "24/24 - 0s - loss: 0.0225 - val_loss: 0.0475 - 166ms/epoch - 7ms/step\n",
      "Epoch 55/200\n",
      "24/24 - 0s - loss: 0.0216 - val_loss: 0.0457 - 148ms/epoch - 6ms/step\n",
      "Epoch 56/200\n",
      "24/24 - 0s - loss: 0.0227 - val_loss: 0.0450 - 134ms/epoch - 6ms/step\n",
      "Epoch 57/200\n",
      "24/24 - 0s - loss: 0.0221 - val_loss: 0.0451 - 136ms/epoch - 6ms/step\n",
      "Epoch 58/200\n",
      "24/24 - 0s - loss: 0.0219 - val_loss: 0.0447 - 148ms/epoch - 6ms/step\n",
      "Epoch 59/200\n",
      "24/24 - 0s - loss: 0.0208 - val_loss: 0.0446 - 151ms/epoch - 6ms/step\n",
      "Epoch 60/200\n",
      "24/24 - 0s - loss: 0.0216 - val_loss: 0.0438 - 149ms/epoch - 6ms/step\n",
      "Epoch 61/200\n",
      "24/24 - 0s - loss: 0.0218 - val_loss: 0.0427 - 150ms/epoch - 6ms/step\n",
      "Epoch 62/200\n",
      "24/24 - 0s - loss: 0.0221 - val_loss: 0.0426 - 151ms/epoch - 6ms/step\n",
      "Epoch 63/200\n",
      "24/24 - 0s - loss: 0.0217 - val_loss: 0.0430 - 148ms/epoch - 6ms/step\n",
      "Epoch 64/200\n",
      "24/24 - 0s - loss: 0.0211 - val_loss: 0.0413 - 134ms/epoch - 6ms/step\n",
      "Epoch 65/200\n",
      "24/24 - 0s - loss: 0.0211 - val_loss: 0.0409 - 134ms/epoch - 6ms/step\n",
      "Epoch 66/200\n",
      "24/24 - 0s - loss: 0.0212 - val_loss: 0.0403 - 151ms/epoch - 6ms/step\n",
      "Epoch 67/200\n",
      "24/24 - 0s - loss: 0.0214 - val_loss: 0.0398 - 150ms/epoch - 6ms/step\n",
      "Epoch 68/200\n",
      "24/24 - 0s - loss: 0.0206 - val_loss: 0.0409 - 148ms/epoch - 6ms/step\n",
      "Epoch 69/200\n",
      "24/24 - 0s - loss: 0.0209 - val_loss: 0.0394 - 151ms/epoch - 6ms/step\n",
      "Epoch 70/200\n",
      "24/24 - 0s - loss: 0.0201 - val_loss: 0.0394 - 195ms/epoch - 8ms/step\n",
      "Epoch 71/200\n",
      "24/24 - 0s - loss: 0.0197 - val_loss: 0.0387 - 139ms/epoch - 6ms/step\n",
      "Epoch 72/200\n",
      "24/24 - 0s - loss: 0.0202 - val_loss: 0.0388 - 149ms/epoch - 6ms/step\n",
      "Epoch 73/200\n",
      "24/24 - 0s - loss: 0.0205 - val_loss: 0.0380 - 151ms/epoch - 6ms/step\n",
      "Epoch 74/200\n",
      "24/24 - 0s - loss: 0.0200 - val_loss: 0.0375 - 150ms/epoch - 6ms/step\n",
      "Epoch 75/200\n",
      "24/24 - 0s - loss: 0.0200 - val_loss: 0.0371 - 150ms/epoch - 6ms/step\n",
      "Epoch 76/200\n",
      "24/24 - 0s - loss: 0.0194 - val_loss: 0.0373 - 151ms/epoch - 6ms/step\n",
      "Epoch 77/200\n",
      "24/24 - 0s - loss: 0.0188 - val_loss: 0.0368 - 147ms/epoch - 6ms/step\n",
      "Epoch 78/200\n",
      "24/24 - 0s - loss: 0.0194 - val_loss: 0.0367 - 150ms/epoch - 6ms/step\n",
      "Epoch 79/200\n",
      "24/24 - 0s - loss: 0.0189 - val_loss: 0.0339 - 134ms/epoch - 6ms/step\n",
      "Epoch 80/200\n",
      "24/24 - 0s - loss: 0.0190 - val_loss: 0.0348 - 150ms/epoch - 6ms/step\n",
      "Epoch 81/200\n",
      "24/24 - 0s - loss: 0.0183 - val_loss: 0.0338 - 150ms/epoch - 6ms/step\n",
      "Epoch 82/200\n",
      "24/24 - 0s - loss: 0.0187 - val_loss: 0.0339 - 151ms/epoch - 6ms/step\n",
      "Epoch 83/200\n",
      "24/24 - 0s - loss: 0.0185 - val_loss: 0.0322 - 151ms/epoch - 6ms/step\n",
      "Epoch 84/200\n",
      "24/24 - 0s - loss: 0.0179 - val_loss: 0.0321 - 148ms/epoch - 6ms/step\n",
      "Epoch 85/200\n",
      "24/24 - 0s - loss: 0.0173 - val_loss: 0.0305 - 151ms/epoch - 6ms/step\n",
      "Epoch 86/200\n",
      "24/24 - 0s - loss: 0.0181 - val_loss: 0.0302 - 133ms/epoch - 6ms/step\n",
      "Epoch 87/200\n",
      "24/24 - 0s - loss: 0.0171 - val_loss: 0.0279 - 133ms/epoch - 6ms/step\n",
      "Epoch 88/200\n",
      "24/24 - 0s - loss: 0.0172 - val_loss: 0.0274 - 134ms/epoch - 6ms/step\n",
      "Epoch 89/200\n",
      "24/24 - 0s - loss: 0.0169 - val_loss: 0.0256 - 151ms/epoch - 6ms/step\n",
      "Epoch 90/200\n",
      "24/24 - 0s - loss: 0.0170 - val_loss: 0.0242 - 149ms/epoch - 6ms/step\n",
      "Epoch 91/200\n",
      "24/24 - 0s - loss: 0.0163 - val_loss: 0.0228 - 152ms/epoch - 6ms/step\n",
      "Epoch 92/200\n",
      "24/24 - 0s - loss: 0.0155 - val_loss: 0.0227 - 148ms/epoch - 6ms/step\n",
      "Epoch 93/200\n",
      "24/24 - 0s - loss: 0.0161 - val_loss: 0.0217 - 150ms/epoch - 6ms/step\n",
      "Epoch 94/200\n",
      "24/24 - 0s - loss: 0.0152 - val_loss: 0.0201 - 150ms/epoch - 6ms/step\n",
      "Epoch 95/200\n",
      "24/24 - 0s - loss: 0.0147 - val_loss: 0.0192 - 150ms/epoch - 6ms/step\n",
      "Epoch 96/200\n",
      "24/24 - 0s - loss: 0.0143 - val_loss: 0.0189 - 167ms/epoch - 7ms/step\n",
      "Epoch 97/200\n",
      "24/24 - 0s - loss: 0.0150 - val_loss: 0.0181 - 135ms/epoch - 6ms/step\n",
      "Epoch 98/200\n",
      "24/24 - 0s - loss: 0.0142 - val_loss: 0.0187 - 148ms/epoch - 6ms/step\n",
      "Epoch 99/200\n",
      "24/24 - 0s - loss: 0.0147 - val_loss: 0.0173 - 134ms/epoch - 6ms/step\n"
     ]
    },
    {
     "name": "stdout",
     "output_type": "stream",
     "text": [
      "Epoch 100/200\n",
      "24/24 - 0s - loss: 0.0143 - val_loss: 0.0184 - 134ms/epoch - 6ms/step\n",
      "Epoch 101/200\n",
      "24/24 - 0s - loss: 0.0135 - val_loss: 0.0171 - 151ms/epoch - 6ms/step\n",
      "Epoch 102/200\n",
      "24/24 - 0s - loss: 0.0136 - val_loss: 0.0171 - 148ms/epoch - 6ms/step\n",
      "Epoch 103/200\n",
      "24/24 - 0s - loss: 0.0135 - val_loss: 0.0165 - 135ms/epoch - 6ms/step\n",
      "Epoch 104/200\n",
      "24/24 - 0s - loss: 0.0137 - val_loss: 0.0165 - 135ms/epoch - 6ms/step\n",
      "Epoch 105/200\n",
      "24/24 - 0s - loss: 0.0137 - val_loss: 0.0161 - 149ms/epoch - 6ms/step\n",
      "Epoch 106/200\n",
      "24/24 - 0s - loss: 0.0135 - val_loss: 0.0153 - 148ms/epoch - 6ms/step\n",
      "Epoch 107/200\n",
      "24/24 - 0s - loss: 0.0138 - val_loss: 0.0153 - 135ms/epoch - 6ms/step\n",
      "Epoch 108/200\n",
      "24/24 - 0s - loss: 0.0135 - val_loss: 0.0154 - 134ms/epoch - 6ms/step\n",
      "Epoch 109/200\n",
      "24/24 - 0s - loss: 0.0135 - val_loss: 0.0144 - 150ms/epoch - 6ms/step\n",
      "Epoch 110/200\n",
      "24/24 - 0s - loss: 0.0132 - val_loss: 0.0150 - 149ms/epoch - 6ms/step\n",
      "Epoch 111/200\n",
      "24/24 - 0s - loss: 0.0138 - val_loss: 0.0143 - 149ms/epoch - 6ms/step\n",
      "Epoch 112/200\n",
      "24/24 - 0s - loss: 0.0131 - val_loss: 0.0147 - 135ms/epoch - 6ms/step\n",
      "Epoch 113/200\n",
      "24/24 - 0s - loss: 0.0132 - val_loss: 0.0141 - 149ms/epoch - 6ms/step\n",
      "Epoch 114/200\n",
      "24/24 - 0s - loss: 0.0132 - val_loss: 0.0141 - 138ms/epoch - 6ms/step\n",
      "Epoch 115/200\n",
      "24/24 - 0s - loss: 0.0127 - val_loss: 0.0139 - 129ms/epoch - 5ms/step\n",
      "Epoch 116/200\n",
      "24/24 - 0s - loss: 0.0121 - val_loss: 0.0142 - 134ms/epoch - 6ms/step\n",
      "Epoch 117/200\n",
      "24/24 - 0s - loss: 0.0125 - val_loss: 0.0132 - 150ms/epoch - 6ms/step\n",
      "Epoch 118/200\n",
      "24/24 - 0s - loss: 0.0128 - val_loss: 0.0128 - 148ms/epoch - 6ms/step\n",
      "Epoch 119/200\n",
      "24/24 - 0s - loss: 0.0127 - val_loss: 0.0130 - 136ms/epoch - 6ms/step\n",
      "Epoch 120/200\n",
      "24/24 - 0s - loss: 0.0127 - val_loss: 0.0135 - 150ms/epoch - 6ms/step\n",
      "Epoch 121/200\n",
      "24/24 - 0s - loss: 0.0122 - val_loss: 0.0137 - 150ms/epoch - 6ms/step\n",
      "Epoch 122/200\n",
      "24/24 - 0s - loss: 0.0129 - val_loss: 0.0133 - 134ms/epoch - 6ms/step\n",
      "Epoch 123/200\n",
      "24/24 - 0s - loss: 0.0124 - val_loss: 0.0132 - 135ms/epoch - 6ms/step\n",
      "Epoch 124/200\n",
      "24/24 - 0s - loss: 0.0122 - val_loss: 0.0136 - 180ms/epoch - 8ms/step\n",
      "Epoch 125/200\n",
      "24/24 - 0s - loss: 0.0124 - val_loss: 0.0125 - 152ms/epoch - 6ms/step\n",
      "Epoch 126/200\n",
      "24/24 - 0s - loss: 0.0117 - val_loss: 0.0128 - 133ms/epoch - 6ms/step\n",
      "Epoch 127/200\n",
      "24/24 - 0s - loss: 0.0120 - val_loss: 0.0129 - 135ms/epoch - 6ms/step\n",
      "Epoch 128/200\n",
      "24/24 - 0s - loss: 0.0125 - val_loss: 0.0130 - 149ms/epoch - 6ms/step\n",
      "Epoch 129/200\n",
      "24/24 - 0s - loss: 0.0116 - val_loss: 0.0126 - 150ms/epoch - 6ms/step\n",
      "Epoch 130/200\n",
      "24/24 - 0s - loss: 0.0118 - val_loss: 0.0123 - 150ms/epoch - 6ms/step\n",
      "Epoch 131/200\n",
      "24/24 - 0s - loss: 0.0125 - val_loss: 0.0131 - 148ms/epoch - 6ms/step\n",
      "Epoch 132/200\n",
      "24/24 - 0s - loss: 0.0117 - val_loss: 0.0115 - 135ms/epoch - 6ms/step\n",
      "Epoch 133/200\n",
      "24/24 - 0s - loss: 0.0114 - val_loss: 0.0128 - 150ms/epoch - 6ms/step\n",
      "Epoch 134/200\n",
      "24/24 - 0s - loss: 0.0119 - val_loss: 0.0116 - 148ms/epoch - 6ms/step\n",
      "Epoch 135/200\n",
      "24/24 - 0s - loss: 0.0117 - val_loss: 0.0130 - 136ms/epoch - 6ms/step\n",
      "Epoch 136/200\n",
      "24/24 - 0s - loss: 0.0118 - val_loss: 0.0123 - 134ms/epoch - 6ms/step\n",
      "Epoch 137/200\n",
      "24/24 - 0s - loss: 0.0108 - val_loss: 0.0123 - 150ms/epoch - 6ms/step\n",
      "Epoch 138/200\n",
      "24/24 - 0s - loss: 0.0119 - val_loss: 0.0117 - 148ms/epoch - 6ms/step\n",
      "Epoch 139/200\n",
      "24/24 - 0s - loss: 0.0113 - val_loss: 0.0121 - 136ms/epoch - 6ms/step\n",
      "Epoch 140/200\n",
      "24/24 - 0s - loss: 0.0111 - val_loss: 0.0133 - 149ms/epoch - 6ms/step\n",
      "Epoch 141/200\n",
      "24/24 - 0s - loss: 0.0114 - val_loss: 0.0120 - 151ms/epoch - 6ms/step\n",
      "Epoch 142/200\n",
      "24/24 - 0s - loss: 0.0117 - val_loss: 0.0121 - 148ms/epoch - 6ms/step\n",
      "Epoch 143/200\n",
      "24/24 - 0s - loss: 0.0110 - val_loss: 0.0117 - 197ms/epoch - 8ms/step\n",
      "Epoch 144/200\n",
      "24/24 - 0s - loss: 0.0111 - val_loss: 0.0117 - 154ms/epoch - 6ms/step\n",
      "Epoch 145/200\n",
      "24/24 - 0s - loss: 0.0113 - val_loss: 0.0117 - 134ms/epoch - 6ms/step\n",
      "Epoch 146/200\n",
      "24/24 - 0s - loss: 0.0111 - val_loss: 0.0121 - 149ms/epoch - 6ms/step\n",
      "Epoch 147/200\n",
      "24/24 - 0s - loss: 0.0106 - val_loss: 0.0115 - 151ms/epoch - 6ms/step\n",
      "Epoch 148/200\n",
      "24/24 - 0s - loss: 0.0107 - val_loss: 0.0108 - 148ms/epoch - 6ms/step\n",
      "Epoch 149/200\n",
      "24/24 - 0s - loss: 0.0117 - val_loss: 0.0111 - 136ms/epoch - 6ms/step\n",
      "Epoch 150/200\n",
      "24/24 - 0s - loss: 0.0108 - val_loss: 0.0109 - 149ms/epoch - 6ms/step\n",
      "Epoch 151/200\n",
      "24/24 - 0s - loss: 0.0112 - val_loss: 0.0109 - 148ms/epoch - 6ms/step\n",
      "Epoch 152/200\n",
      "24/24 - 0s - loss: 0.0111 - val_loss: 0.0114 - 136ms/epoch - 6ms/step\n",
      "Epoch 153/200\n",
      "24/24 - 0s - loss: 0.0107 - val_loss: 0.0108 - 149ms/epoch - 6ms/step\n",
      "Epoch 154/200\n",
      "24/24 - 0s - loss: 0.0112 - val_loss: 0.0102 - 134ms/epoch - 6ms/step\n",
      "Epoch 155/200\n",
      "24/24 - 0s - loss: 0.0106 - val_loss: 0.0106 - 134ms/epoch - 6ms/step\n",
      "Epoch 156/200\n",
      "24/24 - 0s - loss: 0.0105 - val_loss: 0.0111 - 149ms/epoch - 6ms/step\n",
      "Epoch 157/200\n",
      "24/24 - 0s - loss: 0.0107 - val_loss: 0.0104 - 150ms/epoch - 6ms/step\n",
      "Epoch 158/200\n",
      "24/24 - 0s - loss: 0.0108 - val_loss: 0.0111 - 150ms/epoch - 6ms/step\n",
      "Epoch 159/200\n",
      "24/24 - 0s - loss: 0.0106 - val_loss: 0.0105 - 134ms/epoch - 6ms/step\n",
      "Epoch 160/200\n",
      "24/24 - 0s - loss: 0.0106 - val_loss: 0.0112 - 149ms/epoch - 6ms/step\n",
      "Epoch 161/200\n",
      "24/24 - 0s - loss: 0.0107 - val_loss: 0.0104 - 150ms/epoch - 6ms/step\n",
      "Epoch 162/200\n",
      "24/24 - 0s - loss: 0.0107 - val_loss: 0.0113 - 148ms/epoch - 6ms/step\n",
      "Epoch 163/200\n",
      "24/24 - 0s - loss: 0.0107 - val_loss: 0.0103 - 136ms/epoch - 6ms/step\n",
      "Epoch 164/200\n",
      "24/24 - 0s - loss: 0.0100 - val_loss: 0.0114 - 150ms/epoch - 6ms/step\n",
      "Epoch 165/200\n",
      "24/24 - 0s - loss: 0.0103 - val_loss: 0.0106 - 149ms/epoch - 6ms/step\n",
      "Epoch 166/200\n",
      "24/24 - 0s - loss: 0.0098 - val_loss: 0.0112 - 133ms/epoch - 6ms/step\n",
      "Epoch 167/200\n",
      "24/24 - 0s - loss: 0.0099 - val_loss: 0.0105 - 150ms/epoch - 6ms/step\n",
      "Epoch 168/200\n",
      "24/24 - 0s - loss: 0.0104 - val_loss: 0.0105 - 150ms/epoch - 6ms/step\n",
      "Epoch 169/200\n",
      "24/24 - 0s - loss: 0.0106 - val_loss: 0.0107 - 148ms/epoch - 6ms/step\n",
      "Epoch 170/200\n",
      "24/24 - 0s - loss: 0.0101 - val_loss: 0.0107 - 136ms/epoch - 6ms/step\n",
      "Epoch 171/200\n",
      "24/24 - 0s - loss: 0.0101 - val_loss: 0.0110 - 149ms/epoch - 6ms/step\n",
      "Epoch 172/200\n",
      "24/24 - 0s - loss: 0.0105 - val_loss: 0.0100 - 149ms/epoch - 6ms/step\n",
      "Epoch 173/200\n",
      "24/24 - 0s - loss: 0.0097 - val_loss: 0.0103 - 136ms/epoch - 6ms/step\n",
      "Epoch 174/200\n",
      "24/24 - 0s - loss: 0.0102 - val_loss: 0.0100 - 134ms/epoch - 6ms/step\n",
      "Epoch 175/200\n",
      "24/24 - 0s - loss: 0.0097 - val_loss: 0.0101 - 149ms/epoch - 6ms/step\n",
      "Epoch 176/200\n",
      "24/24 - 0s - loss: 0.0095 - val_loss: 0.0110 - 150ms/epoch - 6ms/step\n",
      "Epoch 177/200\n",
      "24/24 - 0s - loss: 0.0096 - val_loss: 0.0107 - 134ms/epoch - 6ms/step\n",
      "Epoch 178/200\n",
      "24/24 - 0s - loss: 0.0104 - val_loss: 0.0099 - 151ms/epoch - 6ms/step\n",
      "Epoch 179/200\n",
      "24/24 - 0s - loss: 0.0096 - val_loss: 0.0110 - 148ms/epoch - 6ms/step\n",
      "Epoch 180/200\n",
      "24/24 - 0s - loss: 0.0101 - val_loss: 0.0103 - 134ms/epoch - 6ms/step\n",
      "Epoch 181/200\n",
      "24/24 - 0s - loss: 0.0096 - val_loss: 0.0108 - 133ms/epoch - 6ms/step\n",
      "Epoch 182/200\n",
      "24/24 - 0s - loss: 0.0094 - val_loss: 0.0104 - 150ms/epoch - 6ms/step\n",
      "Epoch 183/200\n",
      "24/24 - 0s - loss: 0.0101 - val_loss: 0.0102 - 151ms/epoch - 6ms/step\n",
      "Epoch 184/200\n",
      "24/24 - 0s - loss: 0.0097 - val_loss: 0.0104 - 134ms/epoch - 6ms/step\n",
      "Epoch 185/200\n",
      "24/24 - 0s - loss: 0.0090 - val_loss: 0.0099 - 134ms/epoch - 6ms/step\n",
      "Epoch 186/200\n",
      "24/24 - 0s - loss: 0.0095 - val_loss: 0.0101 - 149ms/epoch - 6ms/step\n",
      "Epoch 187/200\n",
      "24/24 - 0s - loss: 0.0096 - val_loss: 0.0102 - 150ms/epoch - 6ms/step\n",
      "Epoch 188/200\n",
      "24/24 - 0s - loss: 0.0092 - val_loss: 0.0097 - 134ms/epoch - 6ms/step\n",
      "Epoch 189/200\n",
      "24/24 - 0s - loss: 0.0096 - val_loss: 0.0106 - 133ms/epoch - 6ms/step\n",
      "Epoch 190/200\n",
      "24/24 - 0s - loss: 0.0094 - val_loss: 0.0103 - 150ms/epoch - 6ms/step\n",
      "Epoch 191/200\n",
      "24/24 - 0s - loss: 0.0096 - val_loss: 0.0106 - 150ms/epoch - 6ms/step\n",
      "Epoch 192/200\n",
      "24/24 - 0s - loss: 0.0098 - val_loss: 0.0098 - 135ms/epoch - 6ms/step\n",
      "Epoch 193/200\n",
      "24/24 - 0s - loss: 0.0098 - val_loss: 0.0104 - 149ms/epoch - 6ms/step\n",
      "Epoch 194/200\n",
      "24/24 - 0s - loss: 0.0093 - val_loss: 0.0109 - 149ms/epoch - 6ms/step\n",
      "Epoch 195/200\n",
      "24/24 - 0s - loss: 0.0099 - val_loss: 0.0107 - 135ms/epoch - 6ms/step\n",
      "Epoch 196/200\n",
      "24/24 - 0s - loss: 0.0090 - val_loss: 0.0103 - 134ms/epoch - 6ms/step\n",
      "Epoch 197/200\n",
      "24/24 - 0s - loss: 0.0098 - val_loss: 0.0108 - 214ms/epoch - 9ms/step\n"
     ]
    },
    {
     "name": "stdout",
     "output_type": "stream",
     "text": [
      "Epoch 198/200\n",
      "24/24 - 0s - loss: 0.0096 - val_loss: 0.0106 - 134ms/epoch - 6ms/step\n",
      "Epoch 199/200\n",
      "24/24 - 0s - loss: 0.0093 - val_loss: 0.0116 - 151ms/epoch - 6ms/step\n",
      "Epoch 200/200\n",
      "24/24 - 0s - loss: 0.0093 - val_loss: 0.0106 - 133ms/epoch - 6ms/step\n"
     ]
    },
    {
     "data": {
      "image/png": "[encoded data removed]",
      "text/plain": [
       "<Figure size 432x288 with 1 Axes>"
      ]
     },
     "metadata": {
      "needs_background": "light"
     },
     "output_type": "display_data"
    },
    {
     "name": "stdout",
     "output_type": "stream",
     "text": [
      "Normalized Test RMSE:  0.103927230330188 0.10325204833183348 0.11456693501246237 0.08913885240188192\n",
      "Test RMSE:  205.77590397383753 201.5480033546599 392.620861168889 0.08913885240188192\n",
      "Test R-squared:  0.8905674152276375 0.906143311039521 0.9157710027740109 0.9418241583705181\n",
      "Model: \"sequential_6\"\n",
      "_________________________________________________________________\n",
      " Layer (type)                Output Shape              Param #   \n",
      "=================================================================\n",
      " lstm_18 (LSTM)              (None, 1, 50)             11400     \n",
      "                                                                 \n",
      " dropout_18 (Dropout)        (None, 1, 50)             0         \n",
      "                                                                 \n",
      " lstm_19 (LSTM)              (None, 1, 20)             5680      \n",
      "                                                                 \n",
      " dropout_19 (Dropout)        (None, 1, 20)             0         \n",
      "                                                                 \n",
      " lstm_20 (LSTM)              (None, 20)                3280      \n",
      "                                                                 \n",
      " dropout_20 (Dropout)        (None, 20)                0         \n",
      "                                                                 \n",
      " dense_6 (Dense)             (None, 4)                 84        \n",
      "                                                                 \n",
      "=================================================================\n",
      "Total params: 20,444\n",
      "Trainable params: 20,444\n",
      "Non-trainable params: 0\n",
      "_________________________________________________________________\n",
      "Model saved to disk\n"
     ]
    }
   ],
   "source": [
    "#from numpy import array\n",
    "\n",
    "from math import sqrt\n",
    "from numpy import concatenate\n",
    "from matplotlib import pyplot\n",
    "from pandas import read_csv\n",
    "from pandas import DataFrame\n",
    "from pandas import concat\n",
    "from sklearn.preprocessing import MinMaxScaler\n",
    "from sklearn.preprocessing import LabelEncoder\n",
    "from sklearn.metrics import mean_squared_error\n",
    "from sklearn.metrics import mean_absolute_error, r2_score\n",
    "from keras.models import Sequential\n",
    "from keras.layers import Dense\n",
    "from keras.layers.core import Dropout\n",
    "from keras.layers import LSTM\n",
    "\n",
    "# convert series to supervised learning\n",
    "def series_to_supervised(data, n_in=1, n_out=1, dropnan=True):\n",
    "\tn_vars = 1 if type(data) is list else data.shape[1]\n",
    "\tdf = DataFrame(data)\n",
    "\tcols, names = list(), list()\n",
    "\t# input sequence (t-n, ... t-1)\n",
    "\tfor i in range(n_in, 0, -1):\n",
    "\t\tcols.append(df.shift(i))\n",
    "\t\tnames += [('var%d(t-%d)' % (j+1, i)) for j in range(n_vars)]\n",
    "\t# forecast sequence (t, t+1, ... t+n)\n",
    "\tfor i in range(0, n_out):\n",
    "\t\tcols.append(df.shift(-i))\n",
    "\t\tif i == 0:\n",
    "\t\t\tnames += [('var%d(t)' % (j+1)) for j in range(n_vars)]\n",
    "\t\telse:\n",
    "\t\t\tnames += [('var%d(t+%d)' % (j+1, i)) for j in range(n_vars)]\n",
    "\t# put it all together\n",
    "\tagg = concat(cols, axis=1)\n",
    "\tagg.columns = names\n",
    "\t# drop rows with NaN values\n",
    "\tif dropnan:\n",
    "\t\tagg.dropna(inplace=True)\n",
    "\treturn agg\n",
    "\n",
    "#load dataset\n",
    "dataset = read_csv('phy_cps.csv', header=0, index_col=0)\n",
    "values = dataset.values\n",
    " \n",
    "#integer encode wind direction, as it's the only categorical variable.\n",
    "#encoder = LabelEncoder()\n",
    "#values[:,4] = encoder.fit_transform(values[:,4])\n",
    " \n",
    "#ensure all data are float32 values\n",
    "values = values.astype('float32')\n",
    " \n",
    "#normalize input features\n",
    "scaler = MinMaxScaler(feature_range=(0, 1))\n",
    "scaled = scaler.fit_transform(values)\n",
    " \n",
    "#frame as supervised learning\n",
    "n_hours = 1 \n",
    "n_features = 6 \n",
    "reframed = series_to_supervised(scaled, n_hours, 1)\n",
    "values = reframed.values\n",
    "# n_train_hours = 1936\n",
    "n_train_hours = 1694\n",
    "n_test = 484\n",
    "train = values[:n_train_hours, :]\n",
    "test = values[n_train_hours:n_train_hours+n_test, :]\n",
    "out_test = values[n_train_hours+n_test:, :]\n",
    " \n",
    "\n",
    "#split into input and outputs\n",
    "n_obs = n_hours * n_features\n",
    "train_X = train[:, :n_obs]\n",
    "train_y = train[:, -n_features:(-n_features+4)] #+2 because of indexing madness.\n",
    "test_X = test[:, :n_obs]\n",
    "test_y = test[:, -n_features:(-n_features+4)]\n",
    " \n",
    "train_X = train_X.reshape((train_X.shape[0], n_hours, n_features))\n",
    "test_X = test_X.reshape((test_X.shape[0], n_hours, n_features))\n",
    " \n",
    "\n",
    "#Need to output four values, not one.\n",
    "#design network\n",
    "model = Sequential()\n",
    "model.add(LSTM(50, activation='relu',return_sequences=True, input_shape=(train_X.shape[1], train_X.shape[2])))\n",
    "model.add(Dropout(0.1))\n",
    "model.add(LSTM(20, activation='relu', return_sequences=True))\n",
    "model.add(Dropout(0.1))\n",
    "model.add(LSTM(20, activation='relu'))\n",
    "model.add(Dropout(0.1))\n",
    "model.add(Dense(4))\n",
    "\n",
    "model.compile(loss='mse', optimizer='adam')\n",
    " \n",
    "#fit network\n",
    "history = model.fit(train_X, train_y, epochs=200, batch_size=72, validation_data=(test_X, test_y), verbose=2, shuffle=False)\n",
    "\n",
    "# Plot history\n",
    "pyplot.xlabel('Epochs')\n",
    "pyplot.ylabel('Loss')\n",
    "pyplot.title('Model Train vs Testing Loss')\n",
    "pyplot.plot(history.history['loss'], label='train')\n",
    "pyplot.plot(history.history['val_loss'], label='test')\n",
    "pyplot.legend()\n",
    "pyplot.show()\n",
    " \n",
    "\n",
    "#make a prediction\n",
    "y_hat = model.predict(test_X)\n",
    " \n",
    "#calculate RMSE - CHANGED to output RMSE for each variable.\n",
    "norm_rmse_1 = sqrt(mean_squared_error(y_hat[:,0], test_y[:,0])) #RMSE for the first variable (Tank_1)\n",
    "norm_rmse_2 = sqrt(mean_squared_error(y_hat[:,1], test_y[:,1])) #RMSE for the second variable (Tank_2)\n",
    "norm_rmse_3 = sqrt(mean_squared_error(y_hat[:,2], test_y[:,2])) #RMSE for the third variable (Tank_3)\n",
    "norm_rmse_4 = sqrt(mean_squared_error(y_hat[:,3], test_y[:,3])) #RMSE for the fourth variable (Pump_1)\n",
    "print('Normalized Test RMSE: ', norm_rmse_1, norm_rmse_2, norm_rmse_3, norm_rmse_4)\n",
    "    \n",
    "test_X = test_X.reshape((test_X.shape[0], n_hours*n_features))\n",
    "inv_yhat = concatenate((y_hat, test_X[:,-2:]), axis=1) #changed 7 to 6\n",
    "inv_yhat = scaler.inverse_transform(inv_yhat)\n",
    "inv_yhat = inv_yhat[:,0:4] #changed from 0 to 0:2. Should be first 2 columns that contain the predictions\n",
    " \n",
    "\n",
    "#invert scaling for actual\n",
    "test_y = test_y.reshape((len(test_y),4)) #changed 1 to 2\n",
    "inv_y = concatenate((test_y, test_X[:,-2:]), axis=1) #changed 7 to 6\n",
    "inv_y = scaler.inverse_transform(inv_y)\n",
    "inv_y = inv_y[:,0:4] #changed from 0 to 0:2. Should be first 2 columns that contain the predictions.\n",
    " \n",
    "\n",
    "    \n",
    "#calculate RMSE - CHANGED to output RMSE for each variable.\n",
    "rmse_1 = sqrt(mean_squared_error(inv_y[:,0], inv_yhat[:,0])) #RMSE for the first variable (Tank_1)\n",
    "rmse_2 = sqrt(mean_squared_error(inv_y[:,1], inv_yhat[:,1])) #RMSE for the second variable (Tank_2)\n",
    "rmse_3 = sqrt(mean_squared_error(inv_y[:,2], inv_yhat[:,2])) #RMSE for the third variable (Tank_3)\n",
    "rmse_4 = sqrt(mean_squared_error(inv_y[:,3], inv_yhat[:,3])) #RMSE for the fourth variable (Pump_1)\n",
    "\n",
    "r_sq1 = r2_score(inv_y[:,0], inv_yhat[:,0])\n",
    "r_sq2 = r2_score(inv_y[:,1], inv_yhat[:,1])\n",
    "r_sq3 = r2_score(inv_y[:,2], inv_yhat[:,2])\n",
    "r_sq4 = r2_score(inv_y[:,3], inv_yhat[:,3])\n",
    "\n",
    "print('Test RMSE: ', rmse_1, rmse_2, rmse_3, rmse_4)\n",
    "\n",
    "print(\"Test R-squared: \", r_sq1, r_sq2, r_sq3, r_sq4)\n",
    "model.summary()\n",
    "\n",
    "# import xlsxwriter\n",
    "\n",
    "# # Create file (workbook) and worksheet\n",
    "# outWorkbook = xlsxwriter.Workbook(\"out.xlsx\")\n",
    "# outSheet = outWorkbook.add_worksheet()\n",
    "\n",
    "# # Declare data\n",
    "# values = [[rmse_1,norm_rmse_1,r_sq1],\n",
    "#           [rmse_2,norm_rmse_2,r_sq2],\n",
    "#           [rmse_3,norm_rmse_3,r_sq3],\n",
    "#           [rmse_4,norm_rmse_4,r_sq4]]\n",
    "\n",
    "# # Write headers\n",
    "# outSheet.write(\"C1\", \"Tank_1\")\n",
    "# outSheet.write(\"D1\", \"Tank_2\")\n",
    "# outSheet.write(\"E1\", \"Tank_3\")\n",
    "# outSheet.write(\"F1\", \"Pump_1\")\n",
    "\n",
    "# # Write data to file\n",
    "# outSheet.write(\"C2\",values[0][0])\n",
    "# outSheet.write(\"C3\",values[0][1])\n",
    "# outSheet.write(\"C4\",values[0][2])\n",
    "\n",
    "# outSheet.write(\"D2\",values[1][0])\n",
    "# outSheet.write(\"D3\",values[1][1])\n",
    "# outSheet.write(\"D4\",values[1][2])\n",
    "\n",
    "# outSheet.write(\"E2\",values[2][0])\n",
    "# outSheet.write(\"E3\",values[2][1])\n",
    "# outSheet.write(\"E4\",values[2][2])\n",
    "\n",
    "# outSheet.write(\"F2\",values[3][0])\n",
    "# outSheet.write(\"F3\",values[3][1])\n",
    "# outSheet.write(\"F4\",values[3][2])\n",
    "\n",
    "# outWorkbook.close()\n",
    "\n",
    "# Save the model to disk\n",
    "model.save('multi_lstm_model.h5')\n",
    "print('Model saved to disk')"
   ]
  },
  {
   "cell_type": "markdown",
   "id": "4323cd35",
   "metadata": {},
   "source": [
    "### Box plot for rmse"
   ]
  },
  {
   "cell_type": "code",
   "execution_count": 1,
   "id": "12e974fc",
   "metadata": {
    "scrolled": true
   },
   "outputs": [
    {
     "name": "stdout",
     "output_type": "stream",
     "text": [
      "           Tank_1      Tank_2      Tank_3     Pump_1\n",
      "count   33.000000   33.000000   33.000000  33.000000\n",
      "mean   144.161401  109.906095  134.719121   0.117114\n",
      "std     29.680144   35.276328   34.676943   0.009327\n",
      "min     88.629391   59.307521   74.722553   0.100214\n",
      "25%    128.229447   79.751047  110.285824   0.109556\n",
      "50%    142.568261  110.000502  126.947889   0.117160\n",
      "75%    152.599295  128.335886  152.758458   0.124281\n",
      "max    210.698327  197.403725  201.181122   0.132437\n"
     ]
    },
    {
     "data": {
      "image/png": "[encoded data removed]",
      "text/plain": [
       "<Figure size 432x288 with 1 Axes>"
      ]
     },
     "metadata": {
      "needs_background": "light"
     },
     "output_type": "display_data"
    },
    {
     "data": {
      "image/png": "[encoded data removed]",
      "text/plain": [
       "<Figure size 432x288 with 4 Axes>"
      ]
     },
     "metadata": {
      "needs_background": "light"
     },
     "output_type": "display_data"
    }
   ],
   "source": [
    "from pandas import DataFrame\n",
    "from pandas import read_csv\n",
    "from numpy import mean\n",
    "from numpy import std\n",
    "from matplotlib import pyplot\n",
    "# load results file\n",
    "results = read_csv('rmse_multiple_results.csv', header=0)\n",
    "# descriptive stats\n",
    "print(results.describe())\n",
    "# box and whisker plot\n",
    "results.boxplot(whiskerprops = dict(linestyle='-', linewidth=2))\n",
    "pyplot.show()\n",
    "# histogram\n",
    "results.hist()\n",
    "pyplot.show()"
   ]
  },
  {
   "cell_type": "code",
   "execution_count": 2,
   "id": "f4dd03d3",
   "metadata": {},
   "outputs": [
    {
     "data": {
      "text/plain": [
       "(241, 12)"
      ]
     },
     "execution_count": 2,
     "metadata": {},
     "output_type": "execute_result"
    }
   ],
   "source": [
    "out_test.shape"
   ]
  },
  {
   "cell_type": "markdown",
   "id": "4f6dccdf",
   "metadata": {},
   "source": [
    "### Box plot for normalised rmse"
   ]
  },
  {
   "cell_type": "code",
   "execution_count": 2,
   "id": "b20d7721",
   "metadata": {},
   "outputs": [
    {
     "name": "stdout",
     "output_type": "stream",
     "text": [
      "          Tank_1     Tank_2     Tank_3     Pump_1\n",
      "count  33.000000  33.000000  33.000000  33.000000\n",
      "mean    0.072809   0.056304   0.039311   0.117114\n",
      "std     0.014990   0.018072   0.010119   0.009327\n",
      "min     0.044762   0.030383   0.021804   0.100214\n",
      "25%     0.064762   0.040856   0.032181   0.109556\n",
      "50%     0.072004   0.056353   0.037043   0.117160\n",
      "75%     0.077070   0.065746   0.044575   0.124281\n",
      "max     0.106413   0.101129   0.058705   0.132437\n"
     ]
    },
    {
     "data": {
      "image/png": "[encoded data removed]",
      "text/plain": [
       "<Figure size 432x288 with 1 Axes>"
      ]
     },
     "metadata": {
      "needs_background": "light"
     },
     "output_type": "display_data"
    },
    {
     "data": {
      "image/png": "[encoded data removed]",
      "text/plain": [
       "<Figure size 432x288 with 4 Axes>"
      ]
     },
     "metadata": {
      "needs_background": "light"
     },
     "output_type": "display_data"
    }
   ],
   "source": [
    "from pandas import DataFrame\n",
    "from pandas import read_csv\n",
    "from numpy import mean\n",
    "from numpy import std\n",
    "from matplotlib import pyplot\n",
    "# load results file\n",
    "results = read_csv('norm_rmse_multiple_results.csv', header=0)\n",
    "# descriptive stats\n",
    "print(results.describe())\n",
    "# box and whisker plot\n",
    "results.boxplot(whiskerprops = dict(linestyle='-', linewidth=2))\n",
    "pyplot.show()\n",
    "# histogram\n",
    "results.hist()\n",
    "pyplot.show()"
   ]
  },
  {
   "cell_type": "markdown",
   "id": "977fe663",
   "metadata": {},
   "source": [
    "### Box Plot for COefficient of Determination (R-Squared )"
   ]
  },
  {
   "cell_type": "code",
   "execution_count": 3,
   "id": "96c56901",
   "metadata": {},
   "outputs": [
    {
     "name": "stdout",
     "output_type": "stream",
     "text": [
      "          Tank_1     Tank_2     Tank_3     Pump_1\n",
      "count  33.000000  33.000000  33.000000  33.000000\n",
      "mean    0.942453   0.970305   0.910426   0.937769\n",
      "std     0.023750   0.019602   0.044893   0.009843\n",
      "min     0.881927   0.912903   0.812304   0.920907\n",
      "25%     0.938065   0.963188   0.891784   0.930348\n",
      "50%     0.945940   0.972955   0.925264   0.938101\n",
      "75%     0.956268   0.985784   0.943595   0.945875\n",
      "max     0.979108   0.992138   0.974107   0.954713\n"
     ]
    },
    {
     "data": {
      "image/png": "[encoded data removed]",
      "text/plain": [
       "<Figure size 432x288 with 1 Axes>"
      ]
     },
     "metadata": {
      "needs_background": "light"
     },
     "output_type": "display_data"
    },
    {
     "data": {
      "image/png": "[encoded data removed]",
      "text/plain": [
       "<Figure size 432x288 with 4 Axes>"
      ]
     },
     "metadata": {
      "needs_background": "light"
     },
     "output_type": "display_data"
    }
   ],
   "source": [
    "from pandas import DataFrame\n",
    "from pandas import read_csv\n",
    "from numpy import mean\n",
    "from numpy import std\n",
    "from matplotlib import pyplot\n",
    "# load results file\n",
    "results = read_csv('r_sq_multiple_results.csv', header=0)\n",
    "# descriptive stats\n",
    "print(results.describe())\n",
    "# box and whisker plot\n",
    "results.boxplot(whiskerprops = dict(linestyle='-', linewidth=2))\n",
    "pyplot.show()\n",
    "# histogram\n",
    "results.hist()\n",
    "pyplot.show()"
   ]
  },
  {
   "cell_type": "markdown",
   "id": "de5770c5",
   "metadata": {},
   "source": [
    "### RMSE Function"
   ]
  },
  {
   "cell_type": "code",
   "execution_count": 9,
   "id": "1646823e",
   "metadata": {},
   "outputs": [
    {
     "name": "stdout",
     "output_type": "stream",
     "text": [
      "The two inputs are incompatible\n",
      "50.0\n"
     ]
    }
   ],
   "source": [
    "import math\n",
    "def rms(x,y):\n",
    "    if len(x)!= len(y):\n",
    "        return \"The two inputs are incompatible\"\n",
    "    total = 0\n",
    "    for i in range(len(x)):\n",
    "        total += ((x[i]-y[i])**2)\n",
    "    return math.sqrt(total/len(x))\n",
    "\n",
    "\n",
    "p = [10,20,30,40,5]\n",
    "q = [11,17,29,40]\n",
    "print(rms(p,q))\n",
    "val = [x for x in range(1000,10000,100)]\n",
    "val2 = [k + 50 for k in val]\n",
    "# del val2[3]\n",
    "print(rms(val,val2))"
   ]
  },
  {
   "cell_type": "markdown",
   "id": "e69c39c0",
   "metadata": {},
   "source": [
    "### Plot the prediction"
   ]
  },
  {
   "cell_type": "code",
   "execution_count": 12,
   "id": "6a18f5b9",
   "metadata": {},
   "outputs": [
    {
     "data": {
      "image/png": "[encoded data removed]",
      "text/plain": [
       "<Figure size 432x288 with 1 Axes>"
      ]
     },
     "metadata": {
      "needs_background": "light"
     },
     "output_type": "display_data"
    }
   ],
   "source": [
    "pyplot.plot(inv_yhat[0:500,0], label='predicted')\n",
    "pyplot.plot(inv_y[0:500,0], label='actual')\n",
    "pyplot.legend()\n",
    "pyplot.show()"
   ]
  },
  {
   "cell_type": "code",
   "execution_count": 13,
   "id": "41a66bd6",
   "metadata": {},
   "outputs": [
    {
     "data": {
      "image/png": "[encoded data removed]",
      "text/plain": [
       "<Figure size 432x288 with 1 Axes>"
      ]
     },
     "metadata": {
      "needs_background": "light"
     },
     "output_type": "display_data"
    }
   ],
   "source": [
    "pyplot.plot(inv_yhat[0:500,1], label='predicted')\n",
    "pyplot.plot(inv_y[0:500,1], label='actual')\n",
    "pyplot.legend()\n",
    "pyplot.show()"
   ]
  },
  {
   "cell_type": "code",
   "execution_count": 14,
   "id": "f90e187b",
   "metadata": {},
   "outputs": [
    {
     "data": {
      "image/png": "[encoded data removed]",
      "text/plain": [
       "<Figure size 432x288 with 1 Axes>"
      ]
     },
     "metadata": {
      "needs_background": "light"
     },
     "output_type": "display_data"
    }
   ],
   "source": [
    "pyplot.plot(inv_yhat[0:500,2], label='predicted')\n",
    "pyplot.plot(inv_y[0:500,2], label='actual')\n",
    "pyplot.legend()\n",
    "pyplot.show()"
   ]
  },
  {
   "cell_type": "code",
   "execution_count": 15,
   "id": "103ef27f",
   "metadata": {},
   "outputs": [
    {
     "data": {
      "image/png": "[encoded data removed]",
      "text/plain": [
       "<Figure size 432x288 with 1 Axes>"
      ]
     },
     "metadata": {
      "needs_background": "light"
     },
     "output_type": "display_data"
    }
   ],
   "source": [
    "pyplot.plot(inv_yhat[0:500,3], label='predicted')\n",
    "pyplot.plot(inv_y[0:500,3], label='actual')\n",
    "pyplot.legend()\n",
    "pyplot.show()"
   ]
  },
  {
   "cell_type": "code",
   "execution_count": null,
   "id": "0d175bd8",
   "metadata": {},
   "outputs": [],
   "source": []
  },
  {
   "cell_type": "markdown",
   "id": "5f539b08",
   "metadata": {},
   "source": [
    "### Load saved model"
   ]
  },
  {
   "cell_type": "code",
   "execution_count": 21,
   "id": "58fe9999",
   "metadata": {},
   "outputs": [
    {
     "name": "stdout",
     "output_type": "stream",
     "text": [
      "Test RMSE:  0.5333445714223518 0.4271378734313149 0.6290856810314688 0.567660423030367\n"
     ]
    }
   ],
   "source": [
    "from keras.models import load_model\n",
    "\n",
    "model = load_model('multi_lstm_model.h5')\n",
    "\n",
    "#split into input and outputs\n",
    "# n_obs = n_hours * n_features\n",
    "\n",
    "test_X = out_test[:, :n_obs]\n",
    "test_y = out_test[:, -n_features:(-n_features+4)]\n",
    "\n",
    "test_X = test_X.reshape((test_X.shape[0], n_hours, n_features))\n",
    "\n",
    "# Make a prediction\n",
    "yhat = model.predict(test_X)\n",
    "\n",
    "#calculate RMSE - CHANGED to output RMSE for each variable.\n",
    "norm_rmse_1 = sqrt(mean_squared_error(y_hat[:241,0], test_y[:,0])) #RMSE for the first variable (Tank_1)\n",
    "norm_rmse_2 = sqrt(mean_squared_error(y_hat[:241,1], test_y[:,1])) #RMSE for the second variable (Tank_2)\n",
    "norm_rmse_3 = sqrt(mean_squared_error(y_hat[:241,2], test_y[:,2])) #RMSE for the third variable (Tank_3)\n",
    "norm_rmse_4 = sqrt(mean_squared_error(y_hat[:241,3], test_y[:,3])) #RMSE for the fourth variable (Pump_1)\n",
    "print('Test RMSE: ', norm_rmse_1, norm_rmse_2, norm_rmse_3, norm_rmse_4)\n",
    "    \n",
    "# test_X = test_X.reshape((test_X.shape[0], n_hours*n_features))\n",
    "# inv_yhat = concatenate((y_hat, test_X[:,-2:]), axis=1) #changed 7 to 6\n",
    "# inv_yhat = scaler.inverse_transform(inv_yhat)\n",
    "# inv_yhat = inv_yhat[:,0:4] #changed from 0 to 0:2. Should be first 2 columns that contain the predictions\n",
    " \n",
    "\n",
    "# #invert scaling for actual\n",
    "# test_y = test_y.reshape((len(test_y),4)) #changed 1 to 2\n",
    "# inv_y = concatenate((test_y, test_X[:,-2:]), axis=1) #changed 7 to 6\n",
    "# inv_y = scaler.inverse_transform(inv_y)\n",
    "# inv_y = inv_y[:,0:4] #changed from 0 to 0:2. Should be first 2 columns that contain the predictions.\n",
    " \n",
    "\n",
    "    \n",
    "# #calculate RMSE - CHANGED to output RMSE for each variable.\n",
    "# rmse_1 = sqrt(mean_squared_error(inv_y[:,0], inv_yhat[:,0])) #RMSE for the first variable (Tank_1)\n",
    "# rmse_2 = sqrt(mean_squared_error(inv_y[:,1], inv_yhat[:,1])) #RMSE for the second variable (Tank_2)\n",
    "# rmse_3 = sqrt(mean_squared_error(inv_y[:,2], inv_yhat[:,2])) #RMSE for the third variable (Tank_3)\n",
    "# rmse_4 = sqrt(mean_squared_error(inv_y[:,3], inv_yhat[:,3])) #RMSE for the fourth variable (Pump_1)\n",
    "\n",
    "# r_sq1 = r2_score(inv_y[:,0], inv_yhat[:,0])\n",
    "# r_sq2 = r2_score(inv_y[:,1], inv_yhat[:,1])\n",
    "# r_sq3 = r2_score(inv_y[:,2], inv_yhat[:,2])\n",
    "# r_sq4 = r2_score(inv_y[:,3], inv_yhat[:,3])\n",
    "\n",
    "# print('Test RMSE: ', rmse_1, rmse_2, rmse_3, rmse_4)\n",
    "\n",
    "# print(\"Test R-squared: \", r_sq1, r_sq2, r_sq3, r_sq4)\n"
   ]
  },
  {
   "cell_type": "code",
   "execution_count": 19,
   "id": "13c673be",
   "metadata": {},
   "outputs": [
    {
     "data": {
      "image/png": "[encoded data removed]",
      "text/plain": [
       "<Figure size 432x288 with 1 Axes>"
      ]
     },
     "metadata": {
      "needs_background": "light"
     },
     "output_type": "display_data"
    }
   ],
   "source": [
    "pyplot.plot(test_y[:,], label='actual')\n",
    "pyplot.legend()\n",
    "pyplot.show()"
   ]
  },
  {
   "cell_type": "code",
   "execution_count": null,
   "id": "eda5c9ab",
   "metadata": {},
   "outputs": [],
   "source": []
  },
  {
   "cell_type": "code",
   "execution_count": null,
   "id": "34c07f5b",
   "metadata": {},
   "outputs": [],
   "source": []
  },
  {
   "cell_type": "code",
   "execution_count": null,
   "id": "d8889c08",
   "metadata": {},
   "outputs": [],
   "source": []
  }
 ],
 "metadata": {
  "kernelspec": {
   "display_name": "Python 3 (ipykernel)",
   "language": "python",
   "name": "python3"
  },
  "language_info": {
   "codemirror_mode": {
    "name": "ipython",
    "version": 3
   },
   "file_extension": ".py",
   "mimetype": "text/x-python",
   "name": "python",
   "nbconvert_exporter": "python",
   "pygments_lexer": "ipython3",
   "version": "3.8.12"
  }
 },
 "nbformat": 4,
 "nbformat_minor": 5
}
