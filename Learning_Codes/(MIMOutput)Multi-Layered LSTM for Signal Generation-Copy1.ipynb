{
 "cells": [
  {
   "cell_type": "markdown",
   "id": "f0c2450b",
   "metadata": {},
   "source": [
    "## Multivariate LSTM Forecast model for multiple outputs"
   ]
  },
  {
   "cell_type": "markdown",
   "id": "f32bfe16",
   "metadata": {},
   "source": [
    "### Distribution of the variables"
   ]
  },
  {
   "cell_type": "code",
   "execution_count": 4,
   "id": "3c629b28",
   "metadata": {},
   "outputs": [
    {
     "name": "stdout",
     "output_type": "stream",
     "text": [
      "            Tank_1       Tank_2       Tank_3       Pump_1       Pump_2  \\\n",
      "count  2420.000000  2420.000000  2420.000000  2420.000000  2420.000000   \n",
      "mean    686.320661   714.946281   922.677686     0.300000     0.243802   \n",
      "std     654.955181   656.051613   942.572849     0.458352     0.429463   \n",
      "min       0.000000     0.000000     0.000000     0.000000     0.000000   \n",
      "25%       2.000000     5.000000    73.250000     0.000000     0.000000   \n",
      "50%     598.000000   639.500000   747.500000     0.000000     0.000000   \n",
      "75%    1244.000000  1293.250000  1226.250000     1.000000     0.000000   \n",
      "max    1980.000000  1952.000000  3427.000000     1.000000     1.000000   \n",
      "\n",
      "       Flow_sensor_4  \n",
      "count    2420.000000  \n",
      "mean     1283.821488  \n",
      "std      1738.336519  \n",
      "min         0.000000  \n",
      "25%         0.000000  \n",
      "50%         0.000000  \n",
      "75%      2769.000000  \n",
      "max      4789.000000  \n"
     ]
    },
    {
     "data": {
      "image/png": "[encoded data removed]",
      "text/plain": [
       "<Figure size 432x288 with 1 Axes>"
      ]
     },
     "metadata": {
      "needs_background": "light"
     },
     "output_type": "display_data"
    },
    {
     "data": {
      "image/png": "[encoded data removed]",
      "text/plain": [
       "<Figure size 432x288 with 6 Axes>"
      ]
     },
     "metadata": {
      "needs_background": "light"
     },
     "output_type": "display_data"
    }
   ],
   "source": [
    "from matplotlib import pyplot\n",
    "from pandas import read_csv\n",
    "# load results file\n",
    "results = read_csv('phy_cps.csv', header=0)\n",
    "# descriptive stats\n",
    "print(results.describe())\n",
    "# box and whisker plot\n",
    "results.boxplot(whiskerprops = dict(linestyle='-', linewidth=2))\n",
    "pyplot.show()\n",
    "# histogram\n",
    "results.hist()\n",
    "pyplot.show()"
   ]
  },
  {
   "cell_type": "code",
   "execution_count": 23,
   "id": "b6d77d7c",
   "metadata": {},
   "outputs": [
    {
     "name": "stdout",
     "output_type": "stream",
     "text": [
      "Epoch 1/250\n",
      "24/24 - 75s - loss: 0.2245 - val_loss: 0.2279 - 75s/epoch - 3s/step\n",
      "Epoch 2/250\n",
      "24/24 - 1s - loss: 0.2078 - val_loss: 0.2103 - 851ms/epoch - 35ms/step\n",
      "Epoch 3/250\n",
      "24/24 - 1s - loss: 0.1877 - val_loss: 0.1888 - 675ms/epoch - 28ms/step\n",
      "Epoch 4/250\n",
      "24/24 - 1s - loss: 0.1559 - val_loss: 0.1572 - 796ms/epoch - 33ms/step\n",
      "Epoch 5/250\n",
      "24/24 - 1s - loss: 0.1103 - val_loss: 0.1347 - 596ms/epoch - 25ms/step\n",
      "Epoch 6/250\n",
      "24/24 - 1s - loss: 0.0914 - val_loss: 0.1403 - 626ms/epoch - 26ms/step\n",
      "Epoch 7/250\n",
      "24/24 - 1s - loss: 0.0805 - val_loss: 0.1391 - 554ms/epoch - 23ms/step\n",
      "Epoch 8/250\n",
      "24/24 - 1s - loss: 0.0729 - val_loss: 0.1331 - 664ms/epoch - 28ms/step\n",
      "Epoch 9/250\n",
      "24/24 - 1s - loss: 0.0667 - val_loss: 0.1243 - 648ms/epoch - 27ms/step\n",
      "Epoch 10/250\n",
      "24/24 - 1s - loss: 0.0628 - val_loss: 0.1126 - 565ms/epoch - 24ms/step\n",
      "Epoch 11/250\n",
      "24/24 - 1s - loss: 0.0566 - val_loss: 0.1018 - 674ms/epoch - 28ms/step\n",
      "Epoch 12/250\n",
      "24/24 - 1s - loss: 0.0529 - val_loss: 0.0917 - 619ms/epoch - 26ms/step\n",
      "Epoch 13/250\n",
      "24/24 - 1s - loss: 0.0500 - val_loss: 0.0883 - 676ms/epoch - 28ms/step\n",
      "Epoch 14/250\n",
      "24/24 - 1s - loss: 0.0484 - val_loss: 0.0875 - 886ms/epoch - 37ms/step\n",
      "Epoch 15/250\n",
      "24/24 - 1s - loss: 0.0471 - val_loss: 0.0873 - 1s/epoch - 48ms/step\n",
      "Epoch 16/250\n",
      "24/24 - 1s - loss: 0.0459 - val_loss: 0.0879 - 1s/epoch - 44ms/step\n",
      "Epoch 17/250\n",
      "24/24 - 1s - loss: 0.0449 - val_loss: 0.0865 - 752ms/epoch - 31ms/step\n",
      "Epoch 18/250\n",
      "24/24 - 1s - loss: 0.0435 - val_loss: 0.0868 - 1s/epoch - 54ms/step\n",
      "Epoch 19/250\n",
      "24/24 - 2s - loss: 0.0423 - val_loss: 0.0867 - 2s/epoch - 70ms/step\n",
      "Epoch 20/250\n",
      "24/24 - 2s - loss: 0.0425 - val_loss: 0.0873 - 2s/epoch - 64ms/step\n",
      "Epoch 21/250\n",
      "24/24 - 1s - loss: 0.0402 - val_loss: 0.0873 - 628ms/epoch - 26ms/step\n",
      "Epoch 22/250\n",
      "24/24 - 1s - loss: 0.0389 - val_loss: 0.0874 - 528ms/epoch - 22ms/step\n",
      "Epoch 23/250\n",
      "24/24 - 1s - loss: 0.0387 - val_loss: 0.0871 - 665ms/epoch - 28ms/step\n",
      "Epoch 24/250\n",
      "24/24 - 0s - loss: 0.0376 - val_loss: 0.0876 - 420ms/epoch - 17ms/step\n",
      "Epoch 25/250\n",
      "24/24 - 0s - loss: 0.0372 - val_loss: 0.0868 - 443ms/epoch - 18ms/step\n",
      "Epoch 26/250\n",
      "24/24 - 0s - loss: 0.0369 - val_loss: 0.0860 - 456ms/epoch - 19ms/step\n",
      "Epoch 27/250\n",
      "24/24 - 1s - loss: 0.0363 - val_loss: 0.0861 - 634ms/epoch - 26ms/step\n",
      "Epoch 28/250\n",
      "24/24 - 1s - loss: 0.0356 - val_loss: 0.0853 - 608ms/epoch - 25ms/step\n",
      "Epoch 29/250\n",
      "24/24 - 0s - loss: 0.0342 - val_loss: 0.0835 - 472ms/epoch - 20ms/step\n",
      "Epoch 30/250\n",
      "24/24 - 0s - loss: 0.0333 - val_loss: 0.0810 - 497ms/epoch - 21ms/step\n",
      "Epoch 31/250\n",
      "24/24 - 0s - loss: 0.0327 - val_loss: 0.0802 - 428ms/epoch - 18ms/step\n",
      "Epoch 32/250\n",
      "24/24 - 0s - loss: 0.0321 - val_loss: 0.0788 - 403ms/epoch - 17ms/step\n",
      "Epoch 33/250\n",
      "24/24 - 1s - loss: 0.0320 - val_loss: 0.0762 - 1s/epoch - 44ms/step\n",
      "Epoch 34/250\n",
      "24/24 - 1s - loss: 0.0305 - val_loss: 0.0737 - 1s/epoch - 47ms/step\n",
      "Epoch 35/250\n",
      "24/24 - 1s - loss: 0.0303 - val_loss: 0.0708 - 598ms/epoch - 25ms/step\n",
      "Epoch 36/250\n",
      "24/24 - 1s - loss: 0.0290 - val_loss: 0.0684 - 580ms/epoch - 24ms/step\n",
      "Epoch 37/250\n",
      "24/24 - 0s - loss: 0.0291 - val_loss: 0.0648 - 447ms/epoch - 19ms/step\n",
      "Epoch 38/250\n",
      "24/24 - 1s - loss: 0.0283 - val_loss: 0.0619 - 566ms/epoch - 24ms/step\n",
      "Epoch 39/250\n",
      "24/24 - 1s - loss: 0.0277 - val_loss: 0.0603 - 707ms/epoch - 29ms/step\n",
      "Epoch 40/250\n",
      "24/24 - 1s - loss: 0.0270 - val_loss: 0.0565 - 661ms/epoch - 28ms/step\n",
      "Epoch 41/250\n",
      "24/24 - 1s - loss: 0.0254 - val_loss: 0.0544 - 730ms/epoch - 30ms/step\n",
      "Epoch 42/250\n",
      "24/24 - 1s - loss: 0.0260 - val_loss: 0.0527 - 700ms/epoch - 29ms/step\n",
      "Epoch 43/250\n",
      "24/24 - 1s - loss: 0.0251 - val_loss: 0.0502 - 732ms/epoch - 30ms/step\n",
      "Epoch 44/250\n",
      "24/24 - 1s - loss: 0.0251 - val_loss: 0.0499 - 749ms/epoch - 31ms/step\n",
      "Epoch 45/250\n",
      "24/24 - 1s - loss: 0.0238 - val_loss: 0.0484 - 604ms/epoch - 25ms/step\n",
      "Epoch 46/250\n",
      "24/24 - 1s - loss: 0.0237 - val_loss: 0.0473 - 539ms/epoch - 22ms/step\n",
      "Epoch 47/250\n",
      "24/24 - 1s - loss: 0.0237 - val_loss: 0.0481 - 615ms/epoch - 26ms/step\n",
      "Epoch 48/250\n",
      "24/24 - 1s - loss: 0.0235 - val_loss: 0.0481 - 583ms/epoch - 24ms/step\n",
      "Epoch 49/250\n",
      "24/24 - 1s - loss: 0.0228 - val_loss: 0.0456 - 721ms/epoch - 30ms/step\n",
      "Epoch 50/250\n",
      "24/24 - 1s - loss: 0.0222 - val_loss: 0.0452 - 686ms/epoch - 29ms/step\n",
      "Epoch 51/250\n",
      "24/24 - 1s - loss: 0.0223 - val_loss: 0.0440 - 721ms/epoch - 30ms/step\n",
      "Epoch 52/250\n",
      "24/24 - 1s - loss: 0.0219 - val_loss: 0.0452 - 573ms/epoch - 24ms/step\n",
      "Epoch 53/250\n",
      "24/24 - 1s - loss: 0.0222 - val_loss: 0.0448 - 595ms/epoch - 25ms/step\n",
      "Epoch 54/250\n",
      "24/24 - 1s - loss: 0.0218 - val_loss: 0.0442 - 627ms/epoch - 26ms/step\n",
      "Epoch 55/250\n",
      "24/24 - 1s - loss: 0.0216 - val_loss: 0.0423 - 675ms/epoch - 28ms/step\n",
      "Epoch 56/250\n",
      "24/24 - 1s - loss: 0.0213 - val_loss: 0.0420 - 639ms/epoch - 27ms/step\n",
      "Epoch 57/250\n",
      "24/24 - 1s - loss: 0.0218 - val_loss: 0.0408 - 1s/epoch - 42ms/step\n",
      "Epoch 58/250\n",
      "24/24 - 1s - loss: 0.0220 - val_loss: 0.0407 - 683ms/epoch - 28ms/step\n",
      "Epoch 59/250\n",
      "24/24 - 1s - loss: 0.0207 - val_loss: 0.0411 - 836ms/epoch - 35ms/step\n",
      "Epoch 60/250\n",
      "24/24 - 1s - loss: 0.0209 - val_loss: 0.0403 - 764ms/epoch - 32ms/step\n",
      "Epoch 61/250\n",
      "24/24 - 1s - loss: 0.0203 - val_loss: 0.0407 - 697ms/epoch - 29ms/step\n",
      "Epoch 62/250\n",
      "24/24 - 1s - loss: 0.0201 - val_loss: 0.0393 - 653ms/epoch - 27ms/step\n",
      "Epoch 63/250\n",
      "24/24 - 1s - loss: 0.0203 - val_loss: 0.0392 - 652ms/epoch - 27ms/step\n",
      "Epoch 64/250\n",
      "24/24 - 0s - loss: 0.0197 - val_loss: 0.0386 - 494ms/epoch - 21ms/step\n",
      "Epoch 65/250\n",
      "24/24 - 1s - loss: 0.0202 - val_loss: 0.0382 - 614ms/epoch - 26ms/step\n",
      "Epoch 66/250\n",
      "24/24 - 1s - loss: 0.0193 - val_loss: 0.0360 - 705ms/epoch - 29ms/step\n",
      "Epoch 67/250\n",
      "24/24 - 1s - loss: 0.0194 - val_loss: 0.0363 - 693ms/epoch - 29ms/step\n",
      "Epoch 68/250\n",
      "24/24 - 1s - loss: 0.0194 - val_loss: 0.0350 - 643ms/epoch - 27ms/step\n",
      "Epoch 69/250\n",
      "24/24 - 1s - loss: 0.0186 - val_loss: 0.0350 - 571ms/epoch - 24ms/step\n",
      "Epoch 70/250\n",
      "24/24 - 1s - loss: 0.0182 - val_loss: 0.0331 - 707ms/epoch - 29ms/step\n",
      "Epoch 71/250\n",
      "24/24 - 1s - loss: 0.0181 - val_loss: 0.0325 - 590ms/epoch - 25ms/step\n",
      "Epoch 72/250\n",
      "24/24 - 1s - loss: 0.0181 - val_loss: 0.0321 - 549ms/epoch - 23ms/step\n",
      "Epoch 73/250\n",
      "24/24 - 1s - loss: 0.0181 - val_loss: 0.0320 - 605ms/epoch - 25ms/step\n",
      "Epoch 74/250\n",
      "24/24 - 1s - loss: 0.0185 - val_loss: 0.0318 - 635ms/epoch - 26ms/step\n",
      "Epoch 75/250\n",
      "24/24 - 1s - loss: 0.0177 - val_loss: 0.0297 - 730ms/epoch - 30ms/step\n",
      "Epoch 76/250\n",
      "24/24 - 1s - loss: 0.0180 - val_loss: 0.0290 - 611ms/epoch - 25ms/step\n",
      "Epoch 77/250\n",
      "24/24 - 1s - loss: 0.0164 - val_loss: 0.0276 - 530ms/epoch - 22ms/step\n",
      "Epoch 78/250\n",
      "24/24 - 0s - loss: 0.0167 - val_loss: 0.0277 - 476ms/epoch - 20ms/step\n",
      "Epoch 79/250\n",
      "24/24 - 1s - loss: 0.0167 - val_loss: 0.0277 - 589ms/epoch - 25ms/step\n",
      "Epoch 80/250\n",
      "24/24 - 1s - loss: 0.0163 - val_loss: 0.0259 - 605ms/epoch - 25ms/step\n",
      "Epoch 81/250\n",
      "24/24 - 1s - loss: 0.0164 - val_loss: 0.0251 - 563ms/epoch - 23ms/step\n",
      "Epoch 82/250\n",
      "24/24 - 1s - loss: 0.0161 - val_loss: 0.0242 - 797ms/epoch - 33ms/step\n",
      "Epoch 83/250\n",
      "24/24 - 1s - loss: 0.0163 - val_loss: 0.0241 - 696ms/epoch - 29ms/step\n",
      "Epoch 84/250\n",
      "24/24 - 1s - loss: 0.0157 - val_loss: 0.0241 - 753ms/epoch - 31ms/step\n",
      "Epoch 85/250\n",
      "24/24 - 1s - loss: 0.0158 - val_loss: 0.0230 - 656ms/epoch - 27ms/step\n",
      "Epoch 86/250\n",
      "24/24 - 4s - loss: 0.0152 - val_loss: 0.0233 - 4s/epoch - 158ms/step\n",
      "Epoch 87/250\n",
      "24/24 - 0s - loss: 0.0154 - val_loss: 0.0217 - 497ms/epoch - 21ms/step\n",
      "Epoch 88/250\n",
      "24/24 - 0s - loss: 0.0150 - val_loss: 0.0218 - 429ms/epoch - 18ms/step\n",
      "Epoch 89/250\n",
      "24/24 - 1s - loss: 0.0149 - val_loss: 0.0214 - 589ms/epoch - 25ms/step\n",
      "Epoch 90/250\n",
      "24/24 - 1s - loss: 0.0150 - val_loss: 0.0206 - 596ms/epoch - 25ms/step\n",
      "Epoch 91/250\n",
      "24/24 - 1s - loss: 0.0151 - val_loss: 0.0195 - 607ms/epoch - 25ms/step\n",
      "Epoch 92/250\n",
      "24/24 - 1s - loss: 0.0150 - val_loss: 0.0204 - 975ms/epoch - 41ms/step\n",
      "Epoch 93/250\n",
      "24/24 - 1s - loss: 0.0144 - val_loss: 0.0183 - 921ms/epoch - 38ms/step\n",
      "Epoch 94/250\n",
      "24/24 - 1s - loss: 0.0144 - val_loss: 0.0187 - 897ms/epoch - 37ms/step\n",
      "Epoch 95/250\n",
      "24/24 - 1s - loss: 0.0143 - val_loss: 0.0188 - 866ms/epoch - 36ms/step\n",
      "Epoch 96/250\n",
      "24/24 - 1s - loss: 0.0142 - val_loss: 0.0186 - 632ms/epoch - 26ms/step\n",
      "Epoch 97/250\n",
      "24/24 - 1s - loss: 0.0145 - val_loss: 0.0173 - 829ms/epoch - 35ms/step\n",
      "Epoch 98/250\n",
      "24/24 - 1s - loss: 0.0145 - val_loss: 0.0175 - 643ms/epoch - 27ms/step\n"
     ]
    },
    {
     "name": "stdout",
     "output_type": "stream",
     "text": [
      "Epoch 99/250\n",
      "24/24 - 1s - loss: 0.0142 - val_loss: 0.0169 - 1s/epoch - 42ms/step\n",
      "Epoch 100/250\n",
      "24/24 - 1s - loss: 0.0145 - val_loss: 0.0168 - 508ms/epoch - 21ms/step\n",
      "Epoch 101/250\n",
      "24/24 - 1s - loss: 0.0136 - val_loss: 0.0169 - 650ms/epoch - 27ms/step\n",
      "Epoch 102/250\n",
      "24/24 - 1s - loss: 0.0142 - val_loss: 0.0161 - 554ms/epoch - 23ms/step\n",
      "Epoch 103/250\n",
      "24/24 - 1s - loss: 0.0134 - val_loss: 0.0164 - 776ms/epoch - 32ms/step\n",
      "Epoch 104/250\n",
      "24/24 - 1s - loss: 0.0138 - val_loss: 0.0158 - 617ms/epoch - 26ms/step\n",
      "Epoch 105/250\n",
      "24/24 - 1s - loss: 0.0141 - val_loss: 0.0156 - 640ms/epoch - 27ms/step\n",
      "Epoch 106/250\n",
      "24/24 - 1s - loss: 0.0139 - val_loss: 0.0157 - 647ms/epoch - 27ms/step\n",
      "Epoch 107/250\n",
      "24/24 - 0s - loss: 0.0130 - val_loss: 0.0149 - 448ms/epoch - 19ms/step\n",
      "Epoch 108/250\n",
      "24/24 - 1s - loss: 0.0131 - val_loss: 0.0155 - 705ms/epoch - 29ms/step\n",
      "Epoch 109/250\n",
      "24/24 - 1s - loss: 0.0132 - val_loss: 0.0149 - 573ms/epoch - 24ms/step\n",
      "Epoch 110/250\n",
      "24/24 - 1s - loss: 0.0131 - val_loss: 0.0149 - 606ms/epoch - 25ms/step\n",
      "Epoch 111/250\n",
      "24/24 - 1s - loss: 0.0128 - val_loss: 0.0150 - 772ms/epoch - 32ms/step\n",
      "Epoch 112/250\n",
      "24/24 - 1s - loss: 0.0131 - val_loss: 0.0144 - 701ms/epoch - 29ms/step\n",
      "Epoch 113/250\n",
      "24/24 - 1s - loss: 0.0131 - val_loss: 0.0144 - 774ms/epoch - 32ms/step\n",
      "Epoch 114/250\n",
      "24/24 - 1s - loss: 0.0125 - val_loss: 0.0152 - 553ms/epoch - 23ms/step\n",
      "Epoch 115/250\n",
      "24/24 - 1s - loss: 0.0127 - val_loss: 0.0135 - 676ms/epoch - 28ms/step\n",
      "Epoch 116/250\n",
      "24/24 - 0s - loss: 0.0126 - val_loss: 0.0145 - 429ms/epoch - 18ms/step\n",
      "Epoch 117/250\n",
      "24/24 - 1s - loss: 0.0123 - val_loss: 0.0136 - 627ms/epoch - 26ms/step\n",
      "Epoch 118/250\n",
      "24/24 - 0s - loss: 0.0125 - val_loss: 0.0133 - 472ms/epoch - 20ms/step\n",
      "Epoch 119/250\n",
      "24/24 - 1s - loss: 0.0121 - val_loss: 0.0139 - 1s/epoch - 43ms/step\n",
      "Epoch 120/250\n",
      "24/24 - 1s - loss: 0.0123 - val_loss: 0.0124 - 819ms/epoch - 34ms/step\n",
      "Epoch 121/250\n",
      "24/24 - 1s - loss: 0.0121 - val_loss: 0.0127 - 765ms/epoch - 32ms/step\n",
      "Epoch 122/250\n",
      "24/24 - 1s - loss: 0.0119 - val_loss: 0.0127 - 908ms/epoch - 38ms/step\n",
      "Epoch 123/250\n",
      "24/24 - 1s - loss: 0.0122 - val_loss: 0.0130 - 620ms/epoch - 26ms/step\n",
      "Epoch 124/250\n",
      "24/24 - 0s - loss: 0.0122 - val_loss: 0.0124 - 408ms/epoch - 17ms/step\n",
      "Epoch 125/250\n",
      "24/24 - 1s - loss: 0.0123 - val_loss: 0.0131 - 578ms/epoch - 24ms/step\n",
      "Epoch 126/250\n",
      "24/24 - 1s - loss: 0.0119 - val_loss: 0.0125 - 601ms/epoch - 25ms/step\n",
      "Epoch 127/250\n",
      "24/24 - 1s - loss: 0.0117 - val_loss: 0.0124 - 1s/epoch - 52ms/step\n",
      "Epoch 128/250\n",
      "24/24 - 1s - loss: 0.0120 - val_loss: 0.0128 - 1s/epoch - 51ms/step\n",
      "Epoch 129/250\n",
      "24/24 - 0s - loss: 0.0115 - val_loss: 0.0130 - 462ms/epoch - 19ms/step\n",
      "Epoch 130/250\n",
      "24/24 - 1s - loss: 0.0116 - val_loss: 0.0120 - 620ms/epoch - 26ms/step\n",
      "Epoch 131/250\n",
      "24/24 - 1s - loss: 0.0117 - val_loss: 0.0124 - 698ms/epoch - 29ms/step\n",
      "Epoch 132/250\n",
      "24/24 - 0s - loss: 0.0120 - val_loss: 0.0122 - 467ms/epoch - 19ms/step\n",
      "Epoch 133/250\n",
      "24/24 - 1s - loss: 0.0109 - val_loss: 0.0117 - 574ms/epoch - 24ms/step\n",
      "Epoch 134/250\n",
      "24/24 - 0s - loss: 0.0116 - val_loss: 0.0124 - 452ms/epoch - 19ms/step\n",
      "Epoch 135/250\n",
      "24/24 - 1s - loss: 0.0119 - val_loss: 0.0116 - 582ms/epoch - 24ms/step\n",
      "Epoch 136/250\n",
      "24/24 - 0s - loss: 0.0111 - val_loss: 0.0121 - 447ms/epoch - 19ms/step\n",
      "Epoch 137/250\n",
      "24/24 - 0s - loss: 0.0124 - val_loss: 0.0119 - 442ms/epoch - 18ms/step\n",
      "Epoch 138/250\n",
      "24/24 - 0s - loss: 0.0110 - val_loss: 0.0126 - 438ms/epoch - 18ms/step\n",
      "Epoch 139/250\n",
      "24/24 - 0s - loss: 0.0111 - val_loss: 0.0116 - 393ms/epoch - 16ms/step\n",
      "Epoch 140/250\n",
      "24/24 - 0s - loss: 0.0113 - val_loss: 0.0120 - 417ms/epoch - 17ms/step\n",
      "Epoch 141/250\n",
      "24/24 - 0s - loss: 0.0115 - val_loss: 0.0122 - 463ms/epoch - 19ms/step\n",
      "Epoch 142/250\n",
      "24/24 - 0s - loss: 0.0114 - val_loss: 0.0108 - 440ms/epoch - 18ms/step\n",
      "Epoch 143/250\n",
      "24/24 - 0s - loss: 0.0111 - val_loss: 0.0109 - 393ms/epoch - 16ms/step\n",
      "Epoch 144/250\n",
      "24/24 - 0s - loss: 0.0114 - val_loss: 0.0111 - 425ms/epoch - 18ms/step\n",
      "Epoch 145/250\n",
      "24/24 - 1s - loss: 0.0118 - val_loss: 0.0118 - 576ms/epoch - 24ms/step\n",
      "Epoch 146/250\n",
      "24/24 - 0s - loss: 0.0110 - val_loss: 0.0107 - 435ms/epoch - 18ms/step\n",
      "Epoch 147/250\n",
      "24/24 - 0s - loss: 0.0112 - val_loss: 0.0109 - 489ms/epoch - 20ms/step\n",
      "Epoch 148/250\n",
      "24/24 - 0s - loss: 0.0104 - val_loss: 0.0111 - 390ms/epoch - 16ms/step\n",
      "Epoch 149/250\n",
      "24/24 - 0s - loss: 0.0108 - val_loss: 0.0111 - 408ms/epoch - 17ms/step\n",
      "Epoch 150/250\n",
      "24/24 - 0s - loss: 0.0113 - val_loss: 0.0113 - 496ms/epoch - 21ms/step\n",
      "Epoch 151/250\n",
      "24/24 - 0s - loss: 0.0109 - val_loss: 0.0106 - 397ms/epoch - 17ms/step\n",
      "Epoch 152/250\n",
      "24/24 - 0s - loss: 0.0110 - val_loss: 0.0114 - 454ms/epoch - 19ms/step\n",
      "Epoch 153/250\n",
      "24/24 - 1s - loss: 0.0108 - val_loss: 0.0105 - 530ms/epoch - 22ms/step\n",
      "Epoch 154/250\n",
      "24/24 - 1s - loss: 0.0112 - val_loss: 0.0104 - 519ms/epoch - 22ms/step\n",
      "Epoch 155/250\n",
      "24/24 - 0s - loss: 0.0104 - val_loss: 0.0105 - 404ms/epoch - 17ms/step\n",
      "Epoch 156/250\n",
      "24/24 - 0s - loss: 0.0106 - val_loss: 0.0105 - 358ms/epoch - 15ms/step\n",
      "Epoch 157/250\n",
      "24/24 - 0s - loss: 0.0104 - val_loss: 0.0103 - 448ms/epoch - 19ms/step\n",
      "Epoch 158/250\n",
      "24/24 - 0s - loss: 0.0108 - val_loss: 0.0108 - 402ms/epoch - 17ms/step\n",
      "Epoch 159/250\n",
      "24/24 - 0s - loss: 0.0104 - val_loss: 0.0107 - 383ms/epoch - 16ms/step\n",
      "Epoch 160/250\n",
      "24/24 - 0s - loss: 0.0107 - val_loss: 0.0109 - 498ms/epoch - 21ms/step\n",
      "Epoch 161/250\n",
      "24/24 - 0s - loss: 0.0110 - val_loss: 0.0102 - 418ms/epoch - 17ms/step\n",
      "Epoch 162/250\n",
      "24/24 - 0s - loss: 0.0110 - val_loss: 0.0109 - 418ms/epoch - 17ms/step\n",
      "Epoch 163/250\n",
      "24/24 - 1s - loss: 0.0108 - val_loss: 0.0107 - 711ms/epoch - 30ms/step\n",
      "Epoch 164/250\n",
      "24/24 - 0s - loss: 0.0110 - val_loss: 0.0107 - 396ms/epoch - 16ms/step\n",
      "Epoch 165/250\n",
      "24/24 - 1s - loss: 0.0105 - val_loss: 0.0106 - 542ms/epoch - 23ms/step\n",
      "Epoch 166/250\n",
      "24/24 - 0s - loss: 0.0106 - val_loss: 0.0097 - 352ms/epoch - 15ms/step\n",
      "Epoch 167/250\n",
      "24/24 - 0s - loss: 0.0107 - val_loss: 0.0105 - 454ms/epoch - 19ms/step\n",
      "Epoch 168/250\n",
      "24/24 - 0s - loss: 0.0101 - val_loss: 0.0103 - 395ms/epoch - 16ms/step\n",
      "Epoch 169/250\n",
      "24/24 - 0s - loss: 0.0099 - val_loss: 0.0091 - 458ms/epoch - 19ms/step\n",
      "Epoch 170/250\n",
      "24/24 - 0s - loss: 0.0099 - val_loss: 0.0097 - 448ms/epoch - 19ms/step\n",
      "Epoch 171/250\n",
      "24/24 - 0s - loss: 0.0099 - val_loss: 0.0102 - 376ms/epoch - 16ms/step\n",
      "Epoch 172/250\n",
      "24/24 - 0s - loss: 0.0103 - val_loss: 0.0099 - 436ms/epoch - 18ms/step\n",
      "Epoch 173/250\n",
      "24/24 - 1s - loss: 0.0099 - val_loss: 0.0095 - 745ms/epoch - 31ms/step\n",
      "Epoch 174/250\n",
      "24/24 - 1s - loss: 0.0106 - val_loss: 0.0099 - 566ms/epoch - 24ms/step\n",
      "Epoch 175/250\n",
      "24/24 - 0s - loss: 0.0098 - val_loss: 0.0101 - 454ms/epoch - 19ms/step\n",
      "Epoch 176/250\n",
      "24/24 - 0s - loss: 0.0101 - val_loss: 0.0103 - 470ms/epoch - 20ms/step\n",
      "Epoch 177/250\n",
      "24/24 - 1s - loss: 0.0095 - val_loss: 0.0098 - 541ms/epoch - 23ms/step\n",
      "Epoch 178/250\n",
      "24/24 - 1s - loss: 0.0102 - val_loss: 0.0101 - 575ms/epoch - 24ms/step\n",
      "Epoch 179/250\n",
      "24/24 - 0s - loss: 0.0094 - val_loss: 0.0100 - 414ms/epoch - 17ms/step\n",
      "Epoch 180/250\n",
      "24/24 - 0s - loss: 0.0098 - val_loss: 0.0103 - 500ms/epoch - 21ms/step\n",
      "Epoch 181/250\n",
      "24/24 - 0s - loss: 0.0098 - val_loss: 0.0103 - 425ms/epoch - 18ms/step\n",
      "Epoch 182/250\n",
      "24/24 - 0s - loss: 0.0096 - val_loss: 0.0103 - 343ms/epoch - 14ms/step\n",
      "Epoch 183/250\n",
      "24/24 - 1s - loss: 0.0104 - val_loss: 0.0097 - 509ms/epoch - 21ms/step\n",
      "Epoch 184/250\n",
      "24/24 - 0s - loss: 0.0097 - val_loss: 0.0101 - 426ms/epoch - 18ms/step\n",
      "Epoch 185/250\n",
      "24/24 - 0s - loss: 0.0099 - val_loss: 0.0101 - 352ms/epoch - 15ms/step\n",
      "Epoch 186/250\n",
      "24/24 - 1s - loss: 0.0101 - val_loss: 0.0108 - 504ms/epoch - 21ms/step\n",
      "Epoch 187/250\n",
      "24/24 - 0s - loss: 0.0103 - val_loss: 0.0096 - 404ms/epoch - 17ms/step\n",
      "Epoch 188/250\n",
      "24/24 - 0s - loss: 0.0097 - val_loss: 0.0100 - 358ms/epoch - 15ms/step\n",
      "Epoch 189/250\n",
      "24/24 - 1s - loss: 0.0095 - val_loss: 0.0104 - 667ms/epoch - 28ms/step\n",
      "Epoch 190/250\n",
      "24/24 - 0s - loss: 0.0097 - val_loss: 0.0109 - 489ms/epoch - 20ms/step\n",
      "Epoch 191/250\n",
      "24/24 - 0s - loss: 0.0097 - val_loss: 0.0099 - 473ms/epoch - 20ms/step\n",
      "Epoch 192/250\n",
      "24/24 - 1s - loss: 0.0097 - val_loss: 0.0099 - 571ms/epoch - 24ms/step\n",
      "Epoch 193/250\n",
      "24/24 - 0s - loss: 0.0092 - val_loss: 0.0103 - 495ms/epoch - 21ms/step\n",
      "Epoch 194/250\n",
      "24/24 - 1s - loss: 0.0091 - val_loss: 0.0104 - 598ms/epoch - 25ms/step\n",
      "Epoch 195/250\n",
      "24/24 - 0s - loss: 0.0095 - val_loss: 0.0109 - 455ms/epoch - 19ms/step\n"
     ]
    },
    {
     "name": "stdout",
     "output_type": "stream",
     "text": [
      "Epoch 196/250\n",
      "24/24 - 0s - loss: 0.0096 - val_loss: 0.0102 - 441ms/epoch - 18ms/step\n",
      "Epoch 197/250\n",
      "24/24 - 1s - loss: 0.0098 - val_loss: 0.0108 - 573ms/epoch - 24ms/step\n",
      "Epoch 198/250\n",
      "24/24 - 0s - loss: 0.0098 - val_loss: 0.0107 - 499ms/epoch - 21ms/step\n",
      "Epoch 199/250\n",
      "24/24 - 0s - loss: 0.0097 - val_loss: 0.0108 - 422ms/epoch - 18ms/step\n",
      "Epoch 200/250\n",
      "24/24 - 1s - loss: 0.0096 - val_loss: 0.0108 - 611ms/epoch - 25ms/step\n",
      "Epoch 201/250\n",
      "24/24 - 1s - loss: 0.0093 - val_loss: 0.0104 - 593ms/epoch - 25ms/step\n",
      "Epoch 202/250\n",
      "24/24 - 0s - loss: 0.0091 - val_loss: 0.0103 - 436ms/epoch - 18ms/step\n",
      "Epoch 203/250\n",
      "24/24 - 0s - loss: 0.0096 - val_loss: 0.0106 - 399ms/epoch - 17ms/step\n",
      "Epoch 204/250\n",
      "24/24 - 3s - loss: 0.0093 - val_loss: 0.0107 - 3s/epoch - 123ms/step\n",
      "Epoch 205/250\n",
      "24/24 - 0s - loss: 0.0096 - val_loss: 0.0100 - 467ms/epoch - 19ms/step\n",
      "Epoch 206/250\n",
      "24/24 - 0s - loss: 0.0092 - val_loss: 0.0104 - 400ms/epoch - 17ms/step\n",
      "Epoch 207/250\n",
      "24/24 - 1s - loss: 0.0095 - val_loss: 0.0107 - 585ms/epoch - 24ms/step\n",
      "Epoch 208/250\n",
      "24/24 - 0s - loss: 0.0091 - val_loss: 0.0109 - 408ms/epoch - 17ms/step\n",
      "Epoch 209/250\n",
      "24/24 - 0s - loss: 0.0088 - val_loss: 0.0107 - 421ms/epoch - 18ms/step\n",
      "Epoch 210/250\n",
      "24/24 - 0s - loss: 0.0093 - val_loss: 0.0107 - 448ms/epoch - 19ms/step\n",
      "Epoch 211/250\n",
      "24/24 - 0s - loss: 0.0092 - val_loss: 0.0102 - 324ms/epoch - 13ms/step\n",
      "Epoch 212/250\n",
      "24/24 - 1s - loss: 0.0101 - val_loss: 0.0113 - 530ms/epoch - 22ms/step\n",
      "Epoch 213/250\n",
      "24/24 - 0s - loss: 0.0094 - val_loss: 0.0102 - 360ms/epoch - 15ms/step\n",
      "Epoch 214/250\n",
      "24/24 - 1s - loss: 0.0093 - val_loss: 0.0107 - 536ms/epoch - 22ms/step\n",
      "Epoch 215/250\n",
      "24/24 - 0s - loss: 0.0092 - val_loss: 0.0101 - 475ms/epoch - 20ms/step\n",
      "Epoch 216/250\n",
      "24/24 - 0s - loss: 0.0091 - val_loss: 0.0117 - 374ms/epoch - 16ms/step\n",
      "Epoch 217/250\n",
      "24/24 - 0s - loss: 0.0092 - val_loss: 0.0108 - 476ms/epoch - 20ms/step\n",
      "Epoch 218/250\n",
      "24/24 - 0s - loss: 0.0089 - val_loss: 0.0106 - 353ms/epoch - 15ms/step\n",
      "Epoch 219/250\n",
      "24/24 - 0s - loss: 0.0092 - val_loss: 0.0101 - 441ms/epoch - 18ms/step\n",
      "Epoch 220/250\n",
      "24/24 - 0s - loss: 0.0096 - val_loss: 0.0112 - 386ms/epoch - 16ms/step\n",
      "Epoch 221/250\n",
      "24/24 - 0s - loss: 0.0095 - val_loss: 0.0106 - 354ms/epoch - 15ms/step\n",
      "Epoch 222/250\n",
      "24/24 - 1s - loss: 0.0100 - val_loss: 0.0115 - 506ms/epoch - 21ms/step\n",
      "Epoch 223/250\n",
      "24/24 - 1s - loss: 0.0092 - val_loss: 0.0105 - 512ms/epoch - 21ms/step\n",
      "Epoch 224/250\n",
      "24/24 - 0s - loss: 0.0085 - val_loss: 0.0107 - 408ms/epoch - 17ms/step\n",
      "Epoch 225/250\n",
      "24/24 - 0s - loss: 0.0090 - val_loss: 0.0106 - 412ms/epoch - 17ms/step\n",
      "Epoch 226/250\n",
      "24/24 - 0s - loss: 0.0091 - val_loss: 0.0111 - 341ms/epoch - 14ms/step\n",
      "Epoch 227/250\n",
      "24/24 - 1s - loss: 0.0090 - val_loss: 0.0107 - 613ms/epoch - 26ms/step\n",
      "Epoch 228/250\n",
      "24/24 - 0s - loss: 0.0087 - val_loss: 0.0111 - 483ms/epoch - 20ms/step\n",
      "Epoch 229/250\n",
      "24/24 - 0s - loss: 0.0086 - val_loss: 0.0109 - 440ms/epoch - 18ms/step\n",
      "Epoch 230/250\n",
      "24/24 - 0s - loss: 0.0089 - val_loss: 0.0120 - 396ms/epoch - 16ms/step\n",
      "Epoch 231/250\n",
      "24/24 - 0s - loss: 0.0091 - val_loss: 0.0107 - 448ms/epoch - 19ms/step\n",
      "Epoch 232/250\n",
      "24/24 - 0s - loss: 0.0086 - val_loss: 0.0108 - 431ms/epoch - 18ms/step\n",
      "Epoch 233/250\n",
      "24/24 - 0s - loss: 0.0089 - val_loss: 0.0115 - 393ms/epoch - 16ms/step\n",
      "Epoch 234/250\n",
      "24/24 - 0s - loss: 0.0085 - val_loss: 0.0105 - 396ms/epoch - 17ms/step\n",
      "Epoch 235/250\n",
      "24/24 - 0s - loss: 0.0092 - val_loss: 0.0105 - 406ms/epoch - 17ms/step\n",
      "Epoch 236/250\n",
      "24/24 - 1s - loss: 0.0090 - val_loss: 0.0117 - 552ms/epoch - 23ms/step\n",
      "Epoch 237/250\n",
      "24/24 - 0s - loss: 0.0088 - val_loss: 0.0110 - 349ms/epoch - 15ms/step\n",
      "Epoch 238/250\n",
      "24/24 - 0s - loss: 0.0090 - val_loss: 0.0112 - 431ms/epoch - 18ms/step\n",
      "Epoch 239/250\n",
      "24/24 - 0s - loss: 0.0090 - val_loss: 0.0110 - 370ms/epoch - 15ms/step\n",
      "Epoch 240/250\n",
      "24/24 - 1s - loss: 0.0084 - val_loss: 0.0113 - 508ms/epoch - 21ms/step\n",
      "Epoch 241/250\n",
      "24/24 - 0s - loss: 0.0087 - val_loss: 0.0122 - 481ms/epoch - 20ms/step\n",
      "Epoch 242/250\n",
      "24/24 - 1s - loss: 0.0088 - val_loss: 0.0122 - 527ms/epoch - 22ms/step\n",
      "Epoch 243/250\n",
      "24/24 - 0s - loss: 0.0090 - val_loss: 0.0117 - 430ms/epoch - 18ms/step\n",
      "Epoch 244/250\n",
      "24/24 - 0s - loss: 0.0089 - val_loss: 0.0115 - 375ms/epoch - 16ms/step\n",
      "Epoch 245/250\n",
      "24/24 - 0s - loss: 0.0087 - val_loss: 0.0112 - 358ms/epoch - 15ms/step\n",
      "Epoch 246/250\n",
      "24/24 - 0s - loss: 0.0086 - val_loss: 0.0123 - 348ms/epoch - 15ms/step\n",
      "Epoch 247/250\n",
      "24/24 - 0s - loss: 0.0083 - val_loss: 0.0114 - 396ms/epoch - 17ms/step\n",
      "Epoch 248/250\n",
      "24/24 - 1s - loss: 0.0089 - val_loss: 0.0119 - 665ms/epoch - 28ms/step\n",
      "Epoch 249/250\n",
      "24/24 - 0s - loss: 0.0090 - val_loss: 0.0114 - 377ms/epoch - 16ms/step\n",
      "Epoch 250/250\n",
      "24/24 - 0s - loss: 0.0087 - val_loss: 0.0116 - 398ms/epoch - 17ms/step\n"
     ]
    },
    {
     "data": {
      "image/png": "[encoded data removed]",
      "text/plain": [
       "<Figure size 432x288 with 1 Axes>"
      ]
     },
     "metadata": {
      "needs_background": "light"
     },
     "output_type": "display_data"
    },
    {
     "name": "stdout",
     "output_type": "stream",
     "text": [
      "Normalized Test RMSE:  0.13669926640781838 0.12132780466817313 0.0599408060785242 0.09594861968737552\n",
      "Test RMSE:  270.66453982100313 236.83188293903098 205.41713909501806 0.09594861984630196\n",
      "Test R-squared:  0.8106696029737543 0.8704049059502534 0.9769437742637013 0.9325959374453983\n",
      "Model: \"sequential_11\"\n",
      "_________________________________________________________________\n",
      " Layer (type)                Output Shape              Param #   \n",
      "=================================================================\n",
      " lstm_33 (LSTM)              (None, 1, 50)             11400     \n",
      "                                                                 \n",
      " dropout_33 (Dropout)        (None, 1, 50)             0         \n",
      "                                                                 \n",
      " lstm_34 (LSTM)              (None, 1, 20)             5680      \n",
      "                                                                 \n",
      " dropout_34 (Dropout)        (None, 1, 20)             0         \n",
      "                                                                 \n",
      " lstm_35 (LSTM)              (None, 20)                3280      \n",
      "                                                                 \n",
      " dropout_35 (Dropout)        (None, 20)                0         \n",
      "                                                                 \n",
      " dense_11 (Dense)            (None, 4)                 84        \n",
      "                                                                 \n",
      "=================================================================\n",
      "Total params: 20,444\n",
      "Trainable params: 20,444\n",
      "Non-trainable params: 0\n",
      "_________________________________________________________________\n",
      "Model saved to disk\n"
     ]
    }
   ],
   "source": [
    "#from numpy import array\n",
    "import keras\n",
    "from math import sqrt\n",
    "from numpy import concatenate\n",
    "from matplotlib import pyplot\n",
    "from pandas import read_csv\n",
    "from pandas import DataFrame\n",
    "from pandas import concat\n",
    "from sklearn.preprocessing import MinMaxScaler\n",
    "from sklearn.preprocessing import LabelEncoder\n",
    "from sklearn.metrics import mean_squared_error\n",
    "from sklearn.metrics import mean_absolute_error, r2_score\n",
    "from keras.models import Sequential\n",
    "from keras.layers import Dense\n",
    "from keras.layers.core import Dropout\n",
    "from keras.layers import LSTM\n",
    "from keras.layers import *\n",
    "\n",
    "# convert series to supervised learning\n",
    "def series_to_supervised(data, n_in=1, n_out=1, dropnan=True):\n",
    "\tn_vars = 1 if type(data) is list else data.shape[1]\n",
    "\tdf = DataFrame(data)\n",
    "\tcols, names = list(), list()\n",
    "\t# input sequence (t-n, ... t-1)\n",
    "\tfor i in range(n_in, 0, -1):\n",
    "\t\tcols.append(df.shift(i))\n",
    "\t\tnames += [('var%d(t-%d)' % (j+1, i)) for j in range(n_vars)]\n",
    "\t# forecast sequence (t, t+1, ... t+n)\n",
    "\tfor i in range(0, n_out):\n",
    "\t\tcols.append(df.shift(-i))\n",
    "\t\tif i == 0:\n",
    "\t\t\tnames += [('var%d(t)' % (j+1)) for j in range(n_vars)]\n",
    "\t\telse:\n",
    "\t\t\tnames += [('var%d(t+%d)' % (j+1, i)) for j in range(n_vars)]\n",
    "\t# put it all together\n",
    "\tagg = concat(cols, axis=1)\n",
    "\tagg.columns = names\n",
    "\t# drop rows with NaN values\n",
    "\tif dropnan:\n",
    "\t\tagg.dropna(inplace=True)\n",
    "\treturn agg\n",
    "\n",
    "#load dataset\n",
    "dataset = read_csv('phy_cps.csv', header=0, index_col=0)\n",
    "values = dataset.values\n",
    " \n",
    "#integer encode wind direction, as it's the only categorical variable.\n",
    "#encoder = LabelEncoder()\n",
    "#values[:,4] = encoder.fit_transform(values[:,4])\n",
    " \n",
    "#ensure all data are float32 values\n",
    "values = values.astype('float32')\n",
    " \n",
    "#normalize input features\n",
    "scaler = MinMaxScaler(feature_range=(0, 1))\n",
    "scaled = scaler.fit_transform(values)\n",
    " \n",
    "#frame as supervised learning\n",
    "n_hours = 1 \n",
    "n_features = 6 \n",
    "reframed = series_to_supervised(scaled, n_hours, 1)\n",
    "values = reframed.values\n",
    "# n_train_hours = 1936\n",
    "n_train_hours = 1694\n",
    "n_test = 484\n",
    "train = values[:n_train_hours, :]\n",
    "test = values[n_train_hours:n_train_hours+n_test, :]\n",
    "out_test = values[n_train_hours+n_test:, :]\n",
    " \n",
    "\n",
    "#split into input and outputs\n",
    "n_obs = n_hours * n_features\n",
    "train_X = train[:, :n_obs]\n",
    "train_y = train[:, -n_features:(-n_features+4)] #+2 because of indexing madness.\n",
    "test_X = test[:, :n_obs]\n",
    "test_y = test[:, -n_features:(-n_features+4)]\n",
    " \n",
    "train_X = train_X.reshape((train_X.shape[0], n_hours, n_features))\n",
    "test_X = test_X.reshape((test_X.shape[0], n_hours, n_features))\n",
    " \n",
    "\n",
    "#Need to output four values, not one.\n",
    "#design network\n",
    "model = Sequential()\n",
    "model.add(LSTM(50, activation='relu',return_sequences=True, input_shape=(train_X.shape[1], train_X.shape[2])))\n",
    "model.add(Dropout(0.1))\n",
    "model.add(LSTM(20, activation='relu', return_sequences=True))\n",
    "model.add(Dropout(0.1))\n",
    "model.add(LSTM(20, activation='relu'))\n",
    "model.add(Dropout(0.1))\n",
    "model.add(Dense(4))\n",
    "\n",
    "model.compile(loss='mse', optimizer='adam')\n",
    "\n",
    "# Create a Tensorboard logger\n",
    "#logger = keras.callbacks.TensorBoard(log_dir='log', write_graph=True, histogram_freq=5)\n",
    "logdir = os.path.join(\"mylog\", datetime.datetime.now().strftime(\"%Y%m%d-%H%M%S\"))\n",
    "logger = tf.keras.callbacks.TensorBoard(logdir, histogram_freq=1)\n",
    "\n",
    "#fit network\n",
    "# history = model.fit(train_X, train_y, epochs=200, batch_size=72, validation_data=(test_X, test_y), verbose=2, shuffle=False)\n",
    "history = model.fit(train_X, train_y, epochs=250, batch_size=72, validation_data=(test_X, test_y), verbose=2, shuffle=False, callbacks=[logger])\n",
    "\n",
    "# Plot history\n",
    "pyplot.xlabel('Epochs')\n",
    "pyplot.ylabel('Loss')\n",
    "pyplot.title('Model Train vs Testing Loss')\n",
    "pyplot.plot(history.history['loss'], label='train')\n",
    "pyplot.plot(history.history['val_loss'], label='test')\n",
    "pyplot.legend()\n",
    "pyplot.show()\n",
    " \n",
    "\n",
    "#make a prediction\n",
    "y_hat = model.predict(test_X)\n",
    " \n",
    "#calculate RMSE - CHANGED to output RMSE for each variable.\n",
    "norm_rmse_1 = sqrt(mean_squared_error(y_hat[:,0], test_y[:,0])) #RMSE for the first variable (Tank_1)\n",
    "norm_rmse_2 = sqrt(mean_squared_error(y_hat[:,1], test_y[:,1])) #RMSE for the second variable (Tank_2)\n",
    "norm_rmse_3 = sqrt(mean_squared_error(y_hat[:,2], test_y[:,2])) #RMSE for the third variable (Tank_3)\n",
    "norm_rmse_4 = sqrt(mean_squared_error(y_hat[:,3], test_y[:,3])) #RMSE for the fourth variable (Pump_1)\n",
    "print('Normalized Test RMSE: ', norm_rmse_1, norm_rmse_2, norm_rmse_3, norm_rmse_4)\n",
    "    \n",
    "test_X = test_X.reshape((test_X.shape[0], n_hours*n_features))\n",
    "inv_yhat = concatenate((y_hat, test_X[:,-2:]), axis=1) #changed 7 to 6\n",
    "inv_yhat = scaler.inverse_transform(inv_yhat)\n",
    "inv_yhat = inv_yhat[:,0:4] #changed from 0 to 0:2. Should be first 2 columns that contain the predictions\n",
    " \n",
    "\n",
    "#invert scaling for actual\n",
    "test_y = test_y.reshape((len(test_y),4)) #changed 1 to 2\n",
    "inv_y = concatenate((test_y, test_X[:,-2:]), axis=1) #changed 7 to 6\n",
    "inv_y = scaler.inverse_transform(inv_y)\n",
    "inv_y = inv_y[:,0:4] #changed from 0 to 0:2. Should be first 2 columns that contain the predictions.\n",
    " \n",
    "\n",
    "    \n",
    "#calculate RMSE - CHANGED to output RMSE for each variable.\n",
    "rmse_1 = sqrt(mean_squared_error(inv_y[:,0], inv_yhat[:,0])) #RMSE for the first variable (Tank_1)\n",
    "rmse_2 = sqrt(mean_squared_error(inv_y[:,1], inv_yhat[:,1])) #RMSE for the second variable (Tank_2)\n",
    "rmse_3 = sqrt(mean_squared_error(inv_y[:,2], inv_yhat[:,2])) #RMSE for the third variable (Tank_3)\n",
    "rmse_4 = sqrt(mean_squared_error(inv_y[:,3], inv_yhat[:,3])) #RMSE for the fourth variable (Pump_1)\n",
    "\n",
    "r_sq1 = r2_score(inv_y[:,0], inv_yhat[:,0])\n",
    "r_sq2 = r2_score(inv_y[:,1], inv_yhat[:,1])\n",
    "r_sq3 = r2_score(inv_y[:,2], inv_yhat[:,2])\n",
    "r_sq4 = r2_score(inv_y[:,3], inv_yhat[:,3])\n",
    "\n",
    "print('Test RMSE: ', rmse_1, rmse_2, rmse_3, rmse_4)\n",
    "\n",
    "print(\"Test R-squared: \", r_sq1, r_sq2, r_sq3, r_sq4)\n",
    "model.summary()\n",
    "\n",
    "import xlsxwriter\n",
    "\n",
    "# Create file (workbook) and worksheet\n",
    "outWorkbook = xlsxwriter.Workbook(\"out.xlsx\")\n",
    "outSheet = outWorkbook.add_worksheet()\n",
    "\n",
    "# Declare data\n",
    "values = [[rmse_1,norm_rmse_1,r_sq1],\n",
    "          [rmse_2,norm_rmse_2,r_sq2],\n",
    "          [rmse_3,norm_rmse_3,r_sq3],\n",
    "          [rmse_4,norm_rmse_4,r_sq4]]\n",
    "\n",
    "# Write headers\n",
    "outSheet.write(\"C1\", \"Tank_1\")\n",
    "outSheet.write(\"D1\", \"Tank_2\")\n",
    "outSheet.write(\"E1\", \"Tank_3\")\n",
    "outSheet.write(\"F1\", \"Pump_1\")\n",
    "\n",
    "# Write data to file\n",
    "outSheet.write(\"C2\",values[0][0])\n",
    "outSheet.write(\"C3\",values[0][1])\n",
    "outSheet.write(\"C4\",values[0][2])\n",
    "\n",
    "outSheet.write(\"D2\",values[1][0])\n",
    "outSheet.write(\"D3\",values[1][1])\n",
    "outSheet.write(\"D4\",values[1][2])\n",
    "\n",
    "outSheet.write(\"E2\",values[2][0])\n",
    "outSheet.write(\"E3\",values[2][1])\n",
    "outSheet.write(\"E4\",values[2][2])\n",
    "\n",
    "outSheet.write(\"F2\",values[3][0])\n",
    "outSheet.write(\"F3\",values[3][1])\n",
    "outSheet.write(\"F4\",values[3][2])\n",
    "\n",
    "outWorkbook.close()\n",
    "\n",
    "# Save the model to disk\n",
    "model.save('multi_lstm_model.h5')\n",
    "print('Model saved to disk')"
   ]
  },
  {
   "cell_type": "code",
   "execution_count": 24,
   "id": "6515aaed",
   "metadata": {},
   "outputs": [
    {
     "data": {
      "text/plain": [
       "ERROR: Timed out waiting for TensorBoard to start. It may still be running as pid 13716."
      ]
     },
     "metadata": {},
     "output_type": "display_data"
    }
   ],
   "source": [
    "%tensorboard --logdir mylog"
   ]
  },
  {
   "cell_type": "code",
   "execution_count": null,
   "id": "dcd093e4",
   "metadata": {},
   "outputs": [],
   "source": [
    "from keras.models import load_model\n",
    "\n",
    "model = load_model('multi_lstm_model.h5')\n",
    "\n"
   ]
  },
  {
   "cell_type": "code",
   "execution_count": null,
   "id": "c8317741",
   "metadata": {},
   "outputs": [],
   "source": []
  },
  {
   "cell_type": "code",
   "execution_count": null,
   "id": "41630626",
   "metadata": {},
   "outputs": [],
   "source": []
  },
  {
   "cell_type": "markdown",
   "id": "4323cd35",
   "metadata": {},
   "source": [
    "### Box plot for rmse"
   ]
  },
  {
   "cell_type": "code",
   "execution_count": 1,
   "id": "12e974fc",
   "metadata": {
    "scrolled": true
   },
   "outputs": [
    {
     "name": "stdout",
     "output_type": "stream",
     "text": [
      "           Tank_1      Tank_2      Tank_3     Pump_1\n",
      "count   33.000000   33.000000   33.000000  33.000000\n",
      "mean   144.161401  109.906095  134.719121   0.117114\n",
      "std     29.680144   35.276328   34.676943   0.009327\n",
      "min     88.629391   59.307521   74.722553   0.100214\n",
      "25%    128.229447   79.751047  110.285824   0.109556\n",
      "50%    142.568261  110.000502  126.947889   0.117160\n",
      "75%    152.599295  128.335886  152.758458   0.124281\n",
      "max    210.698327  197.403725  201.181122   0.132437\n"
     ]
    },
    {
     "data": {
      "image/png": "[encoded data removed]",
      "text/plain": [
       "<Figure size 432x288 with 1 Axes>"
      ]
     },
     "metadata": {
      "needs_background": "light"
     },
     "output_type": "display_data"
    },
    {
     "data": {
      "image/png": "[encoded data removed]",
      "text/plain": [
       "<Figure size 432x288 with 4 Axes>"
      ]
     },
     "metadata": {
      "needs_background": "light"
     },
     "output_type": "display_data"
    }
   ],
   "source": [
    "from pandas import DataFrame\n",
    "from pandas import read_csv\n",
    "from numpy import mean\n",
    "from numpy import std\n",
    "from matplotlib import pyplot\n",
    "# load results file\n",
    "results = read_csv('rmse_multiple_results.csv', header=0)\n",
    "# descriptive stats\n",
    "print(results.describe())\n",
    "# box and whisker plot\n",
    "results.boxplot(whiskerprops = dict(linestyle='-', linewidth=2))\n",
    "pyplot.show()\n",
    "# histogram\n",
    "results.hist()\n",
    "pyplot.show()"
   ]
  },
  {
   "cell_type": "code",
   "execution_count": 2,
   "id": "f4dd03d3",
   "metadata": {},
   "outputs": [
    {
     "data": {
      "text/plain": [
       "(241, 12)"
      ]
     },
     "execution_count": 2,
     "metadata": {},
     "output_type": "execute_result"
    }
   ],
   "source": [
    "out_test.shape"
   ]
  },
  {
   "cell_type": "markdown",
   "id": "4f6dccdf",
   "metadata": {},
   "source": [
    "### Box plot for normalised rmse"
   ]
  },
  {
   "cell_type": "code",
   "execution_count": 2,
   "id": "b20d7721",
   "metadata": {},
   "outputs": [
    {
     "name": "stdout",
     "output_type": "stream",
     "text": [
      "          Tank_1     Tank_2     Tank_3     Pump_1\n",
      "count  33.000000  33.000000  33.000000  33.000000\n",
      "mean    0.072809   0.056304   0.039311   0.117114\n",
      "std     0.014990   0.018072   0.010119   0.009327\n",
      "min     0.044762   0.030383   0.021804   0.100214\n",
      "25%     0.064762   0.040856   0.032181   0.109556\n",
      "50%     0.072004   0.056353   0.037043   0.117160\n",
      "75%     0.077070   0.065746   0.044575   0.124281\n",
      "max     0.106413   0.101129   0.058705   0.132437\n"
     ]
    },
    {
     "data": {
      "image/png": "[encoded data removed]",
      "text/plain": [
       "<Figure size 432x288 with 1 Axes>"
      ]
     },
     "metadata": {
      "needs_background": "light"
     },
     "output_type": "display_data"
    },
    {
     "data": {
      "image/png": "[encoded data removed]",
      "text/plain": [
       "<Figure size 432x288 with 4 Axes>"
      ]
     },
     "metadata": {
      "needs_background": "light"
     },
     "output_type": "display_data"
    }
   ],
   "source": [
    "from pandas import DataFrame\n",
    "from pandas import read_csv\n",
    "from numpy import mean\n",
    "from numpy import std\n",
    "from matplotlib import pyplot\n",
    "# load results file\n",
    "results = read_csv('norm_rmse_multiple_results.csv', header=0)\n",
    "# descriptive stats\n",
    "print(results.describe())\n",
    "# box and whisker plot\n",
    "results.boxplot(whiskerprops = dict(linestyle='-', linewidth=2))\n",
    "pyplot.show()\n",
    "# histogram\n",
    "results.hist()\n",
    "pyplot.show()"
   ]
  },
  {
   "cell_type": "markdown",
   "id": "977fe663",
   "metadata": {},
   "source": [
    "### Box Plot for COefficient of Determination (R-Squared )"
   ]
  },
  {
   "cell_type": "code",
   "execution_count": 3,
   "id": "96c56901",
   "metadata": {},
   "outputs": [
    {
     "name": "stdout",
     "output_type": "stream",
     "text": [
      "          Tank_1     Tank_2     Tank_3     Pump_1\n",
      "count  33.000000  33.000000  33.000000  33.000000\n",
      "mean    0.942453   0.970305   0.910426   0.937769\n",
      "std     0.023750   0.019602   0.044893   0.009843\n",
      "min     0.881927   0.912903   0.812304   0.920907\n",
      "25%     0.938065   0.963188   0.891784   0.930348\n",
      "50%     0.945940   0.972955   0.925264   0.938101\n",
      "75%     0.956268   0.985784   0.943595   0.945875\n",
      "max     0.979108   0.992138   0.974107   0.954713\n"
     ]
    },
    {
     "data": {
      "image/png": "[encoded data removed]",
      "text/plain": [
       "<Figure size 432x288 with 1 Axes>"
      ]
     },
     "metadata": {
      "needs_background": "light"
     },
     "output_type": "display_data"
    },
    {
     "data": {
      "image/png": "[encoded data removed]",
      "text/plain": [
       "<Figure size 432x288 with 4 Axes>"
      ]
     },
     "metadata": {
      "needs_background": "light"
     },
     "output_type": "display_data"
    }
   ],
   "source": [
    "from pandas import DataFrame\n",
    "from pandas import read_csv\n",
    "from numpy import mean\n",
    "from numpy import std\n",
    "from matplotlib import pyplot\n",
    "# load results file\n",
    "results = read_csv('r_sq_multiple_results.csv', header=0)\n",
    "# descriptive stats\n",
    "print(results.describe())\n",
    "# box and whisker plot\n",
    "results.boxplot(whiskerprops = dict(linestyle='-', linewidth=2))\n",
    "pyplot.show()\n",
    "# histogram\n",
    "results.hist()\n",
    "pyplot.show()"
   ]
  },
  {
   "cell_type": "markdown",
   "id": "1bfc4d82",
   "metadata": {},
   "source": [
    "### RMSE Function"
   ]
  },
  {
   "cell_type": "code",
   "execution_count": 9,
   "id": "1646823e",
   "metadata": {},
   "outputs": [
    {
     "name": "stdout",
     "output_type": "stream",
     "text": [
      "The two inputs are incompatible\n",
      "50.0\n"
     ]
    }
   ],
   "source": [
    "import math\n",
    "def rms(x,y):\n",
    "    if len(x)!= len(y):\n",
    "        return \"The two inputs are incompatible\"\n",
    "    total = 0\n",
    "    for i in range(len(x)):\n",
    "        total += ((x[i]-y[i])**2)\n",
    "    return math.sqrt(total/len(x))\n",
    "\n",
    "\n",
    "p = [10,20,30,40,5]\n",
    "q = [11,17,29,40]\n",
    "print(rms(p,q))\n",
    "val = [x for x in range(1000,10000,100)]\n",
    "val2 = [k + 50 for k in val]\n",
    "# del val2[3]\n",
    "print(rms(val,val2))"
   ]
  },
  {
   "cell_type": "markdown",
   "id": "402b632d",
   "metadata": {},
   "source": [
    "### Plot the prediction"
   ]
  },
  {
   "cell_type": "code",
   "execution_count": 27,
   "id": "6a18f5b9",
   "metadata": {},
   "outputs": [
    {
     "data": {
      "image/png": "[encoded data removed]",
      "text/plain": [
       "<Figure size 432x288 with 1 Axes>"
      ]
     },
     "metadata": {
      "needs_background": "light"
     },
     "output_type": "display_data"
    }
   ],
   "source": [
    "pyplot.plot(inv_yhat[0:500,0], label='predicted')\n",
    "pyplot.plot(inv_y[0:500,0], label='actual')\n",
    "pyplot.legend()\n",
    "pyplot.show()"
   ]
  },
  {
   "cell_type": "code",
   "execution_count": 28,
   "id": "41a66bd6",
   "metadata": {},
   "outputs": [
    {
     "data": {
      "image/png": "[encoded data removed]",
      "text/plain": [
       "<Figure size 432x288 with 1 Axes>"
      ]
     },
     "metadata": {
      "needs_background": "light"
     },
     "output_type": "display_data"
    }
   ],
   "source": [
    "pyplot.plot(inv_yhat[0:500,1], label='predicted')\n",
    "pyplot.plot(inv_y[0:500,1], label='actual')\n",
    "pyplot.legend()\n",
    "pyplot.show()"
   ]
  },
  {
   "cell_type": "code",
   "execution_count": 29,
   "id": "f90e187b",
   "metadata": {},
   "outputs": [
    {
     "data": {
      "image/png": "[encoded data removed]",
      "text/plain": [
       "<Figure size 432x288 with 1 Axes>"
      ]
     },
     "metadata": {
      "needs_background": "light"
     },
     "output_type": "display_data"
    }
   ],
   "source": [
    "pyplot.plot(inv_yhat[0:500,2], label='predicted')\n",
    "pyplot.plot(inv_y[0:500,2], label='actual')\n",
    "pyplot.legend()\n",
    "pyplot.show()"
   ]
  },
  {
   "cell_type": "code",
   "execution_count": 30,
   "id": "103ef27f",
   "metadata": {},
   "outputs": [
    {
     "data": {
      "image/png": "[encoded data removed]",
      "text/plain": [
       "<Figure size 432x288 with 1 Axes>"
      ]
     },
     "metadata": {
      "needs_background": "light"
     },
     "output_type": "display_data"
    }
   ],
   "source": [
    "pyplot.plot(inv_yhat[0:500,3], label='predicted')\n",
    "pyplot.plot(inv_y[0:500,3], label='actual')\n",
    "pyplot.legend()\n",
    "pyplot.show()"
   ]
  },
  {
   "cell_type": "code",
   "execution_count": null,
   "id": "0d175bd8",
   "metadata": {},
   "outputs": [],
   "source": []
  },
  {
   "cell_type": "markdown",
   "id": "5f539b08",
   "metadata": {},
   "source": [
    "### Load saved model"
   ]
  },
  {
   "cell_type": "code",
   "execution_count": 32,
   "id": "58fe9999",
   "metadata": {},
   "outputs": [
    {
     "name": "stdout",
     "output_type": "stream",
     "text": [
      "Test RMSE:  0.499346037205023 0.3804243880460081 0.5620419173491678 0.5048218031717081\n"
     ]
    }
   ],
   "source": [
    "from keras.models import load_model\n",
    "\n",
    "model = load_model('multi_lstm_model.h5')\n",
    "\n",
    "#split into input and outputs\n",
    "# n_obs = n_hours * n_features\n",
    "\n",
    "test_X = out_test[:, :n_obs]\n",
    "test_y = out_test[:, -n_features:(-n_features+4)]\n",
    "\n",
    "test_X = test_X.reshape((test_X.shape[0], n_hours, n_features))\n",
    "\n",
    "# Make a prediction\n",
    "yhat = model.predict(test_X)\n",
    "\n",
    "#calculate RMSE - CHANGED to output RMSE for each variable.\n",
    "norm_rmse_1 = sqrt(mean_squared_error(y_hat[:241,0], test_y[:,0])) #RMSE for the first variable (Tank_1)\n",
    "norm_rmse_2 = sqrt(mean_squared_error(y_hat[:241,1], test_y[:,1])) #RMSE for the second variable (Tank_2)\n",
    "norm_rmse_3 = sqrt(mean_squared_error(y_hat[:241,2], test_y[:,2])) #RMSE for the third variable (Tank_3)\n",
    "norm_rmse_4 = sqrt(mean_squared_error(y_hat[:241,3], test_y[:,3])) #RMSE for the fourth variable (Pump_1)\n",
    "print('Test RMSE: ', norm_rmse_1, norm_rmse_2, norm_rmse_3, norm_rmse_4)\n",
    "    \n",
    "# test_X = test_X.reshape((test_X.shape[0], n_hours*n_features))\n",
    "# inv_yhat = concatenate((y_hat, test_X[:,-2:]), axis=1) #changed 7 to 6\n",
    "# inv_yhat = scaler.inverse_transform(inv_yhat)\n",
    "# inv_yhat = inv_yhat[:,0:4] #changed from 0 to 0:2. Should be first 2 columns that contain the predictions\n",
    " \n",
    "\n",
    "# #invert scaling for actual\n",
    "# test_y = test_y.reshape((len(test_y),4)) #changed 1 to 2\n",
    "# inv_y = concatenate((test_y, test_X[:,-2:]), axis=1) #changed 7 to 6\n",
    "# inv_y = scaler.inverse_transform(inv_y)\n",
    "# inv_y = inv_y[:,0:4] #changed from 0 to 0:2. Should be first 2 columns that contain the predictions.\n",
    " \n",
    "\n",
    "    \n",
    "# #calculate RMSE - CHANGED to output RMSE for each variable.\n",
    "# rmse_1 = sqrt(mean_squared_error(inv_y[:,0], inv_yhat[:,0])) #RMSE for the first variable (Tank_1)\n",
    "# rmse_2 = sqrt(mean_squared_error(inv_y[:,1], inv_yhat[:,1])) #RMSE for the second variable (Tank_2)\n",
    "# rmse_3 = sqrt(mean_squared_error(inv_y[:,2], inv_yhat[:,2])) #RMSE for the third variable (Tank_3)\n",
    "# rmse_4 = sqrt(mean_squared_error(inv_y[:,3], inv_yhat[:,3])) #RMSE for the fourth variable (Pump_1)\n",
    "\n",
    "# r_sq1 = r2_score(inv_y[:,0], inv_yhat[:,0])\n",
    "# r_sq2 = r2_score(inv_y[:,1], inv_yhat[:,1])\n",
    "# r_sq3 = r2_score(inv_y[:,2], inv_yhat[:,2])\n",
    "# r_sq4 = r2_score(inv_y[:,3], inv_yhat[:,3])\n",
    "\n",
    "# print('Test RMSE: ', rmse_1, rmse_2, rmse_3, rmse_4)\n",
    "\n",
    "# print(\"Test R-squared: \", r_sq1, r_sq2, r_sq3, r_sq4)\n"
   ]
  },
  {
   "cell_type": "markdown",
   "id": "fcff5d88",
   "metadata": {},
   "source": [
    "### After injecting some faults in the model"
   ]
  },
  {
   "cell_type": "code",
   "execution_count": 46,
   "id": "b1b2f2da",
   "metadata": {},
   "outputs": [
    {
     "name": "stdout",
     "output_type": "stream",
     "text": [
      "Model: \"sequential_6\"\n",
      "_________________________________________________________________\n",
      " Layer (type)                Output Shape              Param #   \n",
      "=================================================================\n",
      " lstm_18 (LSTM)              (None, 1, 50)             11400     \n",
      "                                                                 \n",
      " dropout_18 (Dropout)        (None, 1, 50)             0         \n",
      "                                                                 \n",
      " lstm_19 (LSTM)              (None, 1, 20)             5680      \n",
      "                                                                 \n",
      " dropout_19 (Dropout)        (None, 1, 20)             0         \n",
      "                                                                 \n",
      " lstm_20 (LSTM)              (None, 20)                3280      \n",
      "                                                                 \n",
      " dropout_20 (Dropout)        (None, 20)                0         \n",
      "                                                                 \n",
      " dense_6 (Dense)             (None, 4)                 84        \n",
      "                                                                 \n",
      "=================================================================\n",
      "Total params: 20,444\n",
      "Trainable params: 20,444\n",
      "Non-trainable params: 0\n",
      "_________________________________________________________________\n",
      "11\n",
      "Model: \"sequential_6\"\n",
      "_________________________________________________________________\n",
      " Layer (type)                Output Shape              Param #   \n",
      "=================================================================\n",
      " lstm_18 (LSTM)              (None, 1, 50)             11400     \n",
      "                                                                 \n",
      " dropout_18 (Dropout)        (None, 1, 50)             0         \n",
      "                                                                 \n",
      " lstm_19 (LSTM)              (None, 1, 20)             5680      \n",
      "                                                                 \n",
      " dropout_19 (Dropout)        (None, 1, 20)             0         \n",
      "                                                                 \n",
      " lstm_20 (LSTM)              (None, 20)                3280      \n",
      "                                                                 \n",
      " dropout_20 (Dropout)        (None, 20)                0         \n",
      "                                                                 \n",
      "=================================================================\n",
      "Total params: 20,360\n",
      "Trainable params: 20,360\n",
      "Non-trainable params: 0\n",
      "_________________________________________________________________\n"
     ]
    }
   ],
   "source": [
    "import tensorflow as tf\n",
    "model.summary()\n",
    "#print(len(model.weights))\n",
    "print(len(model.get_weights()))\n",
    "new_model = tf.keras.models.clone_model(model)\n",
    "new_model.pop()\n",
    "new_model.summary()"
   ]
  },
  {
   "cell_type": "code",
   "execution_count": 9,
   "id": "2665d67d",
   "metadata": {},
   "outputs": [
    {
     "name": "stdout",
     "output_type": "stream",
     "text": [
      "Test RMSE:  0.4848693201893329 0.38578465867728645 0.6150403397983869 0.47712688170939704\n"
     ]
    }
   ],
   "source": [
    "from keras.models import load_model\n",
    "\n",
    "model = load_model('multi_lstm_model.h5')\n",
    "\n",
    "#Injecting faults\n",
    "#model.layers[0].filters *=2\n",
    "\n",
    "\n",
    "test_X = out_test[:, :n_obs]\n",
    "test_y = out_test[:, -n_features:(-n_features+4)]\n",
    "\n",
    "test_X = test_X.reshape((test_X.shape[0], n_hours, n_features))\n",
    "\n",
    "# Make a prediction\n",
    "yhat = model.predict(test_X)\n",
    "\n",
    "#calculate RMSE - CHANGED to output RMSE for each variable.\n",
    "norm_rmse_1 = sqrt(mean_squared_error(y_hat[:241,0], test_y[:,0])) #RMSE for the first variable (Tank_1)\n",
    "norm_rmse_2 = sqrt(mean_squared_error(y_hat[:241,1], test_y[:,1])) #RMSE for the second variable (Tank_2)\n",
    "norm_rmse_3 = sqrt(mean_squared_error(y_hat[:241,2], test_y[:,2])) #RMSE for the third variable (Tank_3)\n",
    "norm_rmse_4 = sqrt(mean_squared_error(y_hat[:241,3], test_y[:,3])) #RMSE for the fourth variable (Pump_1)\n",
    "print('Test RMSE: ', norm_rmse_1, norm_rmse_2, norm_rmse_3, norm_rmse_4)\n",
    "    \n",
    "# test_X = test_X.reshape((test_X.shape[0], n_hours*n_features))\n",
    "# inv_yhat = concatenate((y_hat, test_X[:,-2:]), axis=1) #changed 7 to 6\n",
    "# inv_yhat = scaler.inverse_transform(inv_yhat)\n",
    "# inv_yhat = inv_yhat[:,0:4] #changed from 0 to 0:2. Should be first 2 columns that contain the predictions\n",
    " \n",
    "\n",
    "# #invert scaling for actual\n",
    "# test_y = test_y.reshape((len(test_y),4)) #changed 1 to 2\n",
    "# inv_y = concatenate((test_y, test_X[:,-2:]), axis=1) #changed 7 to 6\n",
    "# inv_y = scaler.inverse_transform(inv_y)\n",
    "# inv_y = inv_y[:,0:4] #changed from 0 to 0:2. Should be first 2 columns that contain the predictions.\n",
    " \n",
    "\n",
    "    \n",
    "# #calculate RMSE - CHANGED to output RMSE for each variable.\n",
    "# rmse_1 = sqrt(mean_squared_error(inv_y[:,0], inv_yhat[:,0])) #RMSE for the first variable (Tank_1)\n",
    "# rmse_2 = sqrt(mean_squared_error(inv_y[:,1], inv_yhat[:,1])) #RMSE for the second variable (Tank_2)\n",
    "# rmse_3 = sqrt(mean_squared_error(inv_y[:,2], inv_yhat[:,2])) #RMSE for the third variable (Tank_3)\n",
    "# rmse_4 = sqrt(mean_squared_error(inv_y[:,3], inv_yhat[:,3])) #RMSE for the fourth variable (Pump_1)\n",
    "\n",
    "# r_sq1 = r2_score(inv_y[:,0], inv_yhat[:,0])\n",
    "# r_sq2 = r2_score(inv_y[:,1], inv_yhat[:,1])\n",
    "# r_sq3 = r2_score(inv_y[:,2], inv_yhat[:,2])\n",
    "# r_sq4 = r2_score(inv_y[:,3], inv_yhat[:,3])\n",
    "\n",
    "# print('Test RMSE: ', rmse_1, rmse_2, rmse_3, rmse_4)\n",
    "\n",
    "# print(\"Test R-squared: \", r_sq1, r_sq2, r_sq3, r_sq4)\n"
   ]
  },
  {
   "cell_type": "code",
   "execution_count": 19,
   "id": "13c673be",
   "metadata": {},
   "outputs": [
    {
     "data": {
      "image/png": "[encoded data removed]",
      "text/plain": [
       "<Figure size 432x288 with 1 Axes>"
      ]
     },
     "metadata": {
      "needs_background": "light"
     },
     "output_type": "display_data"
    }
   ],
   "source": [
    "\n",
    "\n",
    "\n",
    "\n",
    "\n",
    "\n",
    "\n",
    "\n",
    "pyplot.plot(test_y[:,], label='actual')\n",
    "pyplot.legend()\n",
    "pyplot.show()"
   ]
  },
  {
   "cell_type": "code",
   "execution_count": null,
   "id": "eda5c9ab",
   "metadata": {},
   "outputs": [],
   "source": []
  },
  {
   "cell_type": "code",
   "execution_count": null,
   "id": "d8889c08",
   "metadata": {},
   "outputs": [],
   "source": []
  }
 ],
 "metadata": {
  "kernelspec": {
   "display_name": "Python 3 (ipykernel)",
   "language": "python",
   "name": "python3"
  },
  "language_info": {
   "codemirror_mode": {
    "name": "ipython",
    "version": 3
   },
   "file_extension": ".py",
   "mimetype": "text/x-python",
   "name": "python",
   "nbconvert_exporter": "python",
   "pygments_lexer": "ipython3",
   "version": "3.8.12"
  }
 },
 "nbformat": 4,
 "nbformat_minor": 5
}
