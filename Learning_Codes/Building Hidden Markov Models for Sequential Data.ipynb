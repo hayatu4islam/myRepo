{
 "cells": [
  {
   "cell_type": "code",
   "execution_count": null,
   "id": "a7ead56e",
   "metadata": {},
   "outputs": [],
   "source": [
    "import datetime\n",
    "import numpy as np\n",
    "import matplotlib.pyplot as plt\n",
    "from hmmlearn.hmm import GaussianHMM\n",
    "from convert_to_timeseries import convert_data_to_timeseries\n",
    "\n",
    "# Load data from input file\n",
    "\n",
    "\n",
    "# Arrange data for training\n",
    "X = np.column_stack([data[:,2]])\n",
    "\n",
    "# Create and traing Gaussian HMM\n",
    "print('\\nTraining HMM...')\n",
    "num_components = 4\n",
    "model = GaussianHMM(n_components=num_components, covariance_type=\"diag\", n_iter=1000)\n",
    "model.fit(X)\n",
    "\n",
    "# Predict the hidden states of HMM\n",
    "hidden_states = model.predict(X)\n",
    "\n",
    "print('\\nMeans and variances of hidden states:')\n"
   ]
  },
  {
   "cell_type": "code",
   "execution_count": 1,
   "id": "1ca531bf",
   "metadata": {},
   "outputs": [
    {
     "name": "stdout",
     "output_type": "stream",
     "text": [
      "Full\n"
     ]
    }
   ],
   "source": [
    "print(\"Full\")"
   ]
  },
  {
   "cell_type": "code",
   "execution_count": null,
   "id": "dabd3bc0",
   "metadata": {},
   "outputs": [],
   "source": []
  }
 ],
 "metadata": {
  "kernelspec": {
   "display_name": "Python 3 (ipykernel)",
   "language": "python",
   "name": "python3"
  },
  "language_info": {
   "codemirror_mode": {
    "name": "ipython",
    "version": 3
   },
   "file_extension": ".py",
   "mimetype": "text/x-python",
   "name": "python",
   "nbconvert_exporter": "python",
   "pygments_lexer": "ipython3",
   "version": "3.10.2"
  }
 },
 "nbformat": 4,
 "nbformat_minor": 5
}
