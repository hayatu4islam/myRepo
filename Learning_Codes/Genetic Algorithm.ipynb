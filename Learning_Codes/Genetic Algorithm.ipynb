{
 "cells": [
  {
   "cell_type": "markdown",
   "id": "2d346374",
   "metadata": {},
   "source": [
    "### Genetic Algorithm"
   ]
  },
  {
   "cell_type": "code",
   "execution_count": 4,
   "id": "87f9a3e0",
   "metadata": {},
   "outputs": [
    {
     "ename": "ModuleNotFoundError",
     "evalue": "No module named 'ypstruct'",
     "output_type": "error",
     "traceback": [
      "\u001b[1;31m---------------------------------------------------------------------------\u001b[0m",
      "\u001b[1;31mModuleNotFoundError\u001b[0m                       Traceback (most recent call last)",
      "Input \u001b[1;32mIn [4]\u001b[0m, in \u001b[0;36m<module>\u001b[1;34m\u001b[0m\n\u001b[0;32m      1\u001b[0m \u001b[38;5;28;01mimport\u001b[39;00m \u001b[38;5;21;01mnumpy\u001b[39;00m \u001b[38;5;28;01mas\u001b[39;00m \u001b[38;5;21;01mnp\u001b[39;00m\n\u001b[1;32m----> 2\u001b[0m \u001b[38;5;28;01mfrom\u001b[39;00m \u001b[38;5;21;01mypstruct\u001b[39;00m \u001b[38;5;28;01mimport\u001b[39;00m structure\n\u001b[0;32m      4\u001b[0m \u001b[38;5;28;01mdef\u001b[39;00m \u001b[38;5;21mrun\u001b[39m(problem, params):\n\u001b[0;32m      5\u001b[0m     \n\u001b[0;32m      6\u001b[0m     \u001b[38;5;66;03m# Problem Information\u001b[39;00m\n\u001b[0;32m      7\u001b[0m     costfunc \u001b[38;5;241m=\u001b[39m problem\u001b[38;5;241m.\u001b[39mcostfunc\n",
      "\u001b[1;31mModuleNotFoundError\u001b[0m: No module named 'ypstruct'"
     ]
    }
   ],
   "source": [
    "import numpy as np\n",
    "from ypstruct import structure\n",
    "\n",
    "def run(problem, params):\n",
    "    \n",
    "    # Problem Information\n",
    "    costfunc = problem.costfunc\n",
    "    nvar = problem.nvar\n",
    "    varmin = problem.varmin\n",
    "    varmax = problem.varmax\n",
    "\n",
    "    # Parameters\n",
    "    maxit = params.maxit\n",
    "    npop = params.npop\n",
    "    beta = params.beta\n",
    "    pc = params.pc\n",
    "    nc = int(np.round(pc*npop/2)*2)\n",
    "    gamma = params.gamma\n",
    "    mu = params.mu\n",
    "    sigma = params.sigma\n",
    "\n",
    "    # Empty Individual Template\n",
    "    empty_individual = structure()\n",
    "    empty_individual.position = None\n",
    "    empty_individual.cost = None\n",
    "\n",
    "    # Best Solution Ever Found\n",
    "    bestsol = empty_individual.deepcopy()\n",
    "    bestsol.cost = np.inf\n",
    "\n",
    "    # Initialize Population\n",
    "    pop = empty_individual.repeat(npop)\n",
    "    for i in range(npop):\n",
    "        pop[i].position = np.random.uniform(varmin, varmax, nvar)\n",
    "        pop[i].cost = costfunc(pop[i].position)\n",
    "        if pop[i].cost < bestsol.cost:\n",
    "            bestsol = pop[i].deepcopy()\n",
    "\n",
    "    # Best Cost of Iterations\n",
    "    bestcost = np.empty(maxit)\n",
    "    \n",
    "    # Main Loop\n",
    "    for it in range(maxit):\n",
    "\n",
    "        costs = np.array([x.cost for x in pop])\n",
    "        avg_cost = np.mean(costs)\n",
    "        if avg_cost != 0:\n",
    "            costs = costs/avg_cost\n",
    "        probs = np.exp(-beta*costs)\n",
    "\n",
    "        popc = []\n",
    "        for _ in range(nc//2):\n",
    "\n",
    "            # Select Parents\n",
    "            #q = np.random.permutation(npop)\n",
    "            #p1 = pop[q[0]]\n",
    "            #p2 = pop[q[1]]\n",
    "\n",
    "            # Perform Roulette Wheel Selection\n",
    "            p1 = pop[roulette_wheel_selection(probs)]\n",
    "            p2 = pop[roulette_wheel_selection(probs)]\n",
    "            \n",
    "            # Perform Crossover\n",
    "            c1, c2 = crossover(p1, p2, gamma)\n",
    "\n",
    "            # Perform Mutation\n",
    "            c1 = mutate(c1, mu, sigma)\n",
    "            c2 = mutate(c2, mu, sigma)\n",
    "\n",
    "            # Apply Bounds\n",
    "            apply_bound(c1, varmin, varmax)\n",
    "            apply_bound(c2, varmin, varmax)\n",
    "\n",
    "            # Evaluate First Offspring\n",
    "            c1.cost = costfunc(c1.position)\n",
    "            if c1.cost < bestsol.cost:\n",
    "                bestsol = c1.deepcopy()\n",
    "\n",
    "            # Evaluate Second Offspring\n",
    "            c2.cost = costfunc(c2.position)\n",
    "            if c2.cost < bestsol.cost:\n",
    "                bestsol = c2.deepcopy()\n",
    "\n",
    "            # Add Offsprings to popc\n",
    "            popc.append(c1)\n",
    "            popc.append(c2)\n",
    "        \n",
    "\n",
    "        # Merge, Sort and Select\n",
    "        pop += popc\n",
    "        pop = sorted(pop, key=lambda x: x.cost)\n",
    "        pop = pop[0:npop]\n",
    "\n",
    "        # Store Best Cost\n",
    "        bestcost[it] = bestsol.cost\n",
    "\n",
    "        # Show Iteration Information\n",
    "        print(\"Iteration {}: Best Cost = {}\".format(it, bestcost[it]))\n",
    "\n",
    "    # Output\n",
    "    out = structure()\n",
    "    out.pop = pop\n",
    "    out.bestsol = bestsol\n",
    "    out.bestcost = bestcost\n",
    "    return out\n",
    "\n",
    "def crossover(p1, p2, gamma=0.1):\n",
    "    c1 = p1.deepcopy()\n",
    "    c2 = p1.deepcopy()\n",
    "    alpha = np.random.uniform(-gamma, 1+gamma, *c1.position.shape)\n",
    "    c1.position = alpha*p1.position + (1-alpha)*p2.position\n",
    "    c2.position = alpha*p2.position + (1-alpha)*p1.position\n",
    "    return c1, c2\n",
    "\n",
    "def mutate(x, mu, sigma):\n",
    "    y = x.deepcopy()\n",
    "    flag = np.random.rand(*x.position.shape) <= mu\n",
    "    ind = np.argwhere(flag)\n",
    "    y.position[ind] += sigma*np.random.randn(*ind.shape)\n",
    "    return y\n",
    "\n",
    "def apply_bound(x, varmin, varmax):\n",
    "    x.position = np.maximum(x.position, varmin)\n",
    "    x.position = np.minimum(x.position, varmax)\n",
    "\n",
    "def roulette_wheel_selection(p):\n",
    "    c = np.cumsum(p)\n",
    "    r = sum(p)*np.random.rand()\n",
    "    ind = np.argwhere(r <= c)\n",
    "    return ind[0][0]\n"
   ]
  },
  {
   "cell_type": "code",
   "execution_count": 2,
   "id": "3a61add7",
   "metadata": {},
   "outputs": [
    {
     "ename": "ModuleNotFoundError",
     "evalue": "No module named 'ypstruct'",
     "output_type": "error",
     "traceback": [
      "\u001b[1;31m---------------------------------------------------------------------------\u001b[0m",
      "\u001b[1;31mModuleNotFoundError\u001b[0m                       Traceback (most recent call last)",
      "Input \u001b[1;32mIn [2]\u001b[0m, in \u001b[0;36m<module>\u001b[1;34m\u001b[0m\n\u001b[0;32m      1\u001b[0m \u001b[38;5;28;01mimport\u001b[39;00m \u001b[38;5;21;01mnumpy\u001b[39;00m \u001b[38;5;28;01mas\u001b[39;00m \u001b[38;5;21;01mnp\u001b[39;00m\n\u001b[0;32m      2\u001b[0m \u001b[38;5;28;01mimport\u001b[39;00m \u001b[38;5;21;01mmatplotlib\u001b[39;00m\u001b[38;5;21;01m.\u001b[39;00m\u001b[38;5;21;01mpyplot\u001b[39;00m \u001b[38;5;28;01mas\u001b[39;00m \u001b[38;5;21;01mplt\u001b[39;00m\n\u001b[1;32m----> 3\u001b[0m \u001b[38;5;28;01mfrom\u001b[39;00m \u001b[38;5;21;01mypstruct\u001b[39;00m \u001b[38;5;28;01mimport\u001b[39;00m structure\n\u001b[0;32m      4\u001b[0m \u001b[38;5;66;03m#import ga\u001b[39;00m\n\u001b[0;32m      5\u001b[0m \n\u001b[0;32m      6\u001b[0m \u001b[38;5;66;03m# Rastrigin Test Function\u001b[39;00m\n\u001b[0;32m      7\u001b[0m \u001b[38;5;28;01mdef\u001b[39;00m \u001b[38;5;21mrastrigin\u001b[39m(x):\n",
      "\u001b[1;31mModuleNotFoundError\u001b[0m: No module named 'ypstruct'"
     ]
    }
   ],
   "source": [
    "import numpy as np\n",
    "import matplotlib.pyplot as plt\n",
    "from ypstruct import structure\n",
    "#import ga\n",
    "\n",
    "# Rastrigin Test Function\n",
    "def rastrigin(x):\n",
    "    return sum(x**2-10*np.cos(2*np.pi*x))\n",
    "\n",
    "# Knapsack Function\n",
    "def knapsack():\n",
    "    return 0\n",
    "\n",
    "# Sphere Test Function\n",
    "def sphere(x):\n",
    "    return sum(x**2)\n",
    "\n",
    "# Problem Definition\n",
    "problem = structure()\n",
    "problem.costfunc = rastrigin\n",
    "#problem.costfunc = sphere\n",
    "problem.nvar = 5\n",
    "problem.varmin = [-10, -10, -1, -5,  4]\n",
    "problem.varmax = [ 10,  10,  1,  5, 10]\n",
    "\n",
    "# GA Parameters\n",
    "params = structure()\n",
    "params.maxit = 100\n",
    "params.npop = 50\n",
    "params.beta = 1\n",
    "params.pc = 1\n",
    "params.gamma = 0.1\n",
    "params.mu = 0.01\n",
    "params.sigma = 0.1\n",
    "\n",
    "# Run GA\n",
    "#out = ga.run(problem, params)\n",
    "out = run(problem, params)\n",
    "\n",
    "# Results\n",
    "plt.plot(out.bestcost)\n",
    "# plt.semilogy(out.bestcost)\n",
    "plt.xlim(0, params.maxit)\n",
    "plt.xlabel('Iterations')\n",
    "plt.ylabel('Best Cost')\n",
    "plt.title('Genetic Algorithm (GA)')\n",
    "plt.grid(True)\n",
    "plt.show()"
   ]
  },
  {
   "cell_type": "markdown",
   "id": "f6891bbf",
   "metadata": {},
   "source": [
    "### Estimate the number of experiment repeats"
   ]
  },
  {
   "cell_type": "code",
   "execution_count": 4,
   "id": "3a74f450",
   "metadata": {},
   "outputs": [],
   "source": [
    "from numpy.random import seed\n",
    "from numpy.random import normal\n",
    "from numpy import savetxt\n",
    "# define underlying distribution of results\n",
    "mean = 60\n",
    "stev = 10\n",
    "# generate samples from ideal distribution\n",
    "seed(1)\n",
    "results = normal(mean, stev, 1000)\n",
    "# save to ASCII file\n",
    "#savetxt('stoch_results.csv', results)"
   ]
  },
  {
   "cell_type": "code",
   "execution_count": 11,
   "id": "4c711eb5",
   "metadata": {},
   "outputs": [
    {
     "name": "stdout",
     "output_type": "stream",
     "text": [
      "             rmse         mae\n",
      "count   31.000000   31.000000\n",
      "mean   115.838097   80.486129\n",
      "std     26.981694   20.030413\n",
      "min     73.224000   47.746000\n",
      "25%     97.855500   65.208500\n",
      "50%    106.790000   77.929000\n",
      "75%    132.767000   91.599000\n",
      "max    171.788000  120.020000\n"
     ]
    },
    {
     "data": {
      "image/png": "[encoded data removed]",
      "text/plain": [
       "<Figure size 432x288 with 1 Axes>"
      ]
     },
     "metadata": {
      "needs_background": "light"
     },
     "output_type": "display_data"
    },
    {
     "data": {
      "image/png": "[encoded data removed]",
      "text/plain": [
       "<Figure size 432x288 with 2 Axes>"
      ]
     },
     "metadata": {
      "needs_background": "light"
     },
     "output_type": "display_data"
    }
   ],
   "source": [
    "from pandas import DataFrame\n",
    "from pandas import read_csv\n",
    "from numpy import mean\n",
    "from numpy import std\n",
    "from matplotlib import pyplot\n",
    "# load results file\n",
    "results = read_csv('result_multiple_runs.csv', header=0)\n",
    "# descriptive stats\n",
    "print(results.describe())\n",
    "# box and whisker plot\n",
    "results.boxplot(whiskerprops = dict(linestyle='-', linewidth=2))\n",
    "pyplot.show()\n",
    "# histogram\n",
    "results.hist()\n",
    "pyplot.show()"
   ]
  },
  {
   "cell_type": "markdown",
   "id": "4e66d374",
   "metadata": {},
   "source": [
    "### Fault Injection"
   ]
  },
  {
   "cell_type": "markdown",
   "id": "cdf4117a",
   "metadata": {},
   "source": [
    "#### Investigate the distribution of the data inputs"
   ]
  },
  {
   "cell_type": "code",
   "execution_count": 62,
   "id": "05cfbdc1",
   "metadata": {},
   "outputs": [
    {
     "name": "stdout",
     "output_type": "stream",
     "text": [
      "          pollution           dew          temp         press       wnd_spd  \\\n",
      "count  43800.000000  43800.000000  43800.000000  43800.000000  43800.000000   \n",
      "mean      94.013516      1.828516     12.459041   1016.447306     23.894307   \n",
      "std       92.252276     14.429326     12.193384     10.271411     50.022729   \n",
      "min        0.000000    -40.000000    -19.000000    991.000000      0.450000   \n",
      "25%       24.000000    -10.000000      2.000000   1008.000000      1.790000   \n",
      "50%       68.000000      2.000000     14.000000   1016.000000      5.370000   \n",
      "75%      132.250000     15.000000     23.000000   1025.000000     21.910000   \n",
      "max      994.000000     28.000000     42.000000   1046.000000    585.600000   \n",
      "\n",
      "               snow          rain  \n",
      "count  43800.000000  43800.000000  \n",
      "mean       0.052763      0.195023  \n",
      "std        0.760582      1.416247  \n",
      "min        0.000000      0.000000  \n",
      "25%        0.000000      0.000000  \n",
      "50%        0.000000      0.000000  \n",
      "75%        0.000000      0.000000  \n",
      "max       27.000000     36.000000  \n"
     ]
    },
    {
     "data": {
      "image/png": "[encoded data removed]",
      "text/plain": [
       "<Figure size 432x288 with 1 Axes>"
      ]
     },
     "metadata": {
      "needs_background": "light"
     },
     "output_type": "display_data"
    },
    {
     "data": {
      "image/png": "[encoded data removed]",
      "text/plain": [
       "<Figure size 432x288 with 9 Axes>"
      ]
     },
     "metadata": {
      "needs_background": "light"
     },
     "output_type": "display_data"
    }
   ],
   "source": [
    "from pandas import DataFrame\n",
    "from pandas import read_csv\n",
    "from numpy import mean\n",
    "from numpy import std\n",
    "from matplotlib import pyplot\n",
    "# load results file\n",
    "results = read_csv('pollution2.csv', header=0)\n",
    "# descriptive stats\n",
    "print(results.describe())\n",
    "# box and whisker plot\n",
    "results.boxplot()\n",
    "pyplot.show()\n",
    "# histogram\n",
    "results.hist()\n",
    "pyplot.show()"
   ]
  },
  {
   "cell_type": "code",
   "execution_count": 63,
   "id": "9d3dcd9f",
   "metadata": {},
   "outputs": [
    {
     "name": "stderr",
     "output_type": "stream",
     "text": [
      "C:\\Users\\hayatu4islam\\AppData\\Local\\Temp\\ipykernel_6668\\2101433725.py:24: SettingWithCopyWarning: \n",
      "A value is trying to be set on a copy of a slice from a DataFrame\n",
      "\n",
      "See the caveats in the documentation: https://pandas.pydata.org/pandas-docs/stable/user_guide/indexing.html#returning-a-view-versus-a-copy\n",
      "  results[\"dew\"].iloc[i] = random.choice(fault_data)\n",
      "C:\\Users\\hayatu4islam\\AppData\\Local\\Temp\\ipykernel_6668\\2101433725.py:25: SettingWithCopyWarning: \n",
      "A value is trying to be set on a copy of a slice from a DataFrame\n",
      "\n",
      "See the caveats in the documentation: https://pandas.pydata.org/pandas-docs/stable/user_guide/indexing.html#returning-a-view-versus-a-copy\n",
      "  results[\"annot\"].iloc[i] = \"random\"\n"
     ]
    },
    {
     "name": "stdout",
     "output_type": "stream",
     "text": [
      "File saved\n"
     ]
    }
   ],
   "source": [
    "from pandas import DataFrame\n",
    "from pandas import read_csv\n",
    "from numpy import mean\n",
    "from random import seed\n",
    "from random import randint\n",
    "from random import random\n",
    "from matplotlib import pyplot\n",
    "import numpy\n",
    "import random\n",
    "#seed(1)\n",
    "# load results file\n",
    "results = read_csv('pollution2.csv', header=0)\n",
    "#values = results.values\n",
    "results.drop(\"wnd_dir\", axis=1, inplace=True)\n",
    "results[\"annot\"] = \"clean\"\n",
    "#print(results.describe())\n",
    "\n",
    "fault_data = [-30.5, -20.5, 0, 15.5, 25.5]# -40<x<28\n",
    "n = len(results)\n",
    "\n",
    "for i in range(n):\n",
    "    p = random.random()\n",
    "    if p > 0.8:\n",
    "        results[\"dew\"].iloc[i] = random.choice(fault_data)\n",
    "        results[\"annot\"].iloc[i] = \"random\"\n",
    "\n",
    "\n",
    "results.to_csv(\"annotated.csv\")        \n",
    "print(\"File saved\")\n"
   ]
  },
  {
   "cell_type": "code",
   "execution_count": 17,
   "id": "8e17481e",
   "metadata": {},
   "outputs": [
    {
     "data": {
      "image/png": "[encoded data removed]",
      "text/plain": [
       "<Figure size 432x288 with 1 Axes>"
      ]
     },
     "metadata": {
      "needs_background": "light"
     },
     "output_type": "display_data"
    }
   ],
   "source": [
    "from pandas import DataFrame\n",
    "from pandas import read_csv\n",
    "from numpy import mean\n",
    "from matplotlib import pyplot\n",
    "import numpy\n",
    "# load results file\n",
    "results = read_csv('result_multiple_runs.csv', header=0)\n",
    "values = results.values\n",
    "# collect cumulative stats\n",
    "means = list()\n",
    "for i in range(1,len(values)+1):\n",
    "\tdata = values[0:i, 0]\n",
    "\tmean_rmse = mean(data)\n",
    "\tmeans.append(mean_rmse)\n",
    "# line plot of cumulative values\n",
    "pyplot.plot(means)\n",
    "pyplot.show()"
   ]
  },
  {
   "cell_type": "code",
   "execution_count": 1,
   "id": "b85710ac",
   "metadata": {},
   "outputs": [
    {
     "name": "stdout",
     "output_type": "stream",
     "text": [
      "HEllo\n"
     ]
    }
   ],
   "source": [
    "print(\"HEllo\")"
   ]
  },
  {
   "cell_type": "code",
   "execution_count": null,
   "id": "6b8d9a69",
   "metadata": {},
   "outputs": [],
   "source": []
  }
 ],
 "metadata": {
  "kernelspec": {
   "display_name": "Python 3 (ipykernel)",
   "language": "python",
   "name": "python3"
  },
  "language_info": {
   "codemirror_mode": {
    "name": "ipython",
    "version": 3
   },
   "file_extension": ".py",
   "mimetype": "text/x-python",
   "name": "python",
   "nbconvert_exporter": "python",
   "pygments_lexer": "ipython3",
   "version": "3.10.2"
  }
 },
 "nbformat": 4,
 "nbformat_minor": 5
}
