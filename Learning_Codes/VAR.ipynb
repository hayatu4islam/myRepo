{
 "cells": [
  {
   "cell_type": "markdown",
   "id": "1e6caf64",
   "metadata": {},
   "source": [
    "### Vector Autoregressive"
   ]
  },
  {
   "cell_type": "code",
   "execution_count": null,
   "id": "85e81f40",
   "metadata": {},
   "outputs": [],
   "source": [
    "# Import the required packages\n",
    "import pandas as pd\n",
    "import numpy as np\n",
    "from statsmodels.tsa.api import VAR\n",
    "from statsmodels.tsa.stattools import adfuller\n",
    "\n",
    "# Load the data\n",
    "data = pd.read_csv(\"data.csv\", index_col=0)\n",
    "\n",
    "# Convert the data to a time series object\n",
    "ts_data = data.iloc[:,1:4]\n",
    "ts_data.index = pd.to_datetime(ts_data.index)\n",
    "ts_data = ts_data.asfreq('MS')\n",
    "\n",
    "# Split the data into training and test sets\n",
    "train_data = ts_data.loc[:'2015-12-01']\n",
    "test_data = ts_data.loc['2016-01-01':]\n",
    "\n",
    "# Perform an Augmented Dickey-Fuller test on each variable to check for stationarity\n",
    "adf_test = adfuller(train_data, maxlag=1)\n",
    "adf_test_df = pd.DataFrame(adf_test[0:2], index=['Test Statistic', 'p-value'], columns=['Value'])\n",
    "adf_test_df.index.name = 'Augmented Dickey-Fuller Test'\n",
    "adf_test_df.columns.name = 'Variable'\n",
    "print(adf_test_df)\n",
    "\n",
    "# Estimate the VAR model with 2 lags using the training data\n",
    "var_model = VAR(train_data)\n",
    "var_result = var_model.fit(2)\n",
    "\n",
    "# Print the summary of the VAR model\n",
    "print(var_result.summary())\n",
    "\n",
    "# Plot the lag order selection criterion\n",
    "print(var_result.plot_diagnostics())\n",
    "\n",
    "# Forecast future values of the first variable in the VAR model using the test data\n",
    "forecast = var_result.forecast(train_data.values[-2:], len(test_data))\n",
    "\n",
    "# Calculate the Mean Absolute Error (MAE) of the forecast\n",
    "mae = np.mean(np.abs(forecast[:,0] - test_data.values[:,0]))\n",
    "\n",
    "# Plot the forecast and actual values\n",
    "import matplotlib.pyplot as plt\n",
    "plt.plot(test_data.iloc[:,0], label='Actual')\n",
    "plt.plot(forecast[:,0], label='Forecast', linestyle='--')\n",
    "plt.legend()\n",
    "\n",
    "# Print the MAE of the forecast\n",
    "print(\"Mean Absolute Error:\", round(mae, 2))\n"
   ]
  }
 ],
 "metadata": {
  "kernelspec": {
   "display_name": "Python 3 (ipykernel)",
   "language": "python",
   "name": "python3"
  },
  "language_info": {
   "codemirror_mode": {
    "name": "ipython",
    "version": 3
   },
   "file_extension": ".py",
   "mimetype": "text/x-python",
   "name": "python",
   "nbconvert_exporter": "python",
   "pygments_lexer": "ipython3",
   "version": "3.10.2"
  }
 },
 "nbformat": 4,
 "nbformat_minor": 5
}
