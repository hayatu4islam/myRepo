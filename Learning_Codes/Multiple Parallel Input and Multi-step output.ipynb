{
 "cells": [
  {
   "cell_type": "markdown",
   "id": "8ab7553d",
   "metadata": {},
   "source": [
    "### Multiple Parallel Input and Multi-step output"
   ]
  },
  {
   "cell_type": "code",
   "execution_count": 51,
   "id": "f76c6383",
   "metadata": {},
   "outputs": [
    {
     "name": "stdout",
     "output_type": "stream",
     "text": [
      "The shape of the raw_data before scaling is (43800, 5)\n",
      "Initial shape of x_input (30, 5)\n",
      "The shape of yhat after prediction is (1, 10, 5)\n",
      "The new shape of yhat  is (10, 5)\n",
      "[[  13.574765   -10.226698    11.028248  1028.9268      53.71773  ]\n",
      " [   6.1193395  -12.504639    12.375994  1026.1132      43.24208  ]\n",
      " [  14.647548   -11.236615    12.066568  1026.3605      34.11836  ]\n",
      " [  22.392859   -10.203784    10.616951  1026.4955      30.767149 ]\n",
      " [  27.996674    -9.302486     9.065703  1026.9268      29.941402 ]\n",
      " [  31.346882    -8.68747      7.724215  1027.3652      29.90269  ]\n",
      " [  32.878716    -8.292669     6.696349  1027.7343      29.84956  ]\n",
      " [  33.27082     -8.049689     5.961406  1028.0164      29.613152 ]\n",
      " [  33.067783    -7.9039187    5.460861  1028.2195      29.232582 ]\n",
      " [  32.622993    -7.817561     5.132776  1028.3593      28.788733 ]]\n",
      "-------Learning Curve--------\n"
     ]
    },
    {
     "data": {
      "image/png": "[encoded data removed]",
      "text/plain": [
       "<Figure size 432x288 with 1 Axes>"
      ]
     },
     "metadata": {
      "needs_background": "light"
     },
     "output_type": "display_data"
    }
   ],
   "source": [
    "# multivariate output stacked lstm example\n",
    "from numpy import array\n",
    "from numpy import hstack, vstack\n",
    "from keras.models import Sequential\n",
    "from keras.layers import LSTM\n",
    "from keras.layers import Dense\n",
    "from keras.layers.core import Dropout\n",
    "from sklearn.preprocessing import MinMaxScaler\n",
    "from pandas import read_csv\n",
    "from pandas import DataFrame\n",
    "import matplotlib.pyplot as plt\n",
    "import numpy as np\n",
    "\n",
    "\n",
    "# split a multivariate sequence into samples\n",
    "def split_sequences(sequences, n_steps_in, n_steps_out):\n",
    "    X, y = list(), list()\n",
    "    for i in range(len(sequences)):\n",
    "        # find the end of this pattern\n",
    "        end_ix = i + n_steps_in\n",
    "        out_end_ix = end_ix + n_steps_out\n",
    "        # check if we are beyond the dataset\n",
    "        if out_end_ix > len(sequences):\n",
    "            break\n",
    "        # gather input and output parts of the pattern\n",
    "        seq_x, seq_y = sequences[i:end_ix, :], sequences[end_ix:out_end_ix, :]\n",
    "        X.append(seq_x)\n",
    "        y.append(seq_y)\n",
    "    return array(X), array(y)\n",
    "\n",
    "# define input sequence\n",
    "\n",
    "# Read the data\n",
    "data = read_csv('pollution2.csv', header=0, index_col=0)\n",
    "\n",
    "# horizontally stack columns\n",
    "raw_data = data.values\n",
    "print(f'The shape of the raw_data before scaling is {raw_data.shape}')\n",
    "#normalize input features\n",
    "scaler = MinMaxScaler(feature_range=(0, 1))\n",
    "scaled_data = scaler.fit_transform(raw_data)\n",
    "\n",
    "n_train = 2000\n",
    "#dataset = raw_data[0:n_train,:]\n",
    "dataset = scaled_data[0:n_train,:]\n",
    "# choose a number of time steps\n",
    "n_steps_in, n_steps_out = 30, 10\n",
    "# convert into input/output\n",
    "X, y = split_sequences(dataset, n_steps_in, n_steps_out)\n",
    "# the dataset knows the number of features, e.g. 2\n",
    "n_features = X.shape[2]\n",
    "# define model\n",
    "model = Sequential()\n",
    "model.add(LSTM(50, activation='relu', input_shape=(n_steps_in, n_features)))\n",
    "model.add(RepeatVector(n_steps_out))\n",
    "model.add(LSTM(50, activation='relu', return_sequences=True))\n",
    "model.add(TimeDistributed(Dense(n_features)))\n",
    "model.compile(optimizer='adam', loss='mse')\n",
    "# fit model\n",
    "train_history = model.fit(X, y, epochs=100, verbose=0, shuffle=False)\n",
    "\n",
    "# demonstrate iterative prediction\n",
    "# x_inp = raw_data[n_train:n_train+n_steps,:]\n",
    "x_inp = scaled_data[n_train:n_train+n_steps_in,:]\n",
    "print(f'Initial shape of x_input {x_inp.shape}')\n",
    "x_input = x_inp.reshape((1, n_steps_in, n_features))\n",
    "yhat = model.predict(x_input, verbose=0)\n",
    "print(f'The shape of yhat after prediction is {yhat.shape}')\n",
    "yhat = yhat.reshape(n_steps_out, n_features)\n",
    "print(f'The new shape of yhat  is {yhat.shape}')\n",
    "inv_yhat = scaler.inverse_transform(yhat)\n",
    "print(inv_yhat)\n",
    "\n",
    "print(\"-------Learning Curve--------\")\n",
    "plt.plot(train_history.history['loss'], label='train')\n",
    "# plt.plot(train_history.history['val_loss'], label='test')\n",
    "plt.xlabel(\"Epochs\")\n",
    "plt.ylabel(\"Loss\")\n",
    "plt.legend()\n",
    "plt.show()"
   ]
  },
  {
   "cell_type": "code",
   "execution_count": 49,
   "id": "89115171",
   "metadata": {},
   "outputs": [
    {
     "name": "stdout",
     "output_type": "stream",
     "text": [
      "-------Learning Curve--------\n"
     ]
    },
    {
     "ename": "KeyError",
     "evalue": "'accuracy'",
     "output_type": "error",
     "traceback": [
      "\u001b[1;31m---------------------------------------------------------------------------\u001b[0m",
      "\u001b[1;31mKeyError\u001b[0m                                  Traceback (most recent call last)",
      "Input \u001b[1;32mIn [49]\u001b[0m, in \u001b[0;36m<module>\u001b[1;34m\u001b[0m\n\u001b[0;32m      1\u001b[0m \u001b[38;5;28mprint\u001b[39m(\u001b[38;5;124m\"\u001b[39m\u001b[38;5;124m-------Learning Curve--------\u001b[39m\u001b[38;5;124m\"\u001b[39m)\n\u001b[0;32m      2\u001b[0m plt\u001b[38;5;241m.\u001b[39mplot(train_history\u001b[38;5;241m.\u001b[39mhistory[\u001b[38;5;124m'\u001b[39m\u001b[38;5;124mloss\u001b[39m\u001b[38;5;124m'\u001b[39m], label\u001b[38;5;241m=\u001b[39m\u001b[38;5;124m'\u001b[39m\u001b[38;5;124mtrain\u001b[39m\u001b[38;5;124m'\u001b[39m)\n\u001b[1;32m----> 3\u001b[0m plt\u001b[38;5;241m.\u001b[39mplot(\u001b[43mtrain_history\u001b[49m\u001b[38;5;241;43m.\u001b[39;49m\u001b[43mhistory\u001b[49m\u001b[43m[\u001b[49m\u001b[38;5;124;43m'\u001b[39;49m\u001b[38;5;124;43maccuracy\u001b[39;49m\u001b[38;5;124;43m'\u001b[39;49m\u001b[43m]\u001b[49m, label\u001b[38;5;241m=\u001b[39m\u001b[38;5;124m'\u001b[39m\u001b[38;5;124mtest\u001b[39m\u001b[38;5;124m'\u001b[39m)\n\u001b[0;32m      4\u001b[0m plt\u001b[38;5;241m.\u001b[39mxlabel(\u001b[38;5;124m\"\u001b[39m\u001b[38;5;124mEpochs\u001b[39m\u001b[38;5;124m\"\u001b[39m)\n\u001b[0;32m      5\u001b[0m plt\u001b[38;5;241m.\u001b[39mylabel(\u001b[38;5;124m\"\u001b[39m\u001b[38;5;124mLoss\u001b[39m\u001b[38;5;124m\"\u001b[39m)\n",
      "\u001b[1;31mKeyError\u001b[0m: 'accuracy'"
     ]
    },
    {
     "data": {
      "image/png": "[encoded data removed]",
      "text/plain": [
       "<Figure size 432x288 with 1 Axes>"
      ]
     },
     "metadata": {
      "needs_background": "light"
     },
     "output_type": "display_data"
    }
   ],
   "source": [
    "print(\"-------Learning Curve--------\")\n",
    "plt.plot(train_history.history['loss'], label='train')\n",
    "plt.plot(train_history.history['accuracy'], label='test')\n",
    "plt.xlabel(\"Epochs\")\n",
    "plt.ylabel(\"Loss\")\n",
    "plt.legend()\n",
    "plt.show()"
   ]
  },
  {
   "cell_type": "code",
   "execution_count": 48,
   "id": "fc6f168b",
   "metadata": {},
   "outputs": [
    {
     "name": "stdout",
     "output_type": "stream",
     "text": [
      "Model: \"sequential_12\"\n",
      "_________________________________________________________________\n",
      " Layer (type)                Output Shape              Param #   \n",
      "=================================================================\n",
      " lstm_22 (LSTM)              (None, 50)                11200     \n",
      "                                                                 \n",
      " repeat_vector_9 (RepeatVect  (None, 10, 50)           0         \n",
      " or)                                                             \n",
      "                                                                 \n",
      " lstm_23 (LSTM)              (None, 10, 50)            20200     \n",
      "                                                                 \n",
      " time_distributed_9 (TimeDis  (None, 10, 5)            255       \n",
      " tributed)                                                       \n",
      "                                                                 \n",
      "=================================================================\n",
      "Total params: 31,655\n",
      "Trainable params: 31,655\n",
      "Non-trainable params: 0\n",
      "_________________________________________________________________\n"
     ]
    }
   ],
   "source": [
    "model.summary()"
   ]
  },
  {
   "cell_type": "code",
   "execution_count": null,
   "id": "9e569f85",
   "metadata": {},
   "outputs": [],
   "source": []
  }
 ],
 "metadata": {
  "kernelspec": {
   "display_name": "Python 3 (ipykernel)",
   "language": "python",
   "name": "python3"
  },
  "language_info": {
   "codemirror_mode": {
    "name": "ipython",
    "version": 3
   },
   "file_extension": ".py",
   "mimetype": "text/x-python",
   "name": "python",
   "nbconvert_exporter": "python",
   "pygments_lexer": "ipython3",
   "version": "3.10.2"
  }
 },
 "nbformat": 4,
 "nbformat_minor": 5
}
