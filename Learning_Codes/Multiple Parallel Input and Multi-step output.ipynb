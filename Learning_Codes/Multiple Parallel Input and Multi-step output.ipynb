{
 "cells": [
  {
   "cell_type": "markdown",
   "id": "8ab7553d",
   "metadata": {},
   "source": [
    "### Multiple Parallel Input and Multi-step output"
   ]
  },
  {
   "cell_type": "code",
   "execution_count": 32,
   "id": "f76c6383",
   "metadata": {},
   "outputs": [
    {
     "name": "stdout",
     "output_type": "stream",
     "text": [
      "The shape of the raw_data before scaling is (43800, 5)\n",
      "Initial shape of x_input (30, 5)\n",
      "The shape of yhat after prediction is (1, 10, 5)\n",
      "The new shape of yhat  is (10, 5)\n",
      "[[ 4.6747547e+01 -1.3420012e+01  1.0151584e+01  1.0268147e+03\n",
      "   3.9381290e+01]\n",
      " [ 4.7069244e+01 -1.4544997e+01  9.1466093e+00  1.0271481e+03\n",
      "   3.6655029e+01]\n",
      " [ 5.4075783e+01 -1.3254982e+01  8.0811481e+00  1.0280106e+03\n",
      "   3.2775898e+01]\n",
      " [ 6.3234592e+01 -1.1975583e+01  6.5521917e+00  1.0286493e+03\n",
      "   2.9105993e+01]\n",
      " [ 7.0404572e+01 -1.0762006e+01  5.1529436e+00  1.0292001e+03\n",
      "   2.4956392e+01]\n",
      " [ 7.5520630e+01 -9.7187052e+00  3.9584653e+00  1.0296611e+03\n",
      "   2.0800138e+01]\n",
      " [ 7.9011429e+01 -8.8733530e+00  2.9694922e+00  1.0300353e+03\n",
      "   1.7015844e+01]\n",
      " [ 8.1366043e+01 -8.2160168e+00  2.1623552e+00  1.0303318e+03\n",
      "   1.3902097e+01]\n",
      " [ 8.2883957e+01 -7.7209105e+00  1.5108942e+00  1.0305634e+03\n",
      "   1.1504594e+01]\n",
      " [ 8.3763771e+01 -7.3546691e+00  9.9416786e-01  1.0307437e+03\n",
      "   9.6357288e+00]]\n"
     ]
    }
   ],
   "source": [
    "# multivariate output stacked lstm example\n",
    "from numpy import array\n",
    "from numpy import hstack, vstack\n",
    "from keras.models import Sequential\n",
    "from keras.layers import LSTM\n",
    "from keras.layers import Dense\n",
    "from keras.layers.core import Dropout\n",
    "from sklearn.preprocessing import MinMaxScaler\n",
    "from pandas import read_csv\n",
    "from pandas import DataFrame\n",
    "import matplotlib.pyplot as plt\n",
    "import numpy as np\n",
    "\n",
    "\n",
    "# split a multivariate sequence into samples\n",
    "def split_sequences(sequences, n_steps_in, n_steps_out):\n",
    "    X, y = list(), list()\n",
    "    for i in range(len(sequences)):\n",
    "        # find the end of this pattern\n",
    "        end_ix = i + n_steps_in\n",
    "        out_end_ix = end_ix + n_steps_out\n",
    "        # check if we are beyond the dataset\n",
    "        if out_end_ix > len(sequences):\n",
    "            break\n",
    "        # gather input and output parts of the pattern\n",
    "        seq_x, seq_y = sequences[i:end_ix, :], sequences[end_ix:out_end_ix, :]\n",
    "        X.append(seq_x)\n",
    "        y.append(seq_y)\n",
    "    return array(X), array(y)\n",
    "\n",
    "# define input sequence\n",
    "\n",
    "# Read the data\n",
    "data = read_csv('pollution2.csv', header=0, index_col=0)\n",
    "\n",
    "# horizontally stack columns\n",
    "raw_data = data.values\n",
    "print(f'The shape of the raw_data before scaling is {raw_data.shape}')\n",
    "#normalize input features\n",
    "scaler = MinMaxScaler(feature_range=(0, 1))\n",
    "scaled_data = scaler.fit_transform(raw_data)\n",
    "\n",
    "n_train = 2000\n",
    "#dataset = raw_data[0:n_train,:]\n",
    "dataset = scaled_data[0:n_train,:]\n",
    "# choose a number of time steps\n",
    "n_steps_in, n_steps_out = 30, 10\n",
    "# convert into input/output\n",
    "X, y = split_sequences(dataset, n_steps_in, n_steps_out)\n",
    "# the dataset knows the number of features, e.g. 2\n",
    "n_features = X.shape[2]\n",
    "# define model\n",
    "model = Sequential()\n",
    "model.add(LSTM(50, activation='relu', input_shape=(n_steps_in, n_features)))\n",
    "model.add(RepeatVector(n_steps_out))\n",
    "model.add(LSTM(50, activation='relu', return_sequences=True))\n",
    "model.add(TimeDistributed(Dense(n_features)))\n",
    "model.compile(optimizer='adam', loss='mse')\n",
    "# fit model\n",
    "model.fit(X, y, epochs=100, verbose=0)\n",
    "\n",
    "# demonstrate iterative prediction\n",
    "# x_inp = raw_data[n_train:n_train+n_steps,:]\n",
    "x_inp = scaled_data[n_train:n_train+n_steps_in,:]\n",
    "print(f'Initial shape of x_input {x_inp.shape}')\n",
    "x_input = x_inp.reshape((1, n_steps_in, n_features))\n",
    "yhat = model.predict(x_input, verbose=0)\n",
    "print(f'The shape of yhat after prediction is {yhat.shape}')\n",
    "yhat = yhat.reshape(n_steps_out, n_features)\n",
    "print(f'The new shape of yhat  is {yhat.shape}')\n",
    "inv_yhat = scaler.inverse_transform(yhat)\n",
    "print(inv_yhat)\n"
   ]
  },
  {
   "cell_type": "code",
   "execution_count": 9,
   "id": "cc1ea9ea",
   "metadata": {},
   "outputs": [],
   "source": [
    "# Iterative execution"
   ]
  },
  {
   "cell_type": "code",
   "execution_count": null,
   "id": "10bf38ba",
   "metadata": {},
   "outputs": [],
   "source": []
  }
 ],
 "metadata": {
  "kernelspec": {
   "display_name": "Python 3 (ipykernel)",
   "language": "python",
   "name": "python3"
  },
  "language_info": {
   "codemirror_mode": {
    "name": "ipython",
    "version": 3
   },
   "file_extension": ".py",
   "mimetype": "text/x-python",
   "name": "python",
   "nbconvert_exporter": "python",
   "pygments_lexer": "ipython3",
   "version": "3.10.2"
  }
 },
 "nbformat": 4,
 "nbformat_minor": 5
}
