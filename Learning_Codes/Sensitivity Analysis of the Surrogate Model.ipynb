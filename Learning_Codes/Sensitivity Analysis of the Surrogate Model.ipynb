{
 "cells": [
  {
   "cell_type": "markdown",
   "id": "eef49574",
   "metadata": {},
   "source": [
    "### Sensitivity Analysis"
   ]
  },
  {
   "cell_type": "markdown",
   "id": "349184b5",
   "metadata": {},
   "source": [
    "##### Sensitivity Analysis\n",
    "The golden surrogate model is __golden-model__\n",
    "The faulty models are:\n",
    "- value_flip_wt3.h5\n",
    "- stuckat_wt3.h5\n",
    "- stuckat_tank1.h5\n",
    "- stuckat_tank1b.h5"
   ]
  },
  {
   "cell_type": "code",
   "execution_count": null,
   "id": "5e637c08",
   "metadata": {},
   "outputs": [],
   "source": []
  }
 ],
 "metadata": {
  "kernelspec": {
   "display_name": "Python 3 (ipykernel)",
   "language": "python",
   "name": "python3"
  },
  "language_info": {
   "codemirror_mode": {
    "name": "ipython",
    "version": 3
   },
   "file_extension": ".py",
   "mimetype": "text/x-python",
   "name": "python",
   "nbconvert_exporter": "python",
   "pygments_lexer": "ipython3",
   "version": "3.10.2"
  }
 },
 "nbformat": 4,
 "nbformat_minor": 5
}
