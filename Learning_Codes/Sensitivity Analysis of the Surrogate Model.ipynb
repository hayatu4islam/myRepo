{
 "cells": [
  {
   "cell_type": "markdown",
   "id": "e9a4a35a",
   "metadata": {},
   "source": [
    "### Sensitivity Analysis"
   ]
  },
  {
   "cell_type": "markdown",
   "id": "5f1886c9",
   "metadata": {},
   "source": [
    "##### Sensitivity Analysis\n",
    "The golden surrogate model is __golden-model__\n",
    "The faulty models are:\n",
    "- value_flip_wt3.h5\n",
    "- stuckat_wt3.h5\n",
    "- stuckat_tank1.h5\n",
    "- stuckat_tank1b.h5\n",
    "- waterTank_Value_Flip.h5\n"
   ]
  },
  {
   "cell_type": "markdown",
   "id": "52e15ee2",
   "metadata": {},
   "source": [
    "### Load pre-trained golden model"
   ]
  },
  {
   "cell_type": "code",
   "execution_count": 3,
   "id": "449d93d6",
   "metadata": {},
   "outputs": [
    {
     "name": "stdout",
     "output_type": "stream",
     "text": [
      "loss:  90.53%\n",
      "Prediction is successful!\n"
     ]
    }
   ],
   "source": [
    "import numpy as np\n",
    "import pandas as pd\n",
    "import matplotlib.pyplot as plt\n",
    "from sklearn.preprocessing import MinMaxScaler\n",
    "from keras.models import load_model\n",
    "\n",
    "# Reshape data for LSTM\n",
    "def split_sequence(sequence, n_steps_in, n_steps_out):\n",
    "    X, y = [], []\n",
    "    for i in range(len(sequence)):\n",
    "        end_ix = i + n_steps_in\n",
    "        out_end_ix = end_ix + n_steps_out - 1\n",
    "        if out_end_ix > len(sequence)-1:\n",
    "            break\n",
    "        seq_x, seq_y = sequence[i:end_ix, :], sequence[end_ix-1:out_end_ix, :]\n",
    "        X.append(seq_x)\n",
    "        y.append(seq_y)\n",
    "    return np.array(X), np.array(y)\n",
    "\n",
    "data = pd.read_csv(\"waterTank_Value_Flip.csv\", header=0, index_col=0)\n",
    "s_model = load_model('golden-model.h5')\n",
    "raw_data = data.values\n",
    "scaler = MinMaxScaler()\n",
    "data_scaled = scaler.fit_transform(raw_data)\n",
    "new_data = data_scaled[12000:14000,:]\n",
    "\n",
    "# choose a number of time steps\n",
    "n_steps_in, n_steps_out = 100, 20\n",
    "\n",
    "# convert into input/output\n",
    "test_X, test_y = split_sequence(new_data, n_steps_in, n_steps_out)\n",
    "# the dataset knows the number of features, e.g. 2\n",
    "n_features = test_X.shape[2]\n",
    "\n",
    "score = s_model.evaluate(test_X, test_y, verbose=0)\n",
    "# test_yhat = s_model.predict(test_X, verbose=0)\n",
    "print(\"%s:  %.2f%%\" % (s_model.metrics_names[0], score*100))\n",
    "\n",
    "\n",
    "print(\"Prediction is successful!\")"
   ]
  },
  {
   "cell_type": "code",
   "execution_count": 4,
   "id": "894392b7",
   "metadata": {},
   "outputs": [
    {
     "name": "stdout",
     "output_type": "stream",
     "text": [
      "loss:  0.28%\n",
      "Prediction is successful!\n"
     ]
    }
   ],
   "source": [
    "import numpy as np\n",
    "import pandas as pd\n",
    "import matplotlib.pyplot as plt\n",
    "from sklearn.preprocessing import MinMaxScaler\n",
    "from keras.models import load_model\n",
    "\n",
    "# Reshape data for LSTM\n",
    "def split_sequence(sequence, n_steps_in, n_steps_out):\n",
    "    X, y = [], []\n",
    "    for i in range(len(sequence)):\n",
    "        end_ix = i + n_steps_in\n",
    "        out_end_ix = end_ix + n_steps_out - 1\n",
    "        if out_end_ix > len(sequence)-1:\n",
    "            break\n",
    "        seq_x, seq_y = sequence[i:end_ix, :], sequence[end_ix-1:out_end_ix, :]\n",
    "        X.append(seq_x)\n",
    "        y.append(seq_y)\n",
    "    return np.array(X), np.array(y)\n",
    "\n",
    "data = pd.read_csv(\"waterTank_Value_Flip.csv\", header=0, index_col=0)\n",
    "s_model = load_model('value_flip_wt3.h5')\n",
    "raw_data = data.values\n",
    "scaler = MinMaxScaler()\n",
    "data_scaled = scaler.fit_transform(raw_data)\n",
    "new_data = data_scaled[12000:14000,:]\n",
    "\n",
    "# choose a number of time steps\n",
    "n_steps_in, n_steps_out = 100, 20\n",
    "\n",
    "# convert into input/output\n",
    "test_X, test_y = split_sequence(new_data, n_steps_in, n_steps_out)\n",
    "# the dataset knows the number of features, e.g. 2\n",
    "n_features = test_X.shape[2]\n",
    "\n",
    "score = s_model.evaluate(test_X, test_y, verbose=0)\n",
    "# test_yhat = s_model.predict(test_X, verbose=0)\n",
    "print(\"%s:  %.2f%%\" % (s_model.metrics_names[0], score*100))\n",
    "\n",
    "\n",
    "print(\"Prediction is successful!\")"
   ]
  },
  {
   "cell_type": "code",
   "execution_count": null,
   "id": "3f4a9f2c",
   "metadata": {},
   "outputs": [],
   "source": []
  }
 ],
 "metadata": {
  "kernelspec": {
   "display_name": "Python 3 (ipykernel)",
   "language": "python",
   "name": "python3"
  },
  "language_info": {
   "codemirror_mode": {
    "name": "ipython",
    "version": 3
   },
   "file_extension": ".py",
   "mimetype": "text/x-python",
   "name": "python",
   "nbconvert_exporter": "python",
   "pygments_lexer": "ipython3",
   "version": "3.10.2"
  }
 },
 "nbformat": 4,
 "nbformat_minor": 5
}
