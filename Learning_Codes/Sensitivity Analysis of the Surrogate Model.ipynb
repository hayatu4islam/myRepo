{
 "cells": [
  {
   "cell_type": "markdown",
   "id": "d07299a3",
   "metadata": {},
   "source": [
    "### Sensitivity Analysis"
   ]
  },
  {
   "cell_type": "markdown",
   "id": "1657625d",
   "metadata": {},
   "source": [
    "##### Sensitivity Analysis\n",
    "The golden surrogate model is __golden-model__\n",
    "The faulty models are:\n",
    "- value_flip_wt3.h5\n",
    "- stuckat_wt3.h5\n",
    "- stuckat_tank1.h5\n",
    "- stuckat_tank1b.h5\n",
    "- waterTank_Value_Flip.h5\n"
   ]
  },
  {
   "cell_type": "markdown",
   "id": "c0798593",
   "metadata": {},
   "source": [
    "### Load pre-trained golden model"
   ]
  },
  {
   "cell_type": "code",
   "execution_count": null,
   "id": "10a717c7",
   "metadata": {},
   "outputs": [],
   "source": [
    "from keras.models import load_model\n",
    "import pandas as pd\n",
    "data = pd.read_csv(\"\")\n",
    "s_model = load_model('value_flip_wt3.h5')\n",
    "\n",
    "new_data = data_scaled[12000:14000,:]\n",
    "\n",
    "# choose a number of time steps\n",
    "n_steps_in, n_steps_out = 100, 20\n",
    "\n",
    "# convert into input/output\n",
    "test_X, test_y = split_sequence(new_data, n_steps_in, n_steps_out)\n",
    "# the dataset knows the number of features, e.g. 2\n",
    "n_features = test_X.shape[2]\n",
    "\n",
    "score = s_model.evaluate(test_X, test_y, verbose=0)\n",
    "# test_yhat = s_model.predict(test_X, verbose=0)\n",
    "print(\"%s:  %.2f%%\" % (s_model.metrics_names[0], score*100))\n",
    "\n",
    "\n",
    "print(\"Prediction is successful!\")"
   ]
  }
 ],
 "metadata": {
  "kernelspec": {
   "display_name": "Python 3 (ipykernel)",
   "language": "python",
   "name": "python3"
  },
  "language_info": {
   "codemirror_mode": {
    "name": "ipython",
    "version": 3
   },
   "file_extension": ".py",
   "mimetype": "text/x-python",
   "name": "python",
   "nbconvert_exporter": "python",
   "pygments_lexer": "ipython3",
   "version": "3.10.2"
  }
 },
 "nbformat": 4,
 "nbformat_minor": 5
}
