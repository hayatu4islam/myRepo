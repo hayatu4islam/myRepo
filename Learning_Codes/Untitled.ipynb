{
 "cells": [
  {
   "cell_type": "code",
   "execution_count": 125,
   "id": "a1f24d6a",
   "metadata": {},
   "outputs": [
    {
     "name": "stdout",
     "output_type": "stream",
     "text": [
      "Epoch 1/10\n",
      "487/487 - 5s - loss: 0.0719 - val_loss: 0.0297 - 5s/epoch - 11ms/step\n",
      "Epoch 2/10\n",
      "487/487 - 2s - loss: 0.0227 - val_loss: 0.0165 - 2s/epoch - 3ms/step\n",
      "Epoch 3/10\n",
      "487/487 - 2s - loss: 0.0130 - val_loss: 0.0094 - 2s/epoch - 3ms/step\n",
      "Epoch 4/10\n",
      "487/487 - 2s - loss: 0.0107 - val_loss: 0.0079 - 2s/epoch - 3ms/step\n",
      "Epoch 5/10\n",
      "487/487 - 2s - loss: 0.0093 - val_loss: 0.0081 - 2s/epoch - 3ms/step\n",
      "Epoch 6/10\n",
      "487/487 - 2s - loss: 0.0085 - val_loss: 0.0087 - 2s/epoch - 3ms/step\n",
      "Epoch 7/10\n",
      "487/487 - 2s - loss: 0.0078 - val_loss: 0.0089 - 2s/epoch - 3ms/step\n",
      "Epoch 8/10\n",
      "487/487 - 2s - loss: 0.0072 - val_loss: 0.0100 - 2s/epoch - 3ms/step\n",
      "Epoch 9/10\n",
      "487/487 - 2s - loss: 0.0066 - val_loss: 0.0101 - 2s/epoch - 3ms/step\n",
      "Epoch 10/10\n",
      "487/487 - 2s - loss: 0.0062 - val_loss: 0.0094 - 2s/epoch - 3ms/step\n"
     ]
    }
   ],
   "source": [
    "#from numpy import array\n",
    "\n",
    "from math import sqrt\n",
    "from numpy import concatenate\n",
    "from matplotlib import pyplot\n",
    "from pandas import read_csv\n",
    "from pandas import DataFrame\n",
    "from pandas import concat\n",
    "from sklearn.preprocessing import MinMaxScaler\n",
    "from sklearn.preprocessing import LabelEncoder\n",
    "from sklearn.metrics import mean_squared_error\n",
    "from sklearn.metrics import mean_absolute_error\n",
    "from keras.models import Sequential\n",
    "from keras.layers import Dense\n",
    "from keras.layers.core import Dropout\n",
    "from keras.layers import LSTM\n",
    "\n",
    "# convert series to supervised learning\n",
    "def series_to_supervised(data, n_in=1, n_out=1, dropnan=True):\n",
    "\tn_vars = 1 if type(data) is list else data.shape[1]\n",
    "\tdf = DataFrame(data)\n",
    "\tcols, names = list(), list()\n",
    "\t# input sequence (t-n, ... t-1)\n",
    "\tfor i in range(n_in, 0, -1):\n",
    "\t\tcols.append(df.shift(i))\n",
    "\t\tnames += [('var%d(t-%d)' % (j+1, i)) for j in range(n_vars)]\n",
    "\t# forecast sequence (t, t+1, ... t+n)\n",
    "\tfor i in range(0, n_out):\n",
    "\t\tcols.append(df.shift(-i))\n",
    "\t\tif i == 0:\n",
    "\t\t\tnames += [('var%d(t)' % (j+1)) for j in range(n_vars)]\n",
    "\t\telse:\n",
    "\t\t\tnames += [('var%d(t+%d)' % (j+1, i)) for j in range(n_vars)]\n",
    "\t# put it all together\n",
    "\tagg = concat(cols, axis=1)\n",
    "\tagg.columns = names\n",
    "\t# drop rows with NaN values\n",
    "\tif dropnan:\n",
    "\t\tagg.dropna(inplace=True)\n",
    "\treturn agg\n",
    "\n",
    "#load dataset\n",
    "dataset = read_csv('pollution.csv', header=0, index_col=0)\n",
    "#dataset.drop(\"wnd_dir\", axis=1, inplace=True)\n",
    "values = dataset.values\n",
    "\n",
    "#integer encode wind direction, as it's the only categorical variable.\n",
    "encoder = LabelEncoder()\n",
    "values[:,4] = encoder.fit_transform(values[:,4])\n",
    "\n",
    "#ensure all data are float32 values\n",
    "values = values.astype('float32')\n",
    "\n",
    "# #normalize input features\n",
    "# # Split before scaling. Apply the scaling separately to both train and test sets. \n",
    "# scaler = MinMaxScaler(feature_range=(0, 1))\n",
    "# #scaler = StandardScaler()\n",
    "# scaled = scaler.fit_transform(values)\n",
    "\n",
    "#frame as supervised learning\n",
    "n_hours = 1 \n",
    "n_features = 8 \n",
    "reframed = series_to_supervised(values, n_hours, 1)\n",
    "values = reframed.values\n",
    "n_train_hours = 365*24*4# This is for four years\n",
    "train = values[:n_train_hours, :]\n",
    "test = values[n_train_hours:, :]\n",
    "\n",
    "\n",
    "#normalize input features\n",
    "# Split before scaling. Apply the scaling separately to both train and test sets. \n",
    "scaler = MinMaxScaler(feature_range=(0, 1))\n",
    "#scaler = StandardScaler()\n",
    "train_scaled = scaler.fit_transform(train)\n",
    "test_scaled = scaler.transform(test)\n",
    "\n",
    "#CHANGES HERE\n",
    "#split into input and outputs\n",
    "n_obs = n_hours * n_features\n",
    "train_X = train_scaled[:, :n_obs]\n",
    "train_y = train_scaled[:, -n_features:(-n_features+4)] #+2 because of indexing madness.\n",
    "test_X = test_scaled[:, :n_obs]\n",
    "test_y = test_scaled[:, -n_features:(-n_features+4)]\n",
    "\n",
    "\n",
    "\n",
    "train_X = train_X.reshape((train_X.shape[0], n_hours, n_features))\n",
    "test_X = test_X.reshape((test_X.shape[0], n_hours, n_features))\n",
    "\n",
    "#CHANGES HERE\n",
    "#Need to output two values, not one.\n",
    "#design network\n",
    "model = Sequential()\n",
    "#model.add(LSTM(10, activation='relu', return_sequences=True, input_shape=(train_X.shape[1], train_X.shape[2])))\n",
    "model.add(LSTM(20, activation='relu', return_sequences=True, input_shape=(train_X.shape[1], train_X.shape[2])))\n",
    "model.add(Dropout(0.1))\n",
    "model.add(LSTM(10, activation='relu', input_shape=(train_X.shape[1], train_X.shape[2])))\n",
    "model.add(Dropout(0.1))\n",
    "model.add(Dense(4)) #changed from 1 to 2.\n",
    "model.compile(loss='mse', optimizer='adam')\n",
    "\n",
    "#fit network\n",
    "history = model.fit(train_X, train_y, epochs=10, batch_size=72, validation_data=(test_X, test_y), verbose=2, shuffle=False)\n",
    "\n",
    "#make a prediction\n",
    "y_hat = model.predict(test_X)\n"
   ]
  },
  {
   "cell_type": "code",
   "execution_count": 126,
   "id": "d8f8ebf7",
   "metadata": {},
   "outputs": [
    {
     "name": "stdout",
     "output_type": "stream",
     "text": [
      "(35040, 1, 8)\n",
      "(8759, 1, 8)\n",
      "Test shape (8759, 16)\n",
      "Train shape (35040, 16)\n"
     ]
    }
   ],
   "source": [
    "print(train_X.shape)\n",
    "print(test_X.shape)\n",
    "print(\"Test shape\", test.shape)\n",
    "print(\"Train shape\", train.shape)"
   ]
  },
  {
   "cell_type": "code",
   "execution_count": 92,
   "id": "f75fe938",
   "metadata": {},
   "outputs": [
    {
     "name": "stdout",
     "output_type": "stream",
     "text": [
      "(35040, 1, 8)\n",
      "(35040, 8)\n",
      "(35040, 16)\n"
     ]
    }
   ],
   "source": [
    "import numpy as np\n",
    "print(train_X.shape)\n",
    "b = np.squeeze(train_X, axis=1)\n",
    "print(b.shape)\n",
    "c = np.repeat(b,2,axis=1)\n",
    "print(c.shape)"
   ]
  },
  {
   "cell_type": "code",
   "execution_count": 127,
   "id": "71428fe0",
   "metadata": {},
   "outputs": [
    {
     "name": "stdout",
     "output_type": "stream",
     "text": [
      "(35040, 16)\n"
     ]
    }
   ],
   "source": [
    "test_X = test_X.reshape((test_X.shape[0], n_hours*n_features))\n",
    "# test_X2 = np.repeat(test_X,2,axis=-1)\n",
    "test_X = np.squeeze(train_X, axis=1)\n",
    "test_X = np.repeat(test_X,2,axis=1)\n",
    "print(test_X.shape)"
   ]
  },
  {
   "cell_type": "code",
   "execution_count": 129,
   "id": "6dc84994",
   "metadata": {},
   "outputs": [
    {
     "ename": "ValueError",
     "evalue": "cannot select an axis to squeeze out which has size not equal to one",
     "output_type": "error",
     "traceback": [
      "\u001b[1;31m---------------------------------------------------------------------------\u001b[0m",
      "\u001b[1;31mValueError\u001b[0m                                Traceback (most recent call last)",
      "Input \u001b[1;32mIn [129]\u001b[0m, in \u001b[0;36m<cell line: 4>\u001b[1;34m()\u001b[0m\n\u001b[0;32m      2\u001b[0m \u001b[38;5;66;03m#CHANGES HERE\u001b[39;00m\n\u001b[0;32m      3\u001b[0m test_X \u001b[38;5;241m=\u001b[39m test_X\u001b[38;5;241m.\u001b[39mreshape((test_X\u001b[38;5;241m.\u001b[39mshape[\u001b[38;5;241m0\u001b[39m], \u001b[38;5;241m2\u001b[39m, n_hours\u001b[38;5;241m*\u001b[39mn_features))\n\u001b[1;32m----> 4\u001b[0m test_X \u001b[38;5;241m=\u001b[39m \u001b[43mnp\u001b[49m\u001b[38;5;241;43m.\u001b[39;49m\u001b[43msqueeze\u001b[49m\u001b[43m(\u001b[49m\u001b[43mtest_X\u001b[49m\u001b[43m,\u001b[49m\u001b[43m \u001b[49m\u001b[43maxis\u001b[49m\u001b[38;5;241;43m=\u001b[39;49m\u001b[38;5;241;43m1\u001b[39;49m\u001b[43m)\u001b[49m\n\u001b[0;32m      5\u001b[0m test_X \u001b[38;5;241m=\u001b[39m np\u001b[38;5;241m.\u001b[39mrepeat(test_X, \u001b[38;5;241m2\u001b[39m, axis\u001b[38;5;241m=\u001b[39m\u001b[38;5;241m1\u001b[39m)\n\u001b[0;32m      6\u001b[0m \u001b[38;5;66;03m# test_X2 = np.repeat(test_X,2,axis=-1)\u001b[39;00m\n\u001b[0;32m      7\u001b[0m \u001b[38;5;66;03m# inv_yhat = concatenate((y_hat, test_X[:,-4:]), axis=1) #changed 7 to 6\u001b[39;00m\n\u001b[0;32m      8\u001b[0m \u001b[38;5;66;03m# inv_yhat = concatenate((y_hat, test_X2[:,-4:]), axis=1) #changed 7 to 6\u001b[39;00m\n",
      "File \u001b[1;32m<__array_function__ internals>:5\u001b[0m, in \u001b[0;36msqueeze\u001b[1;34m(*args, **kwargs)\u001b[0m\n",
      "File \u001b[1;32m~\\Anaconda3\\envs\\deeplearning\\lib\\site-packages\\numpy\\core\\fromnumeric.py:1508\u001b[0m, in \u001b[0;36msqueeze\u001b[1;34m(a, axis)\u001b[0m\n\u001b[0;32m   1506\u001b[0m     \u001b[38;5;28;01mreturn\u001b[39;00m squeeze()\n\u001b[0;32m   1507\u001b[0m \u001b[38;5;28;01melse\u001b[39;00m:\n\u001b[1;32m-> 1508\u001b[0m     \u001b[38;5;28;01mreturn\u001b[39;00m \u001b[43msqueeze\u001b[49m\u001b[43m(\u001b[49m\u001b[43maxis\u001b[49m\u001b[38;5;241;43m=\u001b[39;49m\u001b[43maxis\u001b[49m\u001b[43m)\u001b[49m\n",
      "\u001b[1;31mValueError\u001b[0m: cannot select an axis to squeeze out which has size not equal to one"
     ]
    }
   ],
   "source": [
    "import numpy as np\n",
    "#CHANGES HERE\n",
    "test_X = test_X.reshape((test_X.shape[0], 2, n_hours*n_features))\n",
    "test_X = np.squeeze(test_X, axis=1)\n",
    "test_X = np.repeat(test_X, 2, axis=1)\n",
    "# test_X2 = np.repeat(test_X,2,axis=-1)\n",
    "# inv_yhat = concatenate((y_hat, test_X[:,-4:]), axis=1) #changed 7 to 6\n",
    "# inv_yhat = concatenate((y_hat, test_X2[:,-4:]), axis=1) #changed 7 to 6\n",
    "inv_yhat = scaler.inverse_transform(inv_yhat)\n",
    "inv_yhat = inv_yhat[:,0:4] #changed from 0 to 0:2. Should be first 2 columns that contain the predictions\n"
   ]
  },
  {
   "cell_type": "code",
   "execution_count": 51,
   "id": "8e1094e5",
   "metadata": {},
   "outputs": [],
   "source": [
    "#CHANGES HERE\n",
    "#invert scaling for actual\n",
    "test_y = test_y.reshape((len(test_y),4)) #changed 1 to 2\n",
    "inv_y = concatenate((test_y, test_X[:,-4:]), axis=1) #changed 7 to 6\n",
    "inv_y = scaler.inverse_transform(inv_y)\n",
    "inv_y = inv_y[:,0:4] #changed from 0 to 0:2. Should be first 2 columns that contain the predictions.\n"
   ]
  },
  {
   "cell_type": "code",
   "execution_count": 53,
   "id": "ba6315df",
   "metadata": {},
   "outputs": [
    {
     "data": {
      "text/plain": [
       "(8759, 4)"
      ]
     },
     "execution_count": 53,
     "metadata": {},
     "output_type": "execute_result"
    }
   ],
   "source": [
    "inv_yhat\n",
    "inv_yhat.shape"
   ]
  },
  {
   "cell_type": "code",
   "execution_count": 54,
   "id": "f553e9cc",
   "metadata": {},
   "outputs": [
    {
     "data": {
      "text/plain": [
       "(8759, 4)"
      ]
     },
     "execution_count": 54,
     "metadata": {},
     "output_type": "execute_result"
    }
   ],
   "source": [
    "inv_y.shape"
   ]
  },
  {
   "cell_type": "code",
   "execution_count": 132,
   "id": "b4d489cd",
   "metadata": {},
   "outputs": [
    {
     "name": "stdout",
     "output_type": "stream",
     "text": [
      "1.6583123951777\n"
     ]
    }
   ],
   "source": [
    "import math\n",
    "def rms(x,y):\n",
    "    total = 0\n",
    "    for i in range(len(x)):\n",
    "        total += ((x[i]-y[i])**2)\n",
    "    return math.sqrt(total/len(x))\n",
    "\n",
    "\n",
    "p = [10,20,30,40]\n",
    "q = [11,17,29,40]\n",
    "print(rms(p,q))"
   ]
  },
  {
   "cell_type": "code",
   "execution_count": 63,
   "id": "1c504f0c",
   "metadata": {},
   "outputs": [
    {
     "name": "stdout",
     "output_type": "stream",
     "text": [
      "6.331406610915704\n"
     ]
    }
   ],
   "source": [
    "print(rms(inv_y[:,1], inv_yhat[:,1]))"
   ]
  },
  {
   "cell_type": "code",
   "execution_count": 148,
   "id": "fc2493db",
   "metadata": {},
   "outputs": [
    {
     "name": "stdout",
     "output_type": "stream",
     "text": [
      "2.0\n"
     ]
    }
   ],
   "source": [
    "val = [x for x in range(100,1000,100)]\n",
    "val2 = [k + 2 for k in val]\n",
    "# del val2[3]\n",
    "print(rms(val,val2))"
   ]
  },
  {
   "cell_type": "code",
   "execution_count": null,
   "id": "5d9d1e95",
   "metadata": {},
   "outputs": [],
   "source": []
  }
 ],
 "metadata": {
  "kernelspec": {
   "display_name": "Python 3 (ipykernel)",
   "language": "python",
   "name": "python3"
  },
  "language_info": {
   "codemirror_mode": {
    "name": "ipython",
    "version": 3
   },
   "file_extension": ".py",
   "mimetype": "text/x-python",
   "name": "python",
   "nbconvert_exporter": "python",
   "pygments_lexer": "ipython3",
   "version": "3.8.12"
  }
 },
 "nbformat": 4,
 "nbformat_minor": 5
}
