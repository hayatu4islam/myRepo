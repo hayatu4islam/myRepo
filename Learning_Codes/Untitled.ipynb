{
 "cells": [
  {
   "cell_type": "code",
   "execution_count": null,
   "id": "67e42b23",
   "metadata": {},
   "outputs": [],
   "source": [
    "attr = [\"Tank1WaterLevel\", \"Tank2WaterLevel\", \"Tank2OutFlow\", \"Tank3OutFlow\", \"Tank2.level\", \"wt3_valve\"]\n",
    "attr = [\"Tank1WaterLevel\", \"Tank2WaterLevel\", \"Tank2OutFlow\", \"Tank3OutFlow\", \"Tank2.level\", \"wt3_valve\"]\n",
    "attr = [\"Tank3OutFlow\", \"Tank2.level\", \"wt3_valve\", \"Tank1WaterLevel\", \"Tank2WaterLevel\", \"Tank2OutFlow\",  ]\n",
    "attr = [\"Tank3OutFlow\", \"Tank2.level\", \"wt3_valve\", \"Tank1WaterLevel\", \"Tank2WaterLevel\", \"Tank2OutFlow\",  ]\n",
    "attr = [\"Tank1WaterLevel\", \"Tank2WaterLevel\", \"Tank1.Tank1InFlow\", \"Tank1.Tank2OutFlow\", \"wt3_valve\", \"Tank2.level\"]\n"
   ]
  }
 ],
 "metadata": {
  "kernelspec": {
   "display_name": "Python 3 (ipykernel)",
   "language": "python",
   "name": "python3"
  },
  "language_info": {
   "codemirror_mode": {
    "name": "ipython",
    "version": 3
   },
   "file_extension": ".py",
   "mimetype": "text/x-python",
   "name": "python",
   "nbconvert_exporter": "python",
   "pygments_lexer": "ipython3",
   "version": "3.10.2"
  }
 },
 "nbformat": 4,
 "nbformat_minor": 5
}
