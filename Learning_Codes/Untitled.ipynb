{
 "cells": [
  {
   "cell_type": "markdown",
   "id": "97cd0afe",
   "metadata": {},
   "source": [
    "# BUILDING DEEP LEARNING APPLICATIONS WITH KERAS 2.0"
   ]
  },
  {
   "cell_type": "markdown",
   "id": "4e06266c",
   "metadata": {},
   "source": [
    "## Preprocessing training data"
   ]
  },
  {
   "cell_type": "code",
   "execution_count": null,
   "id": "a07d1ace",
   "metadata": {},
   "outputs": [],
   "source": []
  }
 ],
 "metadata": {
  "kernelspec": {
   "display_name": "Python 3 (ipykernel)",
   "language": "python",
   "name": "python3"
  },
  "language_info": {
   "codemirror_mode": {
    "name": "ipython",
    "version": 3
   },
   "file_extension": ".py",
   "mimetype": "text/x-python",
   "name": "python",
   "nbconvert_exporter": "python",
   "pygments_lexer": "ipython3",
   "version": "3.8.12"
  }
 },
 "nbformat": 4,
 "nbformat_minor": 5
}
