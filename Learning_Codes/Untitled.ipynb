{
 "cells": [
  {
   "cell_type": "code",
   "execution_count": null,
   "id": "59688fde",
   "metadata": {},
   "outputs": [],
   "source": []
  },
  {
   "cell_type": "code",
   "execution_count": 1,
   "id": "43593c55",
   "metadata": {},
   "outputs": [
    {
     "name": "stdout",
     "output_type": "stream",
     "text": [
      "The shape of the raw_data before scaling is (43800, 5)\n",
      "Initial shape of x_input (30, 5)\n",
      "The shape of yhat after prediction is (1, 20, 5)\n",
      "The new shape of yhat  is (20, 5)\n",
      "[[  96.08694    19.794289   28.906591 1005.1679     41.048294]\n",
      " [  85.39842    20.427547   27.34951  1006.105      35.748024]\n",
      " [  89.28282    20.643166   27.045671 1005.7653     34.517445]\n",
      " [  92.63185    20.786629   26.48501  1005.8577     29.78845 ]\n",
      " [  96.007126   20.842806   25.858883 1005.9783     25.226315]\n",
      " [  98.59771    20.906448   25.333996 1006.0689     21.514915]\n",
      " [  99.94639    20.946428   24.975773 1006.1115     18.270235]\n",
      " [ 100.65701    20.93824    24.860811 1006.14264    15.740538]\n",
      " [ 101.0127     20.861717   25.064522 1006.16455    14.113768]\n",
      " [ 101.12274    20.70508    25.648918 1006.1736     13.503461]\n",
      " [ 100.973335   20.457119   26.662855 1006.1635     13.972997]\n",
      " [ 100.46332    20.108421   28.143318 1006.12714    15.544532]\n",
      " [  98.26932    19.900505   29.697289 1005.99243    16.181524]\n",
      " [  95.44386    19.70123    31.115463 1005.78253    16.251934]\n",
      " [  92.03874    19.503607   32.37698  1005.51373    15.709429]\n",
      " [  88.85149    19.29471    33.41641  1005.2537     15.166574]\n",
      " [  86.64221    19.085497   34.10834  1005.0188     15.022479]\n",
      " [  85.81088    18.914608   34.436127 1004.81885    15.388175]\n",
      " [  86.21551    18.82305    34.40129  1004.668      16.251204]\n",
      " [  87.50972    18.815113   34.054634 1004.5735     17.475595]]\n",
      "-------Learning Curve--------\n"
     ]
    },
    {
     "data": {
      "image/png": "[encoded data removed]",
      "text/plain": [
       "<Figure size 432x288 with 1 Axes>"
      ]
     },
     "metadata": {
      "needs_background": "light"
     },
     "output_type": "display_data"
    }
   ],
   "source": [
    "# multivariate output stacked lstm example\n",
    "from numpy import array\n",
    "from numpy import hstack, vstack\n",
    "from keras.models import Sequential\n",
    "from keras.layers import LSTM\n",
    "from keras.layers import Dense, RepeatVector, TimeDistributed\n",
    "from keras.layers.core import Dropout\n",
    "from sklearn.preprocessing import MinMaxScaler\n",
    "from pandas import read_csv\n",
    "from pandas import DataFrame\n",
    "import matplotlib.pyplot as plt\n",
    "import numpy as np\n",
    "\n",
    "\n",
    "# split a multivariate sequence into samples\n",
    "def split_sequences(sequences, n_steps_in, n_steps_out):\n",
    "    X, y = list(), list()\n",
    "    for i in range(len(sequences)):\n",
    "        # find the end of this pattern\n",
    "        end_ix = i + n_steps_in\n",
    "        out_end_ix = end_ix + n_steps_out\n",
    "        # check if we are beyond the dataset\n",
    "        if out_end_ix > len(sequences):\n",
    "            break\n",
    "        # gather input and output parts of the pattern\n",
    "        seq_x, seq_y = sequences[i:end_ix, :], sequences[end_ix:out_end_ix, :]\n",
    "        X.append(seq_x)\n",
    "        y.append(seq_y)\n",
    "    return array(X), array(y)\n",
    "\n",
    "# define input sequence\n",
    "\n",
    "# Read the data\n",
    "data = read_csv('pollution2.csv', header=0, index_col=0)\n",
    "\n",
    "# horizontally stack columns\n",
    "raw_data = data.values\n",
    "print(f'The shape of the raw_data before scaling is {raw_data.shape}')\n",
    "#normalize input features\n",
    "scaler = MinMaxScaler(feature_range=(0, 1))\n",
    "scaled_data = scaler.fit_transform(raw_data)\n",
    "\n",
    "n_train = 40000\n",
    "#dataset = raw_data[0:n_train,:]\n",
    "dataset = scaled_data[0:n_train,:]\n",
    "# choose a number of time steps\n",
    "n_steps_in, n_steps_out = 30, 20\n",
    "# convert into input/output\n",
    "X, y = split_sequences(dataset, n_steps_in, n_steps_out)\n",
    "# the dataset knows the number of features, e.g. 2\n",
    "n_features = X.shape[2]\n",
    "# define model\n",
    "model = Sequential()\n",
    "model.add(LSTM(30, activation='relu', input_shape=(n_steps_in, n_features)))\n",
    "model.add(RepeatVector(n_steps_out))\n",
    "model.add(LSTM(30, activation='relu', return_sequences=True))\n",
    "model.add(TimeDistributed(Dense(n_features)))\n",
    "model.compile(optimizer='adam', loss='mse')\n",
    "# fit model\n",
    "train_history = model.fit(X, y, epochs=50, verbose=0, shuffle=False)\n",
    "\n",
    "# demonstrate Direct prediction\n",
    "# x_inp = raw_data[n_train:n_train+n_steps,:]\n",
    "x_inp = scaled_data[n_train:n_train+n_steps_in,:]\n",
    "print(f'Initial shape of x_input {x_inp.shape}')\n",
    "x_input = x_inp.reshape((1, n_steps_in, n_features))\n",
    "yhat = model.predict(x_input, verbose=0)\n",
    "print(f'The shape of yhat after prediction is {yhat.shape}')\n",
    "yhat = yhat.reshape(n_steps_out, n_features)\n",
    "print(f'The new shape of yhat  is {yhat.shape}')\n",
    "inv_yhat = scaler.inverse_transform(yhat)\n",
    "print(inv_yhat)\n",
    "\n",
    "print(\"-------Learning Curve--------\")\n",
    "plt.plot(train_history.history['loss'], label='train')\n",
    "# plt.plot(train_history.history['val_loss'], label='test')\n",
    "plt.xlabel(\"Epochs\")\n",
    "plt.ylabel(\"Loss\")\n",
    "plt.legend()\n",
    "plt.show()"
   ]
  },
  {
   "cell_type": "code",
   "execution_count": null,
   "id": "b060172c",
   "metadata": {},
   "outputs": [],
   "source": []
  }
 ],
 "metadata": {
  "kernelspec": {
   "display_name": "Python 3 (ipykernel)",
   "language": "python",
   "name": "python3"
  },
  "language_info": {
   "codemirror_mode": {
    "name": "ipython",
    "version": 3
   },
   "file_extension": ".py",
   "mimetype": "text/x-python",
   "name": "python",
   "nbconvert_exporter": "python",
   "pygments_lexer": "ipython3",
   "version": "3.8.12"
  }
 },
 "nbformat": 4,
 "nbformat_minor": 5
}
